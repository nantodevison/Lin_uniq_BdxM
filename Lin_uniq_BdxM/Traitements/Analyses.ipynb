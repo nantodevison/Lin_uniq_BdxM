{
 "cells": [
  {
   "cell_type": "markdown",
   "metadata": {},
   "source": [
    "# creation de graphiques d'analyses des résultats post-traitements"
   ]
  },
  {
   "cell_type": "code",
   "execution_count": 75,
   "metadata": {},
   "outputs": [],
   "source": [
    "import geopandas as gp\n",
    "import altair as alt\n",
    "\n",
    "from MMM import import_fichiers_mmm"
   ]
  },
  {
   "cell_type": "markdown",
   "metadata": {},
   "source": [
    "## 1. fichiers sources"
   ]
  },
  {
   "cell_type": "code",
   "execution_count": 76,
   "metadata": {},
   "outputs": [],
   "source": [
    "resultatsLineaires=r'D:\\Boulot\\AffairesEnCours\\Linearisation_BM\\C19SA0101\\C19SA0101\\Doc_travail\\Donnees_produites\\Donnees\\resultats\\affectationComplete.shp'\n",
    "cle_mmm_rhv=import_fichiers_mmm(r'D:\\Boulot\\AffairesEnCours\\Linearisation_BM\\C19SA0101\\C19SA0101\\Doc_travail\\Donnees_source\\MMM\\MMM_Maj_EDA2017\\simplifie\\MMM_simple_2019.shp',\n",
    "                                            r'D:\\Boulot\\AffairesEnCours\\Linearisation_BM\\C19SA0101\\C19SA0101\\Doc_travail\\Donnees_produites\\Donnees\\appariementV0.shp')[1]"
   ]
  },
  {
   "cell_type": "markdown",
   "metadata": {},
   "source": [
    "## 2. Comptages  \n",
    "Analyse des points de comptages : calcul de la longueur des tronçons RHV supportant un type_cpt \"permanent\" ou \"ponctuel\", par classe de RHV, par rapport à la longueur totale des tronçons de cette classe"
   ]
  },
  {
   "cell_type": "code",
   "execution_count": 3,
   "metadata": {},
   "outputs": [],
   "source": [
    "#import des résultats filaires\n",
    "res=gp.read_file(resultatsLineaires)"
   ]
  },
  {
   "cell_type": "code",
   "execution_count": 42,
   "metadata": {},
   "outputs": [],
   "source": [
    "#preparation des données\n",
    "res=res.loc[~res.cat_rhv.isna()].copy()\n",
    "res['long']=res.geometry.length/1000\n",
    "res['cat_rhv_simple']=res.cat_rhv.apply(lambda x : x[-1])\n",
    "res['grp_indic']=res.apply(lambda x : 'comptage' if x['type_cpt'] in ('permanent','ponctuel') else 'autre', axis=1)"
   ]
  },
  {
   "cell_type": "code",
   "execution_count": 72,
   "metadata": {},
   "outputs": [
    {
     "data": {
      "text/html": [
       "\n",
       "<div id=\"altair-viz-072ee8e6dd4d4a67a4aa6a0a5ddfa099\"></div>\n",
       "<script type=\"text/javascript\">\n",
       "  (function(spec, embedOpt){\n",
       "    let outputDiv = document.currentScript.previousElementSibling;\n",
       "    if (outputDiv.id !== \"altair-viz-072ee8e6dd4d4a67a4aa6a0a5ddfa099\") {\n",
       "      outputDiv = document.getElementById(\"altair-viz-072ee8e6dd4d4a67a4aa6a0a5ddfa099\");\n",
       "    }\n",
       "    const paths = {\n",
       "      \"vega\": \"https://cdn.jsdelivr.net/npm//vega@5?noext\",\n",
       "      \"vega-lib\": \"https://cdn.jsdelivr.net/npm//vega-lib?noext\",\n",
       "      \"vega-lite\": \"https://cdn.jsdelivr.net/npm//vega-lite@4.8.1?noext\",\n",
       "      \"vega-embed\": \"https://cdn.jsdelivr.net/npm//vega-embed@6?noext\",\n",
       "    };\n",
       "\n",
       "    function loadScript(lib) {\n",
       "      return new Promise(function(resolve, reject) {\n",
       "        var s = document.createElement('script');\n",
       "        s.src = paths[lib];\n",
       "        s.async = true;\n",
       "        s.onload = () => resolve(paths[lib]);\n",
       "        s.onerror = () => reject(`Error loading script: ${paths[lib]}`);\n",
       "        document.getElementsByTagName(\"head\")[0].appendChild(s);\n",
       "      });\n",
       "    }\n",
       "\n",
       "    function showError(err) {\n",
       "      outputDiv.innerHTML = `<div class=\"error\" style=\"color:red;\">${err}</div>`;\n",
       "      throw err;\n",
       "    }\n",
       "\n",
       "    function displayChart(vegaEmbed) {\n",
       "      vegaEmbed(outputDiv, spec, embedOpt)\n",
       "        .catch(err => showError(`Javascript Error: ${err.message}<br>This usually means there's a typo in your chart specification. See the javascript console for the full traceback.`));\n",
       "    }\n",
       "\n",
       "    if(typeof define === \"function\" && define.amd) {\n",
       "      requirejs.config({paths});\n",
       "      require([\"vega-embed\"], displayChart, err => showError(`Error loading script: ${err.message}`));\n",
       "    } else if (typeof vegaEmbed === \"function\") {\n",
       "      displayChart(vegaEmbed);\n",
       "    } else {\n",
       "      loadScript(\"vega\")\n",
       "        .then(() => loadScript(\"vega-lite\"))\n",
       "        .then(() => loadScript(\"vega-embed\"))\n",
       "        .catch(showError)\n",
       "        .then(() => displayChart(vegaEmbed));\n",
       "    }\n",
       "  })({\"config\": {\"view\": {\"continuousWidth\": 400, \"continuousHeight\": 300}}, \"hconcat\": [{\"mark\": \"bar\", \"encoding\": {\"color\": {\"type\": \"nominal\", \"field\": \"grp_indic\", \"title\": \"Source des trafics\"}, \"x\": {\"type\": \"nominal\", \"field\": \"cat_rhv_simple\", \"title\": \"Cat\\u00e9gorie RHV simplifi\\u00e9e\"}, \"y\": {\"type\": \"quantitative\", \"field\": \"long\", \"title\": \"longueur (km)\"}}}, {\"mark\": \"bar\", \"encoding\": {\"color\": {\"type\": \"nominal\", \"field\": \"grp_indic\", \"title\": \"Source des trafics\"}, \"x\": {\"type\": \"nominal\", \"field\": \"cat_rhv_simple\", \"title\": \"Cat\\u00e9gorie RHV simplifi\\u00e9e\"}, \"y\": {\"type\": \"quantitative\", \"axis\": {\"format\": \"%\"}, \"field\": \"long\", \"stack\": \"normalize\", \"title\": \"longueur (km)\"}}}], \"data\": {\"name\": \"data-6a10570cce3e2172891eb41b314d7f20\"}, \"$schema\": \"https://vega.github.io/schema/vega-lite/v4.8.1.json\", \"datasets\": {\"data-6a10570cce3e2172891eb41b314d7f20\": [{\"cat_rhv_simple\": \"1\", \"grp_indic\": \"autre\", \"long\": 101.18470339643125}, {\"cat_rhv_simple\": \"1\", \"grp_indic\": \"comptage\", \"long\": 231.43797323777736}, {\"cat_rhv_simple\": \"2\", \"grp_indic\": \"autre\", \"long\": 312.89722403304376}, {\"cat_rhv_simple\": \"2\", \"grp_indic\": \"comptage\", \"long\": 309.9273742184593}, {\"cat_rhv_simple\": \"3\", \"grp_indic\": \"autre\", \"long\": 302.0531768125786}, {\"cat_rhv_simple\": \"3\", \"grp_indic\": \"comptage\", \"long\": 149.38115040487494}, {\"cat_rhv_simple\": \"4\", \"grp_indic\": \"autre\", \"long\": 2380.9653345591537}, {\"cat_rhv_simple\": \"4\", \"grp_indic\": \"comptage\", \"long\": 90.85262448019311}]}}, {\"mode\": \"vega-lite\"});\n",
       "</script>"
      ],
      "text/plain": [
       "alt.HConcatChart(...)"
      ]
     },
     "execution_count": 72,
     "metadata": {},
     "output_type": "execute_result"
    }
   ],
   "source": [
    "#analyse du pourcentage de longueur ayant fait l'objet de comptage\n",
    "baseComptageParCatRhv=alt.Chart(res.groupby(['cat_rhv_simple','grp_indic']).long.sum().reset_index()).mark_bar().encode(\n",
    "    x=alt.X('cat_rhv_simple', title='Catégorie RHV simplifiée'),\n",
    "    color=alt.Color('grp_indic',title='Source des trafics'))\n",
    "chartComptageParCatRhv=baseComptageParCatRhv.encode(y=alt.Y('long', title='longueur (km)')) | baseComptageParCatRhv.encode(\n",
    "    y=alt.Y('long', title='longueur (km)', stack='normalize', axis=alt.Axis(format='%')))\n",
    "chartComptageParCatRhv"
   ]
  },
  {
   "cell_type": "markdown",
   "metadata": {},
   "source": [
    "## 3.MMM  \n",
    "Comparaison des données de trafics des voies du MMM avec celle issues des points de comptages, par catégorie du RHV."
   ]
  },
  {
   "cell_type": "code",
   "execution_count": 77,
   "metadata": {},
   "outputs": [
    {
     "data": {
      "text/html": [
       "<div>\n",
       "<style scoped>\n",
       "    .dataframe tbody tr th:only-of-type {\n",
       "        vertical-align: middle;\n",
       "    }\n",
       "\n",
       "    .dataframe tbody tr th {\n",
       "        vertical-align: top;\n",
       "    }\n",
       "\n",
       "    .dataframe thead th {\n",
       "        text-align: right;\n",
       "    }\n",
       "</style>\n",
       "<table border=\"1\" class=\"dataframe\">\n",
       "  <thead>\n",
       "    <tr style=\"text-align: right;\">\n",
       "      <th></th>\n",
       "      <th>_uid_</th>\n",
       "      <th>NO</th>\n",
       "      <th>ident</th>\n",
       "      <th>geometry</th>\n",
       "    </tr>\n",
       "  </thead>\n",
       "  <tbody>\n",
       "    <tr>\n",
       "      <th>0</th>\n",
       "      <td>1.0</td>\n",
       "      <td>2.145034e+09</td>\n",
       "      <td>46028</td>\n",
       "      <td>LINESTRING Z (397929.900 6422226.850 0.000, 39...</td>\n",
       "    </tr>\n",
       "    <tr>\n",
       "      <th>1</th>\n",
       "      <td>2.0</td>\n",
       "      <td>2.145034e+09</td>\n",
       "      <td>46027</td>\n",
       "      <td>LINESTRING Z (399548.400 6422375.300 0.000, 39...</td>\n",
       "    </tr>\n",
       "    <tr>\n",
       "      <th>2</th>\n",
       "      <td>3.0</td>\n",
       "      <td>5.908285e+08</td>\n",
       "      <td>46037</td>\n",
       "      <td>LINESTRING Z (399548.400 6422375.300 0.000, 39...</td>\n",
       "    </tr>\n",
       "    <tr>\n",
       "      <th>3</th>\n",
       "      <td>4.0</td>\n",
       "      <td>5.908285e+08</td>\n",
       "      <td>46026</td>\n",
       "      <td>LINESTRING Z (399586.250 6422379.300 0.000, 39...</td>\n",
       "    </tr>\n",
       "    <tr>\n",
       "      <th>4</th>\n",
       "      <td>5.0</td>\n",
       "      <td>5.908285e+08</td>\n",
       "      <td>46038</td>\n",
       "      <td>LINESTRING Z (399572.670 6422359.160 0.000, 39...</td>\n",
       "    </tr>\n",
       "    <tr>\n",
       "      <th>...</th>\n",
       "      <td>...</td>\n",
       "      <td>...</td>\n",
       "      <td>...</td>\n",
       "      <td>...</td>\n",
       "    </tr>\n",
       "    <tr>\n",
       "      <th>13174</th>\n",
       "      <td>NaN</td>\n",
       "      <td>2.145033e+09</td>\n",
       "      <td>40542</td>\n",
       "      <td>LINESTRING Z (421649.900 6431510.010 0.000, 42...</td>\n",
       "    </tr>\n",
       "    <tr>\n",
       "      <th>13175</th>\n",
       "      <td>NaN</td>\n",
       "      <td>NaN</td>\n",
       "      <td>52226</td>\n",
       "      <td>LINESTRING Z (424980.920 6431327.760 0.000, 42...</td>\n",
       "    </tr>\n",
       "    <tr>\n",
       "      <th>13176</th>\n",
       "      <td>NaN</td>\n",
       "      <td>NaN</td>\n",
       "      <td>52224</td>\n",
       "      <td>LINESTRING Z (424897.800 6431354.460 0.000, 42...</td>\n",
       "    </tr>\n",
       "    <tr>\n",
       "      <th>13177</th>\n",
       "      <td>NaN</td>\n",
       "      <td>5.790505e+07</td>\n",
       "      <td>48533</td>\n",
       "      <td>LINESTRING Z (420627.250 6421566.590 0.000, 42...</td>\n",
       "    </tr>\n",
       "    <tr>\n",
       "      <th>13178</th>\n",
       "      <td>NaN</td>\n",
       "      <td>1.034973e+09</td>\n",
       "      <td>37681</td>\n",
       "      <td>LINESTRING Z (418466.730 6422851.460 0.000, 41...</td>\n",
       "    </tr>\n",
       "  </tbody>\n",
       "</table>\n",
       "<p>13179 rows × 4 columns</p>\n",
       "</div>"
      ],
      "text/plain": [
       "       _uid_            NO  ident  \\\n",
       "0        1.0  2.145034e+09  46028   \n",
       "1        2.0  2.145034e+09  46027   \n",
       "2        3.0  5.908285e+08  46037   \n",
       "3        4.0  5.908285e+08  46026   \n",
       "4        5.0  5.908285e+08  46038   \n",
       "...      ...           ...    ...   \n",
       "13174    NaN  2.145033e+09  40542   \n",
       "13175    NaN           NaN  52226   \n",
       "13176    NaN           NaN  52224   \n",
       "13177    NaN  5.790505e+07  48533   \n",
       "13178    NaN  1.034973e+09  37681   \n",
       "\n",
       "                                                geometry  \n",
       "0      LINESTRING Z (397929.900 6422226.850 0.000, 39...  \n",
       "1      LINESTRING Z (399548.400 6422375.300 0.000, 39...  \n",
       "2      LINESTRING Z (399548.400 6422375.300 0.000, 39...  \n",
       "3      LINESTRING Z (399586.250 6422379.300 0.000, 39...  \n",
       "4      LINESTRING Z (399572.670 6422359.160 0.000, 39...  \n",
       "...                                                  ...  \n",
       "13174  LINESTRING Z (421649.900 6431510.010 0.000, 42...  \n",
       "13175  LINESTRING Z (424980.920 6431327.760 0.000, 42...  \n",
       "13176  LINESTRING Z (424897.800 6431354.460 0.000, 42...  \n",
       "13177  LINESTRING Z (420627.250 6421566.590 0.000, 42...  \n",
       "13178  LINESTRING Z (418466.730 6422851.460 0.000, 41...  \n",
       "\n",
       "[13179 rows x 4 columns]"
      ]
     },
     "execution_count": 77,
     "metadata": {},
     "output_type": "execute_result"
    }
   ],
   "source": [
    "cle_mmm_rhv"
   ]
  },
  {
   "cell_type": "code",
   "execution_count": 79,
   "metadata": {},
   "outputs": [
    {
     "data": {
      "text/html": [
       "<div>\n",
       "<style scoped>\n",
       "    .dataframe tbody tr th:only-of-type {\n",
       "        vertical-align: middle;\n",
       "    }\n",
       "\n",
       "    .dataframe tbody tr th {\n",
       "        vertical-align: top;\n",
       "    }\n",
       "\n",
       "    .dataframe thead th {\n",
       "        text-align: right;\n",
       "    }\n",
       "</style>\n",
       "<table border=\"1\" class=\"dataframe\">\n",
       "  <thead>\n",
       "    <tr style=\"text-align: right;\">\n",
       "      <th></th>\n",
       "      <th>id</th>\n",
       "      <th>ident</th>\n",
       "      <th>domanial</th>\n",
       "      <th>groupe</th>\n",
       "      <th>cat_dig</th>\n",
       "      <th>cat_rhv</th>\n",
       "      <th>passage</th>\n",
       "      <th>rggraph_nd</th>\n",
       "      <th>rggraph_na</th>\n",
       "      <th>rgraph_dbl</th>\n",
       "      <th>...</th>\n",
       "      <th>tmjo_2_sen</th>\n",
       "      <th>type_cpt</th>\n",
       "      <th>id_cpt_exp</th>\n",
       "      <th>source</th>\n",
       "      <th>target</th>\n",
       "      <th>tmja_calcu</th>\n",
       "      <th>geometry</th>\n",
       "      <th>long</th>\n",
       "      <th>cat_rhv_simple</th>\n",
       "      <th>grp_indic</th>\n",
       "    </tr>\n",
       "  </thead>\n",
       "  <tbody>\n",
       "    <tr>\n",
       "      <th>0</th>\n",
       "      <td>0</td>\n",
       "      <td>8146</td>\n",
       "      <td>4</td>\n",
       "      <td>1.0</td>\n",
       "      <td>5</td>\n",
       "      <td>4</td>\n",
       "      <td>None</td>\n",
       "      <td>11613.0</td>\n",
       "      <td>11319.0</td>\n",
       "      <td>0.0</td>\n",
       "      <td>...</td>\n",
       "      <td>1370.0</td>\n",
       "      <td>ponctuel</td>\n",
       "      <td>72, 73</td>\n",
       "      <td>692</td>\n",
       "      <td>693</td>\n",
       "      <td>None</td>\n",
       "      <td>LINESTRING Z (417591.040 6424518.690 0.000, 41...</td>\n",
       "      <td>0.133918</td>\n",
       "      <td>4</td>\n",
       "      <td>comptage</td>\n",
       "    </tr>\n",
       "  </tbody>\n",
       "</table>\n",
       "<p>1 rows × 30 columns</p>\n",
       "</div>"
      ],
      "text/plain": [
       "   id ident domanial  groupe cat_dig cat_rhv passage  rggraph_nd  rggraph_na  \\\n",
       "0   0  8146        4     1.0       5       4    None     11613.0     11319.0   \n",
       "\n",
       "   rgraph_dbl  ... tmjo_2_sen  type_cpt id_cpt_exp source target tmja_calcu  \\\n",
       "0         0.0  ...     1370.0  ponctuel     72, 73    692    693       None   \n",
       "\n",
       "                                            geometry      long cat_rhv_simple  \\\n",
       "0  LINESTRING Z (417591.040 6424518.690 0.000, 41...  0.133918              4   \n",
       "\n",
       "   grp_indic  \n",
       "0   comptage  \n",
       "\n",
       "[1 rows x 30 columns]"
      ]
     },
     "execution_count": 79,
     "metadata": {},
     "output_type": "execute_result"
    }
   ],
   "source": [
    "cle_mmm_rhv.merge(res.loc[res.grp_indic=='comptage']"
   ]
  },
  {
   "cell_type": "code",
   "execution_count": null,
   "metadata": {},
   "outputs": [],
   "source": []
  }
 ],
 "metadata": {
  "kernelspec": {
   "display_name": "Python 3",
   "language": "python",
   "name": "python3"
  },
  "language_info": {
   "codemirror_mode": {
    "name": "ipython",
    "version": 3
   },
   "file_extension": ".py",
   "mimetype": "text/x-python",
   "name": "python",
   "nbconvert_exporter": "python",
   "pygments_lexer": "ipython3",
   "version": "3.8.4rc1"
  }
 },
 "nbformat": 4,
 "nbformat_minor": 4
}
