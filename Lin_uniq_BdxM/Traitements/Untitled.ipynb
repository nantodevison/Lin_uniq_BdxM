{
 "cells": [
  {
   "cell_type": "code",
   "execution_count": 1,
   "metadata": {},
   "outputs": [],
   "source": [
    "%load_ext autoreload\n",
    "%autoreload 2\n",
    "import sys\n",
    "sys.path.append(r'C:\\Users\\martin.schoreisz\\git\\otv\\otv\\Transfert_Donnees')\n",
    "sys.path.append(r'C:\\Users\\martin.schoreisz\\git\\Outils\\Outils\\Martin_Perso')\n",
    "import pandas as pd\n",
    "import geopandas as gp\n",
    "import numpy as np\n",
    "import csv, re, os, statistics, filecmp, unidecode\n",
    "import Connexion_Transfert as ct\n",
    "import Import_trafics as it\n",
    "import Outils\n",
    "from Decorateurs import concat_df\n",
    "from collections import Counter\n",
    "from shapely.geometry import Point,LineString, MultiLineString\n",
    "from shapely.ops import transform\n",
    "from geoalchemy2 import Geometry, WKTElement\n",
    "from Base_BdTopo import Import_outils as io\n",
    "\n",
    "from Base_BdTopo import Rond_points as rp\n",
    "from Base_BdTopo import Regroupement_correspondance as rc\n",
    "from sqlalchemy.schema import MetaData\n",
    "from sqlalchemy import inspect\n",
    "from statistics import mean\n",
    "from itertools import combinations\n",
    "\n",
    "from sklearn.cluster import DBSCAN\n",
    "import pyproj\n",
    "from shapely.ops import transform\n",
    "\n",
    "pd.set_option('display.max_columns', 100)\n",
    "pd.set_option('display.max_colwidth', 50)"
   ]
  },
  {
   "cell_type": "code",
   "execution_count": 33,
   "metadata": {},
   "outputs": [],
   "source": [
    "#initiliser les données\n",
    "cd23=it.Comptage_cd23(r'Q:\\DAIT\\TI\\DREAL33\\2020\\OTV\\Doc_travail\\Donnees_source\\CD23\\2019-CD23_trafics.xls',2019)\n",
    "df_propre=cd23.ouvrirMiseEnForme()\n",
    "cd23.classer_comptage_update_insert('gti_otv_pg11', 'na_2010_2019_p')\n",
    "cd23.update_bdd_23('gti_otv_pg11','comptage', 'na_2010_2019_p')\n",
    "cd23.donneesMens()\n",
    "cd23.insert_bdd('gti_otv_pg11','comptage', 'na_2010_2019_mensuel',cd23.df_attr_mensuel)"
   ]
  },
  {
   "cell_type": "code",
   "execution_count": 51,
   "metadata": {},
   "outputs": [],
   "source": [
    "list_id_comptag=[val for val in cd23.df_attr.id_comptag.tolist() for _ in (0, 1)]\n",
    "donnees_type=['tmja','pc_pl']*len(cd23.df_attr.id_comptag.tolist())\n",
    "annee_df=[str(cd23.annee)]*2*len(cd23.df_attr.id_comptag.tolist())\n",
    "janv, fev, mars,avril,mai,juin,juil,aout,sept,octo,nov,dec=[],[],[],[],[],[],[],[],[],[],[],[]\n",
    "for i in range(len(cd23.df_attr.id_comptag.tolist())) :\n",
    "    for j in (janv, fev, mars) :\n",
    "        j.extend([cd23.df_attr.trim1_TV.tolist()[i],cd23.df_attr.trim1_pcpl.tolist()[i]])\n",
    "    for k in (avril,mai,juin) :\n",
    "        k.extend([cd23.df_attr.trim2_TV.tolist()[i],cd23.df_attr.trim2_pcpl.tolist()[i]])\n",
    "    for l in (juil,aout,sept) :\n",
    "        l.extend([cd23.df_attr.trim3_TV.tolist()[i],cd23.df_attr.trim3_pcpl.tolist()[i]])\n",
    "    for m in (octo,nov,dec) :\n",
    "        m.extend([cd23.df_attr.trim4_TV.tolist()[i],cd23.df_attr.trim4_pcpl.tolist()[i]])\n",
    "donnees_mens=pd.DataFrame({'id_comptag':list_id_comptag,'donnees_type':donnees_type,'annee':annee_df,'janv':janv,'fevr':fev,'mars':mars,'avri':avril,\n",
    "              'mai':mai,'juin':juin,'juil':juil,'aout':aout,'sept':sept,'octo':octo,'nove':nov,'dece':dec})"
   ]
  },
  {
   "cell_type": "code",
   "execution_count": 54,
   "metadata": {},
   "outputs": [],
   "source": [
    "cd23.donneesMens()"
   ]
  },
  {
   "cell_type": "code",
   "execution_count": 56,
   "metadata": {},
   "outputs": [],
   "source": []
  },
  {
   "cell_type": "code",
   "execution_count": null,
   "metadata": {},
   "outputs": [],
   "source": []
  }
 ],
 "metadata": {
  "kernelspec": {
   "display_name": "Python 3",
   "language": "python",
   "name": "python3"
  },
  "language_info": {
   "codemirror_mode": {
    "name": "ipython",
    "version": 3
   },
   "file_extension": ".py",
   "mimetype": "text/x-python",
   "name": "python",
   "nbconvert_exporter": "python",
   "pygments_lexer": "ipython3",
   "version": "3.7.0"
  }
 },
 "nbformat": 4,
 "nbformat_minor": 4
}
