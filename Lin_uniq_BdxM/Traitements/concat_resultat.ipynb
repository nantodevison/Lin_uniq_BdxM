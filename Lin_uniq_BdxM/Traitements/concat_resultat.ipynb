{
 "cells": [
  {
   "cell_type": "markdown",
   "metadata": {},
   "source": [
    "# **NOTEBOOK TEMPORAIRE DE CLASSEMENT ET CALCUL DES RESULTATS ATTENDUS PAR BM**"
   ]
  },
  {
   "cell_type": "code",
   "execution_count": 2,
   "metadata": {},
   "outputs": [
    {
     "name": "stdout",
     "output_type": "stream",
     "text": [
      "The autoreload extension is already loaded. To reload it, use:\n",
      "  %reload_ext autoreload\n"
     ]
    }
   ],
   "source": [
    "%load_ext autoreload\n",
    "%autoreload 2\n",
    "import sys #c'est pas propre mais pour le moment pour importer mes modules perso dans le notebook je ne sais pas faire\n",
    "sys.path.append(r'C:\\Users\\marti\\git\\Outils\\Outils\\Martin_Perso')\n",
    "sys.path.append(r'C:\\Users\\marti\\git\\otv\\otv\\Transfert_Donnees')\n",
    "sys.path.append(r'C:\\Users\\marti\\git\\Lin_uniq_BdxM\\Lin_uniq_BdxM\\Traitements')\n",
    "import Connexion_Transfert as ct\n",
    "import geopandas as gp\n",
    "import pandas as pd\n",
    "import numpy as np\n",
    "from shapely.geometry import MultiPoint, Polygon, box\n",
    "from shapely.ops import nearest_points\n",
    "import re\n",
    "from copy import copy, deepcopy\n",
    "\n",
    "pd.set_option('display.max_columns', 100)"
   ]
  },
  {
   "cell_type": "markdown",
   "metadata": {},
   "source": [
    "Idée générale : \n",
    "affecter chaque troncon à une commune pour l'agregation par commune, puis chaque troncon à un secteur pour l'agreg par secteur.\n",
    "Ensuite on calcul le veh_km en se basant sur l'attribut \"groupe\" qui separent les troncons utilisés pour le calcul de la longueur ou non\n",
    "\n",
    "Données Necessaires : \n",
    "- le fichier de trafic linearise\n",
    "- le fichier des communes\n",
    "- le fichier des secteurs"
   ]
  },
  {
   "cell_type": "code",
   "execution_count": 5,
   "metadata": {},
   "outputs": [],
   "source": [
    "#import des données de base : voies cat1234 linéarisées et fichiers de communes\n",
    "trafic_lin=gp.read_file(r'D:\\Boulot\\AffairesEnCours\\Linearisation_BM\\C19SA0101\\C19SA0101\\Doc_travail\\Donnees_produites\\Donnees\\gdf_rhv_trafic_1234_cpt.shp')\n",
    "trafic_tot=gp.read_file(r'D:\\Boulot\\AffairesEnCours\\Linearisation_BM\\C19SA0101\\C19SA0101\\Doc_travail\\Donnees_produites\\Donnees\\affect_trafic_voies_cat4\\affectationComplete.shp')\n",
    "communes=gp.read_file(r'D:\\Boulot\\AffairesEnCours\\Linearisation_BM\\C19SA0101\\C19SA0101\\Doc_travail\\Donnees_produites\\Donnees\\zones\\communes_BdxM_2.shp',encoding='UTF-8')\n",
    "communes['geom_c']=communes.geometry\n",
    "secteurs=gp.read_file(r'D:\\Boulot\\AffairesEnCours\\Linearisation_BM\\C19SA0101\\C19SA0101\\Doc_travail\\Donnees_produites\\Donnees\\zones\\grands_secteurs.shp',encoding='UTF-8')\n",
    "secteurs['geom_s']=secteurs.geometry\n",
    "secteurs.rename(columns={'nom':'nom_sect'},inplace=True)"
   ]
  },
  {
   "cell_type": "code",
   "execution_count": 8,
   "metadata": {},
   "outputs": [],
   "source": [
    "#on isole les cat_rhv 1,2,3\n",
    "#trafic_cat1213=trafic_lin.loc[trafic_lin['cat_rhv'].isin(['1','2','3','33','61','62','63'])].copy()\n",
    "# et on n egarde que les lignes d'attribut groupe == 1 (qui servent aux calculs de la longueur\n",
    "trafic_tot_grp1=trafic_tot.loc[trafic_tot['groupe']==1].copy()\n",
    "trafic_tot_grp1['longueur']=trafic_tot_grp1.geometry.length/1000"
   ]
  },
  {
   "cell_type": "code",
   "execution_count": 9,
   "metadata": {},
   "outputs": [],
   "source": [
    "#jointure entre les lignes et les communes\n",
    "joint_lin_com=gp.sjoin(trafic_tot_grp1[['ident','geometry','cat_rhv','groupe','numero', 'tmjo_2_sen','type_cpt','id_cpt_exp','longueur']], communes[['INSEE_COM','NOM','geometry', 'geom_c']],how='left',op='intersects')\n",
    "joint_lin_com=joint_lin_com.loc[~pd.isnull(joint_lin_com.geom_c)].copy()"
   ]
  },
  {
   "cell_type": "code",
   "execution_count": 14,
   "metadata": {},
   "outputs": [],
   "source": [
    "#calcul des longueurs et pourcentage de recouvrement\n",
    "joint_lin_com['lg_intersect']=joint_lin_com.apply(lambda x : x['geometry'].intersection(x['geom_c']).length, axis=1)\n",
    "joint_lin_com['lg_lgn']=joint_lin_com.geometry.length\n",
    "joint_lin_com['ratio_lg']=joint_lin_com.lg_intersect/joint_lin_com.lg_lgn\n",
    "#on ne conserve que le max des recouvrements pour chaque ligne\n",
    "corresp_ident_commune=joint_lin_com.loc[joint_lin_com.ratio_lg==joint_lin_com.groupby('ident').ratio_lg.transform(max)].copy()"
   ]
  },
  {
   "cell_type": "code",
   "execution_count": 15,
   "metadata": {},
   "outputs": [],
   "source": [
    "#jointure entre les lignes et les secteurs\n",
    "joint_lin_sect=gp.sjoin(corresp_ident_commune.drop('index_right',axis=1), secteurs,how='left',op='intersects')\n",
    "joint_lin_sect=joint_lin_sect.loc[~pd.isnull(joint_lin_sect.geom_s)].copy()"
   ]
  },
  {
   "cell_type": "code",
   "execution_count": 18,
   "metadata": {},
   "outputs": [],
   "source": [
    "#calcul des longueurs et pourcentage de recouvrement\n",
    "joint_lin_sect['lg_intersect']=joint_lin_sect.apply(lambda x : x['geometry'].intersection(x['geom_s']).length, axis=1)\n",
    "joint_lin_sect['lg_lgn']=joint_lin_sect.geometry.length\n",
    "joint_lin_sect['ratio_lg']=joint_lin_sect.lg_intersect/joint_lin_sect.lg_lgn\n",
    "#on ne conserve que le max des recouvrements pour chaque ligne\n",
    "corresp_ident_sect=joint_lin_sect.loc[joint_lin_sect.ratio_lg==joint_lin_sect.groupby('ident').ratio_lg.transform(max)].copy()\n",
    "corresp_ident_sect.drop_duplicates('ident',inplace=True)"
   ]
  },
  {
   "cell_type": "code",
   "execution_count": 20,
   "metadata": {},
   "outputs": [],
   "source": [
    "#on ne garde que les attributs qui nous interesse et on calcul le veh_km\n",
    "pour_calcul=corresp_ident_sect[['geometry','ident','cat_rhv','groupe','numero', 'tmjo_2_sen','type_cpt','id_cpt_exp','longueur','NOM','nom_sect']].copy()\n",
    "pour_calcul['veh_km']=pour_calcul.tmjo_2_sen*pour_calcul.longueur\n",
    "pour_calcul=pour_calcul.loc[~pour_calcul.cat_rhv.isna()]\n",
    "pour_calcul['cat_rhv_simplifiee']=pour_calcul.cat_rhv.apply(lambda x : str(int(x)%10))"
   ]
  },
  {
   "cell_type": "code",
   "execution_count": null,
   "metadata": {},
   "outputs": [],
   "source": [
    "#modofier attribut_secteur\n",
    "pour_calcul.loc[pour_calcul.apply(lambda x : 'Grd-sect Rocade_N-O' in x['numero'], axis=1),'nom_sect']='rocade NO'\n",
    "pour_calcul.loc[pour_calcul.apply(lambda x : 'Grd-sect Rocade_RD' in x['numero'], axis=1),'nom_sect']='rocade RD'\n",
    "pour_calcul.loc[pour_calcul.apply(lambda x : 'Grd-sect Rocade_Sud' in x['numero'], axis=1),'nom_sect']='rocade Sud'\n",
    "pour_calcul.loc[pour_calcul.apply(lambda x : (True if re.search('rocade|autoroute a 630|pont d\\'aquitaine|pont francois mitterrand',x['numero'].lower()) else False) \n",
    "                    and ('bretelle' in x['numero'].lower()), axis=1),'nom_sect']='rocade bretelle'\n",
    "pour_calcul.loc[pour_calcul.apply(lambda x : (True if re.search('a 10',x['numero'].lower()) else False) \n",
    "                    and ('bretelle' in x['numero'].lower()), axis=1),'nom_sect']='A10 bretelle'\n",
    "pour_calcul.loc[pour_calcul.apply(lambda x : (True if re.search('a 10',x['numero'].lower()) else False) \n",
    "                    and ('bretelle' not in x['numero'].lower()), axis=1),'nom_sect']='A10'\n",
    "pour_calcul.loc[pour_calcul.apply(lambda x : (True if re.search('route nationale 89',x['numero'].lower()) else False) \n",
    "                                and ('bretelle' in x['numero'].lower()), axis=1),'nom_sect']='N89 bretelle'\n",
    "pour_calcul.loc[pour_calcul.apply(lambda x : (True if re.search('route nationale 89',x['numero'].lower()) else False) \n",
    "                                and ('bretelle' not in x['numero'].lower()), axis=1),'nom_sect']='N89'\n",
    "pour_calcul.loc[pour_calcul.apply(lambda x : (True if re.search('autoroute a 63$',x['numero'].lower()) else False) \n",
    "                                and ('bretelle' in x['numero'].lower()), axis=1),'nom_sect']='A63 bretelle'\n",
    "pour_calcul.loc[pour_calcul.apply(lambda x : (True if re.search('autoroute a 63$',x['numero'].lower()) else False) \n",
    "                                and ('bretelle' not in x['numero'].lower()), axis=1),'nom_sect']='A63'\n",
    "pour_calcul.loc[pour_calcul.apply(lambda x : (True if re.search('a62',x['numero'].lower()) else False) \n",
    "                                and ('bretelle' in x['numero'].lower()), axis=1),'nom_sect']='A62 bretelle'\n",
    "pour_calcul.loc[pour_calcul.apply(lambda x : (True if re.search('a62',x['numero'].lower()) else False) \n",
    "                                and ('bretelle' not in x['numero'].lower()), axis=1),'nom_sect']='A62'\n",
    "pour_calcul.loc[pour_calcul.apply(lambda x : 'Grd-sect Boulevards_rive_gauche' in x['numero'], axis=1),'nom_sect']='Bld RG'\n",
    "pour_calcul.loc[pour_calcul.apply(lambda x : 'Grd-sect Boulevards_rive_droite' in x['numero'], axis=1),'nom_sect']='Bld RD'"
   ]
  },
  {
   "cell_type": "code",
   "execution_count": 26,
   "metadata": {},
   "outputs": [],
   "source": [
    "pour_calcul.to_file(r'D:\\Boulot\\AffairesEnCours\\Linearisation_BM\\C19SA0101\\C19SA0101\\Doc_travail\\Donnees_produites\\Donnees\\resultats\\pour_calcul.shp')"
   ]
  },
  {
   "cell_type": "code",
   "execution_count": 27,
   "metadata": {},
   "outputs": [],
   "source": [
    "#stat communales hors reseau Etat ou SCA et Blds\n",
    "pour_calcul_hors_GI=pour_calcul.loc[pour_calcul.apply(lambda x : True if not re.match('A.|N89|roc|Bld',x['nom_sect']) else False, axis=1)].copy()\n",
    "stat_commune=pour_calcul_hors_GI.groupby(['NOM','cat_rhv_simplifiee' ]).agg({'veh_km' : sum, 'longueur':'sum'})\n",
    "\n",
    "#grandes infras\n",
    "#stats Blds\n",
    "blds=pour_calcul.loc[pour_calcul.nom_sect.apply(lambda x : x[:3]=='Bld')].copy()\n",
    "stats_blds=blds.groupby(['nom_sect','cat_rhv_simplifiee' ]).agg({'veh_km' : sum, 'longueur':'sum'})\n",
    "#stats Rocade et SCA\n",
    "Rocade_rd_A10_N89=pour_calcul.loc[pour_calcul.nom_sect.apply(lambda x : x in ('A10','N89','rocade RD'))].copy()\n",
    "stat_Rocade_rd_A10_N89=Rocade_rd_A10_N89.groupby(['nom_sect','cat_rhv_simplifiee' ]).agg({'veh_km' : sum, 'longueur':'sum'})\n",
    "Rocade_sud_A63_A62=pour_calcul.loc[pour_calcul.nom_sect.apply(lambda x : x in ('A62','A63','rocade Sud'))].copy()\n",
    "stat_Rocade_sud_A63_A62=Rocade_sud_A63_A62.groupby(['nom_sect','cat_rhv_simplifiee' ]).agg({'veh_km' : sum, 'longueur':'sum'})\n",
    "Rocade_NO=pour_calcul.loc[pour_calcul.nom_sect=='rocade NO'].copy()\n",
    "stat_Rocade_NO=Rocade_NO.groupby(['nom_sect','cat_rhv_simplifiee' ]).agg({'veh_km' : sum, 'longueur':'sum'})\n",
    "#pour info\n",
    "bretelles=pour_calcul.loc[pour_calcul.nom_sect.apply(lambda x : 'bretelle' in x )].copy()\n",
    "stat_bretelles=bretelles.groupby(['nom_sect','cat_rhv_simplifiee' ]).agg({'veh_km' : sum, 'longueur':'sum'})\n",
    "#concat GI\n",
    "grandes_infras=pd.concat([stats_blds,stat_Rocade_rd_A10_N89,stat_Rocade_sud_A63_A62,stat_Rocade_NO,stat_bretelles],axis=0, sort=False)\n",
    "\n",
    "#stats secteurs\n",
    "stat_secteurs=pour_calcul_hors_GI.groupby(['nom_sect','cat_rhv_simplifiee' ]).agg({'veh_km' : sum, 'longueur':'sum'})\n",
    "\n",
    "#donnees_generales\n",
    "donnees_generales=pour_calcul.groupby(['cat_rhv_simplifiee' ]).agg({'veh_km' : sum, 'longueur':'sum'})"
   ]
  },
  {
   "cell_type": "code",
   "execution_count": 448,
   "metadata": {},
   "outputs": [],
   "source": [
    "#export resultats excel\n",
    "with pd.ExcelWriter(r'D:\\temp\\Linearisation_BM\\C19SA0101\\C19SA0101\\Doc_travail\\Donnees_produites\\Donnees\\resultats\\cat123\\BM_stat_veh-km_cat123_2.xls') as writer:\n",
    "    donnees_generales.to_excel(writer, sheet_name='Donnees_generales')\n",
    "    grandes_infras.reset_index().to_excel(writer, sheet_name='Grandes_infras')\n",
    "    stat_secteurs.reset_index().to_excel(writer, sheet_name='Secteurs')\n",
    "    stat_commune.reset_index().to_excel(writer, sheet_name='Communes')"
   ]
  },
  {
   "cell_type": "code",
   "execution_count": 28,
   "metadata": {},
   "outputs": [
    {
     "data": {
      "text/plain": [
       "veh_km      9.966821e+06\n",
       "longueur    3.517658e+03\n",
       "dtype: float64"
      ]
     },
     "execution_count": 28,
     "metadata": {},
     "output_type": "execute_result"
    }
   ],
   "source": [
    "stat_secteurs.sum()"
   ]
  },
  {
   "cell_type": "code",
   "execution_count": 29,
   "metadata": {},
   "outputs": [
    {
     "data": {
      "text/plain": [
       "veh_km      9.966821e+06\n",
       "longueur    3.517658e+03\n",
       "dtype: float64"
      ]
     },
     "execution_count": 29,
     "metadata": {},
     "output_type": "execute_result"
    }
   ],
   "source": [
    "stat_commune.sum()"
   ]
  },
  {
   "cell_type": "code",
   "execution_count": 31,
   "metadata": {},
   "outputs": [],
   "source": [
    "filaire_source=gp.read_file(r'D:\\Boulot\\AffairesEnCours\\Linearisation_BM\\C19SA0101\\C19SA0101\\Doc_travail\\Donnees_source\\Bdx-Metro\\Filaire_voie\\FV_TRONC_L.shp')\n",
    "#export fichier complet\n",
    "trafic_tot[['ident','geometry','cat_rhv','groupe','tmjo_2_sen','type_cpt','id_cpt_exp']].merge(\n",
    "    filaire_source[['IDENT','NOM_VOIE']], left_on='ident', right_on='IDENT').rename(columns=\n",
    "    {'id_cpt_exp':'id_comptag'}).drop('IDENT', axis=1).to_file(\n",
    "r'D:\\Boulot\\AffairesEnCours\\Linearisation_BM\\C19SA0101\\C19SA0101\\Doc_travail\\Donnees_produites\\Donnees\\resultats\\FV_affectation_complete.shp')"
   ]
  },
  {
   "cell_type": "code",
   "execution_count": 32,
   "metadata": {},
   "outputs": [],
   "source": [
    "#export fichier de calcul longueur\n",
    "pour_calcul[['ident','geometry','cat_rhv','groupe','tmjo_2_sen','type_cpt','id_cpt_exp','longueur','NOM','nom_sect','veh_km']].merge(\n",
    "    filaire_source[['IDENT','NOM_VOIE']], left_on='ident', right_on='IDENT').rename(columns=\n",
    "    {'id_cpt_exp':'id_comptag', 'NOM':'nom_comm'}).drop('IDENT', axis=1).to_file(\n",
    "r'D:\\Boulot\\AffairesEnCours\\Linearisation_BM\\C19SA0101\\C19SA0101\\Doc_travail\\Donnees_produites\\Donnees\\resultats\\FV_affectation_complete_grp1.shp')"
   ]
  }
 ],
 "metadata": {
  "kernelspec": {
   "display_name": "Python 3",
   "language": "python",
   "name": "python3"
  },
  "language_info": {
   "codemirror_mode": {
    "name": "ipython",
    "version": 3
   },
   "file_extension": ".py",
   "mimetype": "text/x-python",
   "name": "python",
   "nbconvert_exporter": "python",
   "pygments_lexer": "ipython3",
   "version": "3.8.4rc1"
  }
 },
 "nbformat": 4,
 "nbformat_minor": 4
}
