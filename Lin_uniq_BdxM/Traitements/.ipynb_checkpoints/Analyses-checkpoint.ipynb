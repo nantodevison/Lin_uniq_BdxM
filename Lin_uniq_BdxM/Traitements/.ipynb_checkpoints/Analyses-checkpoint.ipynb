{
 "cells": [
  {
   "cell_type": "markdown",
   "metadata": {},
   "source": [
    "# creation de graphiques d'analyses des résultats post-traitements"
   ]
  },
  {
   "cell_type": "code",
   "execution_count": 2,
   "metadata": {},
   "outputs": [],
   "source": [
    "import geopandas as gp\n",
    "import altair as alt"
   ]
  },
  {
   "cell_type": "markdown",
   "metadata": {},
   "source": [
    "## fichiers sources"
   ]
  },
  {
   "cell_type": "code",
   "execution_count": 1,
   "metadata": {},
   "outputs": [],
   "source": [
    "resultatsLineaires=r'D:\\Boulot\\AffairesEnCours\\Linearisation_BM\\C19SA0101\\C19SA0101\\Doc_travail\\Donnees_produites\\Donnees\\resultats\\affectationComplete.shp'"
   ]
  },
  {
   "cell_type": "markdown",
   "metadata": {},
   "source": [
    "## Comptages"
   ]
  },
  {
   "cell_type": "code",
   "execution_count": 3,
   "metadata": {},
   "outputs": [],
   "source": [
    "#import des résultats filaires\n",
    "res=gp.read_file(resultatsLineaires)"
   ]
  },
  {
   "cell_type": "code",
   "execution_count": 42,
   "metadata": {},
   "outputs": [],
   "source": [
    "res=res.loc[~res.cat_rhv.isna()].copy()\n",
    "res['long']=res.geometry.length/1000\n",
    "res['cat_rhv_simple']=res.cat_rhv.apply(lambda x : x[-1])\n",
    "res['grp_indic']=res.apply(lambda x : 'comptage' if x['type_cpt'] in ('permanent','ponctuel') else 'autre', axis=1)"
   ]
  },
  {
   "cell_type": "code",
   "execution_count": 70,
   "metadata": {},
   "outputs": [],
   "source": [
    "baseComptageParCatRhv=alt.Chart(res.groupby(['cat_rhv_simple','grp_indic']).long.sum().reset_index()).mark_bar().encode(\n",
    "    x=alt.X('cat_rhv_simple', title='Catégorie RHV simplifiée'),\n",
    "    color=alt.Color('grp_indic',title='Source des trafics'))\n",
    "chartComptageParCatRhv=baseComptageParCatRhv.encode(y=alt.Y('long', title='longueur (km)')) | baseComptageParCatRhv.encode(\n",
    "    y=alt.Y('long', title='longueur (km)', stack='normalize', axis=alt.Axis(format='%')))"
   ]
  },
  {
   "cell_type": "code",
   "execution_count": null,
   "metadata": {},
   "outputs": [],
   "source": []
  }
 ],
 "metadata": {
  "kernelspec": {
   "display_name": "Python 3",
   "language": "python",
   "name": "python3"
  },
  "language_info": {
   "codemirror_mode": {
    "name": "ipython",
    "version": 3
   },
   "file_extension": ".py",
   "mimetype": "text/x-python",
   "name": "python",
   "nbconvert_exporter": "python",
   "pygments_lexer": "ipython3",
   "version": "3.8.4rc1"
  }
 },
 "nbformat": 4,
 "nbformat_minor": 4
}
