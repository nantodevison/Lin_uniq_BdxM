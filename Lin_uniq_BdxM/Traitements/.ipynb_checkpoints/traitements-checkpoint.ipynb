{
 "cells": [
  {
   "cell_type": "markdown",
   "metadata": {},
   "source": [
    "# **LINEARISATION UNIQUE DES TRAFICS SUR BORDEAUX METROPOLE**\n",
    "> ATTENTION : IL Y A DES MELI-MELO ENTRE LE FICHIER gdf_rhv_groupe qui contient un idtronc pour tout les troncons et a été constitué avant de prendre en compte les cat_rhv 62, 63 etc...; qui est utilisé dans toute la partie affectation points de comptage, et le fichier issus de la Bdd graph_filaire qui lui contient bien toute les lignes mais n'a pas d'idtronc renseigné.<br> il faudrait remettre tout ça à plat"
   ]
  },
  {
   "cell_type": "code",
   "execution_count": 54,
   "metadata": {},
   "outputs": [
    {
     "name": "stdout",
     "output_type": "stream",
     "text": [
      "The autoreload extension is already loaded. To reload it, use:\n",
      "  %reload_ext autoreload\n"
     ]
    }
   ],
   "source": [
    "%load_ext autoreload\n",
    "%autoreload 2\n",
    "import sys #c'est pas propre mais pour le moment pour importer mes modules perso dans le notebook je ne sais pas faire\n",
    "sys.path.append(r'C:\\Users\\martin.schoreisz\\git\\Outils\\Outils\\Martin_Perso')\n",
    "sys.path.append(r'C:\\Users\\martin.schoreisz\\git\\otv\\otv\\Transfert_Donnees')\n",
    "sys.path.append(r'C:\\Users\\martin.schoreisz\\git\\Lin_uniq_BdxM\\Lin_uniq_BdxM\\Traitements')\n",
    "import Connexion_Transfert as ct\n",
    "import geopandas as gp\n",
    "import pandas as pd\n",
    "import numpy as np\n",
    "from shapely import speedups #gestion erreur GEOSGeom_createLineString_r returned a NULL pointer\n",
    "speedups.disable()\n",
    "from shapely.geometry import MultiPoint, Polygon, box, Point\n",
    "from shapely.ops import nearest_points\n",
    "from shapely.wkt import dumps, loads\n",
    "import re, json\n",
    "from unidecode import unidecode\n",
    "from copy import copy, deepcopy\n",
    "from difflib import get_close_matches,SequenceMatcher\n",
    "from sklearn.cluster import DBSCAN\n",
    "from sklearn.preprocessing import StandardScaler\n",
    "from datetime import datetime\n",
    "from collections import Counter\n",
    "from Outils import creer_graph, plus_proche_voisin,nb_noeud_unique_troncon_continu,verif_index, gp_changer_nom_geom\n",
    "\n",
    "from Simplifier_Rdpt import creer_dico_noeud_rdpt,simplifier_noeud_rdpt,maj_graph_rdpt, donnees_tot_rd_pt\n",
    "import Estim_trafic as et\n",
    "import Comptage as Cpt\n",
    "import Affectation_pt_comptage as ap\n",
    "import Voies_Cat4 as v4\n",
    "from MMM import import_fichiers_mmm\n",
    "\n",
    "pd.set_option('display.max_columns', 100)\n",
    "pd.set_option('display.min_rows', 30)\n",
    "pd.set_option('display.max_rows', 50)\n",
    "pd.set_option('display.max_colwidth', 50)\n",
    "\n",
    "\n",
    "from Base_BdTopo.Import_outils import import_donnes_base\n",
    "from Base_BdTopo.Rond_points import identifier_rd_pt\n",
    "from Base_BdTopo.Regroupement_correspondance import *\n",
    "from Base_BdTopo.Troncon_elementaire import *\n",
    "from Base_BdTopo.Troncon_base import *\n",
    "from Base_BdTopo.Gestion_2_chaussee import *\n",
    "import plotly.express as px\n",
    "import altair as alt"
   ]
  },
  {
   "cell_type": "markdown",
   "metadata": {},
   "source": [
    "## 1 Regrouper les troncons du filaire de voie\n",
    ">Les troncons du filaire de voie sont regroupés d'abord uniquement avec les troncons de cat_rhv égal à 1,2,3,61,62,63, pour pouvoir réaliser des troncon de trafic homogènes tous reliés entre eux.\n",
    "<br> Ensuite, un deuxième regroupement comprenant l'ensemble des troncons de cat_rhv permetd'affiner le diagnostic"
   ]
  },
  {
   "cell_type": "markdown",
   "metadata": {},
   "source": [
    "> ### 1.1 Import du fichier final\n",
    "le fichier shape est vérifié à la main car l'affectation automatique n'est pas 100% fiable"
   ]
  },
  {
   "cell_type": "code",
   "execution_count": 8,
   "metadata": {},
   "outputs": [],
   "source": [
    "# Pour info : lire le graph issu de la methode decrite dessous\n",
    "with ct.ConnexionBdd('local_otv_boulot', localisation='boulot') as c :\n",
    "    graph_filaire_123 = gp.read_postgis('select * from linearisation_bm.graph_rhv_123_v2', c.connexionPsy)\n",
    "    graph_filaire_123_vertex = gp.read_postgis('select id,cnt,chk,ein,eout,the_geom as geom from linearisation_bm.graph_rhv_123_v2_vertices_pgr', c.connexionPsy)\n",
    "    graph_filaire = gp.read_postgis('select * from linearisation_bm.graph_rhv_complet', c.connexionPsy)\n",
    "    graph_filaire_vertex=gp.read_postgis('select id,cnt,chk,ein,eout,the_geom as geom from linearisation_bm.graph_rhv_complet_vertices_pgr', c.connexionPsy)"
   ]
  },
  {
   "cell_type": "code",
   "execution_count": 14,
   "metadata": {},
   "outputs": [],
   "source": [
    "gdf_rhv_groupe_123=graph_filaire_123\n",
    "#gdf_rhv_groupe_123=gp.read_file(r'C:\\Users\\martin.schoreisz\\Documents\\AffairesEnCours\\Linearisation_BM\\C19SA0101\\Doc_travail\\Donnees_produites\\Donnees\\gdf_rhv_groupe_123_v2.shp').merge(graph_filaire_123[['ident','source','target']], on='ident', how='left')\"\"\"\n",
    "gdf_rhv_groupe=gp.read_file(r'C:\\Users\\martin.schoreisz\\Documents\\AffairesEnCours\\Linearisation_BM\\C19SA0101\\Doc_travail\\Donnees_produites\\Donnees\\rhv_grp.shp').merge(graph_filaire[['ident','source','target']], on='ident', how='left')"
   ]
  },
  {
   "cell_type": "markdown",
   "metadata": {},
   "source": [
    ">### 1.2 Méthode\n",
    " pour information"
   ]
  },
  {
   "cell_type": "code",
   "execution_count": null,
   "metadata": {
    "jupyter": {
     "source_hidden": true
    }
   },
   "outputs": [],
   "source": [
    "# 1. import du fichier de filaire de base\n",
    "gdf_rhv=gp.read_file(r'D:\\temp\\Linearisation_BM\\C19SA0101\\C19SA0101\\Doc_travail\\Donnees_source\\Bdx-Metro\\Filaire_voie\\FV_TRONC_L.shp')\n",
    "# 2. mise en forme\n",
    "gdf_rhv.columns=[a.lower() for a in gdf_rhv.columns] #nom de colonne en minuscule\n",
    "gdf_rhv.rename(columns={'gid':'id','nom_voie' : 'numero'},inplace=True)\n",
    "gdf_rhv=gdf_rhv.loc[~gdf_rhv.id.isna()].copy()\n",
    "gdf_rhv['id_ign']=gdf_rhv.ident.apply(lambda x : 'TRONROUT'+str(x))\n",
    "gdf_rhv=gdf_rhv.loc[~gdf_rhv.cat_rhv.isin(['98','99'])].copy()\n",
    "gdf_rhv['nature']=gdf_rhv.apply(lambda x : 'Route à 2 chaussées' if x['rgraph_dbl']==0 else 'Route à 1 chaussée', axis=1)\n",
    "gdf_rhv['nature']=gdf_rhv.apply(lambda x : 'Bretelle' if x['cat_dig']=='8' else x['nature'], axis=1)\n",
    "gdf_rhv['numero']=gdf_rhv.apply(lambda x : 'Bretelle '+x['numero'] if x['cat_dig']=='8' else x['numero'], axis=1)\n",
    "gdf_rhv['sens']=gdf_rhv.apply(lambda x : 'Direct' if x['rgraph_dbl']==0 else 'Double', axis=1)\n",
    "gdf_rhv['codevoie_d']='NR'\n",
    "gdf_rhv['importance']=gdf_rhv['cat_dig']\n",
    "gdf_rhv['id']=gdf_rhv.id.apply(lambda x : int(x))\n",
    "#gdf_rhv.loc[gdf_rhv.nom_voie.isna()] #verif des nom_voie null : 2 lignes, cf traitements plus loins\n",
    "#filtrer les voies cylcables et autres\n",
    "gdf_rhv_filtre=gdf_rhv.loc[~gdf_rhv.cat_dig.isin(['6','7','9','10'])].copy()\n",
    "\n",
    "# 3. creer le graph en bdd\n",
    "#creer_graph(gdf_rhv_filtre.loc[gdf_rhv_filtre.cat_rhv.isin(['1','2','3','33','61','62','63'])],\n",
    "            #'local_otv',schema='linearisation_bm',table='graph_rhv_123',table_vertex='graph_rhv_123_vertices_pgr')\n",
    "creer_graph(gdf_rhv_filtre,'local_otv',schema='linearisation_bm',table='graph_rhv_complet',table_vertex='graph_rhv_complet_vertices_pgr')"
   ]
  },
  {
   "cell_type": "code",
   "execution_count": null,
   "metadata": {
    "jupyter": {
     "source_hidden": true
    }
   },
   "outputs": [],
   "source": [
    "# 4. initialiser les paramètre de regroupement\n",
    "df=import_donnes_base('local_otv','linearisation_bm', 'graph_rhv_complet','graph_rhv_complet_vertices_pgr')\n",
    "df2_chaussees=df.loc[df.nature.isin(['Autoroute', 'Quasi-autoroute', 'Route à 2 chaussées'])]\n",
    "df_avec_rd_pt,carac_rd_pt,lign_entrant_rdpt=identifier_rd_pt(df)\n",
    "df_lignes=df_avec_rd_pt.set_index('id_ign')#mettre l'id_ign en index\n",
    "bretelle=df_avec_rd_pt.loc[df_avec_rd_pt['nature']=='Bretelle'].copy()\n",
    "bretelle_tri=bretelle.loc[bretelle.length.sort_values(ascending=False).index.tolist()].id_ign.tolist()\n",
    "sans_bretelle=df_avec_rd_pt.loc[df_avec_rd_pt['nature']!='Bretelle'].copy()\n",
    "list_sans_bretelle=sans_bretelle.id_ign.tolist()\n",
    "list_tri_longueur=sans_bretelle.loc[sans_bretelle.length.sort_values(ascending=False).index.tolist()].id_ign.tolist()\n",
    "list_id_ign=bretelle_tri+list_tri_longueur"
   ]
  },
  {
   "cell_type": "code",
   "execution_count": null,
   "metadata": {
    "jupyter": {
     "source_hidden": true
    }
   },
   "outputs": [],
   "source": [
    "# 5. appel fonction de grouepement pour creer des idtronc pour uniquement voies de 1 à 3 et d'un autre coté pour toute les voies\n",
    "df_affectation, dico_erreur, lignes_traitees, lignes_non_traitees=regrouper_troncon(\n",
    "    list_id_ign, df_avec_rd_pt, carac_rd_pt,df2_chaussees,[])\n",
    "\n",
    "# 6. mise en forme et export\n",
    "gdf_rhv_groupe=gdf_rhv_filtre.merge(df_affectation, left_on='id_ign', right_on='id', how='left')\n",
    "gdf_rhv_groupe.to_file(r'D:\\temp\\Linearisation_BM\\C19SA0101\\C19SA0101\\Doc_travail\\Donnees_produites\\Donnees\\rhv_grp_v2.shp')\n",
    "#gdf_rhv_groupe_123=gdf_rhv_filtre.merge(df_affectation, left_on='id_ign', right_on='id', how='left')\n",
    "#gdf_rhv_groupe_123.to_file(r'D:\\temp\\Linearisation_BM\\C19SA0101\\C19SA0101\\Doc_travail\\Donnees_produites\\Donnees\\gdf_rhv_groupe_123.shp')"
   ]
  },
  {
   "cell_type": "markdown",
   "metadata": {},
   "source": [
    "## 1. MISE EN FORME DES COMPTAGES PONCTUELS\n",
    "Pour ces comptages l'idée c'est de réussir à regrouper les comptages par un idtronc issu de la detection des troncon elementaire. ça a du sens car pour un comptage ponctuel normalement les 2 sens de cicru sont sur un troncon unique. DE plus, les ens circu, noms de voie et autres attributs permettant de regrouper les comptages sont de qualité trop variable pour s'appuyer uniquement dessus. et enfin, peu de 2*2 vois sont meusrés"
   ]
  },
  {
   "cell_type": "code",
   "execution_count": 15,
   "metadata": {},
   "outputs": [],
   "source": [
    "affect_finale,cpt_pct_l93=Cpt.traitements_bdxm_pct(r'C:\\Users\\martin.schoreisz\\Documents\\AffairesEnCours\\Linearisation_BM\\C19SA0101\\Doc_travail\\Donnees_source\\Bdx-Metro\\comptages\\base_comptages_routiers_finale.xlsx',gdf_rhv_groupe)"
   ]
  },
  {
   "cell_type": "markdown",
   "metadata": {},
   "source": [
    "## 2. MISE EN FORME DES COMPTAGES PERMANENTS\n",
    "Pour ces compteurs on va regrouper en séparant les siredo des boucles liées au système gertrude. Pour les siredo pas de pb, pour les autre sc'est plus compliqué car les références de localiusation varient parfois. Il y a donc une phase de regroupement manuel à la fin"
   ]
  },
  {
   "cell_type": "markdown",
   "metadata": {},
   "source": [
    "> ### 2.1 Import du fichier final"
   ]
  },
  {
   "cell_type": "code",
   "execution_count": 16,
   "metadata": {},
   "outputs": [],
   "source": [
    "#import fichier corrige_final\n",
    "cpt_perm_final=gp.read_file(r'C:\\Users\\martin.schoreisz\\Documents\\AffairesEnCours\\Linearisation_BM\\C19SA0101\\Doc_travail\\Donnees_produites\\Donnees\\cpt_perm_groupe.shp')"
   ]
  },
  {
   "cell_type": "markdown",
   "metadata": {},
   "source": [
    "> ### 2.1 Méthode\n",
    "Pour info"
   ]
  },
  {
   "cell_type": "code",
   "execution_count": null,
   "metadata": {
    "jupyter": {
     "source_hidden": true
    }
   },
   "outputs": [],
   "source": [
    "#creer un gdf avec la fusion des points et des données de comptages non nulles\n",
    "cpt_brut=pd.read_excel(r'D:\\temp\\Linearisation_BM\\C19SA0101\\C19SA0101\\Doc_travail\\Donnees_source\\Bdx-Metro\\comptages\\comptage_trafic_final.xls')\n",
    "cpt_brut.columns=[a.lower() for a in cpt_brut.columns]\n",
    "cpt_brut=cpt_brut.loc[~cpt_brut.mjo_val.isna()].copy()\n",
    "pt_cpt_perm=gp.read_file(r'D:\\temp\\Linearisation_BM\\C19SA0101\\C19SA0101\\Doc_travail\\Donnees_source\\Bdx-Metro\\comptages\\PC_CAPTE_P.shp')\n",
    "pt_cpt_perm.columns=[a.lower() for a in pt_cpt_perm.columns]\n",
    "pt_cpt_perm=pt_cpt_perm.merge(cpt_brut, on='ident')\n",
    "pt_cpt_perm['nom_voie']=pt_cpt_perm.nom_voie.apply(lambda x : re.sub(('é|è|ê'),'e',x.lower().replace('  ',' ')))#mise en forme nom de voie\n",
    "\n",
    "#regrouper les comptages\n",
    "#un compteur peut caracteriser 1 ligne, ou 2 compteur 1 ligne ou 2 compteurs 2 lignes, dc les compteurs ne vont pas toujours par deux\n",
    "\n",
    "#regrouper geographiquement\n",
    "pt_cpt_perm['x_l93']=pt_cpt_perm.geometry.apply(lambda x : x.x)\n",
    "pt_cpt_perm['y_l93']=pt_cpt_perm.geometry.apply(lambda x : x.y)\n",
    "data_test_clust=[[x, y] for x, y in zip(pt_cpt_perm.x_l93.tolist(), pt_cpt_perm.y_l93.tolist())]\n",
    "db = DBSCAN(eps=200, min_samples=2).fit(data_test_clust)\n",
    "labels = db.labels_\n",
    "pt_cpt_perm['n_cluster']=labels\n",
    "\n",
    "#correspondance nom_rue\n",
    "#analyser les noms de commune : \n",
    "#grp_nom_voie.nom_voie.apply(lambda x : x.split()[0]).unique()#liste des permiers mots\n",
    "#grp_nom_voie.loc[grp_nom_voie.nom_voie.apply(lambda x : x.split()[0]=='carbon')].nom_voie.unique() #test des valeusr\n",
    "dico_commune={'le bouscat','le haillan','bordeaux','pessac','talence', 'merignac','st medard','carbon blanc',\n",
    "       'begles', 'eysines','villenave d\\'ornon','bruges','gradignan','bassens','cenon','floirac','pessa','lormont', 'artigues'}\n",
    "dico_type_voie={'allee' : ['all.','allee', 'allees'],'avenue': ['av', 'av.', 'avenue'], 'boulevard' : ['blvd'],\n",
    "               'bretelle' : 'bretelle', 'cours' : ['crs','cours'], 'cote' : ['côte'], 'place':['pl'], 'route':['route', 'rte'],'rue':['rue'],\n",
    "               'voie':['voie']}\n",
    "def decoupe_nom_voie(nom_voie) : \n",
    "    for c in dico_commune : \n",
    "        if nom_voie[:len(c)]==c :\n",
    "            commune=nom_voie[:len(c)]\n",
    "            nom_voie=nom_voie[len(c):].strip()\n",
    "    for k, v in dico_type_voie.items() : \n",
    "        if any([a for a in nom_voie.split() if a in v])  : \n",
    "            caractere=[a for a in nom_voie.split() if a in v][0]\n",
    "            type_voie=k\n",
    "            nom_voie=' '.join([n for n in nom_voie.split() if n!=caractere])\n",
    "            break\n",
    "    else : type_voie=None\n",
    "    for test in ['avant','apres'] :\n",
    "        if test in nom_voie : \n",
    "            return nom_voie.split(test)[0].strip(), test,nom_voie.split(test)[1].strip(), commune, type_voie\n",
    "    else : return nom_voie, nom_voie,nom_voie,commune,type_voie\n",
    "\n",
    "pt_cpt_perm['nom_rue']=pt_cpt_perm.nom_voie.apply(lambda x : decoupe_nom_voie(x)[0])\n",
    "pt_cpt_perm['localisant']=pt_cpt_perm.nom_voie.apply(lambda x : decoupe_nom_voie(x)[1])\n",
    "pt_cpt_perm['rue_refer']=pt_cpt_perm.nom_voie.apply(lambda x : decoupe_nom_voie(x)[2])\n",
    "pt_cpt_perm['commune']=pt_cpt_perm.nom_voie.apply(lambda x : decoupe_nom_voie(x)[3])\n",
    "pt_cpt_perm['type_voie']=pt_cpt_perm.nom_voie.apply(lambda x : decoupe_nom_voie(x)[4])\n",
    "pt_cpt_perm.to_file(r'D:\\temp\\Linearisation_BM\\C19SA0101\\C19SA0101\\Doc_travail\\Donnees_produites\\Donnees\\pt_cpt_perm.shp')"
   ]
  },
  {
   "cell_type": "markdown",
   "metadata": {},
   "source": [
    ">>#### 2.2.1 SIREDO"
   ]
  },
  {
   "cell_type": "code",
   "execution_count": null,
   "metadata": {
    "jupyter": {
     "source_hidden": true
    }
   },
   "outputs": [],
   "source": [
    "siredo=pt_cpt_perm.loc[pt_cpt_perm['type']=='SIREDO'].copy()#isoler siredo\n",
    "cross_join=siredo.assign(key=1).merge(siredo.assign(key=1), on='key').drop('key',axis=1)#calcul des distances\n",
    "cross_join['distance']=cross_join.apply(lambda x : x['geometry_x'].distance(x['geometry_y']),axis=1)\n",
    "cross_join_filtre=cross_join[[c for c in cross_join.columns if c[-2:]=='_x']+['distance','ident_y']].rename(columns=\n",
    "              {c : c[:-2] for c in cross_join.columns if c[-2:]=='_x'}).copy()#filtre des attribut\n",
    "cross_join_filtre=cross_join_filtre.loc[(cross_join_filtre['ident']!=cross_join_filtre['ident_y'])].copy()\n",
    "siredo_proches=cross_join_filtre.loc[(cross_join_filtre.groupby('ident')['distance'].transform(min)==\n",
    "                                      cross_join_filtre['distance'])].copy()#plus proche voisin\n",
    "siredo_proches['id_grpsiredo']=siredo_proches.reset_index().index\n",
    "id_siredo_proches=(pd.concat([siredo_proches[['ident','ident_y', 'id_grpsiredo']],\n",
    "           siredo_proches[['ident_y','ident', 'id_grpsiredo']].rename(columns={\n",
    "    'ident_y':'ident', 'ident':'ident_y'})],sort=False).sort_values('ident').\n",
    "    reset_index().drop_duplicates('index').drop_duplicates(['ident','ident_y']).drop('index',axis=1))\n",
    "cle_assoc_siredo=pd.concat([id_siredo_proches[['ident','id_grpsiredo']],id_siredo_proches[['ident_y','id_grpsiredo']].rename(columns={\n",
    "    'ident_y':'ident'})]).sort_values('id_grpsiredo')"
   ]
  },
  {
   "cell_type": "markdown",
   "metadata": {},
   "source": [
    ">>#### 2.2.2 Gertrude\n",
    "> au final ce n'est pas très efficace, et un renseignement des regroupement a la ain aurait été plus rapide. il sera important si de nouvelles stations sont posées de fournir de suite un identifiant de regroupement"
   ]
  },
  {
   "cell_type": "code",
   "execution_count": null,
   "metadata": {
    "jupyter": {
     "source_hidden": true
    }
   },
   "outputs": [],
   "source": [
    "gertrude=pt_cpt_perm.loc[pt_cpt_perm['type']=='BOUCLE'].copy()#isoler les boucles\n",
    "gertrude['x']=gertrude.geometry.apply(lambda x : x.x)\n",
    "gertrude['y']=gertrude.geometry.apply(lambda x : x.y)"
   ]
  },
  {
   "cell_type": "code",
   "execution_count": null,
   "metadata": {
    "jupyter": {
     "source_hidden": true
    }
   },
   "outputs": [],
   "source": [
    "#si c'est sur le mm idtronc on regroupe\n",
    "\n",
    "#rappatrier le numero d'id_tronc pour chaque comptage\n",
    "#trouver la distance min à chaque objet ligne\"du rhv groupe\n",
    "grp_troncon_temp=gertrude.copy()\n",
    "grp_troncon_temp.geometry=grp_troncon_temp.buffer(20)#passer la geom en buffer\n",
    "intersct_buff_20=gp.sjoin(grp_troncon_temp,gdf_rhv_groupe,how='left',op='intersects')\n",
    "intersct_buff_20.geometry=gertrude.geometry#repasser la geom en point\n",
    "intersct_buff_20=intersct_buff_20.merge(gdf_rhv_groupe[['ident','geometry']], left_on='ident_right', right_on='ident')\n",
    "intersct_buff_20['dist_pt_ligne']=intersct_buff_20.apply(lambda x : x['geometry_x'].distance(x['geometry_y']), axis=1) #définir la disance entre les points et ligne\n",
    "joint_dist_min=intersct_buff_20.loc[intersct_buff_20.groupby('ident_left')['dist_pt_ligne'].transform(min)==intersct_buff_20['dist_pt_ligne']][['ident_left','idtronc','numero']].rename(\n",
    "    columns={'ident_left':'ident'}).copy()#ne garder que la ligne la plus proche\n",
    "grp_troncon=gertrude.merge(joint_dist_min, on='ident',how='left')#df finale\n",
    "\n",
    "#regrouper\n",
    "grp_idtronc=grp_troncon.groupby('idtronc')['ident'].agg(lambda x : tuple(x))\n",
    "grp_idtronc=grp_idtronc.loc[grp_idtronc.apply(lambda x : len(x)>1)].reset_index().copy()\n",
    "grp_idtronc['id_grp']=grp_idtronc.ident.rank()\n",
    "#mettre en forme\n",
    "grp_idtronc=pd.DataFrame([(a,g) for i,g in zip(grp_idtronc.ident.tolist(),grp_idtronc.id_grp.tolist()) for a in i], columns=['ident','id_grp'])\n",
    "grp_final=grp_idtronc.copy()"
   ]
  },
  {
   "cell_type": "code",
   "execution_count": null,
   "metadata": {
    "jupyter": {
     "source_hidden": true
    }
   },
   "outputs": [],
   "source": [
    "# trouver les points qui restent et préparer un regrouepement par commune, nom de rue, distance et se,s\n",
    "\n",
    "#points qui restent\n",
    "gertrude_etape2=gertrude.loc[~gertrude['ident'].isin(grp_idtronc.ident.tolist())].copy()\n",
    "#comparer les noms\n",
    "cross_join=gertrude_etape2[['gid','geometry','ident','nom_voie', 'sens_cir','commune', 'nom_rue', 'localisant','rue_refer','type_voie']].assign(key=1).merge(\n",
    "    gertrude_etape2[['gid','geometry','ident','nom_voie', 'sens_cir','commune', 'nom_rue', 'localisant','rue_refer','type_voie']].assign(key=1), on='key').drop('key',axis=1)#calcul des distances\n",
    "cross_join['distance']=cross_join.apply(lambda x : x['geometry_x'].distance(x['geometry_y']),axis=1)\n",
    "cross_join['comp_nom_rue']=cross_join.apply(lambda x : SequenceMatcher(None,x['nom_rue_x'], x['nom_rue_y']).ratio(), axis=1)#affecter une note a cahque relation\n",
    "\n",
    "#vérifier que les sens de cicru sont cohérents et ne garder que les lignes avec un sens ok, un nom de voie proche et une distance proche\n",
    "gertrude_join=cross_join.loc[(cross_join['comp_nom_rue']>0.6) & (cross_join['distance']<1000) & (cross_join['commune_x']==cross_join['commune_y']) & \n",
    "                             (cross_join['type_voie_x']==cross_join['type_voie_y'])].copy()\n",
    "#on ajoute un attribut de verif du sens\n",
    "def verif_sens(s1,s2) : \n",
    "    for sens in [['Sens Sortant', 'Sens Entrant'],['Sens N > S', 'Sens S > N'], ['Sens Nord > Sud', 'Sens Sud > Nord'],['Nord > Sud', 'Sud > Nord'],\n",
    "                ['Boulevards Nord > Sud', 'Boulevards Sud > Nord']] :\n",
    "        if s1 in sens and s2 in sens : \n",
    "            if s1!=s2 : \n",
    "                return True\n",
    "        else : \n",
    "            continue\n",
    "    return False\n",
    "gertrude_join['valid_sens']=gertrude_join.apply(lambda x : verif_sens(x['sens_cir_x'],x['sens_cir_y']),axis=1)  \n",
    "gertrude_join['id_grp']=gertrude_join.sort_values('ident_x').ident_x.rank(method=\"min\")\n",
    "gertrude_grp=gertrude_join.loc[gertrude_join['valid_sens']][['ident_x','ident_y','distance', 'comp_nom_rue', 'valid_sens','id_grp']].sort_values('ident_x')"
   ]
  },
  {
   "cell_type": "code",
   "execution_count": null,
   "metadata": {
    "jupyter": {
     "source_hidden": true
    }
   },
   "outputs": [],
   "source": [
    "#obtenir une liste des ident qui se regroupent\n",
    "list_id_grp=pd.concat([gertrude_grp[['ident_x','id_grp']],gertrude_grp[['ident_y','id_grp']].rename(columns={'ident_y' : 'ident_x'})]).drop_duplicates([\n",
    "    'ident_x','id_grp']).groupby('id_grp').ident_x.agg(lambda x : set(sorted(tuple(x)))).tolist()\n",
    "dico={}\n",
    "for e,c in enumerate(gertrude_grp.ident_x.tolist()) : \n",
    "    for l in list_id_grp : \n",
    "        if c in l :\n",
    "            #print('c dans l','c : ',c,'l :',l)\n",
    "            if c not in dico.keys() :\n",
    "                dico[c]=list(l)\n",
    "            else : \n",
    "                dico[c]+=list(l)\n",
    "list_id_grp_temp=set([ v for v in {k : tuple(set(sorted(dico[k]))) for k in dico.keys()}.values()])\n",
    "list_id_grp_final=set(v for v in {c :b for c in gertrude_grp.ident_x.tolist() \n",
    " for b in [a for a in list_id_grp_temp if c in a] \n",
    " if len(b) == max([len(c) for c in [a for a in list_id_grp_temp if c in a]])}.values())"
   ]
  },
  {
   "cell_type": "code",
   "execution_count": null,
   "metadata": {
    "jupyter": {
     "source_hidden": true
    }
   },
   "outputs": [],
   "source": [
    "#affecter un identifiant\n",
    "def groupe_pt_gertrude_etape2(df_local) : \n",
    "    \"\"\"\n",
    "    regrouper les points à partir d'une liste d'ident selon l'ordre d'apparition \n",
    "    \"\"\"\n",
    "    limite_box=MultiPoint([(a.x,a.y) for a in df_local.itertuples()]).bounds\n",
    "    plg_long, plg_larg=limite_box[2]-limite_box[0],limite_box[3]-limite_box[1]\n",
    "    if max(plg_long,plg_larg)==plg_long : \n",
    "        df_local['next_sens']=df_local.sort_values('x').sens_cir.shift(-1,fill_value='NC')\n",
    "        df_local['prev_sens']=df_local.sort_values('x').sens_cir.shift(1,fill_value='NC')\n",
    "    else : \n",
    "        df_local['next_sens']=df_local.sort_values('y').sens_cir.shift(-1,fill_value='NC')\n",
    "        df_local['prev_sens']=df_local.sort_values('y').sens_cir.shift(1,fill_value='NC')\n",
    "    df_local['sens_comp']=df_local.apply(lambda x : x.prev_sens if x.next_sens=='NC' else x.next_sens,axis=1)\n",
    "    df_local['verif_sens']=df_local.apply(lambda x : verif_sens(x['sens_cir'],x['sens_comp']),axis=1)\n",
    "    df_local['id_grp']=-99\n",
    "    i=0\n",
    "    while i < len(df_local)-1:\n",
    "        if df_local.iloc[i].verif_sens : \n",
    "            df_local.loc[df_local.index.isin(df_local.iloc[i:i+2].index.tolist()),'id_grp']=i\n",
    "            i+=2\n",
    "        else : \n",
    "            i+=1\n",
    "    return\n",
    "\n",
    "# à partior de la liste des ident groupé : \n",
    "grp_final2=grp_final.copy()\n",
    "# on selectionne ces points dans la df\n",
    "increment=grp_final2.id_grp.max()\n",
    "for l in list_id_grp_final : \n",
    "    #if 'Z8CT13' not in l : continue\n",
    "    df_local=gertrude_etape2.loc[gertrude_etape2.ident.isin(l)].copy()\n",
    "    if len(df_local)==1:\n",
    "        continue\n",
    "    if len(df_local)==2 : \n",
    "        if (gertrude_join.loc[(gertrude_join.ident_x.isin(l)) & (gertrude_join['ident_x'] != gertrude_join['ident_y'])].valid_sens).all() : \n",
    "            increment+=1\n",
    "            df_local['id_grp']=increment\n",
    "            grp_final2=pd.concat([grp_final2,df_local[['ident','id_grp']]],sort=False)\n",
    "    else :\n",
    "        groupe_pt_gertrude_etape2(df_local)\n",
    "        increment+=grp_final2.id_grp.max()\n",
    "        df_local.loc[df_local['id_grp']!=-99,'id_grp']=df_local['id_grp']+increment\n",
    "        grp_final2=pd.concat([df_local[['ident','id_grp']],grp_final2],sort=False)"
   ]
  },
  {
   "cell_type": "code",
   "execution_count": null,
   "metadata": {
    "jupyter": {
     "source_hidden": true
    }
   },
   "outputs": [],
   "source": [
    "#rappatrier l'id_grp sur les données de base et export pour modif manuelle\n",
    "gertrude.merge(grp_final2, on='ident',how='left').to_file(r'D:\\temp\\Linearisation_BM\\C19SA0101\\C19SA0101\\Doc_travail\\Donnees_produites\\Donnees\\gertrude.shp')\n",
    "\n",
    "#import des modifs manuelles et mise en forme finale\n",
    "gertrude_manu=gp.read_file(r'D:\\temp\\Linearisation_BM\\C19SA0101\\C19SA0101\\Doc_travail\\Donnees_produites\\Donnees\\gertrude.shp')\n",
    "gertrude_manu.loc[(gertrude_manu.id_grp.isna()) | (gertrude_manu.id_grp==-99),'id_grp']=gertrude_manu.loc[(gertrude_manu.id_grp.isna()) | (gertrude_manu.id_grp==-99),'id_grp'].reset_index().index + gertrude_manu.id_grp.max()\n",
    "gertrude_manu.loc[gertrude_manu.type_grp.isnull(),'type_grp']='auto'\n",
    "#export pour dernière modif manuelle\n",
    "gertrude_manu.to_file(r'D:\\temp\\Linearisation_BM\\C19SA0101\\C19SA0101\\Doc_travail\\Donnees_produites\\Donnees\\gertrude_final.shp')\n",
    "\n",
    "#fichier final\n",
    "gertrude_fin=gp.read_file(r'D:\\temp\\Linearisation_BM\\C19SA0101\\C19SA0101\\Doc_travail\\Donnees_produites\\Donnees\\gertrude_final.shp')\n",
    "#concat avec les siredo\n",
    "cle_assoc_siredo['id_grpsiredo']=cle_assoc_siredo['id_grpsiredo']+gertrude_fin.id_grp.max()\n",
    "cpt_perm_final=pd.concat([gertrude_fin,siredo.merge(cle_assoc_siredo, on='ident').rename(columns={'id_grpsiredo':'id_grp'})],axis=0, sort=False)\n",
    "cpt_perm_final.to_file(r'D:\\temp\\Linearisation_BM\\C19SA0101\\C19SA0101\\Doc_travail\\Donnees_produites\\Donnees\\cpt_perm_groupe.shp')"
   ]
  },
  {
   "cell_type": "markdown",
   "metadata": {},
   "source": [
    "# 3. Affecter du trafic au filaire de voie"
   ]
  },
  {
   "cell_type": "markdown",
   "metadata": {},
   "source": [
    "> ### On commence par affecter le trafic aux troncons des catégories 1,2,3 à partirdes comptages permanents.<br> Pour le détail des fonctions cf module Affectation_pt_comptage"
   ]
  },
  {
   "cell_type": "code",
   "execution_count": 155,
   "metadata": {},
   "outputs": [],
   "source": [
    "gdf_rhv_cpt_perm_123,lgn_proche_perm=ap.affectation_cpt_perm(cpt_perm_final,gdf_rhv_groupe,gdf_rhv_groupe_123,10)\n",
    "#ap.export_cpt_perm_linearises(gdf_rhv_cpt_perm_123,r'D:\\temp\\Linearisation_BM\\C19SA0101\\C19SA0101\\Doc_travail\\Donnees_produites\\Donnees\\gdf_rhv_trafic_123_cpt_perm.shp')"
   ]
  },
  {
   "cell_type": "markdown",
   "metadata": {},
   "source": [
    "> ### ensuite les comptages ponctuels"
   ]
  },
  {
   "cell_type": "code",
   "execution_count": null,
   "metadata": {},
   "outputs": [],
   "source": [
    "#affectation des comptages ponctuels et exports\n",
    "gdf_traf_tot=ap.affectation_cpt_ponct(cpt_pct_l93, affect_finale, lgn_proche_perm, gdf_rhv_groupe, 10, gdf_rhv_groupe_123, gdf_rhv_cpt_perm_123)\n",
    "#ap.export_cpt_ponct_linearises(gdf_traf_tot,r'D:\\temp\\Linearisation_BM\\C19SA0101\\C19SA0101\\Doc_travail\\Donnees_produites\\Donnees\\gdf_rhv_trafic_123_cpt_perm-ponct.shp')"
   ]
  },
  {
   "cell_type": "markdown",
   "metadata": {},
   "source": [
    "## 2. MMM\n",
    "En premier lieu il faut mettre à jour les attributs en renomant de façon explicite puis en faisant la somme des 2 sens de circulation pour les voies doucble sens cf module MMM"
   ]
  },
  {
   "cell_type": "code",
   "execution_count": null,
   "metadata": {
    "jupyter": {
     "source_hidden": true
    }
   },
   "outputs": [],
   "source": [
    "fichier_src_simpl=gp.read_file(r'D:\\temp\\Linearisation_BM\\C19SA0101\\C19SA0101\\Doc_travail\\Donnees_source\\MMM\\MMM_Maj_EDA2017\\simplifie\\MMM_simple_2019.shp')"
   ]
  },
  {
   "cell_type": "code",
   "execution_count": null,
   "metadata": {
    "jupyter": {
     "source_hidden": true
    }
   },
   "outputs": [],
   "source": [
    "#creer graph et importer \n",
    "creer_graph(fichier_src_simpl, 'local_otv',id_name='NO', schema='linearisation_bm', table='mmm_graph_2019', table_vertex='mmm_graph_2019_vertices_pgr')"
   ]
  },
  {
   "cell_type": "code",
   "execution_count": null,
   "metadata": {
    "jupyter": {
     "source_hidden": true
    }
   },
   "outputs": [],
   "source": [
    "#importer le graph\n",
    "with ct.ConnexionBdd('local_otv') as c :\n",
    "    graph_mmm_filaire = gp.read_postgis('select * from linearisation_bm.mmm_graph_2019', c.connexionPsy)\n",
    "    graph_mmm_filaire_vertex = gp.read_postgis('select * from linearisation_bm.mmm_graph_2019_vertices_pgr', c.connexionPsy,geom_col='the_geom')"
   ]
  },
  {
   "cell_type": "code",
   "execution_count": null,
   "metadata": {},
   "outputs": [],
   "source": [
    "#importer les fichiers finaux\n",
    "mmm_simple,cle_mmm_rhv=import_fichiers_mmm(r'D:\\temp\\Linearisation_BM\\C19SA0101\\C19SA0101\\Doc_travail\\Donnees_source\\MMM\\MMM_Maj_EDA2017\\simplifie\\MMM_simple_2019.shp',\n",
    "                                            r'D:\\temp\\Linearisation_BM\\C19SA0101\\C19SA0101\\Doc_travail\\Donnees_produites\\Donnees\\appariementV0.shp')"
   ]
  },
  {
   "cell_type": "markdown",
   "metadata": {},
   "source": [
    "# Affecter du trafic aux voies non connues"
   ]
  },
  {
   "cell_type": "code",
   "execution_count": null,
   "metadata": {},
   "outputs": [],
   "source": [
    "# METHODE A UTILISER\n",
    "gdf_base=gdf_traf_tot.copy()\n",
    "lgn_rdpt, dico_noeud, gdf_rhv_rdpt_simple=donnees_tot_rd_pt(gdf_base, 'local_otv','linearisation_bm', 'graph_rhv_123_v2','graph_rhv_123_v2_vertices_pgr')\n",
    "gdf_rhv_rdpt_simple5=gdf_rhv_rdpt_simple.copy()\n",
    "\n",
    "et.calculer_trafic_3voies(gdf_base,gdf_rhv_rdpt_simple5,lgn_rdpt,graph_filaire_123_vertex)\n",
    "\n",
    "gdf_calcul=gdf_base.copy()\n",
    "gdf_rhv_rdpt_simple2=gdf_rhv_rdpt_simple5.copy()\n",
    "et.calculer_trafic_mmm(gdf_calcul, gdf_rhv_rdpt_simple2,lgn_rdpt,graph_filaire_123_vertex,mmm_simple,cle_mmm_rhv,dico_noeud)"
   ]
  },
  {
   "cell_type": "code",
   "execution_count": null,
   "metadata": {
    "jupyter": {
     "source_hidden": true
    }
   },
   "outputs": [],
   "source": [
    "#EXPORT RESULTATS\n",
    "gdf_calcul['id_cpt_exp']=gdf_calcul['id_cpt_2_sens'].fillna('NC')\n",
    "gdf_calcul['id_cpt_exp']=gdf_calcul.apply(lambda x : ', '.join([str(a) for a in x['id_cpt_exp']]) \n",
    "                if isinstance(x['id_cpt_2_sens'],tuple) else str(x['id_cpt_2_sens']), axis=1)\n",
    "gdf_calcul.reset_index()[['id', 'ident', 'domanial', 'groupe', 'cat_dig', 'cat_rhv', 'passage',\n",
    "       'rggraph_nd', 'rggraph_na', 'rgraph_dbl', 'numero', 'cdate', 'mdate',\n",
    "       'id_ign', 'nature', 'sens', 'codevoie_d', 'importance', 'id_y','source', 'target',\n",
    "       'idtronc', 'geom','tmjo_2_sens','type_cpt', 'id_cpt_exp']].to_file(r'D:\\temp\\Linearisation_BM\\C19SA0101\\C19SA0101\\Doc_travail\\Donnees_produites\\Donnees\\gdf_rhv_trafic_123_calcul_mmm_v6.shp')"
   ]
  },
  {
   "cell_type": "code",
   "execution_count": null,
   "metadata": {
    "jupyter": {
     "source_hidden": true
    }
   },
   "outputs": [],
   "source": [
    "# POUR TEST SUR UN NOEUD UNIQUEMNET METHODE 3 VOIES\n",
    "gdf_base2=gdf_traf_tot.copy()\n",
    "gdf_rhv_rdpt_simple3=gdf_rhv_rdpt_simple.copy()\n",
    "#remplacement des sources et targets : \n",
    "simplifier_noeud_rdpt(gdf_rhv_rdpt_simple3, dico_noeud)\n",
    "#puis recalculer le count du nb de ligne par noeud (en otant les lignes qui font les rdpoints)\n",
    "df_noeuds,liste_noeud_estim=et.noeuds_estimables(gdf_rhv_rdpt_simple3)[2:4]\n",
    "liste_noeud_traite=[]\n",
    "liste_noeud_mmm=[]\n",
    "dico_erreur={}\n",
    "num_noeud=2082\n",
    "gdf_rhv_rdpt_simple3=verif_index(gdf_rhv_rdpt_simple3,'idtronc')#Îsi idtronc est en index on le repasse dans les colonnes\n",
    "\n",
    "df_troncon_noeud=et.carac_troncon_noeud(gdf_rhv_rdpt_simple3, gdf_base2, graph_filaire_123_vertex,num_noeud,df_noeuds,lgn_rdpt)\n",
    "  #si tous les trafics du noeud sont déjà renseignés on passe\n",
    "  #determiner si on est dans le cas d'une voie pouvant etre estimée par calcul (3 troncon dont 1 seul manquant) ou par analogie avec le MMM\n",
    "et.maj_trafic_3tronc(df_troncon_noeud)\n",
    "df_update_traf=df_troncon_noeud[['idtronc','tmjo_2_sens','type_cpt']].set_index('idtronc').drop_duplicates()\n",
    "df_update_traf.update(pd.DataFrame.from_records(dico_corection_calcul_3_voies, columns=['idtronc','tmjo_2_sens', 'type_cpt']).set_index('idtronc').fillna('NC'))"
   ]
  },
  {
   "cell_type": "code",
   "execution_count": null,
   "metadata": {
    "jupyter": {
     "source_hidden": true
    }
   },
   "outputs": [],
   "source": [
    "#TEST APPARtENANCE A UN ROND POINT\n",
    "for a in [9314,6404,6403, 8206, 9315] : \n",
    "    if a in df_noeuds.noeud.tolist() : \n",
    "        print(a)"
   ]
  },
  {
   "cell_type": "code",
   "execution_count": null,
   "metadata": {
    "jupyter": {
     "source_hidden": true
    }
   },
   "outputs": [],
   "source": [
    "# POUR TEST SUR UN NOEUD UNIQUEMNET METHODE MMM\n",
    "gdf_test=gdf_base.copy()\n",
    "df_noeuds,liste_noeud_estim=et.noeuds_estimables(gdf_rhv_rdpt_simple5)[2:4]\n",
    "num_noeud=1002\n",
    "dico_erreur={}\n",
    "df_troncon_noeud=et.carac_troncon_noeud(gdf_rhv_rdpt_simple5, gdf_test, graph_filaire_123_vertex,num_noeud,df_noeuds,lgn_rdpt)\n",
    "dico_troncons_noeud=et.creer_dico_troncons_noeud(df_troncon_noeud,gdf_rhv_rdpt_simple5,gdf_base,lgn_rdpt,graph_filaire_123_vertex )\n",
    "matrice_rhv=et.matrice_troncon_noeud_rhv(df_troncon_noeud,num_noeud,lgn_rdpt,dico_troncons_noeud) \n",
    "try :\n",
    "    joint_fv_mmm_e2=et.estim_mmm_jointure_voies(matrice_rhv,cle_mmm_rhv)\n",
    "except et.PasCorrespondanceError : \n",
    "    dico_erreur[num_noeud]='PasCorrespondanceError'\n",
    "    df_noeuds,liste_noeud_estim=et.noeuds_estimables(gdf_rhv_rdpt_simple5)[2:4]\n",
    "    liste_noeud_estim=[n for n in liste_noeud_estim if n not in liste_noeud_traite]\n",
    "try :\n",
    "    trafic_inconnus_prior_cat=et.isoler_trafic_inconnu(joint_fv_mmm_e2)\n",
    "except et.PasDeTraficInconnuError: \n",
    "    dico_erreur[num_noeud]='PasDeTraficInconnuError' \n",
    "    df_noeuds,liste_noeud_estim=et.noeuds_estimables(gdf_rhv_rdpt_simple5)[2:4]\n",
    "    liste_noeud_estim=[n for n in liste_noeud_estim if n not in liste_noeud_traite]\n",
    "try :\n",
    "    trafc_rens=et.trafic_mmm(gdf_test,trafic_inconnus_prior_cat,mmm_simple,cle_mmm_rhv, df_troncon_noeud,dico_troncons_noeud,lgn_rdpt,dico_noeud,num_noeud)\n",
    "    df_update_traf=et.calcul_trafic_rhv_depuisMMM(trafc_rens).set_index('idtronc').rename(columns={'tmjo_2_sens_extrapol':'tmjo_2_sens'})\n",
    "except et.PasDeTraficError as e: \n",
    "    dico_erreur[num_noeud]=e \n",
    "    df_noeuds,liste_noeud_estim=et.noeuds_estimables(gdf_rhv_rdpt_simple5)[2:4]\n",
    "    liste_noeud_estim=[n for n in liste_noeud_estim if n not in liste_noeud_traite]"
   ]
  },
  {
   "cell_type": "markdown",
   "metadata": {},
   "source": [
    "# Voies catégorie 4"
   ]
  },
  {
   "cell_type": "markdown",
   "metadata": {},
   "source": [
    "## Affectation comptages ponctuels\n",
    "> Normalement les comptages ponctuels sont deja assignes aux idtronc relatifs au troncon elementaires toutes catégories. Il faut donc isoler les voies non contenues dans le regrouepement des cat 1,2,3"
   ]
  },
  {
   "cell_type": "code",
   "execution_count": 176,
   "metadata": {
    "jupyter": {
     "source_hidden": true
    }
   },
   "outputs": [],
   "source": [
    "rhv_grp_hors_123,affect_finale_cat4,cpt_perm_cat4=v4.isolerDonneesCat4(gdf_rhv_groupe,gdf_rhv_groupe_123, affect_finale,lgn_proche_perm)\n",
    "groupe_ident_cpt,cpt_cat4_uniq_sens_dbl,cat4_lgn_pb=v4.jointureTraficLigne(rhv_grp_hors_123,affect_finale_cat4,cpt_perm_cat4)\n",
    "rhv_grp_hors_123_traf=v4.calculTraficPointComptage(rhv_grp_hors_123,groupe_ident_cpt,cpt_cat4_uniq_sens_dbl,cat4_lgn_pb,[3094, 4687, 8724, 10025])"
   ]
  },
  {
   "cell_type": "code",
   "execution_count": null,
   "metadata": {
    "jupyter": {
     "source_hidden": true
    }
   },
   "outputs": [],
   "source": [
    "#fichier avec cat1,2,3 et comptage sur cat4\n",
    "gdf_traf_1234=pd.concat([rhv_grp_hors_123_traf.loc[~rhv_grp_hors_123_traf.tmjo_2_sens.isna()],gdf_calcul], axis=0, sort=False)"
   ]
  },
  {
   "cell_type": "code",
   "execution_count": null,
   "metadata": {
    "jupyter": {
     "source_hidden": true
    }
   },
   "outputs": [],
   "source": [
    "gdf_traf_1234.reset_index()[['id', 'ident', 'domanial', 'groupe', 'cat_dig', 'cat_rhv', 'passage',\n",
    "       'rggraph_nd', 'rggraph_na', 'rgraph_dbl', 'numero', 'cdate', 'mdate',\n",
    "       'id_ign', 'nature', 'sens', 'codevoie_d', 'importance', 'id_y','source', 'target',\n",
    "       'idtronc', 'geom','tmjo_2_sens','type_cpt', 'id_cpt_exp']].to_file(r'D:\\temp\\Linearisation_BM\\C19SA0101\\C19SA0101\\Doc_travail\\Donnees_produites\\Donnees\\gdf_rhv_trafic_1234_cpt.shp')"
   ]
  },
  {
   "cell_type": "markdown",
   "metadata": {},
   "source": [
    "## Affectation auto à partir du bati pour les habitants\n",
    "> L'idée c'est d'affecter un tmja a chaque troncon elementaire à partir du nb d'habitantassocier à la ligne la plus proche, puis de moduler ça selon le nb de déplcament motorisée lies au domicile. si apres on arrive aussi a ajouter les tmja pour les voies non reliees aux reseau de cat 1,2,3 c'est parfait"
   ]
  },
  {
   "cell_type": "code",
   "execution_count": 17,
   "metadata": {},
   "outputs": [],
   "source": [
    "#import des donnees\n",
    "gdf_traf_1234, voies_nc, bati,coreesp_bati2=v4.importDonneesBase(r'C:\\Users\\martin.schoreisz\\Documents\\AffairesEnCours\\Linearisation_BM\\C19SA0101\\Doc_travail\\Donnees_produites\\Donnees\\gdf_rhv_trafic_1234_cpt.shp',\n",
    "                                                                 r'C:\\Users\\martin.schoreisz\\Documents\\AffairesEnCours\\Linearisation_BM\\C19SA0101\\Doc_travail\\Donnees_produites\\Donnees\\voie_non_affectees.shp',\n",
    "                                                                 r'C:\\Users\\martin.schoreisz\\Documents\\AffairesEnCours\\Linearisation_BM\\C19SA0101\\Doc_travail\\Donnees_produites\\Donnees\\bati\\bati.shp',\n",
    "                                                                 r'C:\\Users\\martin.schoreisz\\Documents\\AffairesEnCours\\Linearisation_BM\\C19SA0101\\Doc_travail\\Donnees_produites\\Donnees\\bati\\ppv_bati-route_V2.csv')"
   ]
  },
  {
   "cell_type": "markdown",
   "metadata": {},
   "source": [
    "### Recherche des trajets les plus courts vers une voie au trafic connu\n",
    "> test sur un seul batiment  : 'BATIMENT0000000256067979'.<br> on va alimenter des listes de parcours : list des vertex à tester, list des ident parcouru,list des vertex parcouru"
   ]
  },
  {
   "cell_type": "markdown",
   "metadata": {},
   "source": [
    "> **Test : creation d'une classe ensemble de trajet**<br>\n",
    ">>doit permettre : \n",
    "* de verifier le statut de tous les trajets. method : verif_statut_trajets()\n",
    "* de calculer tous les trajets. method : calcul_trajets()\n",
    "* trouver les trajets non finis. method : trajets_en_cours()\n",
    "* creer des nouveaux trajets. method : creer_trajet()\n",
    "* trouver les lignes a ajouter aux trakets en cours. method : trouver_nouvelles_lignes()\n",
    "* ajouter une ligne à un trajet existant. method : ajouter_ligne.<br> \n",
    "\n",
    ">>Se base sur : \n",
    "* lignes depart\n",
    "* ensemble de lignes\n",
    "* vertex connus\n",
    "* vertex_impasse"
   ]
  },
  {
   "cell_type": "code",
   "execution_count": 271,
   "metadata": {},
   "outputs": [],
   "source": [
    "#recuperer les donnees necessaire a la recherche du trajet le plus rapide vers un point non connu\n",
    "bati_ligne_proche=v4.definitionVariablesBati(gdf_rhv_groupe,gdf_traf_1234, bati,coreesp_bati2)\n",
    "ensemble_lignes,vertex_connus, vertex_impasse=v4.definitionVariablesVoies(graph_filaire,gdf_traf_1234, voies_nc )"
   ]
  },
  {
   "cell_type": "code",
   "execution_count": 8,
   "metadata": {
    "jupyter": {
     "source_hidden": true
    }
   },
   "outputs": [
    {
     "name": "stdout",
     "output_type": "stream",
     "text": [
      "Wall time: 10.7 s\n"
     ]
    },
    {
     "data": {
      "text/plain": [
       "('24279', '14826', '51783', '51782')"
      ]
     },
     "execution_count": 8,
     "metadata": {},
     "output_type": "execute_result"
    }
   ],
   "source": [
    "%%time\n",
    "#test sur une ligne\n",
    "#il peut y avoir des erreurs dans le rhv, comme par exemple l'ident 14844 qui ne touche pas le 24285\n",
    "ident_proche_bati=str(bati_ligne_proche.loc[bati_ligne_proche['ID']=='BATIMENT0000000257801129'].ident.to_numpy()[0])#risque si ident pas trouver d'IndexError\n",
    "point_depart=bati_ligne_proche.loc[bati_ligne_proche['ID']=='BATIMENT0000000257801129'].point_proche.values[0]\n",
    "trajets=v4.ensemble_trajet(ident_proche_bati,point_depart,ensemble_lignes, vertex_connus, vertex_impasse, graph_filaire_vertex)\n",
    "trajets.initialiser_trajets() \n",
    "trajets.allonger_trajet()\n",
    "trajets.creer_df_tt_trajet()\n",
    "trajets.filtrer_df_tt_trajet()\n",
    "trajets.trajet_court=tuple(trajets.df_trajet_cat3_grp_OD.loc[trajets.df_trajet_cat3_grp_OD.longueur_tot==trajets.df_trajet_cat3_grp_OD.longueur_tot.min()].lignes.to_numpy()[0])\n",
    "trajets.point_arrive=trajets.df_trajet_cat3_grp_OD.loc[trajets.df_trajet_cat3_grp_OD.longueur_tot==trajets.df_trajet_cat3_grp_OD.longueur_tot.min()].points.to_numpy()[0][-1]\n",
    "#RESULTATS (cf module et attributs)\n",
    "trajets.trajet_court\n",
    "#trajets.df_tt_trajet"
   ]
  },
  {
   "cell_type": "code",
   "execution_count": null,
   "metadata": {
    "jupyter": {
     "source_hidden": true
    }
   },
   "outputs": [],
   "source": [
    "#mise en oeuvre\n",
    "#resultat=r_tot.copy()\n",
    "resultat=pd.DataFrame({'bati':[], 'ident':[], 'noeud_proche':[],'trajet_court':[],'comm':[], 'noeud_cat3':[]})\n",
    "#dico_df_tt_trajet=d_tot\n",
    "dico_df_tt_trajet={}\n",
    "#i=r_tot.index.max()+1\n",
    "i=0\n",
    "liste_bati_erreur=[]\n",
    "for e,b in enumerate(bati_ligne_proche['ID'].tolist()) : \n",
    "    if e%100==0 and e!=0:\n",
    "        print(f'nb bati traite : {e}, {datetime.now()},{b}')\n",
    "    try : #recuperer l'ident pres du bati a traiter, si pas d'ident, on continue\n",
    "        ident_proche_bati=str(bati_ligne_proche.loc[bati_ligne_proche['ID']==b].ident.to_numpy()[0])#risque si ident pas trouver d'IndexError\n",
    "    except IndexError : \n",
    "        liste_bati_erreur.append(b)\n",
    "        continue\n",
    "    if ensemble_lignes.loc[ensemble_lignes['ident']==ident_proche_bati].empty : #si l'ident du rhv proche du bati n'est pas dans la liste, on indique et on continue\n",
    "        resultat.loc[i]=[b,ident_proche_bati,np.NaN,np.NaN,'pas ident proche dans voies nc',np.NaN]\n",
    "        i+=1\n",
    "        continue\n",
    "    point_depart=bati_ligne_proche.loc[bati_ligne_proche['ID']==b].point_proche.values[0]\n",
    "    trajets=v4.ensemble_trajet(ident_proche_bati,point_depart,ensemble_lignes, vertex_connus, vertex_impasse, graph_filaire_vertex)\n",
    "    noeud_proche=trajets.noeud_proche\n",
    "    if ident_proche_bati in resultat.ident.tolist() : #si la ligne a deja ete traite avec un autre batiment\n",
    "        df_find_existant=resultat.loc[(resultat['ident']==ident_proche_bati) & (resultat['noeud_proche']==noeud_proche)] # si le noeud le plus proche est le mm que celui dun bati precedent, on ne fait que recuperer les donnees calculees car on est dans le mm cas\n",
    "        if not df_find_existant.empty:\n",
    "            resultat.loc[i]=[b,ident_proche_bati,noeud_proche,df_find_existant.trajet_court.values[0], 'Deduction_trajet-ident connu_noeud_proche connu',df_find_existant.noeud_cat3.values[0]]\n",
    "            i+=1\n",
    "        else : #sinon on deroule le processus\n",
    "            trajets.df_trajet_cat3_grp_OD=dico_df_tt_trajet[ident_proche_bati]\n",
    "            trajets.maj_longueur_tot(trajets.df_trajet_cat3_grp_OD)\n",
    "            df_finale=trajets.df_trajet_cat3_grp_OD.loc[trajets.df_trajet_cat3_grp_OD.longueur_tot==trajets.df_trajet_cat3_grp_OD.longueur_tot.min()]\n",
    "            resultat.loc[i]=[b,ident_proche_bati,noeud_proche,tuple(df_finale.lignes.to_numpy()[0]), 'Deduction_trajet-ident connu_noeud_proche varie',df_finale.points.to_numpy()[0][-1]]\n",
    "            i+=1\n",
    "    elif ident_proche_bati in [b for a in resultat.loc[~resultat['trajet_court'].isna()].trajet_court.to_numpy() for b in a] : #si l'ident est sur un chemin deja traite\n",
    "        resultat_equi=resultat.loc[resultat.trajet_court.apply(lambda x : ident_proche_bati in x if isinstance(x,tuple) else False)].iloc[0]\n",
    "        trajet_equi=resultat_equi.trajet_court\n",
    "        trajet_court=trajet_equi[trajet_equi.index(ident_proche_bati):] \n",
    "        resultat.loc[i]=[b,ident_proche_bati,trajets.src,trajet_court, 'Deduction_trajet-ident sur chemin',resultat_equi.noeud_cat3]\n",
    "        i+=1\n",
    "        resultat.loc[i]=[b,ident_proche_bati,trajets.tgt,trajet_court, 'Deduction_trajet-ident sur chemin',resultat_equi.noeud_cat3]\n",
    "        i+=1\n",
    "    else : #sinon on deroule le calcul normalement\n",
    "        try :\n",
    "            trajets.calculs_trajets()\n",
    "        except v4.PasDeCheminCat3Error : \n",
    "            liste_bati_erreur.append(b)\n",
    "            continue\n",
    "        resultat.loc[i]=[b,ident_proche_bati,noeud_proche,trajets.trajet_court, 'Calcul_trajet',trajets.point_arrive]\n",
    "        i+=1\n",
    "        dico_df_tt_trajet[ident_proche_bati]=trajets.df_trajet_cat3_grp_OD"
   ]
  },
  {
   "cell_type": "code",
   "execution_count": null,
   "metadata": {
    "jupyter": {
     "source_hidden": true
    }
   },
   "outputs": [],
   "source": [
    "#en cas d'arret pour erreur\n",
    "#reste_a_faire=export.iloc[:40000].loc[export.iloc[:40000].ID.isin(resultat.bati.tolist())].copy()\n",
    "index_arret=list_ids.index(resultat.tail(1).bati.values[0])+1\n",
    "index_bati_erreur=list_ids[index_arret]"
   ]
  },
  {
   "cell_type": "code",
   "execution_count": 16,
   "metadata": {
    "jupyter": {
     "source_hidden": true
    }
   },
   "outputs": [],
   "source": [
    "#SAVE RESULTATS FINAUX\n",
    "resultat.to_json(r'D:\\Boulot\\AffairesEnCours\\Linearisation_BM\\C19SA0101\\C19SA0101\\Doc_travail\\Donnees_produites\\Donnees\\bati\\resultats_V2.json')\n",
    "\n",
    "dico_save2={k:v.to_dict() for k, v in dico_df_tt_trajet.items()}\n",
    "with open(r'D:\\Boulot\\AffairesEnCours\\Linearisation_BM\\C19SA0101\\C19SA0101\\Doc_travail\\Donnees_produites\\Donnees\\bati\\df_tt_trajet_resultats_V2.json','w') as f:\n",
    "    f.write(json.dumps(dico_save2))"
   ]
  },
  {
   "cell_type": "code",
   "execution_count": null,
   "metadata": {
    "jupyter": {
     "source_hidden": true
    }
   },
   "outputs": [],
   "source": [
    "#rappel\n",
    "with open(r'D:\\Boulot\\AffairesEnCours\\Linearisation_BM\\C19SA0101\\C19SA0101\\Doc_travail\\Donnees_produites\\Donnees\\bati\\df_tt_trajet_resultats_V2.json','r') :\n",
    "    retour_dict=json.loads(f.read())\n",
    "dico_retour={k:pd.DataFrame.from_dict(v) for k, v in retour_dict.items()}\n",
    "r_tot=pd.read_json(r'D:\\Boulot\\AffairesEnCours\\Linearisation_BM\\C19SA0101\\C19SA0101\\Doc_travail\\Donnees_produites\\Donnees\\bati\\resultats_V2.json')\n",
    "#donnees erreur\n",
    "with open(r'D:\\temp\\Linearisation_BM\\C19SA0101\\C19SA0101\\Doc_travail\\Donnees_produites\\Donnees\\bati\\liste_bati_erreur.json','w') as f :\n",
    "    f.write(json.dumps(liste_bati_erreur))"
   ]
  },
  {
   "cell_type": "code",
   "execution_count": 7,
   "metadata": {},
   "outputs": [],
   "source": [
    "resultats_finaux=pd.read_json(r'D:\\Boulot\\AffairesEnCours\\Linearisation_BM\\C19SA0101\\C19SA0101\\Doc_travail\\Donnees_produites\\Donnees\\bati\\resultats_V2.json')\n",
    "#ancienne version : r'D:\\Boulot\\Lin_bm\\C19SA0101\\Doc_travail\\Donnees_produites\\Donnees\\bati\\resultats_tot.json"
   ]
  },
  {
   "cell_type": "code",
   "execution_count": 21,
   "metadata": {
    "jupyter": {
     "source_hidden": true
    }
   },
   "outputs": [],
   "source": [
    "#ramener les trajets par batiment a une association 1..1 pour le calcul de la somme\n",
    "resultats_finaux_ordonnees=resultats_finaux.explode('trajet_court')\n",
    "resultats_finaux_ordonnees.reset_index(drop=True).to_json(r'D:\\Boulot\\Lin_bm\\C19SA0101\\Doc_travail\\Donnees_produites\\Donnees\\bati\\resultats_tot_ordonnes_V2.json')"
   ]
  },
  {
   "cell_type": "code",
   "execution_count": 4,
   "metadata": {},
   "outputs": [],
   "source": [
    "#si besoin recup des donnees\n",
    "resultats_finaux_ordonnees=pd.read_json(r'D:\\Boulot\\Lin_bm\\C19SA0101\\Doc_travail\\Donnees_produites\\Donnees\\bati\\resultats_tot_ordonnes_V2.json')\n",
    "\n",
    "#jointure avec bati pour recuperer nb personnes et geom\n",
    "resultats_finaux_ordonnees_pop=bati[['ID','PopT2016','geometry']].merge(resultats_finaux_ordonnees,left_on='ID', right_on='bati')\n",
    "\n",
    "#jointire spatiale avec EMC selon secteur pour connaitre le nombre total de deplacement par ident du rhv\n",
    "zones_emc=gp.read_file(r'D:\\Boulot\\Lin_bm\\C19SA0101\\Doc_travail\\Donnees_produites\\Donnees\\zones\\zonage_eda2017.shp')\n",
    "\n",
    "emc_nbpers_rhv=gp.sjoin(resultats_finaux_ordonnees_pop,zones_emc,how='left',op='intersects')\n",
    "\n",
    "#il y a qq batiment duplique, mais a cause de la cission des bati par le lCSQA, la prochaine fois prendre attribut IDBATI\n",
    "#emc_nbpers_rhv.loc[emc_nbpers_rhv.duplicated(['bati','trajet_court','PopT2016'], keep=False)].sort_values(['bati','trajet_court'])\n",
    "#recuperer le nombre de trajet moyen par secteur : \n",
    "trajMoyen_Emc=pd.read_csv(r'D:\\Boulot\\AffairesEnCours\\Linearisation_BM\\C19SA0101\\C19SA0101\\Doc_travail\\Donnees_source\\EMC\\Linéarisation BdxM et EMC²\\trajet_moy_redress_coeq.csv')\n",
    "#affecter a chaque ident du rhv\n",
    "trajMoyParLigneRhv=emc_nbpers_rhv.merge(trajMoyen_Emc[['SEC','nb_traj_moy']], left_on='num_zone', right_on='SEC')\n",
    "#calcul du nombre de deplacements relatif a chaque batiment pour chaque identifiant\n",
    "trajMoyParLigneRhv['nbDeplacement']=trajMoyParLigneRhv['PopT2016']*trajMoyParLigneRhv['nb_traj_moy']\n",
    "#estimation du trafic par identifiant du rhv\n",
    "TraficMoyenEstime=trajMoyParLigneRhv.groupby(['trajet_court','SEC']).agg({'nbDeplacement':sum,'PopT2016':sum,'nb_traj_moy':np.mean}).reset_index()"
   ]
  },
  {
   "cell_type": "code",
   "execution_count": 5,
   "metadata": {},
   "outputs": [],
   "source": [
    "#ensuite on va cherccher a comparer avec les donnees de comptage \n",
    "traf_cat_4=gdf_traf_1234.loc[gdf_traf_1234.cat_rhv.isin(('4','64'))][['ident','tmjo_2_sen','id_cpt_exp','geometry']].copy()\n",
    "compTraficMesureEstime=traf_cat_4.assign(ident=traf_cat_4.ident.astype(int)).merge(TraficMoyenEstime,left_on='ident',right_on='trajet_court')\n",
    "compTraficMesureEstime.assign(rap_mj_dep=compTraficMesureEstime.nbDeplacement/compTraficMesureEstime.tmjo_2_sen,\n",
    "                             rap_mj_pop=compTraficMesureEstime.PopT2016/compTraficMesureEstime.tmjo_2_sen).to_file(\n",
    "r'D:\\Boulot\\AffairesEnCours\\Linearisation_BM\\C19SA0101\\C19SA0101\\Doc_travail\\Donnees_produites\\Donnees\\affect_trafic_voies_cat4\\compV0.shp')"
   ]
  },
  {
   "cell_type": "code",
   "execution_count": 125,
   "metadata": {},
   "outputs": [
    {
     "data": {
      "text/html": [
       "\n",
       "<div id=\"altair-viz-179caf14f92d4761b8f1fb8cccc38232\"></div>\n",
       "<script type=\"text/javascript\">\n",
       "  (function(spec, embedOpt){\n",
       "    let outputDiv = document.currentScript.previousElementSibling;\n",
       "    if (outputDiv.id !== \"altair-viz-179caf14f92d4761b8f1fb8cccc38232\") {\n",
       "      outputDiv = document.getElementById(\"altair-viz-179caf14f92d4761b8f1fb8cccc38232\");\n",
       "    }\n",
       "    const paths = {\n",
       "      \"vega\": \"https://cdn.jsdelivr.net/npm//vega@5?noext\",\n",
       "      \"vega-lib\": \"https://cdn.jsdelivr.net/npm//vega-lib?noext\",\n",
       "      \"vega-lite\": \"https://cdn.jsdelivr.net/npm//vega-lite@4.8.1?noext\",\n",
       "      \"vega-embed\": \"https://cdn.jsdelivr.net/npm//vega-embed@6?noext\",\n",
       "    };\n",
       "\n",
       "    function loadScript(lib) {\n",
       "      return new Promise(function(resolve, reject) {\n",
       "        var s = document.createElement('script');\n",
       "        s.src = paths[lib];\n",
       "        s.async = true;\n",
       "        s.onload = () => resolve(paths[lib]);\n",
       "        s.onerror = () => reject(`Error loading script: ${paths[lib]}`);\n",
       "        document.getElementsByTagName(\"head\")[0].appendChild(s);\n",
       "      });\n",
       "    }\n",
       "\n",
       "    function showError(err) {\n",
       "      outputDiv.innerHTML = `<div class=\"error\" style=\"color:red;\">${err}</div>`;\n",
       "      throw err;\n",
       "    }\n",
       "\n",
       "    function displayChart(vegaEmbed) {\n",
       "      vegaEmbed(outputDiv, spec, embedOpt)\n",
       "        .catch(err => showError(`Javascript Error: ${err.message}<br>This usually means there's a typo in your chart specification. See the javascript console for the full traceback.`));\n",
       "    }\n",
       "\n",
       "    if(typeof define === \"function\" && define.amd) {\n",
       "      requirejs.config({paths});\n",
       "      require([\"vega-embed\"], displayChart, err => showError(`Error loading script: ${err.message}`));\n",
       "    } else if (typeof vegaEmbed === \"function\") {\n",
       "      displayChart(vegaEmbed);\n",
       "    } else {\n",
       "      loadScript(\"vega\")\n",
       "        .then(() => loadScript(\"vega-lite\"))\n",
       "        .then(() => loadScript(\"vega-embed\"))\n",
       "        .catch(showError)\n",
       "        .then(() => displayChart(vegaEmbed));\n",
       "    }\n",
       "  })({\"config\": {\"view\": {\"continuousWidth\": 400, \"continuousHeight\": 300}}, \"hconcat\": [{\"mark\": \"point\", \"encoding\": {\"color\": {\"condition\": {\"type\": \"nominal\", \"field\": \"SEC\", \"legend\": null, \"selection\": \"selector019\"}, \"value\": \"lightgray\"}, \"tooltip\": {\"type\": \"quantitative\", \"field\": \"ident\"}, \"x\": {\"type\": \"quantitative\", \"field\": \"tmjo_2_sen\"}, \"y\": {\"type\": \"quantitative\", \"field\": \"nbDeplacement\"}}, \"height\": 600, \"width\": 600}, {\"mark\": \"point\", \"encoding\": {\"color\": {\"condition\": {\"type\": \"nominal\", \"field\": \"SEC\", \"legend\": null, \"selection\": \"selector019\"}, \"value\": \"lightgray\"}, \"y\": {\"type\": \"nominal\", \"axis\": {\"orient\": \"right\"}, \"field\": \"SEC\"}}, \"selection\": {\"selector019\": {\"type\": \"multi\", \"fields\": [\"SEC\"]}}}], \"data\": {\"name\": \"data-85b815c3d7062fb342c59b1d7e726d43\"}, \"$schema\": \"https://vega.github.io/schema/vega-lite/v4.8.1.json\", \"datasets\": {\"data-85b815c3d7062fb342c59b1d7e726d43\": [{\"PopT2016\": 2207.9324251634, \"SEC\": 2, \"id_cpt_exp\": \"72, 73\", \"ident\": 8146, \"nbDeplacement\": 1450.0389923024447, \"nb_traj_moy\": 0.656740657357361, \"tmjo_2_sen\": 1370.0, \"trajet_court\": 8146.0, \"type\": \"Feature\", \"geometry\": {\"type\": \"LineString\", \"coordinates\": [[417591.04, 6424518.69, 0.0], [417650.29, 6424423.75, 0.0], [417661.18, 6424417.79, 0.0], [417667.32, 6424410.42, 0.0]]}}, {\"PopT2016\": 73.86971971107, \"SEC\": 2, \"id_cpt_exp\": \"850, 851\", \"ident\": 7591, \"nbDeplacement\": 48.51324828185214, \"nb_traj_moy\": 0.6567406573573611, \"tmjo_2_sen\": 573.0, \"trajet_court\": 7591.0, \"type\": \"Feature\", \"geometry\": {\"type\": \"LineString\", \"coordinates\": [[415922.49, 6422820.16, 0.0], [415969.46, 6422959.97, 0.0]]}}, {\"PopT2016\": 250.22632665227042, \"SEC\": 13, \"id_cpt_exp\": \"184, 183\", \"ident\": 19916, \"nbDeplacement\": 376.097524281072, \"nb_traj_moy\": 1.5030293946796467, \"tmjo_2_sen\": 856.0, \"trajet_court\": 19916.0, \"type\": \"Feature\", \"geometry\": {\"type\": \"LineString\", \"coordinates\": [[422670.94, 6427576.98, 0.0], [422682.68, 6427603.37, 0.0], [422685.33, 6427614.18, 0.0], [422689.95, 6427653.44, 0.0]]}}, {\"PopT2016\": 62.80133594788002, \"SEC\": 19, \"id_cpt_exp\": \"1867, 1868\", \"ident\": 20546, \"nbDeplacement\": 102.96915320833256, \"nb_traj_moy\": 1.639601318255214, \"tmjo_2_sen\": 365.0, \"trajet_court\": 20546.0, \"type\": \"Feature\", \"geometry\": {\"type\": \"LineString\", \"coordinates\": [[414842.0, 6413435.58, 0.0], [414840.31, 6413457.16, 0.0], [414837.78, 6413490.65, 0.0], [414834.94, 6413506.67, 0.0], [414831.09, 6413521.7, 0.0], [414821.48, 6413545.35, 0.0], [414804.06, 6413582.06, 0.0], [414797.79, 6413590.94, 0.0]]}}, {\"PopT2016\": 297.49162293025023, \"SEC\": 15, \"id_cpt_exp\": \"1155, 1156\", \"ident\": 35430, \"nbDeplacement\": 542.6948567510822, \"nb_traj_moy\": 1.8242357596681698, \"tmjo_2_sen\": 975.0, \"trajet_court\": 35430.0, \"type\": \"Feature\", \"geometry\": {\"type\": \"LineString\", \"coordinates\": [[413654.41, 6431690.65, 0.0], [413656.71, 6431751.97, 0.0], [413655.0, 6431768.31, 0.0], [413646.82, 6431781.51, 0.0], [413632.98, 6431791.37, 0.0], [413360.4, 6431934.98, 0.0], [413322.58, 6431958.03, 0.0]]}}, {\"PopT2016\": 57.47753458409999, \"SEC\": 13, \"id_cpt_exp\": \"910, 911\", \"ident\": 19921, \"nbDeplacement\": 86.39042401361823, \"nb_traj_moy\": 1.5030293946796467, \"tmjo_2_sen\": 450.0, \"trajet_court\": 19921.0, \"type\": \"Feature\", \"geometry\": {\"type\": \"LineString\", \"coordinates\": [[423636.37, 6427679.34, 0.0], [423612.19, 6427694.59, 0.0], [423592.72, 6427705.95, 0.0], [423557.66, 6427724.83, 0.0], [423544.09, 6427730.16, 0.0], [423487.55, 6427747.91, 0.0]]}}, {\"PopT2016\": 672.0746324691802, \"SEC\": 11, \"id_cpt_exp\": \"126\", \"ident\": 1236, \"nbDeplacement\": 826.0615609143304, \"nb_traj_moy\": 1.2291217686336553, \"tmjo_2_sen\": 1214.0, \"trajet_court\": 1236.0, \"type\": \"Feature\", \"geometry\": {\"type\": \"LineString\", \"coordinates\": [[420006.83, 6419556.38, 0.0], [419969.36, 6419506.34, 0.0]]}}, {\"PopT2016\": 36.99628142820001, \"SEC\": 6, \"id_cpt_exp\": \"1308\", \"ident\": 6560, \"nbDeplacement\": 30.26698293352286, \"nb_traj_moy\": 0.8181087872915843, \"tmjo_2_sen\": 436.0, \"trajet_court\": 6560.0, \"type\": \"Feature\", \"geometry\": {\"type\": \"LineString\", \"coordinates\": [[419118.78, 6424082.75, 0.0], [419054.49, 6424046.64, 0.0]]}}, {\"PopT2016\": 897.1329121443697, \"SEC\": 11, \"id_cpt_exp\": \"1611, 1612\", \"ident\": 52232, \"nbDeplacement\": 1102.6855916743468, \"nb_traj_moy\": 1.229121768633653, \"tmjo_2_sen\": 1902.0, \"trajet_court\": 52232.0, \"type\": \"Feature\", \"geometry\": {\"type\": \"LineString\", \"coordinates\": [[417998.74, 6415851.41, 0.0], [418043.79, 6415845.36, 0.0]]}}, {\"PopT2016\": 239.4033261474004, \"SEC\": 19, \"id_cpt_exp\": \"1611, 1612\", \"ident\": 52232, \"nbDeplacement\": 392.5260091459604, \"nb_traj_moy\": 1.639601318255216, \"tmjo_2_sen\": 1902.0, \"trajet_court\": 52232.0, \"type\": \"Feature\", \"geometry\": {\"type\": \"LineString\", \"coordinates\": [[417998.74, 6415851.41, 0.0], [418043.79, 6415845.36, 0.0]]}}, {\"PopT2016\": 393.1452942935691, \"SEC\": 5, \"id_cpt_exp\": \"1488\", \"ident\": 9004, \"nbDeplacement\": 324.047460585169, \"nb_traj_moy\": 0.8242435183344592, \"tmjo_2_sen\": 1024.0, \"trajet_court\": 9004.0, \"type\": \"Feature\", \"geometry\": {\"type\": \"LineString\", \"coordinates\": [[420567.27, 6422844.7, 0.0], [420552.12, 6422745.26, 0.0], [420548.41, 6422733.31, 0.0], [420543.09, 6422726.32, 0.0]]}}, {\"PopT2016\": 59.36575083023999, \"SEC\": 16, \"id_cpt_exp\": \"502, 503\", \"ident\": 21002, \"nbDeplacement\": 117.76846649456974, \"nb_traj_moy\": 1.9837779333632262, \"tmjo_2_sen\": 619.0, \"trajet_court\": 21002.0, \"type\": \"Feature\", \"geometry\": {\"type\": \"LineString\", \"coordinates\": [[413422.42, 6427140.62, 0.0], [413392.76, 6427153.6, 0.0], [413383.7, 6427154.62, 0.0], [413373.93, 6427151.93, 0.0], [413366.92, 6427145.45, 0.0], [413318.98, 6427039.65, 0.0]]}}, {\"PopT2016\": 59.09237985089, \"SEC\": 7, \"id_cpt_exp\": \"171, 172\", \"ident\": 41646, \"nbDeplacement\": 74.01280402702328, \"nb_traj_moy\": 1.2524932015563188, \"tmjo_2_sen\": 1455.0, \"trajet_court\": 41646.0, \"type\": \"Feature\", \"geometry\": {\"type\": \"LineString\", \"coordinates\": [[417637.85, 6425293.85, 0.0], [417464.9, 6425305.58, 0.0]]}}, {\"PopT2016\": 183.31920410551984, \"SEC\": 12, \"id_cpt_exp\": \"208, 209\", \"ident\": 20064, \"nbDeplacement\": 236.00430571079133, \"nb_traj_moy\": 1.2873954306224535, \"tmjo_2_sen\": 6973.0, \"trajet_court\": 20064.0, \"type\": \"Feature\", \"geometry\": {\"type\": \"LineString\", \"coordinates\": [[422127.85, 6422317.18, 0.0], [422154.73, 6422369.48, 0.0], [422186.84, 6422560.57, 0.0]]}}, {\"PopT2016\": 380.70155395764954, \"SEC\": 12, \"id_cpt_exp\": \"668, 669\", \"ident\": 3540, \"nbDeplacement\": 490.11344099594777, \"nb_traj_moy\": 1.2873954306224589, \"tmjo_2_sen\": 1513.0, \"trajet_court\": 3540.0, \"type\": \"Feature\", \"geometry\": {\"type\": \"LineString\", \"coordinates\": [[422991.13, 6421794.61, 0.0], [423008.97, 6421775.09, 0.0], [423016.99, 6421757.64, 0.0], [423024.29, 6421733.7, 0.0]]}}, {\"PopT2016\": 12.712332083, \"SEC\": 16, \"id_cpt_exp\": \"1874\", \"ident\": 39771, \"nbDeplacement\": 25.218443867840765, \"nb_traj_moy\": 1.9837779333632253, \"tmjo_2_sen\": 5624.0, \"trajet_court\": 39771.0, \"type\": \"Feature\", \"geometry\": {\"type\": \"LineString\", \"coordinates\": [[409596.8, 6426063.37, 0.0], [409601.53, 6426059.03, 0.0], [409604.83, 6426054.53, 0.0], [409616.11, 6426030.95, 0.0]]}}, {\"PopT2016\": 165.47608864943982, \"SEC\": 7, \"id_cpt_exp\": \"1598\", \"ident\": 19686, \"nbDeplacement\": 207.25767605355404, \"nb_traj_moy\": 1.252493201556319, \"tmjo_2_sen\": 812.0, \"trajet_court\": 19686.0, \"type\": \"Feature\", \"geometry\": {\"type\": \"LineString\", \"coordinates\": [[415272.98, 6424522.22, 0.0], [415147.04, 6424475.62, 0.0], [415110.58, 6424457.84, 0.0]]}}, {\"PopT2016\": 111.04500759727001, \"SEC\": 12, \"id_cpt_exp\": \"1180, 1181\", \"ident\": 18666, \"nbDeplacement\": 142.95883537416108, \"nb_traj_moy\": 1.2873954306224535, \"tmjo_2_sen\": 1322.0, \"trajet_court\": 18666.0, \"type\": \"Feature\", \"geometry\": {\"type\": \"LineString\", \"coordinates\": [[424126.35, 6422199.98, 0.0], [424142.47, 6422194.23, 0.0], [424194.32, 6422165.51, 0.0], [424206.05, 6422158.12, 0.0], [424219.27, 6422148.19, 0.0], [424241.7, 6422130.63, 0.0], [424272.21, 6422114.75, 0.0]]}}, {\"PopT2016\": 232.2220206165599, \"SEC\": 7, \"id_cpt_exp\": \"603, 604\", \"ident\": 30456, \"nbDeplacement\": 290.85650207391274, \"nb_traj_moy\": 1.252493201556319, \"tmjo_2_sen\": 3885.0, \"trajet_court\": 30456.0, \"type\": \"Feature\", \"geometry\": {\"type\": \"LineString\", \"coordinates\": [[415090.22, 6424727.57, 0.0], [415128.26, 6424730.03, 0.0], [415217.82, 6424765.52, 0.0]]}}, {\"PopT2016\": 65.06589379778, \"SEC\": 19, \"id_cpt_exp\": \"403, 404\", \"ident\": 27283, \"nbDeplacement\": 106.68212524429377, \"nb_traj_moy\": 1.639601318255214, \"tmjo_2_sen\": 748.0, \"trajet_court\": 27283.0, \"type\": \"Feature\", \"geometry\": {\"type\": \"LineString\", \"coordinates\": [[419646.56, 6414951.26, 0.0], [419630.83, 6414955.04, 0.0], [419450.66, 6414968.34, 0.0], [419448.99, 6414968.47, 0.0], [419422.28, 6414970.75, 0.0]]}}, {\"PopT2016\": 185.9362713759, \"SEC\": 19, \"id_cpt_exp\": \"1911\", \"ident\": 17189, \"nbDeplacement\": 304.8613556593847, \"nb_traj_moy\": 1.6396013182552136, \"tmjo_2_sen\": 3178.0, \"trajet_court\": 17189.0, \"type\": \"Feature\", \"geometry\": {\"type\": \"LineString\", \"coordinates\": [[416596.97, 6414284.79, 0.0], [416549.44, 6414190.98, 0.0]]}}, {\"PopT2016\": 34.04581444976, \"SEC\": 4, \"id_cpt_exp\": \"1219\", \"ident\": 7927, \"nbDeplacement\": 18.935267905182556, \"nb_traj_moy\": 0.5561702139076318, \"tmjo_2_sen\": 517.0, \"trajet_court\": 7927.0, \"type\": \"Feature\", \"geometry\": {\"type\": \"LineString\", \"coordinates\": [[418740.76, 6420504.08, 0.0], [418772.83, 6420476.4, 0.0]]}}, {\"PopT2016\": 152.05538589724, \"SEC\": 1, \"id_cpt_exp\": \"1799\", \"ident\": 39153, \"nbDeplacement\": 48.094831666859044, \"nb_traj_moy\": 0.3162981132372505, \"tmjo_2_sen\": 390.0, \"trajet_court\": 39153.0, \"type\": \"Feature\", \"geometry\": {\"type\": \"LineString\", \"coordinates\": [[418812.27, 6420615.08, 0.0], [418816.69, 6420624.29, 0.0], [418828.19, 6420654.54, 0.0], [418828.05, 6420661.5, 0.0], [418858.01, 6420734.54, 0.0]]}}, {\"PopT2016\": 218.09385301825, \"SEC\": 1, \"id_cpt_exp\": \"1087\", \"ident\": 9965, \"nbDeplacement\": 68.98267421831468, \"nb_traj_moy\": 0.3162981132372505, \"tmjo_2_sen\": 2221.0, \"trajet_court\": 9965.0, \"type\": \"Feature\", \"geometry\": {\"type\": \"LineString\", \"coordinates\": [[417825.49, 6421784.04, 0.0], [417824.59, 6421804.12, 0.0]]}}, {\"PopT2016\": 203.85568791737, \"SEC\": 1, \"id_cpt_exp\": \"1087\", \"ident\": 38995, \"nbDeplacement\": 64.47916946094588, \"nb_traj_moy\": 0.3162981132372505, \"tmjo_2_sen\": 2221.0, \"trajet_court\": 38995.0, \"type\": \"Feature\", \"geometry\": {\"type\": \"LineString\", \"coordinates\": [[417825.69, 6421779.65, 0.0], [417825.49, 6421784.04, 0.0]]}}, {\"PopT2016\": 183.80349027802984, \"SEC\": 19, \"id_cpt_exp\": \"1909, 1910\", \"ident\": 25194, \"nbDeplacement\": 301.3644449597675, \"nb_traj_moy\": 1.6396013182552158, \"tmjo_2_sen\": 1560.0, \"trajet_court\": 25194.0, \"type\": \"Feature\", \"geometry\": {\"type\": \"LineString\", \"coordinates\": [[417435.64, 6412611.44, 0.0], [417438.85, 6412577.57, 0.0], [417436.63, 6412550.75, 0.0], [417432.25, 6412530.97, 0.0], [417422.68, 6412509.7, 0.0], [417404.54, 6412484.17, 0.0], [417380.71, 6412461.91, 0.0], [417347.43, 6412441.15, 0.0], [417334.03, 6412429.15, 0.0], [417321.24, 6412407.76, 0.0], [417301.78, 6412356.71, 0.0], [417292.18, 6412335.14, 0.0], [417267.17, 6412306.34, 0.0], [417261.03, 6412296.07, 0.0]]}}, {\"PopT2016\": 2.7572217647, \"SEC\": 19, \"id_cpt_exp\": \"712\", \"ident\": 17669, \"nbDeplacement\": 4.520744440124086, \"nb_traj_moy\": 1.6396013182552136, \"tmjo_2_sen\": 887.0, \"trajet_court\": 17669.0, \"type\": \"Feature\", \"geometry\": {\"type\": \"LineString\", \"coordinates\": [[416491.76, 6412931.36, 0.0], [416446.68, 6412937.84, 0.0]]}}, {\"PopT2016\": 116.14953952719009, \"SEC\": 11, \"id_cpt_exp\": \"1334, 1335\", \"ident\": 17510, \"nbDeplacement\": 142.76192744964408, \"nb_traj_moy\": 1.229121768633653, \"tmjo_2_sen\": 1083.0, \"trajet_court\": 17510.0, \"type\": \"Feature\", \"geometry\": {\"type\": \"LineString\", \"coordinates\": [[417428.25, 6416786.74, 0.0], [417449.58, 6416705.17, 0.0]]}}, {\"PopT2016\": 144.68643852668018, \"SEC\": 19, \"id_cpt_exp\": \"413, 414\", \"ident\": 17520, \"nbDeplacement\": 237.22807534199632, \"nb_traj_moy\": 1.6396013182552156, \"tmjo_2_sen\": 758.0, \"trajet_court\": 17520.0, \"type\": \"Feature\", \"geometry\": {\"type\": \"LineString\", \"coordinates\": [[418437.94, 6414350.62, 0.0], [418707.83, 6414380.03, 0.0]]}}, {\"PopT2016\": 127.46433790731001, \"SEC\": 3, \"id_cpt_exp\": \"728\", \"ident\": 9342, \"nbDeplacement\": 160.1885966525219, \"nb_traj_moy\": 1.2567326617191426, \"tmjo_2_sen\": 489.0, \"trajet_court\": 9342.0, \"type\": \"Feature\", \"geometry\": {\"type\": \"LineString\", \"coordinates\": [[415151.57, 6420229.79, 0.0], [415180.62, 6420135.54, 0.0]]}}, {\"PopT2016\": 19.610400803909997, \"SEC\": 4, \"id_cpt_exp\": \"1838\", \"ident\": 9412, \"nbDeplacement\": 10.906720809925016, \"nb_traj_moy\": 0.5561702139076318, \"tmjo_2_sen\": 1082.0, \"trajet_court\": 9412.0, \"type\": \"Feature\", \"geometry\": {\"type\": \"LineString\", \"coordinates\": [[416135.28, 6421048.67, 0.0], [416083.03, 6421022.2, 0.0]]}}, {\"PopT2016\": 139.85095020469004, \"SEC\": 19, \"id_cpt_exp\": \"942, 943\", \"ident\": 30218, \"nbDeplacement\": 229.29980231485396, \"nb_traj_moy\": 1.6396013182552154, \"tmjo_2_sen\": 61.0, \"trajet_court\": 30218.0, \"type\": \"Feature\", \"geometry\": {\"type\": \"LineString\", \"coordinates\": [[412044.89, 6414245.11, 0.0], [411916.33, 6414196.58, 0.0], [411912.7, 6414193.22, 0.0], [411909.73, 6414189.38, 0.0], [411891.82, 6414164.33, 0.0], [411888.19, 6414160.71, 0.0], [411882.66, 6414158.04, 0.0], [411863.79, 6414155.6, 0.0], [411858.48, 6414160.21, 0.0], [411855.27, 6414169.21, 0.0], [411858.06, 6414291.62, 0.0], [411877.01, 6414348.8, 0.0], [411880.99, 6414400.95, 0.0]]}}, {\"PopT2016\": 456.49355976661934, \"SEC\": 4, \"id_cpt_exp\": \"1093\", \"ident\": 28042, \"nbDeplacement\": 253.88812078285693, \"nb_traj_moy\": 0.5561702139076332, \"tmjo_2_sen\": 440.0, \"trajet_court\": 28042.0, \"type\": \"Feature\", \"geometry\": {\"type\": \"LineString\", \"coordinates\": [[416056.35, 6421307.97, 0.0], [416195.18, 6421356.74, 0.0], [416211.46, 6421363.5, 0.0]]}}, {\"PopT2016\": 105.13464991082, \"SEC\": 4, \"id_cpt_exp\": \"16, 17\", \"ident\": 6891, \"nbDeplacement\": 58.47276073000472, \"nb_traj_moy\": 0.5561702139076314, \"tmjo_2_sen\": 1531.0, \"trajet_court\": 6891.0, \"type\": \"Feature\", \"geometry\": {\"type\": \"LineString\", \"coordinates\": [[417839.51, 6418921.24, 0.0], [417764.27, 6418898.44, 0.0]]}}, {\"PopT2016\": 90.58905426221006, \"SEC\": 8, \"id_cpt_exp\": \"1494, 1495\", \"ident\": 23034, \"nbDeplacement\": 142.26224691921328, \"nb_traj_moy\": 1.5704132036463823, \"tmjo_2_sen\": 2030.0, \"trajet_court\": 23034.0, \"type\": \"Feature\", \"geometry\": {\"type\": \"LineString\", \"coordinates\": [[413150.23, 6419784.95, 0.0], [413302.59, 6419792.3, 0.0], [413384.33, 6419796.68, 0.0], [413503.28, 6419805.12, 0.0]]}}, {\"PopT2016\": 88.73578998654999, \"SEC\": 3, \"id_cpt_exp\": \"767\", \"ident\": 26713, \"nbDeplacement\": 111.51716553954786, \"nb_traj_moy\": 1.256732661719143, \"tmjo_2_sen\": 1055.0, \"trajet_court\": 26713.0, \"type\": \"Feature\", \"geometry\": {\"type\": \"LineString\", \"coordinates\": [[415681.6, 6420737.07, 0.0], [415702.22, 6420739.97, 0.0], [415704.11, 6420739.92, 0.0]]}}, {\"PopT2016\": 324.8863289315404, \"SEC\": 7, \"id_cpt_exp\": \"155, 156\", \"ident\": 43601, \"nbDeplacement\": 406.9179182653436, \"nb_traj_moy\": 1.252493201556319, \"tmjo_2_sen\": 3812.0, \"trajet_court\": 43601.0, \"type\": \"Feature\", \"geometry\": {\"type\": \"LineString\", \"coordinates\": [[417131.06, 6425794.04, 0.0], [417122.21, 6425792.04, 0.0], [417051.98, 6425788.34, 0.0], [416843.71, 6425777.84, 0.0], [416804.49, 6425777.48, 0.0]]}}, {\"PopT2016\": 58.03883198774998, \"SEC\": 16, \"id_cpt_exp\": \"1857\", \"ident\": 4906, \"nbDeplacement\": 115.13615417547418, \"nb_traj_moy\": 1.9837779333632262, \"tmjo_2_sen\": 3660.0, \"trajet_court\": 4906.0, \"type\": \"Feature\", \"geometry\": {\"type\": \"LineString\", \"coordinates\": [[412037.4, 6426936.75, 0.0], [412050.36, 6426892.13, 0.0]]}}, {\"PopT2016\": 74.24751102983004, \"SEC\": 14, \"id_cpt_exp\": \"488, 487\", \"ident\": 21881, \"nbDeplacement\": 152.2739806839884, \"nb_traj_moy\": 2.050896771782831, \"tmjo_2_sen\": 330.0, \"trajet_court\": 21881.0, \"type\": \"Feature\", \"geometry\": {\"type\": \"LineString\", \"coordinates\": [[421247.35, 6437809.94, 0.0], [421667.29, 6437880.63, 0.0], [421747.37, 6437893.82, 0.0], [421831.42, 6437903.99, 0.0], [421993.61, 6437931.38, 0.0], [422632.11, 6438018.0, 0.0], [422660.22, 6438029.72, 0.0]]}}, {\"PopT2016\": 17.36824574073, \"SEC\": 3, \"id_cpt_exp\": \"1210\", \"ident\": 10149, \"nbDeplacement\": 21.82724169913978, \"nb_traj_moy\": 1.256732661719143, \"tmjo_2_sen\": 1340.0, \"trajet_court\": 10149.0, \"type\": \"Feature\", \"geometry\": {\"type\": \"LineString\", \"coordinates\": [[414707.8, 6421303.13, 0.0], [414711.77, 6421289.51, 0.0], [414722.69, 6421231.61, 0.0]]}}, {\"PopT2016\": 119.22725887331009, \"SEC\": 4, \"id_cpt_exp\": \"1064\", \"ident\": 10363, \"nbDeplacement\": 66.31065007118944, \"nb_traj_moy\": 0.5561702139076313, \"tmjo_2_sen\": 990.0, \"trajet_court\": 10363.0, \"type\": \"Feature\", \"geometry\": {\"type\": \"LineString\", \"coordinates\": [[418396.37, 6419204.56, 0.0], [418447.24, 6419147.23, 0.0]]}}, {\"PopT2016\": 95.82826789338996, \"SEC\": 6, \"id_cpt_exp\": \"722, 723\", \"ident\": 22370, \"nbDeplacement\": 78.3979480345143, \"nb_traj_moy\": 0.8181087872915846, \"tmjo_2_sen\": 286.0, \"trajet_court\": 22370.0, \"type\": \"Feature\", \"geometry\": {\"type\": \"LineString\", \"coordinates\": [[420218.43, 6426121.88, 0.0], [420207.96, 6426124.25, 0.0], [420188.01, 6426124.72, 0.0], [420179.05, 6426127.06, 0.0], [420173.34, 6426130.77, 0.0], [420168.47, 6426136.86, 0.0], [420146.33, 6426178.78, 0.0]]}}, {\"PopT2016\": 63.87349817317002, \"SEC\": 10, \"id_cpt_exp\": \"1333\", \"ident\": 27939, \"nbDeplacement\": 57.57045848606602, \"nb_traj_moy\": 0.9013199547954055, \"tmjo_2_sen\": 1005.0, \"trajet_court\": 27939.0, \"type\": \"Feature\", \"geometry\": {\"type\": \"LineString\", \"coordinates\": [[417186.47, 6419671.11, 0.0], [417066.87, 6419607.1, 0.0]]}}, {\"PopT2016\": 124.1277240965201, \"SEC\": 17, \"id_cpt_exp\": \"1458, 1459\", \"ident\": 28641, \"nbDeplacement\": 234.00950186017204, \"nb_traj_moy\": 1.8852315513189395, \"tmjo_2_sen\": 381.0, \"trajet_court\": 28641.0, \"type\": \"Feature\", \"geometry\": {\"type\": \"LineString\", \"coordinates\": [[406947.66, 6430974.11, 0.0], [406948.88, 6430973.36, 0.0], [406951.86, 6430972.26, 0.0], [406955.01, 6430971.78, 0.0], [406958.18, 6430971.93, 0.0], [406961.26, 6430972.72, 0.0], [406964.12, 6430974.11, 0.0], [406966.63, 6430976.06, 0.0], [406968.71, 6430978.48, 0.0], [406970.25, 6430981.25, 0.0], [406971.21, 6430984.28, 0.0], [406971.31, 6430985.17, 0.0]]}}, {\"PopT2016\": 25.542098373769996, \"SEC\": 10, \"id_cpt_exp\": \"716, 717\", \"ident\": 30764, \"nbDeplacement\": 23.02160295162619, \"nb_traj_moy\": 0.9013199547954062, \"tmjo_2_sen\": 822.0, \"trajet_court\": 30764.0, \"type\": \"Feature\", \"geometry\": {\"type\": \"LineString\", \"coordinates\": [[416204.75, 6416259.32, 0.0], [416205.62, 6416252.22, 0.0]]}}, {\"PopT2016\": 218.76336569625005, \"SEC\": 11, \"id_cpt_exp\": \"716, 717\", \"ident\": 30764, \"nbDeplacement\": 268.8868149568253, \"nb_traj_moy\": 1.2291217686336524, \"tmjo_2_sen\": 822.0, \"trajet_court\": 30764.0, \"type\": \"Feature\", \"geometry\": {\"type\": \"LineString\", \"coordinates\": [[416204.75, 6416259.32, 0.0], [416205.62, 6416252.22, 0.0]]}}, {\"PopT2016\": 205.16226280138983, \"SEC\": 17, \"id_cpt_exp\": \"1344, 1345\", \"ident\": 15229, \"nbDeplacement\": 386.7783709731685, \"nb_traj_moy\": 1.8852315513189406, \"tmjo_2_sen\": 2676.0, \"trajet_court\": 15229.0, \"type\": \"Feature\", \"geometry\": {\"type\": \"LineString\", \"coordinates\": [[403699.24, 6429036.42, 0.0], [403667.72, 6429041.12, 0.0], [403651.4, 6429044.97, 0.0], [403641.28, 6429049.53, 0.0], [403633.11, 6429054.86, 0.0], [403617.64, 6429068.55, 0.0]]}}, {\"PopT2016\": 152.05538589724, \"SEC\": 1, \"id_cpt_exp\": \"1799\", \"ident\": 8449, \"nbDeplacement\": 48.094831666859044, \"nb_traj_moy\": 0.3162981132372505, \"tmjo_2_sen\": 390.0, \"trajet_court\": 8449.0, \"type\": \"Feature\", \"geometry\": {\"type\": \"LineString\", \"coordinates\": [[418860.43, 6420739.85, 0.0], [418858.01, 6420734.54, 0.0]]}}, {\"PopT2016\": 411.9811217591698, \"SEC\": 4, \"id_cpt_exp\": \"1830\", \"ident\": 8537, \"nbDeplacement\": 229.13162861470323, \"nb_traj_moy\": 0.5561702139076329, \"tmjo_2_sen\": 1003.0, \"trajet_court\": 8537.0, \"type\": \"Feature\", \"geometry\": {\"type\": \"LineString\", \"coordinates\": [[416355.37, 6421168.44, 0.0], [416335.17, 6421243.89, 0.0]]}}, {\"PopT2016\": 95.96530048383003, \"SEC\": 4, \"id_cpt_exp\": \"1798\", \"ident\": 8627, \"nbDeplacement\": 53.37304169780185, \"nb_traj_moy\": 0.5561702139076313, \"tmjo_2_sen\": 4236.0, \"trajet_court\": 8627.0, \"type\": \"Feature\", \"geometry\": {\"type\": \"LineString\", \"coordinates\": [[417527.85, 6418845.81, 0.0], [417559.24, 6418845.76, 0.0], [417666.0, 6418867.43, 0.0]]}}, {\"PopT2016\": 10.52172562511, \"SEC\": 10, \"id_cpt_exp\": \"1798\", \"ident\": 8627, \"nbDeplacement\": 9.483441264793807, \"nb_traj_moy\": 0.9013199547954058, \"tmjo_2_sen\": 4236.0, \"trajet_court\": 8627.0, \"type\": \"Feature\", \"geometry\": {\"type\": \"LineString\", \"coordinates\": [[417527.85, 6418845.81, 0.0], [417559.24, 6418845.76, 0.0], [417666.0, 6418867.43, 0.0]]}}, {\"PopT2016\": 184.24554292337004, \"SEC\": 11, \"id_cpt_exp\": \"1798\", \"ident\": 8627, \"nbDeplacement\": 226.46020758084, \"nb_traj_moy\": 1.229121768633651, \"tmjo_2_sen\": 4236.0, \"trajet_court\": 8627.0, \"type\": \"Feature\", \"geometry\": {\"type\": \"LineString\", \"coordinates\": [[417527.85, 6418845.81, 0.0], [417559.24, 6418845.76, 0.0], [417666.0, 6418867.43, 0.0]]}}, {\"PopT2016\": 55.187429945460025, \"SEC\": 4, \"id_cpt_exp\": \"63\", \"ident\": 38771, \"nbDeplacement\": 30.693604717778936, \"nb_traj_moy\": 0.5561702139076314, \"tmjo_2_sen\": 266.0, \"trajet_court\": 38771.0, \"type\": \"Feature\", \"geometry\": {\"type\": \"LineString\", \"coordinates\": [[417561.55, 6419006.29, 0.0], [417574.62, 6419006.71, 0.0], [417723.31, 6419002.81, 0.0]]}}, {\"PopT2016\": 509.7180050964196, \"SEC\": 4, \"id_cpt_exp\": \"1828\", \"ident\": 8657, \"nbDeplacement\": 283.48997192704724, \"nb_traj_moy\": 0.5561702139076334, \"tmjo_2_sen\": 1831.0, \"trajet_court\": 8657.0, \"type\": \"Feature\", \"geometry\": {\"type\": \"LineString\", \"coordinates\": [[416159.83, 6421004.45, 0.0], [416213.1, 6421033.91, 0.0]]}}, {\"PopT2016\": 234.0854265044103, \"SEC\": 16, \"id_cpt_exp\": \"1739\", \"ident\": 16049, \"nbDeplacement\": 464.3735036213675, \"nb_traj_moy\": 1.9837779333632277, \"tmjo_2_sen\": 258.0, \"trajet_court\": 16049.0, \"type\": \"Feature\", \"geometry\": {\"type\": \"LineString\", \"coordinates\": [[409989.31, 6431247.42, 0.0], [409969.76, 6431298.38, 0.0]]}}, {\"PopT2016\": 788.4512813481999, \"SEC\": 19, \"id_cpt_exp\": \"221\", \"ident\": 50751, \"nbDeplacement\": 1292.745760278521, \"nb_traj_moy\": 1.6396013182552134, \"tmjo_2_sen\": 168.0, \"trajet_court\": 50751.0, \"type\": \"Feature\", \"geometry\": {\"type\": \"LineString\", \"coordinates\": [[414729.8, 6416409.57, 0.0], [414743.99, 6416428.41, 0.0], [414756.18, 6416448.29, 0.0], [414758.75, 6416462.99, 0.0], [414755.93, 6416480.75, 0.0], [414733.29, 6416527.8, 0.0], [414729.06, 6416534.15, 0.0], [414723.58, 6416539.67, 0.0], [414713.41, 6416545.65, 0.0], [414703.27, 6416550.2, 0.0], [414679.08, 6416557.58, 0.0]]}}, {\"PopT2016\": 8.763373496329999, \"SEC\": 19, \"id_cpt_exp\": \"1439\", \"ident\": 52575, \"nbDeplacement\": 14.368438736945468, \"nb_traj_moy\": 1.6396013182552134, \"tmjo_2_sen\": 686.0, \"trajet_court\": 52575.0, \"type\": \"Feature\", \"geometry\": {\"type\": \"LineString\", \"coordinates\": [[420563.18, 6414573.92, 0.0], [420570.23, 6414594.69, 0.0], [420571.37, 6414599.64, 0.0], [420586.55, 6414707.4, 0.0], [420590.59, 6414713.15, 0.0], [420597.52, 6414715.78, 0.0], [420668.49, 6414706.11, 0.0], [420672.68, 6414707.95, 0.0], [420674.23, 6414712.45, 0.0], [420686.05, 6414793.89, 0.0]]}}, {\"PopT2016\": 8.851408465839999, \"SEC\": 14, \"id_cpt_exp\": \"1041\", \"ident\": 49963, \"nbDeplacement\": 18.15332504832247, \"nb_traj_moy\": 2.05089677178283, \"tmjo_2_sen\": 2111.0, \"trajet_court\": 49963.0, \"type\": \"Feature\", \"geometry\": {\"type\": \"LineString\", \"coordinates\": [[424348.27, 6431649.25, 0.0], [424344.88, 6431644.63, 0.0], [424342.27, 6431642.3, 0.0], [424337.41, 6431640.14, 0.0], [424335.14, 6431639.45, 0.0], [424332.21, 6431638.95, 0.0], [424322.49, 6431638.68, 0.0], [424317.47, 6431638.59, 0.0], [424313.49, 6431638.09, 0.0], [424310.07, 6431637.32, 0.0], [424291.05, 6431631.24, 0.0], [424267.95, 6431624.66, 0.0], [424223.15, 6431610.81, 0.0], [424191.11, 6431599.85, 0.0], [424174.86, 6431593.15, 0.0], [424166.11, 6431587.99, 0.0]]}}, {\"PopT2016\": 409.0266745748295, \"SEC\": 18, \"id_cpt_exp\": \"1712, 1713\", \"ident\": 51998, \"nbDeplacement\": 724.8104424020165, \"nb_traj_moy\": 1.7720371004053292, \"tmjo_2_sen\": 3568.0, \"trajet_court\": 51998.0, \"type\": \"Feature\", \"geometry\": {\"type\": \"LineString\", \"coordinates\": [[406700.76, 6417970.25, 0.0], [406579.55, 6417674.71, 0.0], [406528.34, 6417544.71, 0.0], [406429.26, 6417306.86, 0.0], [406306.19, 6417007.71, 0.0], [406306.25, 6416998.38, 0.0], [406311.42, 6416985.94, 0.0]]}}, {\"PopT2016\": 774.20816435911, \"SEC\": 7, \"id_cpt_exp\": \"173, 174\", \"ident\": 50700, \"nbDeplacement\": 969.6904624491813, \"nb_traj_moy\": 1.2524932015563193, \"tmjo_2_sen\": 3328.0, \"trajet_court\": 50700.0, \"type\": \"Feature\", \"geometry\": {\"type\": \"LineString\", \"coordinates\": [[417185.49, 6426077.29, 0.0], [417188.77, 6426070.32, 0.0], [417190.45, 6426066.06, 0.0], [417191.46, 6426061.84, 0.0], [417192.0, 6426054.71, 0.0], [417193.14, 6426037.75, 0.0], [417193.28, 6426015.71, 0.0], [417192.35, 6425990.43, 0.0], [417188.78, 6425957.08, 0.0], [417182.56, 6425923.12, 0.0], [417174.07, 6425891.94, 0.0], [417161.39, 6425855.83, 0.0], [417145.72, 6425820.82, 0.0], [417143.68, 6425812.99, 0.0], [417142.59, 6425807.81, 0.0]]}}, {\"PopT2016\": 8.19370228963, \"SEC\": 19, \"id_cpt_exp\": \"1869\", \"ident\": 3963, \"nbDeplacement\": 13.43440507546811, \"nb_traj_moy\": 1.6396013182552138, \"tmjo_2_sen\": 980.0, \"trajet_court\": 3963.0, \"type\": \"Feature\", \"geometry\": {\"type\": \"LineString\", \"coordinates\": [[414282.01, 6413182.37, 0.0], [414290.35, 6413185.35, 0.0], [414303.12, 6413187.24, 0.0]]}}, {\"PopT2016\": 95.85131396676998, \"SEC\": 7, \"id_cpt_exp\": \"1418\", \"ident\": 2371, \"nbDeplacement\": 120.05311910361957, \"nb_traj_moy\": 1.2524932015563188, \"tmjo_2_sen\": 297.0, \"trajet_court\": 2371.0, \"type\": \"Feature\", \"geometry\": {\"type\": \"LineString\", \"coordinates\": [[416486.15, 6424809.74, 0.0], [416706.79, 6424826.95, 0.0]]}}, {\"PopT2016\": 70.29229193432998, \"SEC\": 7, \"id_cpt_exp\": \"1419, 1420\", \"ident\": 2528, \"nbDeplacement\": 88.04061776956033, \"nb_traj_moy\": 1.2524932015563186, \"tmjo_2_sen\": 673.0, \"trajet_court\": 2528.0, \"type\": \"Feature\", \"geometry\": {\"type\": \"LineString\", \"coordinates\": [[416504.08, 6425022.41, 0.0], [416682.29, 6425022.6, 0.0]]}}, {\"PopT2016\": 38.4485168965, \"SEC\": 19, \"id_cpt_exp\": \"1866\", \"ident\": 3692, \"nbDeplacement\": 63.040238988459244, \"nb_traj_moy\": 1.6396013182552134, \"tmjo_2_sen\": 1124.0, \"trajet_court\": 3692.0, \"type\": \"Feature\", \"geometry\": {\"type\": \"LineString\", \"coordinates\": [[414514.44, 6413466.39, 0.0], [414572.76, 6413418.72, 0.0]]}}, {\"PopT2016\": 4.93376578392, \"SEC\": 12, \"id_cpt_exp\": \"1083, 1084\", \"ident\": 32747, \"nbDeplacement\": 6.351707525980018, \"nb_traj_moy\": 1.2873954306224542, \"tmjo_2_sen\": 3432.0, \"trajet_court\": 32747.0, \"type\": \"Feature\", \"geometry\": {\"type\": \"LineString\", \"coordinates\": [[421031.19, 6419791.73, 0.0], [421191.9, 6419854.85, 0.0]]}}, {\"PopT2016\": 200.88577635777006, \"SEC\": 7, \"id_cpt_exp\": \"1624\", \"ident\": 33086, \"nbDeplacement\": 251.6080691774699, \"nb_traj_moy\": 1.252493201556319, \"tmjo_2_sen\": 286.0, \"trajet_court\": 33086.0, \"type\": \"Feature\", \"geometry\": {\"type\": \"LineString\", \"coordinates\": [[415797.39, 6426804.33, 0.0], [415921.89, 6426685.54, 0.0], [415924.1, 6426682.84, 0.0], [415925.27, 6426678.13, 0.0], [415925.79, 6426666.74, 0.0], [415926.51, 6426664.0, 0.0], [415928.49, 6426661.92, 0.0], [416063.08, 6426543.32, 0.0], [416068.76, 6426536.62, 0.0], [416076.22, 6426524.4, 0.0], [416080.46, 6426520.83, 0.0], [416086.4, 6426519.11, 0.0], [416093.12, 6426517.38, 0.0]]}}, {\"PopT2016\": 449.6258057976111, \"SEC\": 15, \"id_cpt_exp\": \"1510, 1511\", \"ident\": 19440, \"nbDeplacement\": 820.2234734056179, \"nb_traj_moy\": 1.8242357596681698, \"tmjo_2_sen\": 1155.0, \"trajet_court\": 19440.0, \"type\": \"Feature\", \"geometry\": {\"type\": \"LineString\", \"coordinates\": [[412693.1, 6432271.91, 0.0], [412719.94, 6432332.29, 0.0], [412726.87, 6432356.84, 0.0], [412747.06, 6432439.4, 0.0], [412773.16, 6432553.16, 0.0], [412776.23, 6432564.28, 0.0]]}}, {\"PopT2016\": 309.02636490645, \"SEC\": 2, \"id_cpt_exp\": \"1224\", \"ident\": 21999, \"nbDeplacement\": 202.9501780294177, \"nb_traj_moy\": 0.6567406573573609, \"tmjo_2_sen\": 1204.0, \"trajet_court\": 21999.0, \"type\": \"Feature\", \"geometry\": {\"type\": \"LineString\", \"coordinates\": [[419018.99, 6424025.98, 0.0], [418963.42, 6423994.58, 0.0], [418858.89, 6423935.55, 0.0], [418779.1, 6423889.42, 0.0]]}}, {\"PopT2016\": 413.4840187655603, \"SEC\": 6, \"id_cpt_exp\": \"1224\", \"ident\": 21999, \"nbDeplacement\": 338.27490915674315, \"nb_traj_moy\": 0.8181087872915844, \"tmjo_2_sen\": 1204.0, \"trajet_court\": 21999.0, \"type\": \"Feature\", \"geometry\": {\"type\": \"LineString\", \"coordinates\": [[419018.99, 6424025.98, 0.0], [418963.42, 6423994.58, 0.0], [418858.89, 6423935.55, 0.0], [418779.1, 6423889.42, 0.0]]}}, {\"PopT2016\": 70.27865454893998, \"SEC\": 16, \"id_cpt_exp\": \"239\", \"ident\": 27328, \"nbDeplacement\": 139.41724408064422, \"nb_traj_moy\": 1.9837779333632266, \"tmjo_2_sen\": 202.0, \"trajet_court\": 27328.0, \"type\": \"Feature\", \"geometry\": {\"type\": \"LineString\", \"coordinates\": [[409264.24, 6425614.26, 0.0], [409264.94, 6425618.34, 0.0], [409273.65, 6425719.22, 0.0]]}}, {\"PopT2016\": 470.73537428649087, \"SEC\": 4, \"id_cpt_exp\": \"24, 25\", \"ident\": 25478, \"nbDeplacement\": 261.80899381080667, \"nb_traj_moy\": 0.5561702139076331, \"tmjo_2_sen\": 1158.0, \"trajet_court\": 25478.0, \"type\": \"Feature\", \"geometry\": {\"type\": \"LineString\", \"coordinates\": [[417954.0, 6419139.24, 0.0], [417924.97, 6419030.37, 0.0]]}}, {\"PopT2016\": 421.2772015765498, \"SEC\": 11, \"id_cpt_exp\": \"24, 25\", \"ident\": 25478, \"nbDeplacement\": 517.8009790868045, \"nb_traj_moy\": 1.2291217686336553, \"tmjo_2_sen\": 1158.0, \"trajet_court\": 25478.0, \"type\": \"Feature\", \"geometry\": {\"type\": \"LineString\", \"coordinates\": [[417954.0, 6419139.24, 0.0], [417924.97, 6419030.37, 0.0]]}}, {\"PopT2016\": 980.4850495100601, \"SEC\": 2, \"id_cpt_exp\": \"1446, 1447\", \"ident\": 7729, \"nbDeplacement\": 643.9243959443022, \"nb_traj_moy\": 0.6567406573573609, \"tmjo_2_sen\": 1646.0, \"trajet_court\": 7729.0, \"type\": \"Feature\", \"geometry\": {\"type\": \"LineString\", \"coordinates\": [[418836.89, 6424240.54, 0.0], [418634.45, 6424102.54, 0.0]]}}, {\"PopT2016\": 142.19539057865998, \"SEC\": 6, \"id_cpt_exp\": \"1446, 1447\", \"ident\": 7729, \"nbDeplacement\": 116.33129854476066, \"nb_traj_moy\": 0.818108787291584, \"tmjo_2_sen\": 1646.0, \"trajet_court\": 7729.0, \"type\": \"Feature\", \"geometry\": {\"type\": \"LineString\", \"coordinates\": [[418836.89, 6424240.54, 0.0], [418634.45, 6424102.54, 0.0]]}}, {\"PopT2016\": 272.9110644411502, \"SEC\": 6, \"id_cpt_exp\": \"1442\", \"ident\": 7754, \"nbDeplacement\": 223.27093996840463, \"nb_traj_moy\": 0.8181087872915849, \"tmjo_2_sen\": 324.0, \"trajet_court\": 7754.0, \"type\": \"Feature\", \"geometry\": {\"type\": \"LineString\", \"coordinates\": [[419800.44, 6425406.58, 0.0], [419721.37, 6425427.32, 0.0]]}}, {\"PopT2016\": 60.20233347947999, \"SEC\": 7, \"id_cpt_exp\": \"1599\", \"ident\": 2346, \"nbDeplacement\": 75.40301340087497, \"nb_traj_moy\": 1.2524932015563188, \"tmjo_2_sen\": 2666.0, \"trajet_court\": 2346.0, \"type\": \"Feature\", \"geometry\": {\"type\": \"LineString\", \"coordinates\": [[415280.64, 6424498.01, 0.0], [415269.45, 6424494.58, 0.0], [415028.09, 6424386.05, 0.0], [415017.93, 6424377.97, 0.0]]}}, {\"PopT2016\": 195.88708108879007, \"SEC\": 19, \"id_cpt_exp\": \"1869\", \"ident\": 3858, \"nbDeplacement\": 321.17671638234606, \"nb_traj_moy\": 1.6396013182552156, \"tmjo_2_sen\": 980.0, \"trajet_court\": 3858.0, \"type\": \"Feature\", \"geometry\": {\"type\": \"LineString\", \"coordinates\": [[414303.12, 6413187.24, 0.0], [414293.77, 6413194.28, 0.0], [414286.9, 6413202.88, 0.0]]}}, {\"PopT2016\": 606.93605786967, \"SEC\": 1, \"id_cpt_exp\": \"1\", \"ident\": 22583, \"nbDeplacement\": 191.97272995983136, \"nb_traj_moy\": 0.31629811323725143, \"tmjo_2_sen\": 276.0, \"trajet_court\": 22583.0, \"type\": \"Feature\", \"geometry\": {\"type\": \"LineString\", \"coordinates\": [[417080.76, 6422497.53, 0.0], [417014.21, 6422492.33, 0.0], [416955.24, 6422492.9, 0.0], [416938.42, 6422492.34, 0.0]]}}, {\"PopT2016\": 2.36480436092, \"SEC\": 2, \"id_cpt_exp\": \"1\", \"ident\": 22583, \"nbDeplacement\": 1.5530631705121556, \"nb_traj_moy\": 0.6567406573573613, \"tmjo_2_sen\": 276.0, \"trajet_court\": 22583.0, \"type\": \"Feature\", \"geometry\": {\"type\": \"LineString\", \"coordinates\": [[417080.76, 6422497.53, 0.0], [417014.21, 6422492.33, 0.0], [416955.24, 6422492.9, 0.0], [416938.42, 6422492.34, 0.0]]}}, {\"PopT2016\": 74.42960088962998, \"SEC\": 12, \"id_cpt_exp\": \"914, 915\", \"ident\": 19565, \"nbDeplacement\": 95.82032808836263, \"nb_traj_moy\": 1.2873954306224535, \"tmjo_2_sen\": 959.0, \"trajet_court\": 19565.0, \"type\": \"Feature\", \"geometry\": {\"type\": \"LineString\", \"coordinates\": [[422708.57, 6418530.68, 0.0], [422652.95, 6418511.82, 0.0], [422625.95, 6418504.72, 0.0], [422593.19, 6418497.09, 0.0], [422517.62, 6418481.02, 0.0], [422409.21, 6418456.56, 0.0], [422328.62, 6418437.28, 0.0], [422216.67, 6418411.43, 0.0], [422203.43, 6418408.95, 0.0], [422167.75, 6418404.59, 0.0], [422115.61, 6418396.97, 0.0], [422032.02, 6418387.29, 0.0], [422005.57, 6418382.49, 0.0], [421932.25, 6418367.69, 0.0]]}}, {\"PopT2016\": 304.90056849732997, \"SEC\": 7, \"id_cpt_exp\": \"872, 873\", \"ident\": 2797, \"nbDeplacement\": 381.8858891935621, \"nb_traj_moy\": 1.252493201556319, \"tmjo_2_sen\": 612.0, \"trajet_court\": 2797.0, \"type\": \"Feature\", \"geometry\": {\"type\": \"LineString\", \"coordinates\": [[416540.78, 6426937.59, 0.0], [416590.64, 6426938.1, 0.0]]}}, {\"PopT2016\": 5.881064715439999, \"SEC\": 13, \"id_cpt_exp\": \"109\", \"ident\": 18534, \"nbDeplacement\": 8.83941313931961, \"nb_traj_moy\": 1.5030293946796465, \"tmjo_2_sen\": 166.0, \"trajet_court\": 18534.0, \"type\": \"Feature\", \"geometry\": {\"type\": \"LineString\", \"coordinates\": [[424429.79, 6430243.31, 0.0], [424458.53, 6430244.22, 0.0], [424493.57, 6430246.37, 0.0], [424511.4, 6430250.47, 0.0], [424677.17, 6430294.62, 0.0], [424702.33, 6430298.86, 0.0], [424741.57, 6430302.33, 0.0], [424756.57, 6430302.95, 0.0], [424782.96, 6430307.23, 0.0], [424863.85, 6430330.88, 0.0], [424904.23, 6430340.84, 0.0], [424913.07, 6430348.46, 0.0]]}}, {\"PopT2016\": 37.56236890449999, \"SEC\": 14, \"id_cpt_exp\": \"109\", \"ident\": 18534, \"nbDeplacement\": 77.03654112675481, \"nb_traj_moy\": 2.0508967717828304, \"tmjo_2_sen\": 166.0, \"trajet_court\": 18534.0, \"type\": \"Feature\", \"geometry\": {\"type\": \"LineString\", \"coordinates\": [[424429.79, 6430243.31, 0.0], [424458.53, 6430244.22, 0.0], [424493.57, 6430246.37, 0.0], [424511.4, 6430250.47, 0.0], [424677.17, 6430294.62, 0.0], [424702.33, 6430298.86, 0.0], [424741.57, 6430302.33, 0.0], [424756.57, 6430302.95, 0.0], [424782.96, 6430307.23, 0.0], [424863.85, 6430330.88, 0.0], [424904.23, 6430340.84, 0.0], [424913.07, 6430348.46, 0.0]]}}, {\"PopT2016\": 240.03650186302005, \"SEC\": 7, \"id_cpt_exp\": \"1417\", \"ident\": 19674, \"nbDeplacement\": 300.64408670879294, \"nb_traj_moy\": 1.252493201556319, \"tmjo_2_sen\": 1340.0, \"trajet_court\": 19674.0, \"type\": \"Feature\", \"geometry\": {\"type\": \"LineString\", \"coordinates\": [[416693.82, 6425087.31, 0.0], [416694.78, 6425096.38, 0.0], [416694.24, 6425101.66, 0.0], [416690.89, 6425121.55, 0.0], [416687.87, 6425131.46, 0.0], [416682.66, 6425144.41, 0.0], [416669.68, 6425172.63, 0.0], [416663.36, 6425181.44, 0.0], [416654.09, 6425188.42, 0.0]]}}, {\"PopT2016\": 250.4390493267598, \"SEC\": 16, \"id_cpt_exp\": \"248, 247\", \"ident\": 44712, \"nbDeplacement\": 496.81545970689143, \"nb_traj_moy\": 1.9837779333632277, \"tmjo_2_sen\": 565.0, \"trajet_court\": 44712.0, \"type\": \"Feature\", \"geometry\": {\"type\": \"LineString\", \"coordinates\": [[408792.79, 6425735.8, 0.0], [408751.65, 6425758.07, 0.0], [408742.43, 6425764.56, 0.0]]}}, {\"PopT2016\": 11.30069925854, \"SEC\": 1, \"id_cpt_exp\": \"57\", \"ident\": 8838, \"nbDeplacement\": 3.5743898537377974, \"nb_traj_moy\": 0.3162981132372505, \"tmjo_2_sen\": 128.0, \"trajet_court\": 8838.0, \"type\": \"Feature\", \"geometry\": {\"type\": \"LineString\", \"coordinates\": [[417933.8, 6420899.09, 0.0], [417924.3, 6420826.03, 0.0]]}}, {\"PopT2016\": 103.77647221427, \"SEC\": 4, \"id_cpt_exp\": \"57\", \"ident\": 8838, \"nbDeplacement\": 57.71738274998994, \"nb_traj_moy\": 0.5561702139076314, \"tmjo_2_sen\": 128.0, \"trajet_court\": 8838.0, \"type\": \"Feature\", \"geometry\": {\"type\": \"LineString\", \"coordinates\": [[417933.8, 6420899.09, 0.0], [417924.3, 6420826.03, 0.0]]}}, {\"PopT2016\": 11.30069925854, \"SEC\": 1, \"id_cpt_exp\": \"58\", \"ident\": 8840, \"nbDeplacement\": 3.5743898537377974, \"nb_traj_moy\": 0.3162981132372505, \"tmjo_2_sen\": 262.0, \"trajet_court\": 8840.0, \"type\": \"Feature\", \"geometry\": {\"type\": \"LineString\", \"coordinates\": [[417924.18, 6420814.04, 0.0], [417917.75, 6420770.12, 0.0]]}}, {\"PopT2016\": 162.95856450332, \"SEC\": 4, \"id_cpt_exp\": \"58\", \"ident\": 8840, \"nbDeplacement\": 90.6326996778921, \"nb_traj_moy\": 0.5561702139076315, \"tmjo_2_sen\": 262.0, \"trajet_court\": 8840.0, \"type\": \"Feature\", \"geometry\": {\"type\": \"LineString\", \"coordinates\": [[417924.18, 6420814.04, 0.0], [417917.75, 6420770.12, 0.0]]}}, {\"PopT2016\": 11.30069925854, \"SEC\": 1, \"id_cpt_exp\": \"59\", \"ident\": 8844, \"nbDeplacement\": 3.5743898537377974, \"nb_traj_moy\": 0.3162981132372505, \"tmjo_2_sen\": 370.0, \"trajet_court\": 8844.0, \"type\": \"Feature\", \"geometry\": {\"type\": \"LineString\", \"coordinates\": [[417900.43, 6420636.35, 0.0], [417900.95, 6420631.98, 0.0], [417900.01, 6420627.31, 0.0], [417898.0, 6420618.96, 0.0], [417893.89, 6420586.18, 0.0], [417893.64, 6420583.41, 0.0], [417894.88, 6420579.85, 0.0]]}}, {\"PopT2016\": 926.4339267763199, \"SEC\": 4, \"id_cpt_exp\": \"59\", \"ident\": 8844, \"nbDeplacement\": 515.254955226473, \"nb_traj_moy\": 0.5561702139076309, \"tmjo_2_sen\": 370.0, \"trajet_court\": 8844.0, \"type\": \"Feature\", \"geometry\": {\"type\": \"LineString\", \"coordinates\": [[417900.43, 6420636.35, 0.0], [417900.95, 6420631.98, 0.0], [417900.01, 6420627.31, 0.0], [417898.0, 6420618.96, 0.0], [417893.89, 6420586.18, 0.0], [417893.64, 6420583.41, 0.0], [417894.88, 6420579.85, 0.0]]}}, {\"PopT2016\": 140.62377011801004, \"SEC\": 12, \"id_cpt_exp\": \"1182, 1183\", \"ident\": 37624, \"nbDeplacement\": 181.03839908682843, \"nb_traj_moy\": 1.2873954306224535, \"tmjo_2_sen\": 2261.0, \"trajet_court\": 37624.0, \"type\": \"Feature\", \"geometry\": {\"type\": \"LineString\", \"coordinates\": [[423834.48, 6421954.16, 0.0], [423840.96, 6421962.27, 0.0], [423851.77, 6421974.5, 0.0], [423859.13, 6421982.53, 0.0], [423868.31, 6421990.12, 0.0], [423877.34, 6421996.23, 0.0], [423902.97, 6422011.51, 0.0], [423913.54, 6422018.81, 0.0], [423921.31, 6422026.86, 0.0], [423940.83, 6422050.24, 0.0], [423945.19, 6422058.62, 0.0], [423955.21, 6422083.95, 0.0]]}}, {\"PopT2016\": 98.18212657748002, \"SEC\": 16, \"id_cpt_exp\": \"229, 230\", \"ident\": 21275, \"nbDeplacement\": 194.77153615508004, \"nb_traj_moy\": 1.9837779333632273, \"tmjo_2_sen\": 388.0, \"trajet_court\": 21275.0, \"type\": \"Feature\", \"geometry\": {\"type\": \"LineString\", \"coordinates\": [[409726.48, 6426335.72, 0.0], [409737.11, 6426336.68, 0.0], [409861.68, 6426342.65, 0.0]]}}, {\"PopT2016\": 577.7195680511503, \"SEC\": 2, \"id_cpt_exp\": \"987\", \"ident\": 9803, \"nbDeplacement\": 379.41192889012325, \"nb_traj_moy\": 0.6567406573573608, \"tmjo_2_sen\": 1328.0, \"trajet_court\": 9803.0, \"type\": \"Feature\", \"geometry\": {\"type\": \"LineString\", \"coordinates\": [[416369.69, 6423143.11, 0.0], [416362.0, 6423145.36, 0.0], [416299.56, 6423173.18, 0.0], [416292.33, 6423177.18, 0.0]]}}, {\"PopT2016\": 30.314834609549994, \"SEC\": 7, \"id_cpt_exp\": \"677\", \"ident\": 2453, \"nbDeplacement\": 37.96912425476554, \"nb_traj_moy\": 1.2524932015563182, \"tmjo_2_sen\": 375.0, \"trajet_court\": 2453.0, \"type\": \"Feature\", \"geometry\": {\"type\": \"LineString\", \"coordinates\": [[415295.63, 6425499.02, 0.0], [415269.73, 6425590.23, 0.0]]}}, {\"PopT2016\": 53.4452249289, \"SEC\": 4, \"id_cpt_exp\": \"1486\", \"ident\": 7673, \"nbDeplacement\": 29.7246421810478, \"nb_traj_moy\": 0.5561702139076317, \"tmjo_2_sen\": 690.0, \"trajet_court\": 7673.0, \"type\": \"Feature\", \"geometry\": {\"type\": \"LineString\", \"coordinates\": [[419293.79, 6419528.18, 0.0], [419333.96, 6419519.56, 0.0]]}}, {\"PopT2016\": 33.11744457921, \"SEC\": 2, \"id_cpt_exp\": \"4\", \"ident\": 7181, \"nbDeplacement\": 21.749572322946356, \"nb_traj_moy\": 0.6567406573573614, \"tmjo_2_sen\": 4869.0, \"trajet_court\": 7181.0, \"type\": \"Feature\", \"geometry\": {\"type\": \"LineString\", \"coordinates\": [[416835.13, 6422342.2, 0.0], [416965.91, 6422351.02, 0.0]]}}, {\"PopT2016\": 165.47433227691005, \"SEC\": 18, \"id_cpt_exp\": \"1075, 1076\", \"ident\": 13323, \"nbDeplacement\": 293.2266559594842, \"nb_traj_moy\": 1.772037100405331, \"tmjo_2_sen\": 2944.0, \"trajet_court\": 13323.0, \"type\": \"Feature\", \"geometry\": {\"type\": \"LineString\", \"coordinates\": [[408742.62, 6416598.11, 0.0], [408617.94, 6416623.23, 0.0]]}}, {\"PopT2016\": 670.1545914945202, \"SEC\": 18, \"id_cpt_exp\": \"1077, 1078\", \"ident\": 46891, \"nbDeplacement\": 1187.5387991352736, \"nb_traj_moy\": 1.7720371004053286, \"tmjo_2_sen\": 3650.0, \"trajet_court\": 46891.0, \"type\": \"Feature\", \"geometry\": {\"type\": \"LineString\", \"coordinates\": [[408269.75, 6416628.82, 0.0], [408266.51, 6416619.02, 0.0], [408173.05, 6416559.46, 0.0], [408163.44, 6416552.38, 0.0]]}}, {\"PopT2016\": 41.019639739419986, \"SEC\": 8, \"id_cpt_exp\": \"436, 437\", \"ident\": 11952, \"nbDeplacement\": 64.417783855603, \"nb_traj_moy\": 1.570413203646382, \"tmjo_2_sen\": 2716.0, \"trajet_court\": 11952.0, \"type\": \"Feature\", \"geometry\": {\"type\": \"LineString\", \"coordinates\": [[411144.15, 6422330.69, 0.0], [411121.74, 6422222.95, 0.0]]}}, {\"PopT2016\": 337.17061222783946, \"SEC\": 11, \"id_cpt_exp\": \"520, 521\", \"ident\": 17689, \"nbDeplacement\": 414.4237392327743, \"nb_traj_moy\": 1.2291217686336529, \"tmjo_2_sen\": 339.0, \"trajet_court\": 17689.0, \"type\": \"Feature\", \"geometry\": {\"type\": \"LineString\", \"coordinates\": [[417956.49, 6416772.22, 0.0], [417708.91, 6416741.88, 0.0]]}}, {\"PopT2016\": 63.58883701444, \"SEC\": 19, \"id_cpt_exp\": \"1440\", \"ident\": 17562, \"nbDeplacement\": 104.26034099519175, \"nb_traj_moy\": 1.6396013182552147, \"tmjo_2_sen\": 2226.0, \"trajet_court\": 17562.0, \"type\": \"Feature\", \"geometry\": {\"type\": \"LineString\", \"coordinates\": [[417790.66, 6415730.15, 0.0], [417796.82, 6415724.58, 0.0], [417821.94, 6415694.66, 0.0], [417833.2, 6415683.52, 0.0], [417844.01, 6415677.85, 0.0]]}}, {\"PopT2016\": 382.1494758615908, \"SEC\": 3, \"id_cpt_exp\": \"83\", \"ident\": 10524, \"nbDeplacement\": 480.25972797411015, \"nb_traj_moy\": 1.256732661719146, \"tmjo_2_sen\": 1856.0, \"trajet_court\": 10524.0, \"type\": \"Feature\", \"geometry\": {\"type\": \"LineString\", \"coordinates\": [[415997.32, 6420442.31, 0.0], [415955.44, 6420566.04, 0.0]]}}, {\"PopT2016\": 158.74532995472995, \"SEC\": 1, \"id_cpt_exp\": \"Z2CT24\", \"ident\": 38986, \"nbDeplacement\": 50.21084834990587, \"nb_traj_moy\": 0.3162981132372505, \"tmjo_2_sen\": 2659.0, \"trajet_court\": 38986.0, \"type\": \"Feature\", \"geometry\": {\"type\": \"LineString\", \"coordinates\": [[417527.89, 6421758.2, 0.0], [417638.85, 6421764.71, 0.0], [417645.82, 6421764.36, 0.0], [417655.16, 6421763.85, 0.0], [417667.04, 6421764.14, 0.0]]}}, {\"PopT2016\": 679.8362126725804, \"SEC\": 9, \"id_cpt_exp\": \"1288, 1287\", \"ident\": 23574, \"nbDeplacement\": 886.877038443634, \"nb_traj_moy\": 1.3045451564828148, \"tmjo_2_sen\": 2082.0, \"trajet_court\": 23574.0, \"type\": \"Feature\", \"geometry\": {\"type\": \"LineString\", \"coordinates\": [[411895.02, 6418134.0, 0.0], [411897.44, 6418070.74, 0.0], [411899.69, 6418055.54, 0.0], [411903.01, 6418039.79, 0.0], [411908.36, 6418022.58, 0.0], [411916.16, 6417999.61, 0.0], [411918.74, 6417992.78, 0.0], [411921.29, 6417984.69, 0.0], [411924.79, 6417970.17, 0.0], [411932.07, 6417937.26, 0.0], [411933.92, 6417924.31, 0.0], [411937.0, 6417902.77, 0.0], [411937.35, 6417895.87, 0.0], [411937.11, 6417878.24, 0.0], [411936.12, 6417861.06, 0.0], [411935.42, 6417857.05, 0.0], [411933.85, 6417852.48, 0.0], [411931.37, 6417848.6, 0.0]]}}, {\"PopT2016\": 375.7158637175297, \"SEC\": 4, \"id_cpt_exp\": \"1092\", \"ident\": 39715, \"nbDeplacement\": 208.96197229226894, \"nb_traj_moy\": 0.5561702139076329, \"tmjo_2_sen\": 729.0, \"trajet_court\": 39715.0, \"type\": \"Feature\", \"geometry\": {\"type\": \"LineString\", \"coordinates\": [[415901.33, 6421247.66, 0.0], [415922.57, 6421255.07, 0.0], [415983.66, 6421276.4, 0.0], [416019.55, 6421288.97, 0.0], [416023.19, 6421290.6, 0.0], [416028.71, 6421294.9, 0.0]]}}, {\"PopT2016\": 71.79227121818002, \"SEC\": 1, \"id_cpt_exp\": \"1518\", \"ident\": 7455, \"nbDeplacement\": 22.7077599313273, \"nb_traj_moy\": 0.3162981132372505, \"tmjo_2_sen\": 1780.0, \"trajet_court\": 7455.0, \"type\": \"Feature\", \"geometry\": {\"type\": \"LineString\", \"coordinates\": [[418076.32, 6421015.18, 0.0], [418067.89, 6421024.06, 0.0], [417952.45, 6421042.76, 0.0]]}}, {\"PopT2016\": 163.53892845316, \"SEC\": 15, \"id_cpt_exp\": \"132, 133\", \"ident\": 48151, \"nbDeplacement\": 298.3335613820688, \"nb_traj_moy\": 1.8242357596681698, \"tmjo_2_sen\": 439.0, \"trajet_court\": 48151.0, \"type\": \"Feature\", \"geometry\": {\"type\": \"LineString\", \"coordinates\": [[413463.65, 6433099.14, 0.0], [413305.11, 6433153.41, 0.0]]}}, {\"PopT2016\": 39.956679184750016, \"SEC\": 2, \"id_cpt_exp\": \"1239\", \"ident\": 9313, \"nbDeplacement\": 26.24117575360991, \"nb_traj_moy\": 0.6567406573573613, \"tmjo_2_sen\": 365.0, \"trajet_court\": 9313.0, \"type\": \"Feature\", \"geometry\": {\"type\": \"LineString\", \"coordinates\": [[416295.97, 6423052.85, 0.0], [416261.18, 6422858.63, 0.0]]}}, {\"PopT2016\": 1418.4662646575157, \"SEC\": 11, \"id_cpt_exp\": \"1178, 1179\", \"ident\": 19034, \"nbDeplacement\": 1743.467763963023, \"nb_traj_moy\": 1.2291217686336569, \"tmjo_2_sen\": 2297.0, \"trajet_court\": 19034.0, \"type\": \"Feature\", \"geometry\": {\"type\": \"LineString\", \"coordinates\": [[419703.81, 6419409.24, 0.0], [419748.33, 6419343.21, 0.0], [419754.18, 6419338.52, 0.0], [419829.58, 6419320.81, 0.0]]}}, {\"PopT2016\": 13.46473432616, \"SEC\": 3, \"id_cpt_exp\": \"764\", \"ident\": 26717, \"nbDeplacement\": 16.921571409056167, \"nb_traj_moy\": 1.256732661719143, \"tmjo_2_sen\": 2561.0, \"trajet_court\": 26717.0, \"type\": \"Feature\", \"geometry\": {\"type\": \"LineString\", \"coordinates\": [[415806.57, 6420936.04, 0.0], [415773.95, 6420903.68, 0.0], [415693.49, 6420758.24, 0.0]]}}, {\"PopT2016\": 32.922890466949994, \"SEC\": 3, \"id_cpt_exp\": \"767\", \"ident\": 9647, \"nbDeplacement\": 41.37527176801788, \"nb_traj_moy\": 1.2567326617191426, \"tmjo_2_sen\": 1055.0, \"trajet_court\": 9647.0, \"type\": \"Feature\", \"geometry\": {\"type\": \"LineString\", \"coordinates\": [[415766.59, 6420761.46, 0.0], [415888.43, 6420852.21, 0.0]]}}, {\"PopT2016\": 404.9683193947502, \"SEC\": 7, \"id_cpt_exp\": \"177, 178\", \"ident\": 19805, \"nbDeplacement\": 507.22006688761167, \"nb_traj_moy\": 1.2524932015563193, \"tmjo_2_sen\": 2632.0, \"trajet_court\": 19805.0, \"type\": \"Feature\", \"geometry\": {\"type\": \"LineString\", \"coordinates\": [[414058.84, 6426718.71, 0.0], [414082.63, 6426755.63, 0.0], [414090.55, 6426770.57, 0.0], [414118.31, 6426832.32, 0.0], [414121.4, 6426836.39, 0.0], [414126.2, 6426840.52, 0.0], [414129.01, 6426841.72, 0.0], [414132.1, 6426842.52, 0.0], [414136.37, 6426842.59, 0.0], [414138.92, 6426841.75, 0.0], [414141.67, 6426840.32, 0.0], [414145.77, 6426837.12, 0.0], [414153.89, 6426830.42, 0.0], [414157.55, 6426828.39, 0.0], [414161.83, 6426827.15, 0.0], [414166.12, 6426827.17, 0.0], [414170.5, 6426828.09, 0.0], [414173.74, 6426829.83, 0.0], [414176.56, 6426832.17, 0.0], [414178.77, 6426835.94, 0.0], [414179.88, 6426840.16, 0.0], [414180.49, 6426846.11, 0.0], [414179.66, 6426850.41, 0.0], [414178.32, 6426854.15, 0.0], [414174.65, 6426861.64, 0.0]]}}, {\"PopT2016\": 346.55639069695013, \"SEC\": 17, \"id_cpt_exp\": \"846, 847\", \"ident\": 14817, \"nbDeplacement\": 653.3390420531041, \"nb_traj_moy\": 1.88523155131894, \"tmjo_2_sen\": 822.0, \"trajet_court\": 14817.0, \"type\": \"Feature\", \"geometry\": {\"type\": \"LineString\", \"coordinates\": [[402647.24, 6428799.51, 0.0], [402636.07, 6428795.27, 0.0], [402631.96, 6428792.03, 0.0], [402610.09, 6428763.49, 0.0], [402564.0, 6428704.12, 0.0], [402440.93, 6428542.17, 0.0], [402434.49, 6428532.76, 0.0]]}}, {\"PopT2016\": 316.98252682617033, \"SEC\": 7, \"id_cpt_exp\": \"155, 156\", \"ident\": 43606, \"nbDeplacement\": 397.01845986192114, \"nb_traj_moy\": 1.252493201556319, \"tmjo_2_sen\": 3812.0, \"trajet_court\": 43606.0, \"type\": \"Feature\", \"geometry\": {\"type\": \"LineString\", \"coordinates\": [[417142.59, 6425807.81, 0.0], [417142.06, 6425807.91, 0.0], [417139.35, 6425807.74, 0.0], [417136.77, 6425806.91, 0.0], [417134.47, 6425805.46, 0.0], [417132.61, 6425803.48, 0.0], [417131.3, 6425801.11, 0.0], [417130.62, 6425798.48, 0.0], [417130.62, 6425795.77, 0.0], [417131.06, 6425794.04, 0.0]]}}, {\"PopT2016\": 71.83904430166001, \"SEC\": 9, \"id_cpt_exp\": \"960, 959\", \"ident\": 13751, \"nbDeplacement\": 93.71727729008478, \"nb_traj_moy\": 1.3045451564828128, \"tmjo_2_sen\": 578.0, \"trajet_court\": 13751.0, \"type\": \"Feature\", \"geometry\": {\"type\": \"LineString\", \"coordinates\": [[411042.71, 6418720.86, 0.0], [410916.29, 6418688.3, 0.0]]}}, {\"PopT2016\": 64.82503628405, \"SEC\": 4, \"id_cpt_exp\": \"1486\", \"ident\": 10368, \"nbDeplacement\": 36.05375429667007, \"nb_traj_moy\": 0.5561702139076318, \"tmjo_2_sen\": 690.0, \"trajet_court\": 10368.0, \"type\": \"Feature\", \"geometry\": {\"type\": \"LineString\", \"coordinates\": [[419349.16, 6419377.84, 0.0], [419413.74, 6419444.5, 0.0]]}}, {\"PopT2016\": 95.87906152575998, \"SEC\": 7, \"id_cpt_exp\": \"146, 147\", \"ident\": 2224, \"nbDeplacement\": 120.08787273261433, \"nb_traj_moy\": 1.2524932015563188, \"tmjo_2_sen\": 688.0, \"trajet_court\": 2224.0, \"type\": \"Feature\", \"geometry\": {\"type\": \"LineString\", \"coordinates\": [[416547.0, 6424970.84, 0.0], [416684.15, 6424954.29, 0.0]]}}, {\"PopT2016\": 47.16825414464999, \"SEC\": 18, \"id_cpt_exp\": \"894, 895\", \"ident\": 14136, \"nbDeplacement\": 83.5838963056674, \"nb_traj_moy\": 1.7720371004053328, \"tmjo_2_sen\": 2327.0, \"trajet_court\": 14136.0, \"type\": \"Feature\", \"geometry\": {\"type\": \"LineString\", \"coordinates\": [[404962.04, 6415640.35, 0.0], [404698.45, 6415474.21, 0.0]]}}, {\"PopT2016\": 108.91727343843003, \"SEC\": 18, \"id_cpt_exp\": \"309, 310\", \"ident\": 24059, \"nbDeplacement\": 193.00544940789027, \"nb_traj_moy\": 1.7720371004053324, \"tmjo_2_sen\": 1456.0, \"trajet_court\": 24059.0, \"type\": \"Feature\", \"geometry\": {\"type\": \"LineString\", \"coordinates\": [[410313.0, 6415953.64, 0.0], [409735.15, 6415731.71, 0.0], [409614.96, 6415687.62, 0.0], [409417.05, 6415634.29, 0.0], [409411.0, 6415638.77, 0.0], [409260.88, 6416002.1, 0.0]]}}, {\"PopT2016\": 179.91317949057995, \"SEC\": 16, \"id_cpt_exp\": \"1451\", \"ident\": 15860, \"nbDeplacement\": 356.9077953946296, \"nb_traj_moy\": 1.9837779333632277, \"tmjo_2_sen\": 1518.0, \"trajet_court\": 15860.0, \"type\": \"Feature\", \"geometry\": {\"type\": \"LineString\", \"coordinates\": [[411348.09, 6430034.5, 0.0], [411336.69, 6429969.05, 0.0]]}}, {\"PopT2016\": 162.29544884907997, \"SEC\": 16, \"id_cpt_exp\": \"1452\", \"ident\": 24751, \"nbDeplacement\": 321.9581301120848, \"nb_traj_moy\": 1.9837779333632277, \"tmjo_2_sen\": 1204.0, \"trajet_court\": 24751.0, \"type\": \"Feature\", \"geometry\": {\"type\": \"LineString\", \"coordinates\": [[411359.11, 6430294.83, 0.0], [411367.9, 6430280.14, 0.0], [411368.75, 6430248.76, 0.0], [411366.34, 6430194.83, 0.0], [411373.17, 6430148.11, 0.0], [411372.99, 6430129.87, 0.0], [411370.05, 6430109.23, 0.0], [411348.09, 6430034.5, 0.0]]}}, {\"PopT2016\": 1466.580395023702, \"SEC\": 7, \"id_cpt_exp\": \"163, 164\", \"ident\": 36430, \"nbDeplacement\": 1836.8819743029635, \"nb_traj_moy\": 1.2524932015563193, \"tmjo_2_sen\": 2416.0, \"trajet_court\": 36430.0, \"type\": \"Feature\", \"geometry\": {\"type\": \"LineString\", \"coordinates\": [[415827.59, 6427177.54, 0.0], [415828.58, 6427175.95, 0.0], [415831.44, 6427172.93, 0.0], [415834.91, 6427170.6, 0.0], [415838.65, 6427168.72, 0.0], [415874.1, 6427154.53, 0.0], [415920.1, 6427136.44, 0.0]]}}, {\"PopT2016\": 8.820735571530001, \"SEC\": 17, \"id_cpt_exp\": \"365, 366\", \"ident\": 15378, \"nbDeplacement\": 16.62912900528967, \"nb_traj_moy\": 1.885231551318941, \"tmjo_2_sen\": 205.0, \"trajet_court\": 15378.0, \"type\": \"Feature\", \"geometry\": {\"type\": \"LineString\", \"coordinates\": [[408189.28, 6425924.51, 0.0], [408190.73, 6425970.47, 0.0]]}}, {\"PopT2016\": 25.542098373769996, \"SEC\": 10, \"id_cpt_exp\": \"716, 717\", \"ident\": 30793, \"nbDeplacement\": 23.02160295162619, \"nb_traj_moy\": 0.9013199547954062, \"tmjo_2_sen\": 822.0, \"trajet_court\": 30793.0, \"type\": \"Feature\", \"geometry\": {\"type\": \"LineString\", \"coordinates\": [[416187.55, 6416409.07, 0.0], [416204.75, 6416259.32, 0.0]]}}, {\"PopT2016\": 218.76336569625005, \"SEC\": 11, \"id_cpt_exp\": \"716, 717\", \"ident\": 30793, \"nbDeplacement\": 268.8868149568253, \"nb_traj_moy\": 1.2291217686336524, \"tmjo_2_sen\": 822.0, \"trajet_court\": 30793.0, \"type\": \"Feature\", \"geometry\": {\"type\": \"LineString\", \"coordinates\": [[416187.55, 6416409.07, 0.0], [416204.75, 6416259.32, 0.0]]}}, {\"PopT2016\": 72.96024533482003, \"SEC\": 17, \"id_cpt_exp\": \"565\", \"ident\": 15109, \"nbDeplacement\": 137.54695649717328, \"nb_traj_moy\": 1.8852315513189402, \"tmjo_2_sen\": 395.0, \"trajet_court\": 15109.0, \"type\": \"Feature\", \"geometry\": {\"type\": \"LineString\", \"coordinates\": [[404861.18, 6429000.94, 0.0], [404829.65, 6429031.04, 0.0], [404727.69, 6429127.88, 0.0], [404681.32, 6429170.99, 0.0]]}}, {\"PopT2016\": 297.3380136496792, \"SEC\": 19, \"id_cpt_exp\": \"1914\", \"ident\": 17450, \"nbDeplacement\": 487.5157991474024, \"nb_traj_moy\": 1.639601318255216, \"tmjo_2_sen\": 234.0, \"trajet_court\": 17450.0, \"type\": \"Feature\", \"geometry\": {\"type\": \"LineString\", \"coordinates\": [[417461.78, 6412973.28, 0.0], [417533.07, 6413026.25, 0.0]]}}, {\"PopT2016\": 145.64689155009995, \"SEC\": 16, \"id_cpt_exp\": \"1744, 1743\", \"ident\": 24776, \"nbDeplacement\": 288.9310895200351, \"nb_traj_moy\": 1.9837779333632275, \"tmjo_2_sen\": 263.0, \"trajet_court\": 24776.0, \"type\": \"Feature\", \"geometry\": {\"type\": \"LineString\", \"coordinates\": [[409754.17, 6431442.05, 0.0], [409731.29, 6431488.72, 0.0], [409568.41, 6431820.93, 0.0], [409493.0, 6431976.6, 0.0]]}}, {\"PopT2016\": 773.2717512812702, \"SEC\": 1, \"id_cpt_exp\": \"1799\", \"ident\": 38245, \"nbDeplacement\": 244.58439594993018, \"nb_traj_moy\": 0.3162981132372507, \"tmjo_2_sen\": 390.0, \"trajet_court\": 38245.0, \"type\": \"Feature\", \"geometry\": {\"type\": \"LineString\", \"coordinates\": [[418804.95, 6420799.32, 0.0], [418747.71, 6420854.26, 0.0]]}}, {\"PopT2016\": 214.2026200436898, \"SEC\": 18, \"id_cpt_exp\": \"628, 629\", \"ident\": 24075, \"nbDeplacement\": 379.5749897214452, \"nb_traj_moy\": 1.7720371004053301, \"tmjo_2_sen\": 461.0, \"trajet_court\": 24075.0, \"type\": \"Feature\", \"geometry\": {\"type\": \"LineString\", \"coordinates\": [[410584.39, 6417453.93, 0.0], [410610.61, 6417412.96, 0.0], [410670.49, 6417281.58, 0.0]]}}, {\"PopT2016\": 361.11319136810033, \"SEC\": 3, \"id_cpt_exp\": \"736\", \"ident\": 22268, \"nbDeplacement\": 453.8227421699259, \"nb_traj_moy\": 1.2567326617191428, \"tmjo_2_sen\": 1368.0, \"trajet_court\": 22268.0, \"type\": \"Feature\", \"geometry\": {\"type\": \"LineString\", \"coordinates\": [[415232.86, 6419960.1, 0.0], [415249.2, 6419976.02, 0.0], [415256.65, 6419980.25, 0.0], [415296.42, 6419997.46, 0.0]]}}, {\"PopT2016\": 145.50779934536996, \"SEC\": 9, \"id_cpt_exp\": \"736\", \"ident\": 22268, \"nbDeplacement\": 189.8214948664754, \"nb_traj_moy\": 1.304545156482812, \"tmjo_2_sen\": 1368.0, \"trajet_court\": 22268.0, \"type\": \"Feature\", \"geometry\": {\"type\": \"LineString\", \"coordinates\": [[415232.86, 6419960.1, 0.0], [415249.2, 6419976.02, 0.0], [415256.65, 6419980.25, 0.0], [415296.42, 6419997.46, 0.0]]}}, {\"PopT2016\": 84.97102131477995, \"SEC\": 9, \"id_cpt_exp\": \"1081, 1082\", \"ident\": 24040, \"nbDeplacement\": 110.84853429759407, \"nb_traj_moy\": 1.3045451564828119, \"tmjo_2_sen\": 109.0, \"trajet_court\": 24040.0, \"type\": \"Feature\", \"geometry\": {\"type\": \"LineString\", \"coordinates\": [[412563.52, 6417795.17, 0.0], [412569.07, 6417733.66, 0.0], [412570.04, 6417720.15, 0.0], [412570.05, 6417706.66, 0.0], [412568.33, 6417626.43, 0.0]]}}, {\"PopT2016\": 108.01855336988987, \"SEC\": 19, \"id_cpt_exp\": \"653, 654\", \"ident\": 25369, \"nbDeplacement\": 177.10736250129276, \"nb_traj_moy\": 1.6396013182552154, \"tmjo_2_sen\": 1482.0, \"trajet_court\": 25369.0, \"type\": \"Feature\", \"geometry\": {\"type\": \"LineString\", \"coordinates\": [[416430.23, 6414567.51, 0.0], [416431.03, 6414632.95, 0.0], [416434.42, 6414646.94, 0.0], [416442.58, 6414659.86, 0.0], [416455.84, 6414668.62, 0.0], [416481.04, 6414675.21, 0.0], [416493.27, 6414683.81, 0.0]]}}, {\"PopT2016\": 261.5179092247597, \"SEC\": 4, \"id_cpt_exp\": \"22, 23\", \"ident\": 8466, \"nbDeplacement\": 145.44847151421126, \"nb_traj_moy\": 0.5561702139076324, \"tmjo_2_sen\": 1115.0, \"trajet_court\": 8466.0, \"type\": \"Feature\", \"geometry\": {\"type\": \"LineString\", \"coordinates\": [[417897.39, 6419017.07, 0.0], [417921.73, 6418951.86, 0.0]]}}, {\"PopT2016\": 415.62642491369985, \"SEC\": 11, \"id_cpt_exp\": \"22, 23\", \"ident\": 8466, \"nbDeplacement\": 510.8554864808085, \"nb_traj_moy\": 1.2291217686336553, \"tmjo_2_sen\": 1115.0, \"trajet_court\": 8466.0, \"type\": \"Feature\", \"geometry\": {\"type\": \"LineString\", \"coordinates\": [[417897.39, 6419017.07, 0.0], [417921.73, 6418951.86, 0.0]]}}, {\"PopT2016\": 1856.02147269036, \"SEC\": 19, \"id_cpt_exp\": \"219\", \"ident\": 20757, \"nbDeplacement\": 3043.1352533330964, \"nb_traj_moy\": 1.6396013182552134, \"tmjo_2_sen\": 300.0, \"trajet_court\": 20757.0, \"type\": \"Feature\", \"geometry\": {\"type\": \"LineString\", \"coordinates\": [[414679.08, 6416557.58, 0.0], [414625.0, 6416573.28, 0.0], [414610.1, 6416578.01, 0.0], [414589.93, 6416580.63, 0.0], [414512.88, 6416582.18, 0.0], [414497.06, 6416580.72, 0.0], [414475.51, 6416577.42, 0.0], [414460.84, 6416572.17, 0.0], [414445.73, 6416563.0, 0.0], [414428.57, 6416545.18, 0.0], [414398.78, 6416494.82, 0.0], [414382.75, 6416490.98, 0.0]]}}, {\"PopT2016\": 441.5956635295, \"SEC\": 11, \"id_cpt_exp\": \"1609, 1610\", \"ident\": 48689, \"nbDeplacement\": 542.7748429783301, \"nb_traj_moy\": 1.229121768633652, \"tmjo_2_sen\": 1672.0, \"trajet_court\": 48689.0, \"type\": \"Feature\", \"geometry\": {\"type\": \"LineString\", \"coordinates\": [[418376.7, 6415883.42, 0.0], [418379.42, 6415885.75, 0.0], [418387.09, 6415893.45, 0.0], [418442.52, 6415955.01, 0.0], [418449.41, 6415963.06, 0.0]]}}, {\"PopT2016\": 503.6757823166209, \"SEC\": 18, \"id_cpt_exp\": \"625\", \"ident\": 49297, \"nbDeplacement\": 892.5321728407283, \"nb_traj_moy\": 1.7720371004053288, \"tmjo_2_sen\": 700.0, \"trajet_court\": 49297.0, \"type\": \"Feature\", \"geometry\": {\"type\": \"LineString\", \"coordinates\": [[410383.22, 6417485.32, 0.0], [410466.81, 6417510.27, 0.0], [410526.05, 6417530.38, 0.0], [410534.38, 6417536.14, 0.0]]}}, {\"PopT2016\": 471.7738008650295, \"SEC\": 11, \"id_cpt_exp\": \"124\", \"ident\": 49386, \"nbDeplacement\": 579.8674485142452, \"nb_traj_moy\": 1.2291217686336526, \"tmjo_2_sen\": 3190.0, \"trajet_court\": 49386.0, \"type\": \"Feature\", \"geometry\": {\"type\": \"LineString\", \"coordinates\": [[419307.65, 6418718.91, 0.0], [419307.91, 6418719.14, 0.0], [419316.02, 6418725.25, 0.0]]}}, {\"PopT2016\": 423.3139556319002, \"SEC\": 7, \"id_cpt_exp\": \"1424, 1425\", \"ident\": 6932, \"nbDeplacement\": 530.1978515528675, \"nb_traj_moy\": 1.252493201556319, \"tmjo_2_sen\": 775.0, \"trajet_court\": 6932.0, \"type\": \"Feature\", \"geometry\": {\"type\": \"LineString\", \"coordinates\": [[417192.09, 6425566.36, 0.0], [417197.28, 6425568.91, 0.0], [417629.01, 6425539.52, 0.0]]}}, {\"PopT2016\": 187.69337879916006, \"SEC\": 19, \"id_cpt_exp\": \"1869\", \"ident\": 20629, \"nbDeplacement\": 307.7423113068779, \"nb_traj_moy\": 1.6396013182552158, \"tmjo_2_sen\": 980.0, \"trajet_court\": 20629.0, \"type\": \"Feature\", \"geometry\": {\"type\": \"LineString\", \"coordinates\": [[414303.12, 6413187.24, 0.0], [414313.96, 6413184.1, 0.0], [414368.84, 6413173.46, 0.0], [414390.79, 6413168.29, 0.0], [414435.78, 6413155.51, 0.0], [414489.66, 6413139.16, 0.0]]}}, {\"PopT2016\": 88.29591428890998, \"SEC\": 15, \"id_cpt_exp\": \"130, 131\", \"ident\": 1893, \"nbDeplacement\": 161.07256427842523, \"nb_traj_moy\": 1.8242357596681695, \"tmjo_2_sen\": 1468.0, \"trajet_court\": 1893.0, \"type\": \"Feature\", \"geometry\": {\"type\": \"LineString\", \"coordinates\": [[413512.26, 6433445.63, 0.0], [413542.1, 6433445.24, 0.0], [413552.91, 6433449.69, 0.0]]}}, {\"PopT2016\": 265.6591224572901, \"SEC\": 3, \"id_cpt_exp\": \"765\", \"ident\": 9038, \"nbDeplacement\": 333.8624960757217, \"nb_traj_moy\": 1.256732661719142, \"tmjo_2_sen\": 2417.0, \"trajet_court\": 9038.0, \"type\": \"Feature\", \"geometry\": {\"type\": \"LineString\", \"coordinates\": [[415766.59, 6420761.46, 0.0], [415806.56, 6420684.56, 0.0], [415807.88, 6420679.45, 0.0], [415808.89, 6420674.47, 0.0], [415809.62, 6420669.57, 0.0]]}}, {\"PopT2016\": 183.76867726909012, \"SEC\": 13, \"id_cpt_exp\": \"419, 420\", \"ident\": 2946, \"nbDeplacement\": 276.20972375683914, \"nb_traj_moy\": 1.5030293946796442, \"tmjo_2_sen\": 1056.0, \"trajet_court\": 2946.0, \"type\": \"Feature\", \"geometry\": {\"type\": \"LineString\", \"coordinates\": [[422689.95, 6427653.44, 0.0], [422693.52, 6427710.66, 0.0]]}}, {\"PopT2016\": 89.67785416936997, \"SEC\": 16, \"id_cpt_exp\": \"977, 978\", \"ident\": 20983, \"nbDeplacement\": 177.90094821256147, \"nb_traj_moy\": 1.983777933363227, \"tmjo_2_sen\": 441.0, \"trajet_court\": 20983.0, \"type\": \"Feature\", \"geometry\": {\"type\": \"LineString\", \"coordinates\": [[412793.82, 6424716.53, 0.0], [412760.59, 6424738.46, 0.0], [412750.97, 6424746.41, 0.0], [412712.61, 6424787.62, 0.0]]}}, {\"PopT2016\": 71.38392184405001, \"SEC\": 8, \"id_cpt_exp\": \"1107, 1108\", \"ident\": 22870, \"nbDeplacement\": 112.10225339195755, \"nb_traj_moy\": 1.570413203646382, \"tmjo_2_sen\": 3699.0, \"trajet_court\": 22870.0, \"type\": \"Feature\", \"geometry\": {\"type\": \"LineString\", \"coordinates\": [[410823.54, 6420416.16, 0.0], [410912.8, 6420407.16, 0.0], [410957.37, 6420410.71, 0.0]]}}, {\"PopT2016\": 412.71747370915, \"SEC\": 4, \"id_cpt_exp\": \"1835\", \"ident\": 9078, \"nbDeplacement\": 229.54116563623535, \"nb_traj_moy\": 0.5561702139076313, \"tmjo_2_sen\": 1050.0, \"trajet_court\": 9078.0, \"type\": \"Feature\", \"geometry\": {\"type\": \"LineString\", \"coordinates\": [[416625.51, 6421423.42, 0.0], [416620.89, 6421420.37, 0.0], [416516.13, 6421368.87, 0.0], [416508.07, 6421365.27, 0.0]]}}, {\"PopT2016\": 138.71603774145996, \"SEC\": 4, \"id_cpt_exp\": \"1834\", \"ident\": 9079, \"nbDeplacement\": 77.1497283830869, \"nb_traj_moy\": 0.5561702139076314, \"tmjo_2_sen\": 1095.0, \"trajet_court\": 9079.0, \"type\": \"Feature\", \"geometry\": {\"type\": \"LineString\", \"coordinates\": [[416508.07, 6421365.27, 0.0], [416332.45, 6421279.26, 0.0], [416326.4, 6421277.39, 0.0]]}}, {\"PopT2016\": 242.1108387650503, \"SEC\": 16, \"id_cpt_exp\": \"500, 501\", \"ident\": 4938, \"nbDeplacement\": 480.29413937016756, \"nb_traj_moy\": 1.9837779333632277, \"tmjo_2_sen\": 1098.0, \"trajet_court\": 4938.0, \"type\": \"Feature\", \"geometry\": {\"type\": \"LineString\", \"coordinates\": [[413300.24, 6427303.25, 0.0], [413272.65, 6427216.99, 0.0], [413232.13, 6427093.48, 0.0]]}}, {\"PopT2016\": 280.6434698766602, \"SEC\": 17, \"id_cpt_exp\": \"1460, 1461\", \"ident\": 43095, \"nbDeplacement\": 529.0779240831065, \"nb_traj_moy\": 1.885231551318943, \"tmjo_2_sen\": 921.0, \"trajet_court\": 43095.0, \"type\": \"Feature\", \"geometry\": {\"type\": \"LineString\", \"coordinates\": [[406996.16, 6430626.42, 0.0], [407008.96, 6430636.99, 0.0], [407015.25, 6430646.79, 0.0], [407047.7, 6430793.72, 0.0], [407050.03, 6430810.08, 0.0], [407045.59, 6430850.8, 0.0], [407039.79, 6430867.47, 0.0], [407037.63, 6430879.05, 0.0], [407047.55, 6430979.25, 0.0]]}}, {\"PopT2016\": 104.48082346584994, \"SEC\": 12, \"id_cpt_exp\": \"718, 719\", \"ident\": 2073, \"nbDeplacement\": 134.5081347176066, \"nb_traj_moy\": 1.2873954306224535, \"tmjo_2_sen\": 838.0, \"trajet_court\": 2073.0, \"type\": \"Feature\", \"geometry\": {\"type\": \"LineString\", \"coordinates\": [[422874.17, 6418596.44, 0.0], [422708.57, 6418530.68, 0.0]]}}, {\"PopT2016\": 66.36584809176001, \"SEC\": 12, \"id_cpt_exp\": \"1523\", \"ident\": 19570, \"nbDeplacement\": 85.43908958271574, \"nb_traj_moy\": 1.2873954306224535, \"tmjo_2_sen\": 504.0, \"trajet_court\": 19570.0, \"type\": \"Feature\", \"geometry\": {\"type\": \"LineString\", \"coordinates\": [[422873.83, 6419408.38, 0.0], [422874.95, 6419369.86, 0.0], [422880.42, 6419361.89, 0.0], [422913.58, 6419340.72, 0.0], [422918.91, 6419340.9, 0.0], [422990.44, 6419386.13, 0.0]]}}, {\"PopT2016\": 393.5819466659704, \"SEC\": 14, \"id_cpt_exp\": \"1042\", \"ident\": 178, \"nbDeplacement\": 807.1959438492388, \"nb_traj_moy\": 2.0508967717828246, \"tmjo_2_sen\": 753.0, \"trajet_court\": 178.0, \"type\": \"Feature\", \"geometry\": {\"type\": \"LineString\", \"coordinates\": [[424536.96, 6431465.39, 0.0], [424562.2, 6431492.1, 0.0]]}}, {\"PopT2016\": 2.48566211629, \"SEC\": 5, \"id_cpt_exp\": \"836, 837\", \"ident\": 3227, \"nbDeplacement\": 2.0487908881215486, \"nb_traj_moy\": 0.8242435183344597, \"tmjo_2_sen\": 1078.0, \"trajet_court\": 3227.0, \"type\": \"Feature\", \"geometry\": {\"type\": \"LineString\", \"coordinates\": [[420574.45, 6420854.78, 0.0], [420516.86, 6420793.37, 0.0]]}}, {\"PopT2016\": 120.44347476284003, \"SEC\": 12, \"id_cpt_exp\": \"836, 837\", \"ident\": 3227, \"nbDeplacement\": 155.05837905797105, \"nb_traj_moy\": 1.2873954306224535, \"tmjo_2_sen\": 1078.0, \"trajet_court\": 3227.0, \"type\": \"Feature\", \"geometry\": {\"type\": \"LineString\", \"coordinates\": [[420574.45, 6420854.78, 0.0], [420516.86, 6420793.37, 0.0]]}}, {\"PopT2016\": 247.03882368650994, \"SEC\": 4, \"id_cpt_exp\": \"1797\", \"ident\": 8044, \"nbDeplacement\": 137.39563541321613, \"nb_traj_moy\": 0.5561702139076329, \"tmjo_2_sen\": 1674.0, \"trajet_court\": 8044.0, \"type\": \"Feature\", \"geometry\": {\"type\": \"LineString\", \"coordinates\": [[418465.23, 6420135.97, 0.0], [418596.04, 6420223.63, 0.0]]}}, {\"PopT2016\": 158.63047110732992, \"SEC\": 2, \"id_cpt_exp\": \"3\", \"ident\": 10623, \"nbDeplacement\": 104.17907987193574, \"nb_traj_moy\": 0.6567406573573609, \"tmjo_2_sen\": 786.0, \"trajet_court\": 10623.0, \"type\": \"Feature\", \"geometry\": {\"type\": \"LineString\", \"coordinates\": [[416816.6, 6422498.1, 0.0], [416711.81, 6422479.51, 0.0]]}}, {\"PopT2016\": 454.61899424249924, \"SEC\": 12, \"id_cpt_exp\": \"1140, 1141\", \"ident\": 4398, \"nbDeplacement\": 585.2744158619713, \"nb_traj_moy\": 1.287395430622458, \"tmjo_2_sen\": 985.0, \"trajet_court\": 4398.0, \"type\": \"Feature\", \"geometry\": {\"type\": \"LineString\", \"coordinates\": [[420894.73, 6423223.56, 0.0], [420877.8, 6423128.78, 0.0]]}}, {\"PopT2016\": 193.03363714444004, \"SEC\": 4, \"id_cpt_exp\": \"1228\", \"ident\": 6949, \"nbDeplacement\": 107.35955926199132, \"nb_traj_moy\": 0.5561702139076322, \"tmjo_2_sen\": 1518.0, \"trajet_court\": 6949.0, \"type\": \"Feature\", \"geometry\": {\"type\": \"LineString\", \"coordinates\": [[415783.43, 6421955.77, 0.0], [415826.24, 6421953.09, 0.0], [415834.72, 6421951.52, 0.0]]}}, {\"PopT2016\": 22.04440680533, \"SEC\": 4, \"id_cpt_exp\": \"1443\", \"ident\": 6951, \"nbDeplacement\": 12.260442448387236, \"nb_traj_moy\": 0.5561702139076318, \"tmjo_2_sen\": 838.0, \"trajet_court\": 6951.0, \"type\": \"Feature\", \"geometry\": {\"type\": \"LineString\", \"coordinates\": [[415677.71, 6421962.07, 0.0], [415739.47, 6421958.21, 0.0]]}}, {\"PopT2016\": 231.09246485019992, \"SEC\": 9, \"id_cpt_exp\": \"1704, 1703\", \"ident\": 23688, \"nbDeplacement\": 301.4705557200031, \"nb_traj_moy\": 1.3045451564828119, \"tmjo_2_sen\": 1443.0, \"trajet_court\": 23688.0, \"type\": \"Feature\", \"geometry\": {\"type\": \"LineString\", \"coordinates\": [[415027.48, 6419611.29, 0.0], [414937.49, 6419755.23, 0.0], [414893.48, 6419834.78, 0.0], [414887.33, 6419840.4, 0.0], [414875.58, 6419842.47, 0.0], [414818.67, 6419823.27, 0.0], [414807.74, 6419825.17, 0.0], [414798.98, 6419832.12, 0.0], [414742.63, 6419932.77, 0.0]]}}, {\"PopT2016\": 262.04077189461964, \"SEC\": 18, \"id_cpt_exp\": \"626, 627\", \"ident\": 13272, \"nbDeplacement\": 464.34596961611675, \"nb_traj_moy\": 1.7720371004053297, \"tmjo_2_sen\": 904.0, \"trajet_court\": 13272.0, \"type\": \"Feature\", \"geometry\": {\"type\": \"LineString\", \"coordinates\": [[410584.39, 6417453.93, 0.0], [410404.67, 6417394.89, 0.0]]}}, {\"PopT2016\": 203.85568791737, \"SEC\": 1, \"id_cpt_exp\": \"1087\", \"ident\": 38980, \"nbDeplacement\": 64.47916946094588, \"nb_traj_moy\": 0.3162981132372505, \"tmjo_2_sen\": 2221.0, \"trajet_court\": 38980.0, \"type\": \"Feature\", \"geometry\": {\"type\": \"LineString\", \"coordinates\": [[417825.77, 6421775.15, 0.0], [417825.69, 6421779.65, 0.0]]}}, {\"PopT2016\": 404.79548978231907, \"SEC\": 5, \"id_cpt_exp\": \"1488\", \"ident\": 8237, \"nbDeplacement\": 333.6500587041007, \"nb_traj_moy\": 0.8242435183344594, \"tmjo_2_sen\": 1024.0, \"trajet_court\": 8237.0, \"type\": \"Feature\", \"geometry\": {\"type\": \"LineString\", \"coordinates\": [[420543.09, 6422726.32, 0.0], [420537.29, 6422723.81, 0.0], [420491.06, 6422728.92, 0.0], [420487.18, 6422731.45, 0.0]]}}, {\"PopT2016\": 418.52103558788997, \"SEC\": 2, \"id_cpt_exp\": \"984, 985\", \"ident\": 8599, \"nbDeplacement\": 274.85978002987457, \"nb_traj_moy\": 0.6567406573573609, \"tmjo_2_sen\": 4143.0, \"trajet_court\": 8599.0, \"type\": \"Feature\", \"geometry\": {\"type\": \"LineString\", \"coordinates\": [[417884.59, 6423982.02, 0.0], [417920.28, 6424052.64, 0.0]]}}, {\"PopT2016\": 95.82635512504004, \"SEC\": 8, \"id_cpt_exp\": \"1104, 1103\", \"ident\": 22855, \"nbDeplacement\": 150.48697334567007, \"nb_traj_moy\": 1.5704132036463823, \"tmjo_2_sen\": 3499.0, \"trajet_court\": 22855.0, \"type\": \"Feature\", \"geometry\": {\"type\": \"LineString\", \"coordinates\": [[410823.54, 6420416.16, 0.0], [410830.56, 6420409.85, 0.0], [410832.96, 6420403.24, 0.0], [410839.17, 6420298.26, 0.0], [410843.61, 6420280.4, 0.0], [410876.84, 6420189.48, 0.0], [410880.9, 6420174.73, 0.0], [410880.93, 6420162.07, 0.0], [410871.52, 6420146.35, 0.0]]}}, {\"PopT2016\": 366.3307443314094, \"SEC\": 19, \"id_cpt_exp\": \"714, 715\", \"ident\": 31299, \"nbDeplacement\": 600.6363713231917, \"nb_traj_moy\": 1.639601318255216, \"tmjo_2_sen\": 1809.0, \"trajet_court\": 31299.0, \"type\": \"Feature\", \"geometry\": {\"type\": \"LineString\", \"coordinates\": [[416231.95, 6412918.47, 0.0], [416452.07, 6412898.79, 0.0], [416458.33, 6412897.66, 0.0], [416466.94, 6412894.75, 0.0]]}}, {\"PopT2016\": 506.0966160638212, \"SEC\": 3, \"id_cpt_exp\": \"83\", \"ident\": 10523, \"nbDeplacement\": 636.0281473929334, \"nb_traj_moy\": 1.256732661719148, \"tmjo_2_sen\": 1856.0, \"trajet_court\": 10523.0, \"type\": \"Feature\", \"geometry\": {\"type\": \"LineString\", \"coordinates\": [[415955.44, 6420566.04, 0.0], [415943.17, 6420601.07, 0.0], [415910.08, 6420677.76, 0.0]]}}, {\"PopT2016\": 169.05867886839, \"SEC\": 4, \"id_cpt_exp\": \"38\", \"ident\": 9411, \"nbDeplacement\": 94.02540158917411, \"nb_traj_moy\": 0.5561702139076313, \"tmjo_2_sen\": 942.0, \"trajet_court\": 9411.0, \"type\": \"Feature\", \"geometry\": {\"type\": \"LineString\", \"coordinates\": [[416355.37, 6421168.44, 0.0], [416135.28, 6421048.67, 0.0]]}}, {\"PopT2016\": 67.51874779215, \"SEC\": 7, \"id_cpt_exp\": \"492\", \"ident\": 11383, \"nbDeplacement\": 84.5667725872635, \"nb_traj_moy\": 1.2524932015563182, \"tmjo_2_sen\": 2835.0, \"trajet_court\": 11383.0, \"type\": \"Feature\", \"geometry\": {\"type\": \"LineString\", \"coordinates\": [[413589.24, 6427097.39, 0.0], [413575.37, 6427103.65, 0.0], [413569.39, 6427103.0, 0.0], [413565.21, 6427099.91, 0.0], [413556.73, 6427084.78, 0.0]]}}, {\"PopT2016\": 30.2528773255, \"SEC\": 16, \"id_cpt_exp\": \"492\", \"ident\": 11383, \"nbDeplacement\": 60.01499045907158, \"nb_traj_moy\": 1.983777933363225, \"tmjo_2_sen\": 2835.0, \"trajet_court\": 11383.0, \"type\": \"Feature\", \"geometry\": {\"type\": \"LineString\", \"coordinates\": [[413589.24, 6427097.39, 0.0], [413575.37, 6427103.65, 0.0], [413569.39, 6427103.0, 0.0], [413565.21, 6427099.91, 0.0], [413556.73, 6427084.78, 0.0]]}}, {\"PopT2016\": 11.51935626874, \"SEC\": 18, \"id_cpt_exp\": \"670, 671\", \"ident\": 52358, \"nbDeplacement\": 20.41272668099402, \"nb_traj_moy\": 1.7720371004053326, \"tmjo_2_sen\": 1487.0, \"trajet_court\": 52358.0, \"type\": \"Feature\", \"geometry\": {\"type\": \"LineString\", \"coordinates\": [[409114.0, 6423473.63, 0.0], [409107.63, 6423456.55, 0.0], [409106.33, 6423454.09, 0.0], [409104.01, 6423451.91, 0.0], [409100.57, 6423449.81, 0.0], [409077.69, 6423434.91, 0.0]]}}, {\"PopT2016\": 79.37955999108003, \"SEC\": 18, \"id_cpt_exp\": \"624, 623\", \"ident\": 12940, \"nbDeplacement\": 140.66352531804455, \"nb_traj_moy\": 1.7720371004053328, \"tmjo_2_sen\": 724.0, \"trajet_court\": 12940.0, \"type\": \"Feature\", \"geometry\": {\"type\": \"LineString\", \"coordinates\": [[410475.07, 6417608.88, 0.0], [410362.07, 6417569.49, 0.0]]}}, {\"PopT2016\": 43.35791961749, \"SEC\": 18, \"id_cpt_exp\": \"1541\", \"ident\": 22895, \"nbDeplacement\": 76.83184215858445, \"nb_traj_moy\": 1.7720371004053326, \"tmjo_2_sen\": 2852.0, \"trajet_court\": 22895.0, \"type\": \"Feature\", \"geometry\": {\"type\": \"LineString\", \"coordinates\": [[405749.39, 6423233.12, 0.0], [405745.87, 6423214.4, 0.0], [405637.8, 6422959.29, 0.0], [405517.8, 6422680.11, 0.0]]}}, {\"PopT2016\": 43.35791961749, \"SEC\": 18, \"id_cpt_exp\": \"1542\", \"ident\": 22896, \"nbDeplacement\": 76.83184215858445, \"nb_traj_moy\": 1.7720371004053326, \"tmjo_2_sen\": 2152.0, \"trajet_court\": 22896.0, \"type\": \"Feature\", \"geometry\": {\"type\": \"LineString\", \"coordinates\": [[405517.8, 6422680.11, 0.0], [405387.14, 6422373.13, 0.0], [405264.21, 6422084.4, 0.0], [405254.04, 6422067.51, 0.0], [405089.97, 6421948.06, 0.0]]}}, {\"PopT2016\": 16.36589346922, \"SEC\": 13, \"id_cpt_exp\": \"1659, 1660\", \"ident\": 21519, \"nbDeplacement\": 24.598418954433317, \"nb_traj_moy\": 1.5030293946796467, \"tmjo_2_sen\": 704.0, \"trajet_court\": 21519.0, \"type\": \"Feature\", \"geometry\": {\"type\": \"LineString\", \"coordinates\": [[420716.66, 6424825.59, 0.0], [420690.53, 6424699.95, 0.0], [420667.33, 6424595.72, 0.0], [420666.5, 6424588.97, 0.0], [420667.04, 6424582.81, 0.0], [420667.9, 6424578.0, 0.0], [420672.33, 6424566.45, 0.0], [420684.07, 6424536.61, 0.0], [420689.49, 6424522.92, 0.0], [420691.02, 6424513.38, 0.0]]}}, {\"PopT2016\": 307.9716213152494, \"SEC\": 3, \"id_cpt_exp\": \"1117, 1118\", \"ident\": 9321, \"nbDeplacement\": 387.0379953894737, \"nb_traj_moy\": 1.2567326617191448, \"tmjo_2_sen\": 3613.0, \"trajet_court\": 9321.0, \"type\": \"Feature\", \"geometry\": {\"type\": \"LineString\", \"coordinates\": [[414155.91, 6422436.71, 0.0], [414123.1, 6422404.28, 0.0], [414089.32, 6422374.4, 0.0]]}}, {\"PopT2016\": 12.883413580900001, \"SEC\": 15, \"id_cpt_exp\": \"741, 742\", \"ident\": 1777, \"nbDeplacement\": 23.502383760872316, \"nb_traj_moy\": 1.8242357596681689, \"tmjo_2_sen\": 4875.0, \"trajet_court\": 1777.0, \"type\": \"Feature\", \"geometry\": {\"type\": \"LineString\", \"coordinates\": [[414127.24, 6431542.92, 0.0], [414143.84, 6431539.1, 0.0], [414319.41, 6431509.1, 0.0]]}}, {\"PopT2016\": 3.71200594555, \"SEC\": 15, \"id_cpt_exp\": \"540, 541\", \"ident\": 19329, \"nbDeplacement\": 6.771573985973164, \"nb_traj_moy\": 1.8242357596681689, \"tmjo_2_sen\": 4090.0, \"trajet_court\": 19329.0, \"type\": \"Feature\", \"geometry\": {\"type\": \"LineString\", \"coordinates\": [[414572.63, 6431464.75, 0.0], [414790.79, 6431447.03, 0.0], [414931.54, 6431439.69, 0.0]]}}, {\"PopT2016\": 404.9091599695298, \"SEC\": 4, \"id_cpt_exp\": \"1840\", \"ident\": 9559, \"nbDeplacement\": 225.19841411341267, \"nb_traj_moy\": 0.5561702139076329, \"tmjo_2_sen\": 1166.0, \"trajet_court\": 9559.0, \"type\": \"Feature\", \"geometry\": {\"type\": \"LineString\", \"coordinates\": [[416135.28, 6421048.67, 0.0], [416159.83, 6421004.45, 0.0]]}}, {\"PopT2016\": 249.3144688231101, \"SEC\": 3, \"id_cpt_exp\": \"767\", \"ident\": 26764, \"nbDeplacement\": 313.3216360091612, \"nb_traj_moy\": 1.2567326617191426, \"tmjo_2_sen\": 1055.0, \"trajet_court\": 26764.0, \"type\": \"Feature\", \"geometry\": {\"type\": \"LineString\", \"coordinates\": [[415704.11, 6420739.92, 0.0], [415733.98, 6420739.17, 0.0], [415741.16, 6420741.67, 0.0], [415766.59, 6420761.46, 0.0]]}}, {\"PopT2016\": 134.83384959719, \"SEC\": 14, \"id_cpt_exp\": \"349, 350\", \"ident\": 40388, \"nbDeplacement\": 276.5303068659285, \"nb_traj_moy\": 2.050896771782831, \"tmjo_2_sen\": 218.0, \"trajet_court\": 40388.0, \"type\": \"Feature\", \"geometry\": {\"type\": \"LineString\", \"coordinates\": [[421239.95, 6433458.27, 0.0], [421221.09, 6433419.36, 0.0], [421187.76, 6433352.77, 0.0], [421169.83, 6433318.23, 0.0]]}}, {\"PopT2016\": 579.41461387115, \"SEC\": 1, \"id_cpt_exp\": \"45\", \"ident\": 10280, \"nbDeplacement\": 183.26774914953472, \"nb_traj_moy\": 0.31629811323725116, \"tmjo_2_sen\": 1101.0, \"trajet_court\": 10280.0, \"type\": \"Feature\", \"geometry\": {\"type\": \"LineString\", \"coordinates\": [[418634.74, 6421103.87, 0.0], [418658.71, 6421128.74, 0.0]]}}, {\"PopT2016\": 54.68288539499001, \"SEC\": 14, \"id_cpt_exp\": \"352, 351\", \"ident\": 21900, \"nbDeplacement\": 112.14895312835542, \"nb_traj_moy\": 2.050896771782831, \"tmjo_2_sen\": 357.0, \"trajet_court\": 21900.0, \"type\": \"Feature\", \"geometry\": {\"type\": \"LineString\", \"coordinates\": [[420950.33, 6433334.96, 0.0], [420961.22, 6433316.09, 0.0], [421051.31, 6433276.31, 0.0]]}}, {\"PopT2016\": 32.01944427742, \"SEC\": 18, \"id_cpt_exp\": \"633\", \"ident\": 24158, \"nbDeplacement\": 56.73964319394945, \"nb_traj_moy\": 1.7720371004053324, \"tmjo_2_sen\": 81.0, \"trajet_court\": 24158.0, \"type\": \"Feature\", \"geometry\": {\"type\": \"LineString\", \"coordinates\": [[410707.58, 6417014.94, 0.0], [410702.2, 6417008.35, 0.0], [410700.41, 6417003.35, 0.0], [410699.38, 6417002.02, 0.0], [410697.76, 6417001.09, 0.0], [410693.71, 6416999.31, 0.0], [410692.33, 6416995.9, 0.0]]}}, {\"PopT2016\": 2.57699705152, \"SEC\": 19, \"id_cpt_exp\": \"1867, 1868\", \"ident\": 28561, \"nbDeplacement\": 4.22524776281199, \"nb_traj_moy\": 1.6396013182552136, \"tmjo_2_sen\": 365.0, \"trajet_court\": 28561.0, \"type\": \"Feature\", \"geometry\": {\"type\": \"LineString\", \"coordinates\": [[414797.79, 6413590.94, 0.0], [414817.51, 6413587.38, 0.0], [414984.52, 6413590.58, 0.0]]}}, {\"PopT2016\": 310.9146487006303, \"SEC\": 17, \"id_cpt_exp\": \"363, 364\", \"ident\": 24428, \"nbDeplacement\": 586.1461054976711, \"nb_traj_moy\": 1.8852315513189448, \"tmjo_2_sen\": 62.0, \"trajet_court\": 24428.0, \"type\": \"Feature\", \"geometry\": {\"type\": \"LineString\", \"coordinates\": [[402797.46, 6429131.68, 0.0], [402782.15, 6429165.0, 0.0], [402754.49, 6429197.26, 0.0], [402740.06, 6429223.62, 0.0], [402730.73, 6429238.0, 0.0], [402709.15, 6429261.68, 0.0]]}}, {\"PopT2016\": 110.0582473160699, \"SEC\": 4, \"id_cpt_exp\": \"88\", \"ident\": 10973, \"nbDeplacement\": 61.2111189520777, \"nb_traj_moy\": 0.5561702139076313, \"tmjo_2_sen\": 958.0, \"trajet_court\": 10973.0, \"type\": \"Feature\", \"geometry\": {\"type\": \"LineString\", \"coordinates\": [[417458.18, 6419885.06, 0.0], [417279.42, 6419863.96, 0.0]]}}, {\"PopT2016\": 233.29161015921017, \"SEC\": 4, \"id_cpt_exp\": \"1830\", \"ident\": 8538, \"nbDeplacement\": 129.74984472510354, \"nb_traj_moy\": 0.5561702139076318, \"tmjo_2_sen\": 1003.0, \"trajet_court\": 8538.0, \"type\": \"Feature\", \"geometry\": {\"type\": \"LineString\", \"coordinates\": [[416368.1, 6421120.27, 0.0], [416355.37, 6421168.44, 0.0]]}}, {\"PopT2016\": 154.86569032988996, \"SEC\": 13, \"id_cpt_exp\": \"1854, 1855\", \"ident\": 42249, \"nbDeplacement\": 232.76768479318014, \"nb_traj_moy\": 1.5030293946796445, \"tmjo_2_sen\": 508.0, \"trajet_court\": 42249.0, \"type\": \"Feature\", \"geometry\": {\"type\": \"LineString\", \"coordinates\": [[424038.38, 6430159.5, 0.0], [423671.72, 6430268.06, 0.0]]}}, {\"PopT2016\": 206.2125700405804, \"SEC\": 3, \"id_cpt_exp\": \"48, 49\", \"ident\": 27878, \"nbDeplacement\": 259.1540720270434, \"nb_traj_moy\": 1.2567326617191414, \"tmjo_2_sen\": 1322.0, \"trajet_court\": 27878.0, \"type\": \"Feature\", \"geometry\": {\"type\": \"LineString\", \"coordinates\": [[416207.53, 6420640.51, 0.0], [416110.98, 6420614.1, 0.0]]}}, {\"PopT2016\": 242.27903351146958, \"SEC\": 4, \"id_cpt_exp\": \"64, 65\", \"ident\": 8640, \"nbDeplacement\": 134.7483818934084, \"nb_traj_moy\": 0.5561702139076322, \"tmjo_2_sen\": 403.0, \"trajet_court\": 8640.0, \"type\": \"Feature\", \"geometry\": {\"type\": \"LineString\", \"coordinates\": [[417723.31, 6419002.81, 0.0], [417807.27, 6419000.97, 0.0]]}}, {\"PopT2016\": 68.80394531079, \"SEC\": 4, \"id_cpt_exp\": \"1828\", \"ident\": 8658, \"nbDeplacement\": 38.266704981191076, \"nb_traj_moy\": 0.5561702139076314, \"tmjo_2_sen\": 1831.0, \"trajet_court\": 8658.0, \"type\": \"Feature\", \"geometry\": {\"type\": \"LineString\", \"coordinates\": [[416107.57, 6420975.99, 0.0], [416159.83, 6421004.45, 0.0]]}}, {\"PopT2016\": 9.01631324576, \"SEC\": 9, \"id_cpt_exp\": \"1081, 1082\", \"ident\": 14242, \"nbDeplacement\": 11.762187774088037, \"nb_traj_moy\": 1.304545156482813, \"tmjo_2_sen\": 109.0, \"trajet_court\": 14242.0, \"type\": \"Feature\", \"geometry\": {\"type\": \"LineString\", \"coordinates\": [[412568.33, 6417626.43, 0.0], [412613.94, 6417627.15, 0.0]]}}, {\"PopT2016\": 180.27440484088007, \"SEC\": 19, \"id_cpt_exp\": \"900, 901\", \"ident\": 25261, \"nbDeplacement\": 295.57815182478066, \"nb_traj_moy\": 1.6396013182552158, \"tmjo_2_sen\": 139.0, \"trajet_court\": 25261.0, \"type\": \"Feature\", \"geometry\": {\"type\": \"LineString\", \"coordinates\": [[417009.45, 6413905.86, 0.0], [416993.53, 6413850.13, 0.0], [416981.52, 6413784.2, 0.0]]}}, {\"PopT2016\": 166.16714711746002, \"SEC\": 10, \"id_cpt_exp\": \"1751\", \"ident\": 16371, \"nbDeplacement\": 149.76976552839045, \"nb_traj_moy\": 0.9013199547954058, \"tmjo_2_sen\": 2850.0, \"trajet_court\": 16371.0, \"type\": \"Feature\", \"geometry\": {\"type\": \"LineString\", \"coordinates\": [[416316.55, 6420148.12, 0.0], [416362.47, 6420205.61, 0.0]]}}, {\"PopT2016\": 10.84466595953, \"SEC\": 12, \"id_cpt_exp\": \"580, 581\", \"ident\": 48557, \"nbDeplacement\": 13.961373402925796, \"nb_traj_moy\": 1.2873954306224542, \"tmjo_2_sen\": 2561.0, \"trajet_court\": 48557.0, \"type\": \"Feature\", \"geometry\": {\"type\": \"LineString\", \"coordinates\": [[421637.04, 6420534.51, 0.0], [421641.3, 6420535.59, 0.0], [421651.41, 6420534.3, 0.0], [421656.08, 6420532.52, 0.0], [421660.9, 6420530.25, 0.0], [421677.31, 6420519.77, 0.0], [421687.34, 6420510.28, 0.0], [421697.03, 6420493.57, 0.0], [421707.02, 6420480.71, 0.0], [421741.16, 6420445.11, 0.0], [421749.71, 6420432.0, 0.0], [421755.18, 6420419.94, 0.0], [421768.7, 6420385.05, 0.0], [421778.16, 6420365.52, 0.0], [421784.65, 6420347.82, 0.0], [421793.84, 6420310.51, 0.0], [421795.48, 6420307.21, 0.0], [421798.04, 6420305.41, 0.0], [421801.0, 6420305.39, 0.0], [421803.34, 6420306.72, 0.0], [421804.72, 6420308.69, 0.0], [421805.49, 6420312.37, 0.0], [421799.94, 6420336.83, 0.0], [421797.83, 6420357.24, 0.0], [421788.63, 6420391.96, 0.0], [421787.82, 6420401.76, 0.0], [421788.91, 6420411.63, 0.0], [421795.81, 6420445.82, 0.0], [421796.36, 6420457.14, 0.0], [421791.74, 6420472.61, 0.0], [421791.39, 6420475.07, 0.0], [421791.75, 6420477.54, 0.0], [421793.42, 6420479.25, 0.0], [421795.64, 6420480.0, 0.0], [421798.56, 6420479.9, 0.0], [421801.65, 6420477.89, 0.0], [421804.51, 6420473.45, 0.0], [421807.49, 6420463.23, 0.0], [421811.14, 6420437.48, 0.0], [421813.29, 6420432.49, 0.0], [421817.53, 6420427.61, 0.0], [421825.62, 6420423.3, 0.0], [421853.46, 6420413.49, 0.0], [421868.6, 6420411.08, 0.0], [421894.24, 6420411.93, 0.0], [421912.74, 6420415.67, 0.0], [421927.16, 6420422.03, 0.0], [421935.34, 6420429.72, 0.0], [421953.63, 6420457.53, 0.0], [421975.56, 6420484.95, 0.0], [421998.05, 6420511.23, 0.0], [422016.06, 6420526.9, 0.0], [422021.47, 6420531.15, 0.0]]}}, {\"PopT2016\": 214.680394675, \"SEC\": 11, \"id_cpt_exp\": \"1498\", \"ident\": 46708, \"nbDeplacement\": 263.86834639390645, \"nb_traj_moy\": 1.2291217686336529, \"tmjo_2_sen\": 2388.0, \"trajet_court\": 46708.0, \"type\": \"Feature\", \"geometry\": {\"type\": \"LineString\", \"coordinates\": [[419917.73, 6417332.12, 0.0], [419933.57, 6417317.83, 0.0], [419946.36, 6417308.0, 0.0], [419961.22, 6417303.15, 0.0], [419975.42, 6417302.41, 0.0], [419990.96, 6417305.09, 0.0], [420024.99, 6417314.02, 0.0]]}}, {\"PopT2016\": 157.73421306868, \"SEC\": 6, \"id_cpt_exp\": \"Z25CT16\", \"ident\": 50429, \"nbDeplacement\": 129.04374576801013, \"nb_traj_moy\": 0.8181087872915842, \"tmjo_2_sen\": 1720.0, \"trajet_court\": 50429.0, \"type\": \"Feature\", \"geometry\": {\"type\": \"LineString\", \"coordinates\": [[418075.58, 6426256.55, 0.0], [418074.92, 6426254.06, 0.0], [418063.26, 6426209.45, 0.0], [418031.25, 6426087.12, 0.0]]}}, {\"PopT2016\": 149.21444676719005, \"SEC\": 16, \"id_cpt_exp\": \"393, 394\", \"ident\": 51053, \"nbDeplacement\": 296.00832683575305, \"nb_traj_moy\": 1.9837779333632273, \"tmjo_2_sen\": 1698.0, \"trajet_court\": 51053.0, \"type\": \"Feature\", \"geometry\": {\"type\": \"LineString\", \"coordinates\": [[408930.77, 6430485.96, 0.0], [408960.34, 6430514.03, 0.0], [408982.38, 6430533.68, 0.0], [409002.41, 6430548.86, 0.0], [409018.98, 6430559.93, 0.0], [409095.14, 6430608.21, 0.0]]}}, {\"PopT2016\": 259.44716211195, \"SEC\": 7, \"id_cpt_exp\": \"176, 175\", \"ident\": 39892, \"nbDeplacement\": 324.95580670829725, \"nb_traj_moy\": 1.2524932015563177, \"tmjo_2_sen\": 3590.0, \"trajet_court\": 39892.0, \"type\": \"Feature\", \"geometry\": {\"type\": \"LineString\", \"coordinates\": [[417138.4, 6426219.82, 0.0], [417135.85, 6426225.05, 0.0], [417134.9, 6426228.65, 0.0], [417133.7, 6426301.46, 0.0]]}}, {\"PopT2016\": 151.303930611, \"SEC\": 6, \"id_cpt_exp\": \"618, 619\", \"ident\": 45354, \"nbDeplacement\": 123.78307518461521, \"nb_traj_moy\": 0.8181087872915842, \"tmjo_2_sen\": 2203.0, \"trajet_court\": 45354.0, \"type\": \"Feature\", \"geometry\": {\"type\": \"LineString\", \"coordinates\": [[418075.58, 6426256.55, 0.0], [418116.82, 6426409.96, 0.0]]}}, {\"PopT2016\": 36.80065354055, \"SEC\": 7, \"id_cpt_exp\": \"152, 153\", \"ident\": 50325, \"nbDeplacement\": 46.09256837236831, \"nb_traj_moy\": 1.2524932015563177, \"tmjo_2_sen\": 1035.0, \"trajet_court\": 50325.0, \"type\": \"Feature\", \"geometry\": {\"type\": \"LineString\", \"coordinates\": [[416680.89, 6425953.08, 0.0], [416751.08, 6425932.72, 0.0], [416754.51, 6425931.33, 0.0], [416757.48, 6425929.36, 0.0], [416758.42, 6425928.31, 0.0]]}}, {\"PopT2016\": 67.51874779215, \"SEC\": 7, \"id_cpt_exp\": \"492\", \"ident\": 6866, \"nbDeplacement\": 84.5667725872635, \"nb_traj_moy\": 1.2524932015563182, \"tmjo_2_sen\": 2835.0, \"trajet_court\": 6866.0, \"type\": \"Feature\", \"geometry\": {\"type\": \"LineString\", \"coordinates\": [[413608.94, 6427086.41, 0.0], [413589.24, 6427097.39, 0.0]]}}, {\"PopT2016\": 19.47128881729, \"SEC\": 16, \"id_cpt_exp\": \"492\", \"ident\": 6866, \"nbDeplacement\": 38.62671308988203, \"nb_traj_moy\": 1.9837779333632253, \"tmjo_2_sen\": 2835.0, \"trajet_court\": 6866.0, \"type\": \"Feature\", \"geometry\": {\"type\": \"LineString\", \"coordinates\": [[413608.94, 6427086.41, 0.0], [413589.24, 6427097.39, 0.0]]}}, {\"PopT2016\": 281.56736646113967, \"SEC\": 4, \"id_cpt_exp\": \"22, 23\", \"ident\": 6412, \"nbDeplacement\": 156.59938243410065, \"nb_traj_moy\": 0.5561702139076327, \"tmjo_2_sen\": 1115.0, \"trajet_court\": 6412.0, \"type\": \"Feature\", \"geometry\": {\"type\": \"LineString\", \"coordinates\": [[417894.38, 6419038.21, 0.0], [417889.13, 6419032.05, 0.0], [417892.49, 6419022.44, 0.0], [417897.39, 6419017.07, 0.0]]}}, {\"PopT2016\": 415.62642491369985, \"SEC\": 11, \"id_cpt_exp\": \"22, 23\", \"ident\": 6412, \"nbDeplacement\": 510.8554864808085, \"nb_traj_moy\": 1.2291217686336553, \"tmjo_2_sen\": 1115.0, \"trajet_court\": 6412.0, \"type\": \"Feature\", \"geometry\": {\"type\": \"LineString\", \"coordinates\": [[417894.38, 6419038.21, 0.0], [417889.13, 6419032.05, 0.0], [417892.49, 6419022.44, 0.0], [417897.39, 6419017.07, 0.0]]}}, {\"PopT2016\": 8.78172963789, \"SEC\": 17, \"id_cpt_exp\": \"1458, 1459\", \"ident\": 40677, \"nbDeplacement\": 16.55559378850289, \"nb_traj_moy\": 1.885231551318941, \"tmjo_2_sen\": 381.0, \"trajet_court\": 40677.0, \"type\": \"Feature\", \"geometry\": {\"type\": \"LineString\", \"coordinates\": [[406943.14, 6430996.6, 0.0], [406943.92, 6430997.71, 0.0], [406946.22, 6430999.9, 0.0], [406948.92, 6431001.57, 0.0], [406951.9, 6431002.67, 0.0], [406955.05, 6431003.16, 0.0], [406958.21, 6431002.98, 0.0], [406961.29, 6431002.18, 0.0], [406964.15, 6431000.79, 0.0], [406966.66, 6430998.84, 0.0], [406968.73, 6430996.43, 0.0], [406970.27, 6430993.64, 0.0], [406971.21, 6430990.61, 0.0], [406971.53, 6430987.45, 0.0], [406971.31, 6430985.17, 0.0]]}}, {\"PopT2016\": 100.6908714079, \"SEC\": 2, \"id_cpt_exp\": \"70, 71\", \"ident\": 8153, \"nbDeplacement\": 66.12778907830979, \"nb_traj_moy\": 0.6567406573573613, \"tmjo_2_sen\": 1460.0, \"trajet_court\": 8153.0, \"type\": \"Feature\", \"geometry\": {\"type\": \"LineString\", \"coordinates\": [[417463.64, 6424572.93, 0.0], [417410.6, 6424661.54, 0.0]]}}, {\"PopT2016\": 96.65092917647002, \"SEC\": 16, \"id_cpt_exp\": \"1450\", \"ident\": 31423, \"nbDeplacement\": 191.7339805393331, \"nb_traj_moy\": 1.983777933363225, \"tmjo_2_sen\": 697.0, \"trajet_court\": 31423.0, \"type\": \"Feature\", \"geometry\": {\"type\": \"LineString\", \"coordinates\": [[409701.57, 6426013.86, 0.0], [409679.39, 6426054.26, 0.0], [409678.02, 6426056.38, 0.0], [409676.67, 6426056.93, 0.0], [409675.08, 6426057.13, 0.0], [409673.47, 6426056.66, 0.0], [409655.69, 6426047.54, 0.0], [409650.44, 6426046.45, 0.0]]}}, {\"PopT2016\": 400.91405283505117, \"SEC\": 15, \"id_cpt_exp\": \"1408, 1409\", \"ident\": 19391, \"nbDeplacement\": 731.3617517351935, \"nb_traj_moy\": 1.8242357596681698, \"tmjo_2_sen\": 1864.0, \"trajet_court\": 19391.0, \"type\": \"Feature\", \"geometry\": {\"type\": \"LineString\", \"coordinates\": [[412578.7, 6431966.58, 0.0], [412589.48, 6432004.47, 0.0], [412600.69, 6432039.24, 0.0], [412631.23, 6432118.21, 0.0], [412646.21, 6432158.5, 0.0], [412693.1, 6432271.91, 0.0]]}}, {\"PopT2016\": 276.8285208069903, \"SEC\": 12, \"id_cpt_exp\": \"110, 111\", \"ident\": 450, \"nbDeplacement\": 356.3877727528912, \"nb_traj_moy\": 1.287395430622455, \"tmjo_2_sen\": 5971.0, \"trajet_court\": 450.0, \"type\": \"Feature\", \"geometry\": {\"type\": \"LineString\", \"coordinates\": [[425792.79, 6424265.84, 0.0], [425815.3, 6424374.76, 0.0]]}}, {\"PopT2016\": 15.658980173359996, \"SEC\": 12, \"id_cpt_exp\": \"197, 198\", \"ident\": 4177, \"nbDeplacement\": 20.15929952339127, \"nb_traj_moy\": 1.2873954306224542, \"tmjo_2_sen\": 553.0, \"trajet_court\": 4177.0, \"type\": \"Feature\", \"geometry\": {\"type\": \"LineString\", \"coordinates\": [[422461.05, 6422836.94, 0.0], [422500.43, 6422845.41, 0.0]]}}, {\"PopT2016\": 81.98455468975997, \"SEC\": 12, \"id_cpt_exp\": \"1524\", \"ident\": 44548, \"nbDeplacement\": 105.54654108921373, \"nb_traj_moy\": 1.2873954306224535, \"tmjo_2_sen\": 346.0, \"trajet_court\": 44548.0, \"type\": \"Feature\", \"geometry\": {\"type\": \"LineString\", \"coordinates\": [[422990.44, 6419386.13, 0.0], [423013.18, 6419395.36, 0.0], [423123.42, 6419457.53, 0.0], [423132.5, 6419458.5, 0.0], [423157.62, 6419454.64, 0.0], [423171.13, 6419449.93, 0.0]]}}, {\"PopT2016\": 340.07021289054023, \"SEC\": 6, \"id_cpt_exp\": \"1310\", \"ident\": 6559, \"nbDeplacement\": 278.2144294618707, \"nb_traj_moy\": 0.8181087872915849, \"tmjo_2_sen\": 664.0, \"trajet_court\": 6559.0, \"type\": \"Feature\", \"geometry\": {\"type\": \"LineString\", \"coordinates\": [[419054.49, 6424046.64, 0.0], [419036.53, 6424036.27, 0.0]]}}, {\"PopT2016\": 432.82537213669997, \"SEC\": 9, \"id_cpt_exp\": \"323, 324\", \"ident\": 40034, \"nbDeplacement\": 564.6402428238031, \"nb_traj_moy\": 1.3045451564828132, \"tmjo_2_sen\": 2983.0, \"trajet_court\": 40034.0, \"type\": \"Feature\", \"geometry\": {\"type\": \"LineString\", \"coordinates\": [[414377.05, 6417684.01, 0.0], [414443.92, 6417710.14, 0.0], [414452.98, 6417713.96, 0.0], [414457.89, 6417714.53, 0.0], [414463.26, 6417713.17, 0.0], [414465.6, 6417710.58, 0.0], [414487.16, 6417650.67, 0.0], [414488.48, 6417648.72, 0.0], [414490.68, 6417647.87, 0.0], [414492.6, 6417647.73, 0.0], [414494.88, 6417648.27, 0.0], [414496.87, 6417649.5, 0.0], [414593.72, 6417745.51, 0.0], [414635.88, 6417789.67, 0.0], [414647.01, 6417798.26, 0.0], [414656.49, 6417805.14, 0.0]]}}, {\"PopT2016\": 211.41034674123017, \"SEC\": 8, \"id_cpt_exp\": \"1681\", \"ident\": 11753, \"nbDeplacement\": 332.0015999098879, \"nb_traj_moy\": 1.570413203646382, \"tmjo_2_sen\": 1442.0, \"trajet_court\": 11753.0, \"type\": \"Feature\", \"geometry\": {\"type\": \"LineString\", \"coordinates\": [[411488.58, 6420466.96, 0.0], [411494.16, 6420470.39, 0.0], [411498.4, 6420474.4, 0.0], [411505.48, 6420480.36, 0.0], [411507.9, 6420482.57, 0.0], [411513.62, 6420486.32, 0.0]]}}, {\"PopT2016\": 701.1894198630597, \"SEC\": 5, \"id_cpt_exp\": \"69\", \"ident\": 39021, \"nbDeplacement\": 577.9508344468283, \"nb_traj_moy\": 0.8242435183344603, \"tmjo_2_sen\": 1832.0, \"trajet_court\": 39021.0, \"type\": \"Feature\", \"geometry\": {\"type\": \"LineString\", \"coordinates\": [[420404.74, 6423304.26, 0.0], [420395.93, 6423306.48, 0.0], [420386.58, 6423311.57, 0.0], [420237.2, 6423342.01, 0.0]]}}, {\"PopT2016\": 128.71723738957, \"SEC\": 4, \"id_cpt_exp\": \"1833\", \"ident\": 9080, \"nbDeplacement\": 71.58869345255658, \"nb_traj_moy\": 0.5561702139076314, \"tmjo_2_sen\": 1256.0, \"trajet_court\": 9080.0, \"type\": \"Feature\", \"geometry\": {\"type\": \"LineString\", \"coordinates\": [[416326.4, 6421277.39, 0.0], [416319.37, 6421275.45, 0.0], [416224.12, 6421229.04, 0.0], [416108.16, 6421172.18, 0.0], [416081.29, 6421159.2, 0.0], [416077.98, 6421156.14, 0.0]]}}, {\"PopT2016\": 526.726530705, \"SEC\": 13, \"id_cpt_exp\": \"1313, 1314\", \"ident\": 5530, \"nbDeplacement\": 791.6854586072463, \"nb_traj_moy\": 1.5030293946796465, \"tmjo_2_sen\": 965.0, \"trajet_court\": 5530.0, \"type\": \"Feature\", \"geometry\": {\"type\": \"LineString\", \"coordinates\": [[421973.46, 6425702.89, 0.0], [421976.45, 6425698.18, 0.0], [421980.87, 6425694.07, 0.0], [421987.72, 6425691.6, 0.0], [422068.16, 6425671.96, 0.0]]}}, {\"PopT2016\": 22.831352535679997, \"SEC\": 13, \"id_cpt_exp\": \"974\", \"ident\": 2929, \"nbDeplacement\": 34.31619398142072, \"nb_traj_moy\": 1.5030293946796467, \"tmjo_2_sen\": 205.0, \"trajet_court\": 2929.0, \"type\": \"Feature\", \"geometry\": {\"type\": \"LineString\", \"coordinates\": [[423637.44, 6427810.45, 0.0], [423702.35, 6427779.07, 0.0]]}}, {\"PopT2016\": 15.815689633609999, \"SEC\": 13, \"id_cpt_exp\": \"974\", \"ident\": 2930, \"nbDeplacement\": 23.771446416445997, \"nb_traj_moy\": 1.5030293946796467, \"tmjo_2_sen\": 205.0, \"trajet_court\": 2930.0, \"type\": \"Feature\", \"geometry\": {\"type\": \"LineString\", \"coordinates\": [[423528.14, 6427854.22, 0.0], [423637.44, 6427810.45, 0.0]]}}, {\"PopT2016\": 1112.42234129246, \"SEC\": 2, \"id_cpt_exp\": \"1448\", \"ident\": 7728, \"nbDeplacement\": 730.5729796794258, \"nb_traj_moy\": 0.6567406573573608, \"tmjo_2_sen\": 1427.0, \"trajet_court\": 7728.0, \"type\": \"Feature\", \"geometry\": {\"type\": \"LineString\", \"coordinates\": [[418634.45, 6424102.54, 0.0], [418605.26, 6424082.84, 0.0]]}}, {\"PopT2016\": 153.76707270449995, \"SEC\": 6, \"id_cpt_exp\": \"1448\", \"ident\": 7728, \"nbDeplacement\": 125.79819337565533, \"nb_traj_moy\": 0.8181087872915842, \"tmjo_2_sen\": 1427.0, \"trajet_court\": 7728.0, \"type\": \"Feature\", \"geometry\": {\"type\": \"LineString\", \"coordinates\": [[418634.45, 6424102.54, 0.0], [418605.26, 6424082.84, 0.0]]}}, {\"PopT2016\": 163.40455176528005, \"SEC\": 4, \"id_cpt_exp\": \"20, 21\", \"ident\": 8937, \"nbDeplacement\": 90.88074450877639, \"nb_traj_moy\": 0.5561702139076315, \"tmjo_2_sen\": 1309.0, \"trajet_court\": 8937.0, \"type\": \"Feature\", \"geometry\": {\"type\": \"LineString\", \"coordinates\": [[417839.51, 6418921.24, 0.0], [417921.73, 6418951.86, 0.0]]}}, {\"PopT2016\": 415.62642491369985, \"SEC\": 11, \"id_cpt_exp\": \"20, 21\", \"ident\": 8937, \"nbDeplacement\": 510.8554864808085, \"nb_traj_moy\": 1.2291217686336553, \"tmjo_2_sen\": 1309.0, \"trajet_court\": 8937.0, \"type\": \"Feature\", \"geometry\": {\"type\": \"LineString\", \"coordinates\": [[417839.51, 6418921.24, 0.0], [417921.73, 6418951.86, 0.0]]}}, {\"PopT2016\": 2.95634285924, \"SEC\": 13, \"id_cpt_exp\": \"1846, 1847\", \"ident\": 808, \"nbDeplacement\": 4.443470218188993, \"nb_traj_moy\": 1.5030293946796465, \"tmjo_2_sen\": 2038.0, \"trajet_court\": 808.0, \"type\": \"Feature\", \"geometry\": {\"type\": \"LineString\", \"coordinates\": [[423614.49, 6430502.07, 0.0], [423625.75, 6430499.79, 0.0], [423644.23, 6430493.02, 0.0], [423748.45, 6430461.09, 0.0]]}}, {\"PopT2016\": 4.841767353030001, \"SEC\": 14, \"id_cpt_exp\": \"1846, 1847\", \"ident\": 808, \"nbDeplacement\": 9.929965034052724, \"nb_traj_moy\": 2.05089677178283, \"tmjo_2_sen\": 2038.0, \"trajet_court\": 808.0, \"type\": \"Feature\", \"geometry\": {\"type\": \"LineString\", \"coordinates\": [[423614.49, 6430502.07, 0.0], [423625.75, 6430499.79, 0.0], [423644.23, 6430493.02, 0.0], [423748.45, 6430461.09, 0.0]]}}, {\"PopT2016\": 405.67212734593016, \"SEC\": 11, \"id_cpt_exp\": \"661\", \"ident\": 1425, \"nbDeplacement\": 498.6204426488066, \"nb_traj_moy\": 1.2291217686336513, \"tmjo_2_sen\": 3768.0, \"trajet_court\": 1425.0, \"type\": \"Feature\", \"geometry\": {\"type\": \"LineString\", \"coordinates\": [[419283.78, 6417380.43, 0.0], [419288.7, 6417534.19, 0.0]]}}, {\"PopT2016\": 117.77420864783, \"SEC\": 12, \"id_cpt_exp\": \"720, 721\", \"ident\": 19648, \"nbDeplacement\": 151.62197805839187, \"nb_traj_moy\": 1.2873954306224535, \"tmjo_2_sen\": 4330.0, \"trajet_court\": 19648.0, \"type\": \"Feature\", \"geometry\": {\"type\": \"LineString\", \"coordinates\": [[422674.23, 6417748.89, 0.0], [422668.91, 6417746.42, 0.0], [422663.12, 6417744.34, 0.0], [422654.5, 6417742.57, 0.0], [422646.29, 6417741.46, 0.0], [422635.78, 6417740.8, 0.0], [422626.59, 6417741.23, 0.0], [422589.26, 6417746.71, 0.0], [422508.18, 6417759.55, 0.0], [422364.92, 6417781.92, 0.0], [422333.56, 6417786.62, 0.0], [422324.55, 6417787.06, 0.0], [422300.55, 6417787.78, 0.0], [422104.39, 6417788.59, 0.0], [422098.58, 6417788.7, 0.0], [422093.09, 6417789.74, 0.0], [422087.82, 6417791.84, 0.0], [422083.94, 6417794.39, 0.0], [422080.98, 6417797.69, 0.0], [422078.16, 6417801.31, 0.0], [422075.08, 6417807.14, 0.0], [421900.18, 6418286.3, 0.0], [421896.44, 6418301.4, 0.0], [421900.36, 6418317.15, 0.0], [421911.08, 6418338.07, 0.0]]}}, {\"PopT2016\": 372.1530858338005, \"SEC\": 14, \"id_cpt_exp\": \"1042\", \"ident\": 38490, \"nbDeplacement\": 763.2475623455579, \"nb_traj_moy\": 2.050896771782825, \"tmjo_2_sen\": 753.0, \"trajet_court\": 38490.0, \"type\": \"Feature\", \"geometry\": {\"type\": \"LineString\", \"coordinates\": [[424166.11, 6431587.99, 0.0], [424220.8, 6431555.24, 0.0], [424250.99, 6431539.75, 0.0], [424272.48, 6431527.95, 0.0], [424325.0, 6431509.41, 0.0], [424340.34, 6431505.33, 0.0], [424416.67, 6431485.82, 0.0], [424463.29, 6431474.09, 0.0], [424526.69, 6431462.24, 0.0], [424536.96, 6431465.39, 0.0]]}}, {\"PopT2016\": 151.81588869815997, \"SEC\": 7, \"id_cpt_exp\": \"1136, 1137\", \"ident\": 2187, \"nbDeplacement\": 190.14836848267603, \"nb_traj_moy\": 1.2524932015563186, \"tmjo_2_sen\": 2721.0, \"trajet_court\": 2187.0, \"type\": \"Feature\", \"geometry\": {\"type\": \"LineString\", \"coordinates\": [[415740.12, 6424654.59, 0.0], [415935.47, 6424611.59, 0.0]]}}, {\"PopT2016\": 195.21272689645997, \"SEC\": 7, \"id_cpt_exp\": \"1416\", \"ident\": 19677, \"nbDeplacement\": 244.50261329508632, \"nb_traj_moy\": 1.252493201556319, \"tmjo_2_sen\": 1664.0, \"trajet_court\": 19677.0, \"type\": \"Feature\", \"geometry\": {\"type\": \"LineString\", \"coordinates\": [[416625.28, 6425204.2, 0.0], [416587.91, 6425228.42, 0.0], [416549.33, 6425244.21, 0.0]]}}, {\"PopT2016\": 150.087927197, \"SEC\": 2, \"id_cpt_exp\": \"1065, 1066\", \"ident\": 34586, \"nbDeplacement\": 98.56884396876158, \"nb_traj_moy\": 0.6567406573573613, \"tmjo_2_sen\": 1149.0, \"trajet_court\": 34586.0, \"type\": \"Feature\", \"geometry\": {\"type\": \"LineString\", \"coordinates\": [[418145.74, 6423891.95, 0.0], [418257.45, 6423764.3, 0.0], [418279.49, 6423738.69, 0.0]]}}, {\"PopT2016\": 26.761075334549993, \"SEC\": 17, \"id_cpt_exp\": \"700, 701\", \"ident\": 15037, \"nbDeplacement\": 50.45082356791675, \"nb_traj_moy\": 1.8852315513189415, \"tmjo_2_sen\": 491.0, \"trajet_court\": 15037.0, \"type\": \"Feature\", \"geometry\": {\"type\": \"LineString\", \"coordinates\": [[407805.73, 6427598.19, 0.0], [407808.38, 6427581.49, 0.0], [407809.15, 6427544.39, 0.0], [407807.46, 6427506.63, 0.0], [407811.78, 6427499.87, 0.0]]}}, {\"PopT2016\": 82.63551405036999, \"SEC\": 3, \"id_cpt_exp\": \"761, 762\", \"ident\": 9944, \"nbDeplacement\": 103.85074952505113, \"nb_traj_moy\": 1.2567326617191419, \"tmjo_2_sen\": 2246.0, \"trajet_court\": 9944.0, \"type\": \"Feature\", \"geometry\": {\"type\": \"LineString\", \"coordinates\": [[415529.29, 6420888.41, 0.0], [415483.15, 6420806.26, 0.0]]}}, {\"PopT2016\": 11.30069925854, \"SEC\": 1, \"id_cpt_exp\": \"56\", \"ident\": 8837, \"nbDeplacement\": 3.5743898537377974, \"nb_traj_moy\": 0.3162981132372505, \"tmjo_2_sen\": 188.0, \"trajet_court\": 8837.0, \"type\": \"Feature\", \"geometry\": {\"type\": \"LineString\", \"coordinates\": [[417936.88, 6420921.87, 0.0], [417933.8, 6420899.09, 0.0]]}}, {\"PopT2016\": 39.81321319744, \"SEC\": 4, \"id_cpt_exp\": \"56\", \"ident\": 8837, \"nbDeplacement\": 22.14292330037035, \"nb_traj_moy\": 0.5561702139076318, \"tmjo_2_sen\": 188.0, \"trajet_court\": 8837.0, \"type\": \"Feature\", \"geometry\": {\"type\": \"LineString\", \"coordinates\": [[417936.88, 6420921.87, 0.0], [417933.8, 6420899.09, 0.0]]}}, {\"PopT2016\": 74.99999595451001, \"SEC\": 16, \"id_cpt_exp\": \"232, 231\", \"ident\": 35943, \"nbDeplacement\": 148.78333697688814, \"nb_traj_moy\": 1.9837779333632268, \"tmjo_2_sen\": 137.0, \"trajet_court\": 35943.0, \"type\": \"Feature\", \"geometry\": {\"type\": \"LineString\", \"coordinates\": [[409861.68, 6426342.65, 0.0], [409923.68, 6426346.02, 0.0], [409935.11, 6426351.19, 0.0], [409941.66, 6426358.37, 0.0], [409945.39, 6426368.25, 0.0], [409944.55, 6426379.88, 0.0], [409923.46, 6426424.91, 0.0], [409896.62, 6426471.45, 0.0], [409889.01, 6426477.89, 0.0], [409879.27, 6426481.56, 0.0], [409843.38, 6426482.4, 0.0]]}}, {\"PopT2016\": 652.1177948904684, \"SEC\": 3, \"id_cpt_exp\": \"1246\", \"ident\": 10421, \"nbDeplacement\": 819.5377321271166, \"nb_traj_moy\": 1.2567326617191485, \"tmjo_2_sen\": 1918.0, \"trajet_court\": 10421.0, \"type\": \"Feature\", \"geometry\": {\"type\": \"LineString\", \"coordinates\": [[415772.84, 6420203.99, 0.0], [415648.46, 6420259.85, 0.0]]}}, {\"PopT2016\": 29.997932459479998, \"SEC\": 19, \"id_cpt_exp\": \"712\", \"ident\": 17670, \"nbDeplacement\": 49.184649605494265, \"nb_traj_moy\": 1.6396013182552134, \"tmjo_2_sen\": 887.0, \"trajet_court\": 17670.0, \"type\": \"Feature\", \"geometry\": {\"type\": \"LineString\", \"coordinates\": [[416446.68, 6412937.84, 0.0], [416409.67, 6412941.86, 0.0]]}}, {\"PopT2016\": 53.82358481000999, \"SEC\": 19, \"id_cpt_exp\": \"713\", \"ident\": 17671, \"nbDeplacement\": 88.2492206077137, \"nb_traj_moy\": 1.6396013182552138, \"tmjo_2_sen\": 829.0, \"trajet_court\": 17671.0, \"type\": \"Feature\", \"geometry\": {\"type\": \"LineString\", \"coordinates\": [[416409.67, 6412941.86, 0.0], [416298.92, 6412955.35, 0.0]]}}, {\"PopT2016\": 54.63947860383, \"SEC\": 4, \"id_cpt_exp\": \"1486\", \"ident\": 22188, \"nbDeplacement\": 30.388850502893593, \"nb_traj_moy\": 0.5561702139076317, \"tmjo_2_sen\": 690.0, \"trajet_court\": 22188.0, \"type\": \"Feature\", \"geometry\": {\"type\": \"LineString\", \"coordinates\": [[419270.37, 6419574.87, 0.0], [419285.01, 6419557.74, 0.0], [419291.37, 6419541.81, 0.0], [419293.79, 6419528.18, 0.0]]}}, {\"PopT2016\": 314.23136054273004, \"SEC\": 4, \"id_cpt_exp\": \"1486\", \"ident\": 50100, \"nbDeplacement\": 174.76612300953627, \"nb_traj_moy\": 0.5561702139076317, \"tmjo_2_sen\": 690.0, \"trajet_court\": 50100.0, \"type\": \"Feature\", \"geometry\": {\"type\": \"LineString\", \"coordinates\": [[419289.96, 6419511.38, 0.0], [419276.05, 6419445.23, 0.0], [419276.65, 6419429.41, 0.0], [419281.61, 6419415.46, 0.0], [419288.66, 6419407.12, 0.0], [419299.61, 6419399.98, 0.0], [419309.11, 6419397.06, 0.0]]}}, {\"PopT2016\": 310.4366077982698, \"SEC\": 4, \"id_cpt_exp\": \"18, 19\", \"ident\": 7192, \"nbDeplacement\": 172.6555945639234, \"nb_traj_moy\": 0.5561702139076327, \"tmjo_2_sen\": 917.0, \"trajet_court\": 7192.0, \"type\": \"Feature\", \"geometry\": {\"type\": \"LineString\", \"coordinates\": [[417766.3, 6419104.33, 0.0], [417807.27, 6419000.97, 0.0]]}}, {\"PopT2016\": 245.34276154348026, \"SEC\": 13, \"id_cpt_exp\": \"1853\", \"ident\": 42250, \"nbDeplacement\": 368.7573823717301, \"nb_traj_moy\": 1.5030293946796451, \"tmjo_2_sen\": 538.0, \"trajet_court\": 42250.0, \"type\": \"Feature\", \"geometry\": {\"type\": \"LineString\", \"coordinates\": [[424208.82, 6430104.25, 0.0], [424062.69, 6430151.98, 0.0], [424038.38, 6430159.5, 0.0]]}}, {\"PopT2016\": 274.13726161445, \"SEC\": 1, \"id_cpt_exp\": \"Z2CT24\", \"ident\": 38985, \"nbDeplacement\": 86.7090986166771, \"nb_traj_moy\": 0.3162981132372505, \"tmjo_2_sen\": 2659.0, \"trajet_court\": 38985.0, \"type\": \"Feature\", \"geometry\": {\"type\": \"LineString\", \"coordinates\": [[417667.04, 6421764.14, 0.0], [417737.61, 6421768.22, 0.0], [417743.19, 6421769.45, 0.0]]}}, {\"PopT2016\": 220.16399288178033, \"SEC\": 8, \"id_cpt_exp\": \"1109, 1110\", \"ident\": 22995, \"nbDeplacement\": 345.74844138905615, \"nb_traj_moy\": 1.570413203646382, \"tmjo_2_sen\": 1181.0, \"trajet_court\": 22995.0, \"type\": \"Feature\", \"geometry\": {\"type\": \"LineString\", \"coordinates\": [[410823.54, 6420416.16, 0.0], [410736.1, 6420413.77, 0.0], [410724.63, 6420414.24, 0.0], [410707.03, 6420415.86, 0.0], [410635.24, 6420425.53, 0.0]]}}, {\"PopT2016\": 56.16944476667999, \"SEC\": 12, \"id_cpt_exp\": \"1184, 1185\", \"ident\": 18763, \"nbDeplacement\": 72.31228653322417, \"nb_traj_moy\": 1.2873954306224535, \"tmjo_2_sen\": 280.0, \"trajet_court\": 18763.0, \"type\": \"Feature\", \"geometry\": {\"type\": \"LineString\", \"coordinates\": [[424789.57, 6424311.06, 0.0], [424805.87, 6424315.59, 0.0], [424820.37, 6424319.17, 0.0], [424836.61, 6424318.04, 0.0], [424852.33, 6424311.5, 0.0]]}}, {\"PopT2016\": 100.6908714079, \"SEC\": 2, \"id_cpt_exp\": \"70, 71\", \"ident\": 46605, \"nbDeplacement\": 66.12778907830979, \"nb_traj_moy\": 0.6567406573573613, \"tmjo_2_sen\": 1460.0, \"trajet_court\": 46605.0, \"type\": \"Feature\", \"geometry\": {\"type\": \"LineString\", \"coordinates\": [[417410.6, 6424661.54, 0.0], [417329.82, 6424655.81, 0.0]]}}, {\"PopT2016\": 248.8146673319799, \"SEC\": 3, \"id_cpt_exp\": \"946\", \"ident\": 27967, \"nbDeplacement\": 312.6935191508824, \"nb_traj_moy\": 1.2567326617191423, \"tmjo_2_sen\": 728.0, \"trajet_court\": 27967.0, \"type\": \"Feature\", \"geometry\": {\"type\": \"LineString\", \"coordinates\": [[415483.69, 6421666.88, 0.0], [415672.91, 6421656.71, 0.0]]}}, {\"PopT2016\": 6.09635349495, \"SEC\": 15, \"id_cpt_exp\": \"542, 543\", \"ident\": 1723, \"nbDeplacement\": 11.121186049065809, \"nb_traj_moy\": 1.8242357596681689, \"tmjo_2_sen\": 1774.0, \"trajet_court\": 1723.0, \"type\": \"Feature\", \"geometry\": {\"type\": \"LineString\", \"coordinates\": [[414572.63, 6431464.75, 0.0], [414584.27, 6431484.22, 0.0], [414593.52, 6431504.03, 0.0], [414632.24, 6431588.72, 0.0], [414647.42, 6431618.72, 0.0]]}}, {\"PopT2016\": 713.79165177348, \"SEC\": 7, \"id_cpt_exp\": \"880, 459\", \"ident\": 35251, \"nbDeplacement\": 894.019191173938, \"nb_traj_moy\": 1.2524932015563186, \"tmjo_2_sen\": 3117.0, \"trajet_court\": 35251.0, \"type\": \"Feature\", \"geometry\": {\"type\": \"LineString\", \"coordinates\": [[414881.22, 6427302.45, 0.0], [414885.92, 6427293.88, 0.0], [414889.59, 6427288.83, 0.0], [414893.01, 6427284.95, 0.0], [414897.5, 6427281.55, 0.0], [414973.56, 6427233.3, 0.0]]}}, {\"PopT2016\": 713.79165177348, \"SEC\": 7, \"id_cpt_exp\": \"880, 459\", \"ident\": 35250, \"nbDeplacement\": 894.019191173938, \"nb_traj_moy\": 1.2524932015563186, \"tmjo_2_sen\": 3117.0, \"trajet_court\": 35250.0, \"type\": \"Feature\", \"geometry\": {\"type\": \"LineString\", \"coordinates\": [[414973.56, 6427233.3, 0.0], [414982.6, 6427233.66, 0.0]]}}, {\"PopT2016\": 122.37810083421994, \"SEC\": 8, \"id_cpt_exp\": \"438, 439\", \"ident\": 12542, \"nbDeplacement\": 192.18418538722756, \"nb_traj_moy\": 1.570413203646382, \"tmjo_2_sen\": 2618.0, \"trajet_court\": 12542.0, \"type\": \"Feature\", \"geometry\": {\"type\": \"LineString\", \"coordinates\": [[410948.9, 6422175.53, 0.0], [410779.69, 6422140.19, 0.0]]}}, {\"PopT2016\": 213.60895157702947, \"SEC\": 19, \"id_cpt_exp\": \"1773, 1774\", \"ident\": 25217, \"nbDeplacement\": 350.2335185968127, \"nb_traj_moy\": 1.6396013182552158, \"tmjo_2_sen\": 714.0, \"trajet_court\": 25217.0, \"type\": \"Feature\", \"geometry\": {\"type\": \"LineString\", \"coordinates\": [[416560.67, 6412414.97, 0.0], [416567.28, 6412404.23, 0.0], [416575.44, 6412398.39, 0.0], [416606.66, 6412380.33, 0.0], [416626.93, 6412363.41, 0.0], [416641.04, 6412346.01, 0.0], [416651.3, 6412323.72, 0.0], [416655.27, 6412312.17, 0.0], [416667.33, 6412262.05, 0.0]]}}, {\"PopT2016\": 677.1889450949011, \"SEC\": 2, \"id_cpt_exp\": \"841, 842\", \"ident\": 8520, \"nbDeplacement\": 444.7375129567632, \"nb_traj_moy\": 0.6567406573573608, \"tmjo_2_sen\": 1265.0, \"trajet_court\": 8520.0, \"type\": \"Feature\", \"geometry\": {\"type\": \"LineString\", \"coordinates\": [[415951.18, 6422643.8, 0.0], [415870.65, 6422686.58, 0.0]]}}, {\"PopT2016\": 14.54223259126, \"SEC\": 12, \"id_cpt_exp\": \"110, 111\", \"ident\": 18777, \"nbDeplacement\": 18.721603789037058, \"nb_traj_moy\": 1.2873954306224542, \"tmjo_2_sen\": 5971.0, \"trajet_court\": 18777.0, \"type\": \"Feature\", \"geometry\": {\"type\": \"LineString\", \"coordinates\": [[425815.3, 6424374.76, 0.0], [425803.98, 6424366.15, 0.0], [425800.01, 6424360.69, 0.0], [425783.24, 6424291.61, 0.0], [425784.69, 6424280.41, 0.0], [425792.79, 6424265.84, 0.0]]}}, {\"PopT2016\": 362.42533981292047, \"SEC\": 12, \"id_cpt_exp\": \"110, 111\", \"ident\": 505, \"nbDeplacement\": 466.58472641694266, \"nb_traj_moy\": 1.287395430622456, \"tmjo_2_sen\": 5971.0, \"trajet_court\": 505.0, \"type\": \"Feature\", \"geometry\": {\"type\": \"LineString\", \"coordinates\": [[425769.66, 6424513.03, 0.0], [425841.22, 6424513.12, 0.0]]}}, {\"PopT2016\": 587.6397800920397, \"SEC\": 11, \"id_cpt_exp\": \"401, 402\", \"ident\": 17381, \"nbDeplacement\": 722.2808458262195, \"nb_traj_moy\": 1.229121768633654, \"tmjo_2_sen\": 478.0, \"trajet_court\": 17381.0, \"type\": \"Feature\", \"geometry\": {\"type\": \"LineString\", \"coordinates\": [[417968.9, 6416672.85, 0.0], [417697.76, 6416640.1, 0.0], [417511.98, 6416618.26, 0.0]]}}, {\"PopT2016\": 5.88049038102, \"SEC\": 17, \"id_cpt_exp\": \"365, 366\", \"ident\": 15376, \"nbDeplacement\": 11.086086003526447, \"nb_traj_moy\": 1.8852315513189413, \"tmjo_2_sen\": 205.0, \"trajet_court\": 15376.0, \"type\": \"Feature\", \"geometry\": {\"type\": \"LineString\", \"coordinates\": [[408075.07, 6425963.41, 0.0], [408065.62, 6425965.71, 0.0], [408045.99, 6425966.55, 0.0]]}}, {\"PopT2016\": 34.68851639687001, \"SEC\": 17, \"id_cpt_exp\": \"365, 366\", \"ident\": 15377, \"nbDeplacement\": 65.39588557982376, \"nb_traj_moy\": 1.8852315513189415, \"tmjo_2_sen\": 205.0, \"trajet_court\": 15377.0, \"type\": \"Feature\", \"geometry\": {\"type\": \"LineString\", \"coordinates\": [[408045.99, 6425966.55, 0.0], [407975.7, 6425967.89, 0.0]]}}, {\"PopT2016\": 6.6964454441, \"SEC\": 9, \"id_cpt_exp\": \"325, 326\", \"ident\": 35494, \"nbDeplacement\": 8.735815469752055, \"nb_traj_moy\": 1.304545156482813, \"tmjo_2_sen\": 4028.0, \"trajet_court\": 35494.0, \"type\": \"Feature\", \"geometry\": {\"type\": \"LineString\", \"coordinates\": [[414671.98, 6417828.75, 0.0], [414700.34, 6417853.64, 0.0], [414724.0, 6417874.89, 0.0], [414753.06, 6417905.6, 0.0], [414772.81, 6417927.18, 0.0], [414797.14, 6417959.03, 0.0], [414823.47, 6417996.74, 0.0], [414832.11, 6418010.45, 0.0], [414940.66, 6418219.9, 0.0]]}}, {\"PopT2016\": 377.6757549959, \"SEC\": 10, \"id_cpt_exp\": \"325, 326\", \"ident\": 35494, \"nbDeplacement\": 340.40669442022534, \"nb_traj_moy\": 0.901319954795406, \"tmjo_2_sen\": 4028.0, \"trajet_court\": 35494.0, \"type\": \"Feature\", \"geometry\": {\"type\": \"LineString\", \"coordinates\": [[414671.98, 6417828.75, 0.0], [414700.34, 6417853.64, 0.0], [414724.0, 6417874.89, 0.0], [414753.06, 6417905.6, 0.0], [414772.81, 6417927.18, 0.0], [414797.14, 6417959.03, 0.0], [414823.47, 6417996.74, 0.0], [414832.11, 6418010.45, 0.0], [414940.66, 6418219.9, 0.0]]}}, {\"PopT2016\": 365.2134197099103, \"SEC\": 17, \"id_cpt_exp\": \"846, 847\", \"ident\": 14844, \"nbDeplacement\": 688.5118618022091, \"nb_traj_moy\": 1.8852315513189395, \"tmjo_2_sen\": 822.0, \"trajet_court\": 14844.0, \"type\": \"Feature\", \"geometry\": {\"type\": \"LineString\", \"coordinates\": [[402647.24, 6428799.51, 0.0], [402651.15, 6428806.42, 0.0], [402653.94, 6428814.24, 0.0], [402656.52, 6428818.23, 0.0], [402796.39, 6428966.79, 0.0]]}}, {\"PopT2016\": 125.51972539086003, \"SEC\": 16, \"id_cpt_exp\": \"393, 394\", \"ident\": 51054, \"nbDeplacement\": 249.00326143219965, \"nb_traj_moy\": 1.9837779333632273, \"tmjo_2_sen\": 1698.0, \"trajet_court\": 51054.0, \"type\": \"Feature\", \"geometry\": {\"type\": \"LineString\", \"coordinates\": [[408819.08, 6430384.5, 0.0], [408847.45, 6430406.95, 0.0], [408930.77, 6430485.96, 0.0]]}}, {\"PopT2016\": 5.50933272142, \"SEC\": 16, \"id_cpt_exp\": \"393, 394\", \"ident\": 39658, \"nbDeplacement\": 10.929292680308961, \"nb_traj_moy\": 1.9837779333632253, \"tmjo_2_sen\": 1698.0, \"trajet_court\": 39658.0, \"type\": \"Feature\", \"geometry\": {\"type\": \"LineString\", \"coordinates\": [[408809.83, 6430377.31, 0.0], [408812.97, 6430375.66, 0.0], [408816.88, 6430375.83, 0.0], [408819.4, 6430378.38, 0.0]]}}, {\"PopT2016\": 96.69095378372998, \"SEC\": 19, \"id_cpt_exp\": \"490, 491\", \"ident\": 26825, \"nbDeplacement\": 158.5346152871576, \"nb_traj_moy\": 1.6396013182552152, \"tmjo_2_sen\": 286.0, \"trajet_court\": 26825.0, \"type\": \"Feature\", \"geometry\": {\"type\": \"LineString\", \"coordinates\": [[417349.89, 6414756.38, 0.0], [417265.33, 6414894.07, 0.0]]}}, {\"PopT2016\": 244.87941067308037, \"SEC\": 17, \"id_cpt_exp\": \"370\", \"ident\": 15291, \"nbDeplacement\": 461.6543912692793, \"nb_traj_moy\": 1.885231551318943, \"tmjo_2_sen\": 528.0, \"trajet_court\": 15291.0, \"type\": \"Feature\", \"geometry\": {\"type\": \"LineString\", \"coordinates\": [[407690.59, 6429227.68, 0.0], [407642.67, 6429245.39, 0.0]]}}, {\"PopT2016\": 161.5075831966602, \"SEC\": 17, \"id_cpt_exp\": \"376\", \"ident\": 48273, \"nbDeplacement\": 304.47919161961255, \"nb_traj_moy\": 1.8852315513189393, \"tmjo_2_sen\": 1750.0, \"trajet_court\": 48273.0, \"type\": \"Feature\", \"geometry\": {\"type\": \"LineString\", \"coordinates\": [[406228.57, 6429135.91, 0.0], [406230.94, 6429179.38, 0.0], [406229.85, 6429193.25, 0.0], [406227.12, 6429204.14, 0.0], [406208.81, 6429257.98, 0.0], [406204.8, 6429272.34, 0.0], [406202.57, 6429289.24, 0.0], [406203.97, 6429338.16, 0.0], [406201.92, 6429355.05, 0.0], [406197.0, 6429370.91, 0.0]]}}, {\"PopT2016\": 434.0320393428505, \"SEC\": 9, \"id_cpt_exp\": \"1288, 1287\", \"ident\": 24074, \"nbDeplacement\": 566.2143946830727, \"nb_traj_moy\": 1.3045451564828154, \"tmjo_2_sen\": 2082.0, \"trajet_court\": 24074.0, \"type\": \"Feature\", \"geometry\": {\"type\": \"LineString\", \"coordinates\": [[411931.37, 6417848.6, 0.0], [411929.11, 6417846.1, 0.0], [411926.45, 6417844.55, 0.0]]}}, {\"PopT2016\": 171.38625738819002, \"SEC\": 3, \"id_cpt_exp\": \"1254\", \"ident\": 26492, \"nbDeplacement\": 215.38670742954216, \"nb_traj_moy\": 1.2567326617191419, \"tmjo_2_sen\": 1418.0, \"trajet_court\": 26492.0, \"type\": \"Feature\", \"geometry\": {\"type\": \"LineString\", \"coordinates\": [[414646.33, 6420880.4, 0.0], [414650.28, 6420847.92, 0.0], [414656.25, 6420744.79, 0.0], [414657.33, 6420738.09, 0.0], [414658.55, 6420734.04, 0.0], [414661.09, 6420729.81, 0.0], [414668.37, 6420719.62, 0.0], [414670.62, 6420715.1, 0.0], [414671.03, 6420710.87, 0.0], [414670.89, 6420706.45, 0.0], [414670.08, 6420703.36, 0.0], [414668.14, 6420700.12, 0.0], [414664.4, 6420695.54, 0.0], [414660.39, 6420693.21, 0.0], [414654.36, 6420691.53, 0.0]]}}, {\"PopT2016\": 2.6431918696, \"SEC\": 17, \"id_cpt_exp\": \"1726\", \"ident\": 42673, \"nbDeplacement\": 4.983028708759621, \"nb_traj_moy\": 1.8852315513189413, \"tmjo_2_sen\": 5126.0, \"trajet_court\": 42673.0, \"type\": \"Feature\", \"geometry\": {\"type\": \"LineString\", \"coordinates\": [[406211.34, 6424961.14, 0.0], [406211.41, 6424887.76, 0.0], [406209.54, 6424860.74, 0.0], [406202.29, 6424782.73, 0.0], [406198.04, 6424759.91, 0.0], [406189.94, 6424729.62, 0.0], [406187.91, 6424720.4, 0.0], [406186.7, 6424709.75, 0.0], [406186.92, 6424701.85, 0.0]]}}, {\"PopT2016\": 231.43321817202985, \"SEC\": 17, \"id_cpt_exp\": \"1725\", \"ident\": 43149, \"nbDeplacement\": 436.30520492119047, \"nb_traj_moy\": 1.8852315513189422, \"tmjo_2_sen\": 3512.0, \"trajet_court\": 43149.0, \"type\": \"Feature\", \"geometry\": {\"type\": \"LineString\", \"coordinates\": [[406243.68, 6425176.26, 0.0], [406218.11, 6425139.65, 0.0], [406212.05, 6425126.27, 0.0], [406209.26, 6425115.29, 0.0], [406208.88, 6425103.99, 0.0], [406211.83, 6425077.64, 0.0], [406212.79, 6425052.23, 0.0], [406211.34, 6424961.14, 0.0]]}}, {\"PopT2016\": 44.50782398522, \"SEC\": 10, \"id_cpt_exp\": \"1750\", \"ident\": 16385, \"nbDeplacement\": 40.115789902400365, \"nb_traj_moy\": 0.9013199547954059, \"tmjo_2_sen\": 222.0, \"trajet_court\": 16385.0, \"type\": \"Feature\", \"geometry\": {\"type\": \"LineString\", \"coordinates\": [[414728.82, 6419330.36, 0.0], [414656.76, 6419274.94, 0.0]]}}, {\"PopT2016\": 2.00025450401, \"SEC\": 19, \"id_cpt_exp\": \"403, 404\", \"ident\": 20040, \"nbDeplacement\": 3.2796199216207245, \"nb_traj_moy\": 1.6396013182552136, \"tmjo_2_sen\": 748.0, \"trajet_court\": 20040.0, \"type\": \"Feature\", \"geometry\": {\"type\": \"LineString\", \"coordinates\": [[419422.28, 6414970.75, 0.0], [419389.35, 6414973.14, 0.0], [419380.18, 6414981.93, 0.0], [419383.96, 6414995.99, 0.0]]}}, {\"PopT2016\": 256.6899148025998, \"SEC\": 17, \"id_cpt_exp\": \"1496, 1497\", \"ident\": 42674, \"nbDeplacement\": 483.91992629123155, \"nb_traj_moy\": 1.8852315513189433, \"tmjo_2_sen\": 7487.0, \"trajet_court\": 42674.0, \"type\": \"Feature\", \"geometry\": {\"type\": \"LineString\", \"coordinates\": [[406186.92, 6424701.85, 0.0], [406187.68, 6424651.04, 0.0], [406190.14, 6424551.51, 0.0], [406194.53, 6424517.61, 0.0]]}}, {\"PopT2016\": 364.66004590707, \"SEC\": 12, \"id_cpt_exp\": \"1072, 1071\", \"ident\": 44841, \"nbDeplacement\": 469.46167683133626, \"nb_traj_moy\": 1.2873954306224538, \"tmjo_2_sen\": 1864.0, \"trajet_court\": 44841.0, \"type\": \"Feature\", \"geometry\": {\"type\": \"LineString\", \"coordinates\": [[423993.4, 6422189.97, 0.0], [423996.58, 6422192.26, 0.0], [424000.66, 6422193.93, 0.0], [424006.68, 6422194.91, 0.0], [424074.1, 6422198.53, 0.0]]}}, {\"PopT2016\": 222.5777322496802, \"SEC\": 8, \"id_cpt_exp\": \"274, 275\", \"ident\": 45241, \"nbDeplacement\": 349.539009562567, \"nb_traj_moy\": 1.570413203646382, \"tmjo_2_sen\": 1999.0, \"trajet_court\": 45241.0, \"type\": \"Feature\", \"geometry\": {\"type\": \"LineString\", \"coordinates\": [[409872.33, 6420210.91, 0.0], [409837.43, 6420209.91, 0.0]]}}, {\"PopT2016\": 888.6125017643698, \"SEC\": 11, \"id_cpt_exp\": \"1611, 1612\", \"ident\": 52231, \"nbDeplacement\": 1092.2129697985963, \"nb_traj_moy\": 1.229121768633653, \"tmjo_2_sen\": 1902.0, \"trajet_court\": 52231.0, \"type\": \"Feature\", \"geometry\": {\"type\": \"LineString\", \"coordinates\": [[418043.79, 6415845.36, 0.0], [418127.75, 6415834.1, 0.0]]}}, {\"PopT2016\": 239.4033261474004, \"SEC\": 19, \"id_cpt_exp\": \"1611, 1612\", \"ident\": 52231, \"nbDeplacement\": 392.5260091459604, \"nb_traj_moy\": 1.639601318255216, \"tmjo_2_sen\": 1902.0, \"trajet_court\": 52231.0, \"type\": \"Feature\", \"geometry\": {\"type\": \"LineString\", \"coordinates\": [[418043.79, 6415845.36, 0.0], [418127.75, 6415834.1, 0.0]]}}, {\"PopT2016\": 434.0320393428505, \"SEC\": 9, \"id_cpt_exp\": \"1288, 1287\", \"ident\": 54526, \"nbDeplacement\": 566.2143946830727, \"nb_traj_moy\": 1.3045451564828154, \"tmjo_2_sen\": 2082.0, \"trajet_court\": 54526.0, \"type\": \"Feature\", \"geometry\": {\"type\": \"LineString\", \"coordinates\": [[411926.45, 6417844.55, 0.0], [411914.45, 6417837.58, 0.0]]}}, {\"PopT2016\": 157.73421306868, \"SEC\": 6, \"id_cpt_exp\": \"Z25CT16\", \"ident\": 50428, \"nbDeplacement\": 129.04374576801013, \"nb_traj_moy\": 0.8181087872915842, \"tmjo_2_sen\": 1720.0, \"trajet_court\": 50428.0, \"type\": \"Feature\", \"geometry\": {\"type\": \"LineString\", \"coordinates\": [[418031.25, 6426087.12, 0.0], [418024.66, 6426062.6, 0.0], [418002.2, 6425977.63, 0.0], [417999.5, 6425968.32, 0.0]]}}, {\"PopT2016\": 87.96324924848999, \"SEC\": 11, \"id_cpt_exp\": \"122, 123\", \"ident\": 18990, \"nbDeplacement\": 108.11754449106678, \"nb_traj_moy\": 1.229121768633652, \"tmjo_2_sen\": 2210.0, \"trajet_court\": 18990.0, \"type\": \"Feature\", \"geometry\": {\"type\": \"LineString\", \"coordinates\": [[420019.37, 6418549.25, 0.0], [420027.4, 6418546.9, 0.0], [420115.68, 6418537.69, 0.0], [420139.33, 6418535.37, 0.0], [420154.05, 6418533.74, 0.0], [420228.51, 6418528.88, 0.0], [420284.01, 6418523.85, 0.0], [420303.84, 6418521.37, 0.0], [420324.47, 6418519.93, 0.0], [420395.25, 6418516.44, 0.0], [420404.98, 6418513.23, 0.0]]}}, {\"PopT2016\": 87.37313130619003, \"SEC\": 5, \"id_cpt_exp\": \"836, 837\", \"ident\": 8104, \"nbDeplacement\": 72.01673715571278, \"nb_traj_moy\": 0.8242435183344592, \"tmjo_2_sen\": 1078.0, \"trajet_court\": 8104.0, \"type\": \"Feature\", \"geometry\": {\"type\": \"LineString\", \"coordinates\": [[420320.38, 6420580.92, 0.0], [420516.86, 6420793.37, 0.0]]}}, {\"PopT2016\": 122.92913687913003, \"SEC\": 12, \"id_cpt_exp\": \"836, 837\", \"ident\": 8104, \"nbDeplacement\": 158.25840910855413, \"nb_traj_moy\": 1.2873954306224535, \"tmjo_2_sen\": 1078.0, \"trajet_court\": 8104.0, \"type\": \"Feature\", \"geometry\": {\"type\": \"LineString\", \"coordinates\": [[420320.38, 6420580.92, 0.0], [420516.86, 6420793.37, 0.0]]}}, {\"PopT2016\": 308.63289907432005, \"SEC\": 6, \"id_cpt_exp\": \"1790\", \"ident\": 8996, \"nbDeplacement\": 252.49528677997776, \"nb_traj_moy\": 0.8181087872915843, \"tmjo_2_sen\": 5548.0, \"trajet_court\": 8996.0, \"type\": \"Feature\", \"geometry\": {\"type\": \"LineString\", \"coordinates\": [[418934.61, 6424233.51, 0.0], [419002.81, 6424278.21, 0.0]]}}, {\"PopT2016\": 29.4453070302, \"SEC\": 12, \"id_cpt_exp\": \"863\", \"ident\": 3285, \"nbDeplacement\": 37.907753723954706, \"nb_traj_moy\": 1.287395430622454, \"tmjo_2_sen\": 427.0, \"trajet_court\": 3285.0, \"type\": \"Feature\", \"geometry\": {\"type\": \"LineString\", \"coordinates\": [[422911.43, 6422061.39, 0.0], [422792.39, 6422014.97, 0.0]]}}, {\"PopT2016\": 155.1764675193, \"SEC\": 13, \"id_cpt_exp\": \"419, 420\", \"ident\": 2947, \"nbDeplacement\": 233.234792044059, \"nb_traj_moy\": 1.5030293946796445, \"tmjo_2_sen\": 1056.0, \"trajet_court\": 2947.0, \"type\": \"Feature\", \"geometry\": {\"type\": \"LineString\", \"coordinates\": [[422693.52, 6427710.66, 0.0], [422697.13, 6427776.25, 0.0]]}}, {\"PopT2016\": 69.47017596704, \"SEC\": 19, \"id_cpt_exp\": \"1867, 1868\", \"ident\": 20547, \"nbDeplacement\": 113.90339209498043, \"nb_traj_moy\": 1.6396013182552145, \"tmjo_2_sen\": 365.0, \"trajet_court\": 20547.0, \"type\": \"Feature\", \"geometry\": {\"type\": \"LineString\", \"coordinates\": [[414797.79, 6413590.94, 0.0], [414791.88, 6413605.35, 0.0], [414776.27, 6413609.75, 0.0], [414748.69, 6413608.23, 0.0]]}}, {\"PopT2016\": 74.62417007008003, \"SEC\": 19, \"id_cpt_exp\": \"1867, 1868\", \"ident\": 20548, \"nbDeplacement\": 122.35388762060441, \"nb_traj_moy\": 1.6396013182552145, \"tmjo_2_sen\": 365.0, \"trajet_court\": 20548.0, \"type\": \"Feature\", \"geometry\": {\"type\": \"LineString\", \"coordinates\": [[414748.69, 6413608.23, 0.0], [414731.56, 6413610.04, 0.0], [414715.06, 6413607.75, 0.0], [414699.43, 6413602.76, 0.0], [414682.39, 6413595.75, 0.0], [414666.14, 6413586.44, 0.0], [414629.65, 6413559.38, 0.0], [414612.7, 6413546.98, 0.0], [414594.99, 6413537.68, 0.0], [414578.3, 6413532.97, 0.0], [414560.98, 6413530.52, 0.0], [414474.13, 6413526.81, 0.0], [414456.16, 6413524.05, 0.0]]}}, {\"PopT2016\": 297.49162293025023, \"SEC\": 15, \"id_cpt_exp\": \"1155, 1156\", \"ident\": 35431, \"nbDeplacement\": 542.6948567510822, \"nb_traj_moy\": 1.8242357596681698, \"tmjo_2_sen\": 975.0, \"trajet_court\": 35431.0, \"type\": \"Feature\", \"geometry\": {\"type\": \"LineString\", \"coordinates\": [[413322.58, 6431958.03, 0.0], [413297.5, 6431972.18, 0.0], [413284.49, 6431975.8, 0.0]]}}, {\"PopT2016\": 263.23528145379004, \"SEC\": 11, \"id_cpt_exp\": \"126\", \"ident\": 1235, \"nbDeplacement\": 323.5482147072597, \"nb_traj_moy\": 1.2291217686336513, \"tmjo_2_sen\": 1214.0, \"trajet_court\": 1235.0, \"type\": \"Feature\", \"geometry\": {\"type\": \"LineString\", \"coordinates\": [[420081.36, 6419597.24, 0.0], [420006.83, 6419556.38, 0.0]]}}, {\"PopT2016\": 138.9103278406301, \"SEC\": 16, \"id_cpt_exp\": \"566, 567\", \"ident\": 32889, \"nbDeplacement\": 275.56724308649314, \"nb_traj_moy\": 1.9837779333632273, \"tmjo_2_sen\": 846.0, \"trajet_court\": 32889.0, \"type\": \"Feature\", \"geometry\": {\"type\": \"LineString\", \"coordinates\": [[410301.94, 6426881.81, 0.0], [410299.98, 6426825.16, 0.0]]}}, {\"PopT2016\": 135.93721554918997, \"SEC\": 16, \"id_cpt_exp\": \"1217, 1218\", \"ident\": 20952, \"nbDeplacement\": 269.6692485293231, \"nb_traj_moy\": 1.9837779333632275, \"tmjo_2_sen\": 718.0, \"trajet_court\": 20952.0, \"type\": \"Feature\", \"geometry\": {\"type\": \"LineString\", \"coordinates\": [[411225.26, 6427651.03, 0.0], [411198.0, 6427621.91, 0.0], [411187.57, 6427605.61, 0.0]]}}, {\"PopT2016\": 79.35130552177003, \"SEC\": 4, \"id_cpt_exp\": \"1781\", \"ident\": 9235, \"nbDeplacement\": 44.13283256589265, \"nb_traj_moy\": 0.5561702139076313, \"tmjo_2_sen\": 3136.0, \"trajet_court\": 9235.0, \"type\": \"Feature\", \"geometry\": {\"type\": \"LineString\", \"coordinates\": [[417723.31, 6419002.81, 0.0], [417683.4, 6418909.23, 0.0]]}}, {\"PopT2016\": 202.44050152513, \"SEC\": 6, \"id_cpt_exp\": \"1784\", \"ident\": 6480, \"nbDeplacement\": 165.61835320142418, \"nb_traj_moy\": 0.8181087872915843, \"tmjo_2_sen\": 1506.0, \"trajet_court\": 6480.0, \"type\": \"Feature\", \"geometry\": {\"type\": \"LineString\", \"coordinates\": [[418785.29, 6424643.65, 0.0], [418711.93, 6424760.47, 0.0]]}}, {\"PopT2016\": 250.17549882207, \"SEC\": 6, \"id_cpt_exp\": \"1308\", \"ident\": 6561, \"nbDeplacement\": 204.67077395139086, \"nb_traj_moy\": 0.8181087872915846, \"tmjo_2_sen\": 436.0, \"trajet_court\": 6561.0, \"type\": \"Feature\", \"geometry\": {\"type\": \"LineString\", \"coordinates\": [[419173.09, 6424114.12, 0.0], [419118.78, 6424082.75, 0.0]]}}, {\"PopT2016\": 39.98552169969, \"SEC\": 4, \"id_cpt_exp\": \"Z3CT4\", \"ident\": 9165, \"nbDeplacement\": 22.238756156924833, \"nb_traj_moy\": 0.5561702139076318, \"tmjo_2_sen\": 4630.0, \"trajet_court\": 9165.0, \"type\": \"Feature\", \"geometry\": {\"type\": \"LineString\", \"coordinates\": [[416799.98, 6421357.35, 0.0], [416879.91, 6421327.4, 0.0]]}}, {\"PopT2016\": 95.10997246601997, \"SEC\": 13, \"id_cpt_exp\": \"1043\", \"ident\": 5425, \"nbDeplacement\": 142.95308434359987, \"nb_traj_moy\": 1.5030293946796467, \"tmjo_2_sen\": 662.0, \"trajet_court\": 5425.0, \"type\": \"Feature\", \"geometry\": {\"type\": \"LineString\", \"coordinates\": [[422032.06, 6424985.61, 0.0], [421976.08, 6424998.55, 0.0]]}}, {\"PopT2016\": 414.1623976200895, \"SEC\": 16, \"id_cpt_exp\": \"251, 252\", \"ident\": 40006, \"nbDeplacement\": 821.6062252275411, \"nb_traj_moy\": 1.9837779333632277, \"tmjo_2_sen\": 757.0, \"trajet_court\": 40006.0, \"type\": \"Feature\", \"geometry\": {\"type\": \"LineString\", \"coordinates\": [[409707.88, 6425736.23, 0.0], [409701.66, 6425734.74, 0.0], [409695.85, 6425701.71, 0.0], [409692.3, 6425695.85, 0.0], [409687.77, 6425690.45, 0.0], [409680.56, 6425645.51, 0.0], [409683.8, 6425642.82, 0.0], [409704.41, 6425639.6, 0.0], [409706.79, 6425636.56, 0.0], [409698.14, 6425584.58, 0.0], [409689.94, 6425580.96, 0.0], [409667.96, 6425584.79, 0.0], [409646.34, 6425595.86, 0.0], [409550.98, 6425611.74, 0.0]]}}, {\"PopT2016\": 727.4029886603602, \"SEC\": 7, \"id_cpt_exp\": \"1602, 1603\", \"ident\": 30831, \"nbDeplacement\": 911.067298088848, \"nb_traj_moy\": 1.252493201556318, \"tmjo_2_sen\": 1223.0, \"trajet_court\": 30831.0, \"type\": \"Feature\", \"geometry\": {\"type\": \"LineString\", \"coordinates\": [[415231.18, 6425486.67, 0.0], [415221.19, 6425484.68, 0.0], [415092.48, 6425528.23, 0.0], [415010.68, 6425546.76, 0.0], [415002.42, 6425547.18, 0.0], [414946.26, 6425543.94, 0.0]]}}, {\"PopT2016\": 377.27846813670016, \"SEC\": 7, \"id_cpt_exp\": \"1424, 1425\", \"ident\": 19800, \"nbDeplacement\": 472.53871643479874, \"nb_traj_moy\": 1.252493201556319, \"tmjo_2_sen\": 775.0, \"trajet_court\": 19800.0, \"type\": \"Feature\", \"geometry\": {\"type\": \"LineString\", \"coordinates\": [[417197.81, 6425322.52, 0.0], [417191.77, 6425481.21, 0.0], [417188.52, 6425560.16, 0.0], [417192.09, 6425566.36, 0.0]]}}, {\"PopT2016\": 6.61940101535, \"SEC\": 14, \"id_cpt_exp\": \"651, 652\", \"ident\": 161, \"nbDeplacement\": 13.575708173517302, \"nb_traj_moy\": 2.05089677178283, \"tmjo_2_sen\": 1133.0, \"trajet_court\": 161.0, \"type\": \"Feature\", \"geometry\": {\"type\": \"LineString\", \"coordinates\": [[424690.75, 6431409.38, 0.0], [424734.98, 6431538.25, 0.0]]}}, {\"PopT2016\": 124.40869843883, \"SEC\": 4, \"id_cpt_exp\": \"550\", \"ident\": 10569, \"nbDeplacement\": 69.19241242269415, \"nb_traj_moy\": 0.556170213907632, \"tmjo_2_sen\": 365.0, \"trajet_court\": 10569.0, \"type\": \"Feature\", \"geometry\": {\"type\": \"LineString\", \"coordinates\": [[418217.12, 6419988.07, 0.0], [418209.97, 6419987.21, 0.0], [418029.34, 6419939.41, 0.0], [417986.79, 6419923.77, 0.0]]}}, {\"PopT2016\": 191.13370766234988, \"SEC\": 17, \"id_cpt_exp\": \"371, 372\", \"ident\": 15050, \"nbDeplacement\": 360.3312962056328, \"nb_traj_moy\": 1.8852315513189402, \"tmjo_2_sen\": 397.0, \"trajet_court\": 15050.0, \"type\": \"Feature\", \"geometry\": {\"type\": \"LineString\", \"coordinates\": [[402797.46, 6429131.68, 0.0], [402859.08, 6429166.14, 0.0], [402881.01, 6429174.14, 0.0]]}}, {\"PopT2016\": 44.023510213379986, \"SEC\": 8, \"id_cpt_exp\": \"434, 435\", \"ident\": 23058, \"nbDeplacement\": 69.1351017099533, \"nb_traj_moy\": 1.570413203646382, \"tmjo_2_sen\": 658.0, \"trajet_court\": 23058.0, \"type\": \"Feature\", \"geometry\": {\"type\": \"LineString\", \"coordinates\": [[411092.71, 6422079.53, 0.0], [411069.48, 6421965.17, 0.0], [411069.83, 6421955.64, 0.0], [411095.1, 6421885.47, 0.0]]}}, {\"PopT2016\": 104.06176443448996, \"SEC\": 2, \"id_cpt_exp\": \"2\", \"ident\": 10560, \"nbDeplacement\": 68.34159158047383, \"nb_traj_moy\": 0.656740657357361, \"tmjo_2_sen\": 2365.0, \"trajet_court\": 10560.0, \"type\": \"Feature\", \"geometry\": {\"type\": \"LineString\", \"coordinates\": [[416812.21, 6422475.36, 0.0], [416816.6, 6422498.1, 0.0]]}}, {\"PopT2016\": 7.03773453089, \"SEC\": 1, \"id_cpt_exp\": \"56\", \"ident\": 8836, \"nbDeplacement\": 2.226022153585153, \"nb_traj_moy\": 0.3162981132372505, \"tmjo_2_sen\": 188.0, \"trajet_court\": 8836.0, \"type\": \"Feature\", \"geometry\": {\"type\": \"LineString\", \"coordinates\": [[417939.25, 6420938.19, 0.0], [417936.88, 6420921.87, 0.0]]}}, {\"PopT2016\": 7.03773453089, \"SEC\": 4, \"id_cpt_exp\": \"56\", \"ident\": 8836, \"nbDeplacement\": 3.914178319470217, \"nb_traj_moy\": 0.5561702139076317, \"tmjo_2_sen\": 188.0, \"trajet_court\": 8836.0, \"type\": \"Feature\", \"geometry\": {\"type\": \"LineString\", \"coordinates\": [[417939.25, 6420938.19, 0.0], [417936.88, 6420921.87, 0.0]]}}, {\"PopT2016\": 74.6414733974, \"SEC\": 4, \"id_cpt_exp\": \"60\", \"ident\": 8848, \"nbDeplacement\": 41.51336422581276, \"nb_traj_moy\": 0.5561702139076315, \"tmjo_2_sen\": 89.0, \"trajet_court\": 8848.0, \"type\": \"Feature\", \"geometry\": {\"type\": \"LineString\", \"coordinates\": [[417881.92, 6420483.6, 0.0], [417880.53, 6420477.91, 0.0], [417878.57, 6420461.55, 0.0], [417878.06, 6420455.14, 0.0], [417878.4, 6420448.78, 0.0], [417878.02, 6420441.65, 0.0], [417876.78, 6420438.19, 0.0]]}}, {\"PopT2016\": 13.545006246149999, \"SEC\": 7, \"id_cpt_exp\": \"144, 145\", \"ident\": 2275, \"nbDeplacement\": 16.965028238340732, \"nb_traj_moy\": 1.2524932015563177, \"tmjo_2_sen\": 2217.0, \"trajet_court\": 2275.0, \"type\": \"Feature\", \"geometry\": {\"type\": \"LineString\", \"coordinates\": [[416953.43, 6424890.71, 0.0], [416948.85, 6424971.71, 0.0]]}}, {\"PopT2016\": 46.00206629416, \"SEC\": 7, \"id_cpt_exp\": \"151\", \"ident\": 2439, \"nbDeplacement\": 57.61727529097843, \"nb_traj_moy\": 1.2524932015563177, \"tmjo_2_sen\": 1747.0, \"trajet_court\": 2439.0, \"type\": \"Feature\", \"geometry\": {\"type\": \"LineString\", \"coordinates\": [[416712.98, 6424472.94, 0.0], [416518.08, 6424484.43, 0.0]]}}, {\"PopT2016\": 357.84476130958075, \"SEC\": 7, \"id_cpt_exp\": \"1600, 1601\", \"ident\": 19713, \"nbDeplacement\": 448.19813075279234, \"nb_traj_moy\": 1.2524932015563193, \"tmjo_2_sen\": 142.0, \"trajet_court\": 19713.0, \"type\": \"Feature\", \"geometry\": {\"type\": \"LineString\", \"coordinates\": [[416288.24, 6424977.23, 0.0], [416314.57, 6425090.52, 0.0], [416322.67, 6425117.27, 0.0], [416327.52, 6425132.7, 0.0], [416389.06, 6425278.36, 0.0]]}}, {\"PopT2016\": 2.23247657434, \"SEC\": 9, \"id_cpt_exp\": \"1747, 1748\", \"ident\": 16641, \"nbDeplacement\": 2.9123665020165896, \"nb_traj_moy\": 1.304545156482813, \"tmjo_2_sen\": 147.0, \"trajet_court\": 16641.0, \"type\": \"Feature\", \"geometry\": {\"type\": \"LineString\", \"coordinates\": [[414881.64, 6419309.95, 0.0], [414700.23, 6419222.03, 0.0]]}}, {\"PopT2016\": 84.71976853564, \"SEC\": 10, \"id_cpt_exp\": \"1747, 1748\", \"ident\": 16641, \"nbDeplacement\": 76.35961794682032, \"nb_traj_moy\": 0.9013199547954052, \"tmjo_2_sen\": 147.0, \"trajet_court\": 16641.0, \"type\": \"Feature\", \"geometry\": {\"type\": \"LineString\", \"coordinates\": [[414881.64, 6419309.95, 0.0], [414700.23, 6419222.03, 0.0]]}}, {\"PopT2016\": 329.01002642598024, \"SEC\": 4, \"id_cpt_exp\": \"1228\", \"ident\": 6948, \"nbDeplacement\": 182.98557677509322, \"nb_traj_moy\": 0.556170213907633, \"tmjo_2_sen\": 1518.0, \"trajet_court\": 6948.0, \"type\": \"Feature\", \"geometry\": {\"type\": \"LineString\", \"coordinates\": [[415834.72, 6421951.52, 0.0], [415902.8, 6421966.38, 0.0]]}}, {\"PopT2016\": 982.255648313711, \"SEC\": 8, \"id_cpt_exp\": \"1280, 1279\", \"ident\": 23259, \"nbDeplacement\": 1542.5472394680864, \"nb_traj_moy\": 1.5704132036463843, \"tmjo_2_sen\": 5407.0, \"trajet_court\": 23259.0, \"type\": \"Feature\", \"geometry\": {\"type\": \"LineString\", \"coordinates\": [[410866.72, 6423624.95, 0.0], [410730.09, 6423376.86, 0.0], [410727.29, 6423371.43, 0.0], [410716.27, 6423315.86, 0.0]]}}, {\"PopT2016\": 96.24672838775004, \"SEC\": 19, \"id_cpt_exp\": \"713\", \"ident\": 17672, \"nbDeplacement\": 157.8062627423064, \"nb_traj_moy\": 1.639601318255215, \"tmjo_2_sen\": 829.0, \"trajet_court\": 17672.0, \"type\": \"Feature\", \"geometry\": {\"type\": \"LineString\", \"coordinates\": [[416298.92, 6412955.35, 0.0], [416212.06, 6412966.21, 0.0]]}}, {\"PopT2016\": 95.53517348147, \"SEC\": 1, \"id_cpt_exp\": \"Z2CT4\", \"ident\": 6344, \"nbDeplacement\": 30.21759511998237, \"nb_traj_moy\": 0.3162981132372505, \"tmjo_2_sen\": 2409.0, \"trajet_court\": 6344.0, \"type\": \"Feature\", \"geometry\": {\"type\": \"LineString\", \"coordinates\": [[417985.19, 6421783.15, 0.0], [418009.01, 6421783.82, 0.0], [418056.35, 6421787.18, 0.0], [418071.76, 6421788.84, 0.0], [418110.72, 6421791.48, 0.0]]}}, {\"PopT2016\": 189.17103541181, \"SEC\": 13, \"id_cpt_exp\": \"682, 683\", \"ident\": 3134, \"nbDeplacement\": 284.32962684593474, \"nb_traj_moy\": 1.5030293946796467, \"tmjo_2_sen\": 1343.0, \"trajet_court\": 3134.0, \"type\": \"Feature\", \"geometry\": {\"type\": \"LineString\", \"coordinates\": [[423663.34, 6427879.88, 0.0], [423678.99, 6427915.67, 0.0]]}}, {\"PopT2016\": 439.305605900389, \"SEC\": 8, \"id_cpt_exp\": \"1105, 1106\", \"ident\": 22854, \"nbDeplacement\": 689.8913239418481, \"nb_traj_moy\": 1.5704132036463845, \"tmjo_2_sen\": 4411.0, \"trajet_court\": 22854.0, \"type\": \"Feature\", \"geometry\": {\"type\": \"LineString\", \"coordinates\": [[410566.19, 6420689.0, 0.0], [410572.72, 6420687.39, 0.0], [410582.01, 6420684.23, 0.0], [410645.59, 6420632.7, 0.0], [410792.84, 6420494.68, 0.0], [410801.83, 6420475.9, 0.0], [410808.17, 6420432.7, 0.0], [410814.79, 6420424.08, 0.0], [410823.54, 6420416.16, 0.0]]}}, {\"PopT2016\": 292.94521346742044, \"SEC\": 3, \"id_cpt_exp\": \"981, 982\", \"ident\": 10242, \"nbDeplacement\": 368.1538178587933, \"nb_traj_moy\": 1.2567326617191414, \"tmjo_2_sen\": 4916.0, \"trajet_court\": 10242.0, \"type\": \"Feature\", \"geometry\": {\"type\": \"LineString\", \"coordinates\": [[415303.48, 6421537.71, 0.0], [415324.84, 6421573.49, 0.0]]}}, {\"PopT2016\": 201.77320295536967, \"SEC\": 3, \"id_cpt_exp\": \"729\", \"ident\": 9344, \"nbDeplacement\": 253.57497441369864, \"nb_traj_moy\": 1.2567326617191417, \"tmjo_2_sen\": 435.0, \"trajet_court\": 9344.0, \"type\": \"Feature\", \"geometry\": {\"type\": \"LineString\", \"coordinates\": [[415192.2, 6420094.44, 0.0], [415232.86, 6419960.1, 0.0]]}}, {\"PopT2016\": 107.97626702474007, \"SEC\": 3, \"id_cpt_exp\": \"730, 731\", \"ident\": 9348, \"nbDeplacement\": 135.69730146049844, \"nb_traj_moy\": 1.2567326617191419, \"tmjo_2_sen\": 699.0, \"trajet_court\": 9348.0, \"type\": \"Feature\", \"geometry\": {\"type\": \"LineString\", \"coordinates\": [[415116.01, 6420071.21, 0.0], [415162.31, 6419920.13, 0.0]]}}, {\"PopT2016\": 204.75474960431015, \"SEC\": 8, \"id_cpt_exp\": \"274, 275\", \"ident\": 45242, \"nbDeplacement\": 321.5495622879175, \"nb_traj_moy\": 1.570413203646382, \"tmjo_2_sen\": 1999.0, \"trajet_court\": 45242.0, \"type\": \"Feature\", \"geometry\": {\"type\": \"LineString\", \"coordinates\": [[409937.59, 6420214.07, 0.0], [409872.33, 6420210.91, 0.0]]}}, {\"PopT2016\": 58.92523624396, \"SEC\": 5, \"id_cpt_exp\": \"77, 78\", \"ident\": 9858, \"nbDeplacement\": 48.56874404041081, \"nb_traj_moy\": 0.8242435183344593, \"tmjo_2_sen\": 1591.0, \"trajet_court\": 9858.0, \"type\": \"Feature\", \"geometry\": {\"type\": \"LineString\", \"coordinates\": [[419304.34, 6422203.76, 0.0], [419346.8, 6422151.36, 0.0]]}}, {\"PopT2016\": 9.2001107293, \"SEC\": 3, \"id_cpt_exp\": \"734\", \"ident\": 13062, \"nbDeplacement\": 11.562079644944035, \"nb_traj_moy\": 1.256732661719143, \"tmjo_2_sen\": 752.0, \"trajet_court\": 13062.0, \"type\": \"Feature\", \"geometry\": {\"type\": \"LineString\", \"coordinates\": [[415049.22, 6420023.93, 0.0], [415110.25, 6419901.0, 0.0]]}}, {\"PopT2016\": 25.764640268740003, \"SEC\": 9, \"id_cpt_exp\": \"734\", \"ident\": 13062, \"nbDeplacement\": 33.611136671106806, \"nb_traj_moy\": 1.3045451564828132, \"tmjo_2_sen\": 752.0, \"trajet_court\": 13062.0, \"type\": \"Feature\", \"geometry\": {\"type\": \"LineString\", \"coordinates\": [[415049.22, 6420023.93, 0.0], [415110.25, 6419901.0, 0.0]]}}, {\"PopT2016\": 214.48639227168013, \"SEC\": 4, \"id_cpt_exp\": \"1839\", \"ident\": 9558, \"nbDeplacement\": 119.29094267001638, \"nb_traj_moy\": 0.5561702139076318, \"tmjo_2_sen\": 939.0, \"trajet_court\": 9558.0, \"type\": \"Feature\", \"geometry\": {\"type\": \"LineString\", \"coordinates\": [[416077.98, 6421156.14, 0.0], [416135.28, 6421048.67, 0.0]]}}, {\"PopT2016\": 304.30879006913995, \"SEC\": 16, \"id_cpt_exp\": \"397, 398\", \"ident\": 15783, \"nbDeplacement\": 603.681062667622, \"nb_traj_moy\": 1.983777933363228, \"tmjo_2_sen\": 398.0, \"trajet_court\": 15783.0, \"type\": \"Feature\", \"geometry\": {\"type\": \"LineString\", \"coordinates\": [[407747.38, 6429637.88, 0.0], [407692.95, 6429682.34, 0.0]]}}, {\"PopT2016\": 402.13816577651994, \"SEC\": 16, \"id_cpt_exp\": \"397, 398\", \"ident\": 15786, \"nbDeplacement\": 797.7528194306225, \"nb_traj_moy\": 1.983777933363228, \"tmjo_2_sen\": 398.0, \"trajet_court\": 15786.0, \"type\": \"Feature\", \"geometry\": {\"type\": \"LineString\", \"coordinates\": [[407762.92, 6429657.32, 0.0], [407841.08, 6429594.63, 0.0]]}}, {\"PopT2016\": 77.98208022404002, \"SEC\": 7, \"id_cpt_exp\": \"155, 156\", \"ident\": 43605, \"nbDeplacement\": 97.67202532382947, \"nb_traj_moy\": 1.2524932015563177, \"tmjo_2_sen\": 3812.0, \"trajet_court\": 43605.0, \"type\": \"Feature\", \"geometry\": {\"type\": \"LineString\", \"coordinates\": [[417152.1, 6425798.06, 0.0], [417151.85, 6425799.79, 0.0], [417150.86, 6425802.31, 0.0], [417149.26, 6425804.51, 0.0], [417147.17, 6425806.24, 0.0], [417144.73, 6425807.41, 0.0], [417142.59, 6425807.81, 0.0]]}}, {\"PopT2016\": 142.57541426921995, \"SEC\": 2, \"id_cpt_exp\": \"1238\", \"ident\": 22273, \"nbDeplacement\": 93.63507129016566, \"nb_traj_moy\": 0.656740657357361, \"tmjo_2_sen\": 365.0, \"trajet_court\": 22273.0, \"type\": \"Feature\", \"geometry\": {\"type\": \"LineString\", \"coordinates\": [[416295.97, 6423052.85, 0.0], [416280.92, 6423034.35, 0.0], [416158.47, 6422883.64, 0.0]]}}, {\"PopT2016\": 50.312642915390015, \"SEC\": 19, \"id_cpt_exp\": \"Z19CT12\", \"ident\": 25144, \"nbDeplacement\": 82.4926756489773, \"nb_traj_moy\": 1.639601318255214, \"tmjo_2_sen\": 2706.0, \"trajet_court\": 25144.0, \"type\": \"Feature\", \"geometry\": {\"type\": \"LineString\", \"coordinates\": [[417313.49, 6414983.77, 0.0], [417339.81, 6415063.29, 0.0], [417342.77, 6415075.44, 0.0], [417343.24, 6415087.64, 0.0], [417342.94, 6415112.65, 0.0], [417343.7, 6415127.77, 0.0], [417347.95, 6415139.99, 0.0]]}}, {\"PopT2016\": 59.74592922716999, \"SEC\": 19, \"id_cpt_exp\": \"1340, 1341\", \"ident\": 17254, \"nbDeplacement\": 97.9595043212506, \"nb_traj_moy\": 1.6396013182552143, \"tmjo_2_sen\": 235.0, \"trajet_court\": 17254.0, \"type\": \"Feature\", \"geometry\": {\"type\": \"LineString\", \"coordinates\": [[417313.49, 6414983.77, 0.0], [417434.78, 6414814.97, 0.0]]}}, {\"PopT2016\": 30.707421887869994, \"SEC\": 17, \"id_cpt_exp\": \"361, 362\", \"ident\": 15267, \"nbDeplacement\": 57.89060060267438, \"nb_traj_moy\": 1.8852315513189415, \"tmjo_2_sen\": 56.0, \"trajet_court\": 15267.0, \"type\": \"Feature\", \"geometry\": {\"type\": \"LineString\", \"coordinates\": [[408474.6, 6426693.5, 0.0], [408517.24, 6426778.74, 0.0]]}}, {\"PopT2016\": 25.542098373769996, \"SEC\": 10, \"id_cpt_exp\": \"716, 717\", \"ident\": 18069, \"nbDeplacement\": 23.02160295162619, \"nb_traj_moy\": 0.9013199547954062, \"tmjo_2_sen\": 822.0, \"trajet_court\": 18069.0, \"type\": \"Feature\", \"geometry\": {\"type\": \"LineString\", \"coordinates\": [[416205.62, 6416252.22, 0.0], [416209.43, 6416220.61, 0.0]]}}, {\"PopT2016\": 218.76336569625005, \"SEC\": 11, \"id_cpt_exp\": \"716, 717\", \"ident\": 18069, \"nbDeplacement\": 268.8868149568253, \"nb_traj_moy\": 1.2291217686336524, \"tmjo_2_sen\": 822.0, \"trajet_court\": 18069.0, \"type\": \"Feature\", \"geometry\": {\"type\": \"LineString\", \"coordinates\": [[416205.62, 6416252.22, 0.0], [416209.43, 6416220.61, 0.0]]}}, {\"PopT2016\": 309.60914453963915, \"SEC\": 19, \"id_cpt_exp\": \"1913\", \"ident\": 25255, \"nbDeplacement\": 507.6355615310631, \"nb_traj_moy\": 1.639601318255216, \"tmjo_2_sen\": 414.0, \"trajet_court\": 25255.0, \"type\": \"Feature\", \"geometry\": {\"type\": \"LineString\", \"coordinates\": [[417576.06, 6412955.65, 0.0], [417557.58, 6412979.37, 0.0], [417553.22, 6412986.99, 0.0], [417549.51, 6413003.07, 0.0], [417544.72, 6413010.99, 0.0], [417533.07, 6413026.25, 0.0]]}}, {\"PopT2016\": 97.00672396274999, \"SEC\": 9, \"id_cpt_exp\": \"344, 343\", \"ident\": 13398, \"nbDeplacement\": 126.54965189187078, \"nb_traj_moy\": 1.3045451564828117, \"tmjo_2_sen\": 857.0, \"trajet_court\": 13398.0, \"type\": \"Feature\", \"geometry\": {\"type\": \"LineString\", \"coordinates\": [[414656.61, 6419972.27, 0.0], [414684.57, 6419908.57, 0.0]]}}, {\"PopT2016\": 60.08905469973999, \"SEC\": 5, \"id_cpt_exp\": \"1595\", \"ident\": 8550, \"nbDeplacement\": 49.52801385910549, \"nb_traj_moy\": 0.8242435183344593, \"tmjo_2_sen\": 530.0, \"trajet_court\": 8550.0, \"type\": \"Feature\", \"geometry\": {\"type\": \"LineString\", \"coordinates\": [[419131.78, 6422585.23, 0.0], [419044.99, 6422661.12, 0.0]]}}, {\"PopT2016\": 608.8704703947684, \"SEC\": 4, \"id_cpt_exp\": \"1827\", \"ident\": 8656, \"nbDeplacement\": 338.6356197615001, \"nb_traj_moy\": 0.5561702139076337, \"tmjo_2_sen\": 979.0, \"trajet_court\": 8656.0, \"type\": \"Feature\", \"geometry\": {\"type\": \"LineString\", \"coordinates\": [[416213.1, 6421033.91, 0.0], [416266.38, 6421064.37, 0.0]]}}, {\"PopT2016\": 23.76523698589, \"SEC\": 4, \"id_cpt_exp\": \"1202\", \"ident\": 10940, \"nbDeplacement\": 13.217516938008, \"nb_traj_moy\": 0.5561702139076318, \"tmjo_2_sen\": 989.0, \"trajet_court\": 10940.0, \"type\": \"Feature\", \"geometry\": {\"type\": \"LineString\", \"coordinates\": [[416384.24, 6422164.72, 0.0], [416427.38, 6422138.62, 0.0]]}}, {\"PopT2016\": 147.34420739229003, \"SEC\": 1, \"id_cpt_exp\": \"1799\", \"ident\": 10966, \"nbDeplacement\": 46.60469479461947, \"nb_traj_moy\": 0.3162981132372505, \"tmjo_2_sen\": 390.0, \"trajet_court\": 10966.0, \"type\": \"Feature\", \"geometry\": {\"type\": \"LineString\", \"coordinates\": [[418931.37, 6420679.54, 0.0], [418869.93, 6420737.64, 0.0], [418862.76, 6420745.13, 0.0]]}}, {\"PopT2016\": 16.94408680312, \"SEC\": 19, \"id_cpt_exp\": \"656, 655\", \"ident\": 18221, \"nbDeplacement\": 27.781547059026316, \"nb_traj_moy\": 1.6396013182552134, \"tmjo_2_sen\": 1484.0, \"trajet_court\": 18221.0, \"type\": \"Feature\", \"geometry\": {\"type\": \"LineString\", \"coordinates\": [[416428.76, 6414408.72, 0.0], [416429.48, 6414492.24, 0.0]]}}, {\"PopT2016\": 30.62931476392, \"SEC\": 9, \"id_cpt_exp\": \"1699, 1700\", \"ident\": 14635, \"nbDeplacement\": 39.957324221659356, \"nb_traj_moy\": 1.304545156482813, \"tmjo_2_sen\": 6070.0, \"trajet_court\": 14635.0, \"type\": \"Feature\", \"geometry\": {\"type\": \"LineString\", \"coordinates\": [[413610.69, 6416871.13, 0.0], [413987.28, 6416993.21, 0.0]]}}, {\"PopT2016\": 60.080485930469976, \"SEC\": 19, \"id_cpt_exp\": \"400, 399\", \"ident\": 25240, \"nbDeplacement\": 98.50804393301242, \"nb_traj_moy\": 1.6396013182552143, \"tmjo_2_sen\": 1975.0, \"trajet_court\": 25240.0, \"type\": \"Feature\", \"geometry\": {\"type\": \"LineString\", \"coordinates\": [[417126.2, 6413364.03, 0.0], [417277.25, 6413305.88, 0.0], [417282.1, 6413300.39, 0.0], [417290.28, 6413276.96, 0.0]]}}, {\"PopT2016\": 141.12305726651002, \"SEC\": 16, \"id_cpt_exp\": \"384, 383\", \"ident\": 24814, \"nbDeplacement\": 279.9568068940569, \"nb_traj_moy\": 1.9837779333632273, \"tmjo_2_sen\": 348.0, \"trajet_court\": 24814.0, \"type\": \"Feature\", \"geometry\": {\"type\": \"LineString\", \"coordinates\": [[408217.85, 6429511.06, 0.0], [408255.93, 6429498.25, 0.0], [408272.06, 6429488.79, 0.0], [408283.6, 6429476.43, 0.0], [408292.31, 6429461.28, 0.0], [408299.13, 6429442.39, 0.0], [408302.23, 6429428.06, 0.0], [408302.33, 6429408.87, 0.0]]}}, {\"PopT2016\": 161.78151443866, \"SEC\": 16, \"id_cpt_exp\": \"1740\", \"ident\": 16048, \"nbDeplacement\": 320.9385983694976, \"nb_traj_moy\": 1.9837779333632275, \"tmjo_2_sen\": 336.0, \"trajet_court\": 16048.0, \"type\": \"Feature\", \"geometry\": {\"type\": \"LineString\", \"coordinates\": [[409968.08, 6431205.25, 0.0], [409984.38, 6431232.9, 0.0], [409989.31, 6431247.42, 0.0]]}}, {\"PopT2016\": 418.73288878278, \"SEC\": 19, \"id_cpt_exp\": \"217\", \"ident\": 20758, \"nbDeplacement\": 686.5549964450598, \"nb_traj_moy\": 1.6396013182552136, \"tmjo_2_sen\": 192.0, \"trajet_court\": 20758.0, \"type\": \"Feature\", \"geometry\": {\"type\": \"LineString\", \"coordinates\": [[414679.08, 6416557.58, 0.0], [414675.11, 6416538.06, 0.0], [414645.24, 6416506.79, 0.0], [414478.08, 6416371.53, 0.0]]}}, {\"PopT2016\": 70.39143816546999, \"SEC\": 7, \"id_cpt_exp\": \"Z21CT7\", \"ident\": 52500, \"nbDeplacement\": 88.16479775002308, \"nb_traj_moy\": 1.2524932015563186, \"tmjo_2_sen\": 9470.0, \"trajet_court\": 52500.0, \"type\": \"Feature\", \"geometry\": {\"type\": \"LineString\", \"coordinates\": [[415519.59, 6424968.42, 0.0], [415495.17, 6424951.67, 0.0], [415482.67, 6424943.25, 0.0], [415479.58, 6424940.71, 0.0], [415479.07, 6424940.29, 0.0], [415466.04, 6424926.47, 0.0], [415460.24, 6424922.46, 0.0], [415441.08, 6424909.26, 0.0], [415435.44, 6424905.38, 0.0]]}}, {\"PopT2016\": 2.33003909775, \"SEC\": 5, \"id_cpt_exp\": \"1590\", \"ident\": 54758, \"nbDeplacement\": 1.92051962378631, \"nb_traj_moy\": 0.8242435183344597, \"tmjo_2_sen\": 1914.0, \"trajet_court\": 54758.0, \"type\": \"Feature\", \"geometry\": {\"type\": \"LineString\", \"coordinates\": [[420216.3, 6423449.17, 0.0], [420238.65, 6423438.8, 0.0], [420243.67, 6423437.3, 0.0], [420252.84, 6423435.09, 0.0], [420263.16, 6423433.13, 0.0], [420267.65, 6423431.98, 0.0], [420280.02, 6423430.72, 0.0]]}}, {\"PopT2016\": 441.5956635295, \"SEC\": 11, \"id_cpt_exp\": \"1609, 1610\", \"ident\": 49657, \"nbDeplacement\": 542.7748429783301, \"nb_traj_moy\": 1.229121768633652, \"tmjo_2_sen\": 1672.0, \"trajet_court\": 49657.0, \"type\": \"Feature\", \"geometry\": {\"type\": \"LineString\", \"coordinates\": [[418449.41, 6415963.06, 0.0], [418457.01, 6415963.51, 0.0], [418461.33, 6415961.96, 0.0], [418463.97, 6415958.6, 0.0], [418481.11, 6415919.89, 0.0], [418482.72, 6415915.52, 0.0], [418483.12, 6415909.19, 0.0], [418484.53, 6415905.41, 0.0], [418491.4, 6415890.13, 0.0], [418494.28, 6415886.07, 0.0], [418497.65, 6415882.39, 0.0], [418521.33, 6415828.34, 0.0], [418522.72, 6415819.11, 0.0], [418531.83, 6415797.61, 0.0], [418537.09, 6415791.86, 0.0], [418551.35, 6415758.42, 0.0]]}}, {\"PopT2016\": 30.5095969992, \"SEC\": 16, \"id_cpt_exp\": \"242\", \"ident\": 52087, \"nbDeplacement\": 60.52426528281782, \"nb_traj_moy\": 1.983777933363225, \"tmjo_2_sen\": 58.0, \"trajet_court\": 52087.0, \"type\": \"Feature\", \"geometry\": {\"type\": \"LineString\", \"coordinates\": [[409208.49, 6425822.93, 0.0], [409205.22, 6425817.31, 0.0], [409172.52, 6425768.22, 0.0], [409168.07, 6425761.81, 0.0], [409165.69, 6425758.85, 0.0], [409161.35, 6425755.6, 0.0], [409157.31, 6425752.36, 0.0]]}}, {\"PopT2016\": 62.32393654571, \"SEC\": 7, \"id_cpt_exp\": \"492\", \"ident\": 8889, \"nbDeplacement\": 78.0603068177291, \"nb_traj_moy\": 1.252493201556318, \"tmjo_2_sen\": 2835.0, \"trajet_court\": 8889.0, \"type\": \"Feature\", \"geometry\": {\"type\": \"LineString\", \"coordinates\": [[413732.47, 6427021.34, 0.0], [413722.51, 6427026.79, 0.0], [413670.13, 6427055.95, 0.0], [413608.94, 6427086.41, 0.0]]}}, {\"PopT2016\": 19.47128881729, \"SEC\": 16, \"id_cpt_exp\": \"492\", \"ident\": 8889, \"nbDeplacement\": 38.62671308988203, \"nb_traj_moy\": 1.9837779333632253, \"tmjo_2_sen\": 2835.0, \"trajet_court\": 8889.0, \"type\": \"Feature\", \"geometry\": {\"type\": \"LineString\", \"coordinates\": [[413732.47, 6427021.34, 0.0], [413722.51, 6427026.79, 0.0], [413670.13, 6427055.95, 0.0], [413608.94, 6427086.41, 0.0]]}}, {\"PopT2016\": 6.56067080823, \"SEC\": 13, \"id_cpt_exp\": \"1664, 1663\", \"ident\": 21503, \"nbDeplacement\": 9.860881073586363, \"nb_traj_moy\": 1.5030293946796462, \"tmjo_2_sen\": 1217.0, \"trajet_court\": 21503.0, \"type\": \"Feature\", \"geometry\": {\"type\": \"LineString\", \"coordinates\": [[422656.2, 6425769.56, 0.0], [422664.61, 6425770.47, 0.0], [422671.18, 6425772.56, 0.0], [422675.94, 6425775.85, 0.0], [422720.93, 6425815.47, 0.0], [422731.52, 6425823.27, 0.0], [422741.08, 6425828.59, 0.0], [422754.42, 6425835.33, 0.0], [422767.43, 6425840.17, 0.0], [422782.01, 6425844.04, 0.0], [422844.66, 6425858.8, 0.0]]}}, {\"PopT2016\": 272.18808618098967, \"SEC\": 12, \"id_cpt_exp\": \"466, 467\", \"ident\": 20108, \"nbDeplacement\": 350.4136984192778, \"nb_traj_moy\": 1.2873954306224558, \"tmjo_2_sen\": 263.0, \"trajet_court\": 20108.0, \"type\": \"Feature\", \"geometry\": {\"type\": \"LineString\", \"coordinates\": [[421998.82, 6421562.39, 0.0], [422010.16, 6421557.44, 0.0], [422015.98, 6421553.61, 0.0], [422020.69, 6421548.0, 0.0], [422022.78, 6421541.54, 0.0], [422023.81, 6421533.8, 0.0], [422024.23, 6421521.56, 0.0], [422023.52, 6421512.68, 0.0], [422023.15, 6421497.72, 0.0], [422023.65, 6421486.49, 0.0], [422025.52, 6421476.5, 0.0], [422028.78, 6421463.64, 0.0], [422032.91, 6421448.31, 0.0], [422037.72, 6421431.31, 0.0], [422043.72, 6421413.43, 0.0], [422046.66, 6421405.2, 0.0], [422050.03, 6421397.01, 0.0], [422055.49, 6421386.23, 0.0], [422061.55, 6421375.84, 0.0], [422066.92, 6421369.29, 0.0], [422073.65, 6421362.61, 0.0], [422078.28, 6421356.74, 0.0], [422081.26, 6421351.69, 0.0]]}}, {\"PopT2016\": 267.28931574413014, \"SEC\": 19, \"id_cpt_exp\": \"1864\", \"ident\": 20661, \"nbDeplacement\": 438.2479144496096, \"nb_traj_moy\": 1.6396013182552152, \"tmjo_2_sen\": 1084.0, \"trajet_court\": 20661.0, \"type\": \"Feature\", \"geometry\": {\"type\": \"LineString\", \"coordinates\": [[415415.55, 6415297.45, 0.0], [415538.71, 6415268.48, 0.0], [415553.23, 6415262.55, 0.0], [415606.68, 6415235.17, 0.0], [415623.82, 6415228.15, 0.0], [415661.67, 6415213.5, 0.0], [415677.5, 6415207.64, 0.0]]}}, {\"PopT2016\": 175.84726866522013, \"SEC\": 17, \"id_cpt_exp\": \"1464, 1465\", \"ident\": 51975, \"nbDeplacement\": 331.51281910093155, \"nb_traj_moy\": 1.885231551318939, \"tmjo_2_sen\": 1061.0, \"trajet_court\": 51975.0, \"type\": \"Feature\", \"geometry\": {\"type\": \"LineString\", \"coordinates\": [[404365.49, 6430250.91, 0.0], [404362.46, 6430262.81, 0.0], [404343.46, 6430338.81, 0.0], [404327.47, 6430411.5, 0.0], [404320.03, 6430451.06, 0.0]]}}, {\"PopT2016\": 5.0849328332, \"SEC\": 16, \"id_cpt_exp\": \"241\", \"ident\": 8504, \"nbDeplacement\": 10.087377547136306, \"nb_traj_moy\": 1.9837779333632253, \"tmjo_2_sen\": 40.0, \"trajet_court\": 8504.0, \"type\": \"Feature\", \"geometry\": {\"type\": \"LineString\", \"coordinates\": [[409203.69, 6425793.9, 0.0], [409211.59, 6425788.36, 0.0]]}}, {\"PopT2016\": 12.712332083, \"SEC\": 16, \"id_cpt_exp\": \"244\", \"ident\": 8503, \"nbDeplacement\": 25.218443867840765, \"nb_traj_moy\": 1.9837779333632253, \"tmjo_2_sen\": 246.0, \"trajet_court\": 8503.0, \"type\": \"Feature\", \"geometry\": {\"type\": \"LineString\", \"coordinates\": [[409242.07, 6425851.05, 0.0], [409270.2, 6425894.39, 0.0], [409282.48, 6425912.81, 0.0]]}}, {\"PopT2016\": 252.2460084204003, \"SEC\": 8, \"id_cpt_exp\": \"1680\", \"ident\": 11754, \"nbDeplacement\": 396.13046219049323, \"nb_traj_moy\": 1.570413203646382, \"tmjo_2_sen\": 850.0, \"trajet_court\": 11754.0, \"type\": \"Feature\", \"geometry\": {\"type\": \"LineString\", \"coordinates\": [[411513.62, 6420486.32, 0.0], [411567.91, 6420515.26, 0.0]]}}, {\"PopT2016\": 177.0230702283, \"SEC\": 4, \"id_cpt_exp\": \"1835\", \"ident\": 9077, \"nbDeplacement\": 98.45495883545932, \"nb_traj_moy\": 0.5561702139076318, \"tmjo_2_sen\": 1050.0, \"trajet_court\": 9077.0, \"type\": \"Feature\", \"geometry\": {\"type\": \"LineString\", \"coordinates\": [[416721.91, 6421470.86, 0.0], [416630.81, 6421426.89, 0.0], [416625.51, 6421423.42, 0.0]]}}, {\"PopT2016\": 69.35854681504, \"SEC\": 6, \"id_cpt_exp\": \"1442\", \"ident\": 22172, \"nbDeplacement\": 56.742836623158965, \"nb_traj_moy\": 0.8181087872915841, \"tmjo_2_sen\": 324.0, \"trajet_court\": 22172.0, \"type\": \"Feature\", \"geometry\": {\"type\": \"LineString\", \"coordinates\": [[419918.95, 6425367.66, 0.0], [419880.59, 6425384.4, 0.0], [419854.18, 6425392.56, 0.0], [419800.44, 6425406.58, 0.0]]}}, {\"PopT2016\": 111.83293085104997, \"SEC\": 16, \"id_cpt_exp\": \"563, 564\", \"ident\": 4751, \"nbDeplacement\": 221.8517004456483, \"nb_traj_moy\": 1.9837779333632273, \"tmjo_2_sen\": 2325.0, \"trajet_court\": 4751.0, \"type\": \"Feature\", \"geometry\": {\"type\": \"LineString\", \"coordinates\": [[412562.33, 6427660.05, 0.0], [412532.0, 6427626.08, 0.0]]}}, {\"PopT2016\": 317.4536273715496, \"SEC\": 3, \"id_cpt_exp\": \"832, 833\", \"ident\": 21971, \"nbDeplacement\": 398.95434209904545, \"nb_traj_moy\": 1.256732661719142, \"tmjo_2_sen\": 1640.0, \"trajet_court\": 21971.0, \"type\": \"Feature\", \"geometry\": {\"type\": \"LineString\", \"coordinates\": [[415400.26, 6422829.19, 0.0], [415368.3, 6422847.88, 0.0], [415360.78, 6422850.91, 0.0], [415340.56, 6422855.76, 0.0]]}}, {\"PopT2016\": 172.39119280906, \"SEC\": 16, \"id_cpt_exp\": \"251, 252\", \"ident\": 5281, \"nbDeplacement\": 341.9858442007784, \"nb_traj_moy\": 1.983777933363225, \"tmjo_2_sen\": 757.0, \"trajet_court\": 5281.0, \"type\": \"Feature\", \"geometry\": {\"type\": \"LineString\", \"coordinates\": [[409707.88, 6425736.23, 0.0], [409711.42, 6425759.43, 0.0]]}}, {\"PopT2016\": 41.47865505735001, \"SEC\": 12, \"id_cpt_exp\": \"1521\", \"ident\": 19569, \"nbDeplacement\": 53.39943098919732, \"nb_traj_moy\": 1.2873954306224538, \"tmjo_2_sen\": 446.0, \"trajet_court\": 19569.0, \"type\": \"Feature\", \"geometry\": {\"type\": \"LineString\", \"coordinates\": [[422807.68, 6419292.94, 0.0], [422804.39, 6419315.86, 0.0], [422799.56, 6419457.25, 0.0], [422808.14, 6419464.49, 0.0], [422840.4, 6419465.93, 0.0], [422847.4, 6419462.06, 0.0], [422873.83, 6419408.38, 0.0]]}}, {\"PopT2016\": 99.95532037260996, \"SEC\": 7, \"id_cpt_exp\": \"148\", \"ident\": 2336, \"nbDeplacement\": 125.19335922607776, \"nb_traj_moy\": 1.252493201556319, \"tmjo_2_sen\": 996.0, \"trajet_court\": 2336.0, \"type\": \"Feature\", \"geometry\": {\"type\": \"LineString\", \"coordinates\": [[416528.07, 6424876.07, 0.0], [416695.68, 6424884.08, 0.0], [416708.24, 6424885.85, 0.0]]}}, {\"PopT2016\": 21.428860832170002, \"SEC\": 14, \"id_cpt_exp\": \"1042\", \"ident\": 164, \"nbDeplacement\": 43.94838150368098, \"nb_traj_moy\": 2.05089677178283, \"tmjo_2_sen\": 753.0, \"trajet_court\": 164.0, \"type\": \"Feature\", \"geometry\": {\"type\": \"LineString\", \"coordinates\": [[424597.75, 6431461.67, 0.0], [424587.71, 6431452.76, 0.0], [424550.2, 6431458.62, 0.0], [424544.15, 6431460.55, 0.0], [424536.96, 6431465.39, 0.0]]}}, {\"PopT2016\": 55.691376721990004, \"SEC\": 13, \"id_cpt_exp\": \"912, 913\", \"ident\": 41772, \"nbDeplacement\": 83.70577624332878, \"nb_traj_moy\": 1.5030293946796465, \"tmjo_2_sen\": 2622.0, \"trajet_court\": 41772.0, \"type\": \"Feature\", \"geometry\": {\"type\": \"LineString\", \"coordinates\": [[421792.77, 6426285.51, 0.0], [421836.62, 6426331.73, 0.0], [421872.41, 6426369.61, 0.0], [421901.57, 6426398.02, 0.0], [421936.37, 6426426.56, 0.0], [421949.89, 6426438.35, 0.0], [421962.65, 6426452.18, 0.0], [421977.22, 6426472.76, 0.0], [422008.01, 6426527.07, 0.0], [422013.82, 6426535.22, 0.0], [422025.98, 6426548.7, 0.0], [422035.64, 6426557.56, 0.0], [422048.69, 6426567.29, 0.0], [422146.49, 6426624.39, 0.0], [422165.6, 6426633.76, 0.0], [422182.58, 6426639.14, 0.0], [422207.96, 6426642.21, 0.0]]}}, {\"PopT2016\": 1587.658647152571, \"SEC\": 2, \"id_cpt_exp\": \"1065, 1066\", \"ident\": 34585, \"nbDeplacement\": 1042.6799835900779, \"nb_traj_moy\": 0.6567406573573608, \"tmjo_2_sen\": 1149.0, \"trajet_court\": 34585.0, \"type\": \"Feature\", \"geometry\": {\"type\": \"LineString\", \"coordinates\": [[418288.64, 6423748.9, 0.0], [418262.11, 6423778.88, 0.0], [418156.28, 6423900.88, 0.0]]}}, {\"PopT2016\": 11.30069925854, \"SEC\": 1, \"id_cpt_exp\": \"59\", \"ident\": 8843, \"nbDeplacement\": 3.5743898537377974, \"nb_traj_moy\": 0.3162981132372505, \"tmjo_2_sen\": 370.0, \"trajet_court\": 8843.0, \"type\": \"Feature\", \"geometry\": {\"type\": \"LineString\", \"coordinates\": [[417908.04, 6420698.25, 0.0], [417900.43, 6420636.35, 0.0]]}}, {\"PopT2016\": 630.6771764726702, \"SEC\": 4, \"id_cpt_exp\": \"59\", \"ident\": 8843, \"nbDeplacement\": 350.76386014546597, \"nb_traj_moy\": 0.5561702139076335, \"tmjo_2_sen\": 370.0, \"trajet_court\": 8843.0, \"type\": \"Feature\", \"geometry\": {\"type\": \"LineString\", \"coordinates\": [[417908.04, 6420698.25, 0.0], [417900.43, 6420636.35, 0.0]]}}, {\"PopT2016\": 15.39721821825, \"SEC\": 2, \"id_cpt_exp\": \"67\", \"ident\": 7189, \"nbDeplacement\": 10.111979214128242, \"nb_traj_moy\": 0.6567406573573614, \"tmjo_2_sen\": 454.0, \"trajet_court\": 7189.0, \"type\": \"Feature\", \"geometry\": {\"type\": \"LineString\", \"coordinates\": [[417076.97, 6423680.17, 0.0], [417091.35, 6423720.01, 0.0]]}}, {\"PopT2016\": 107.06887373234005, \"SEC\": 2, \"id_cpt_exp\": \"986\", \"ident\": 8758, \"nbDeplacement\": 70.31648251748926, \"nb_traj_moy\": 0.656740657357361, \"tmjo_2_sen\": 1793.0, \"trajet_court\": 8758.0, \"type\": \"Feature\", \"geometry\": {\"type\": \"LineString\", \"coordinates\": [[417850.73, 6424436.51, 0.0], [417899.37, 6424392.14, 0.0], [417902.71, 6424387.58, 0.0], [417907.19, 6424383.64, 0.0], [417911.9, 6424381.26, 0.0], [417956.79, 6424339.94, 0.0], [417960.28, 6424334.67, 0.0], [417964.26, 6424330.9, 0.0], [417969.43, 6424328.22, 0.0], [418029.29, 6424273.63, 0.0]]}}, {\"PopT2016\": 36.78039839655, \"SEC\": 19, \"id_cpt_exp\": \"902, 903\", \"ident\": 17590, \"nbDeplacement\": 60.30518969693531, \"nb_traj_moy\": 1.6396013182552134, \"tmjo_2_sen\": 1175.0, \"trajet_court\": 17590.0, \"type\": \"Feature\", \"geometry\": {\"type\": \"LineString\", \"coordinates\": [[417383.08, 6415729.26, 0.0], [417441.1, 6415574.51, 0.0]]}}, {\"PopT2016\": 203.85568791737, \"SEC\": 1, \"id_cpt_exp\": \"1087\", \"ident\": 9966, \"nbDeplacement\": 64.47916946094588, \"nb_traj_moy\": 0.3162981132372505, \"tmjo_2_sen\": 2221.0, \"trajet_court\": 9966.0, \"type\": \"Feature\", \"geometry\": {\"type\": \"LineString\", \"coordinates\": [[417824.81, 6421742.98, 0.0], [417825.77, 6421775.15, 0.0]]}}, {\"PopT2016\": 108.08470353273, \"SEC\": 4, \"id_cpt_exp\": \"1486\", \"ident\": 31396, \"nbDeplacement\": 60.11349268394139, \"nb_traj_moy\": 0.5561702139076317, \"tmjo_2_sen\": 690.0, \"trajet_court\": 31396.0, \"type\": \"Feature\", \"geometry\": {\"type\": \"LineString\", \"coordinates\": [[419293.79, 6419528.18, 0.0], [419289.96, 6419511.38, 0.0]]}}, {\"PopT2016\": 1033.5151580178494, \"SEC\": 1, \"id_cpt_exp\": \"831\", \"ident\": 7170, \"nbDeplacement\": 326.8988944831448, \"nb_traj_moy\": 0.31629811323725165, \"tmjo_2_sen\": 459.0, \"trajet_court\": 7170.0, \"type\": \"Feature\", \"geometry\": {\"type\": \"LineString\", \"coordinates\": [[418630.03, 6421163.7, 0.0], [418595.69, 6421194.07, 0.0], [418572.72, 6421217.81, 0.0]]}}, {\"PopT2016\": 5.18251083528, \"SEC\": 18, \"id_cpt_exp\": \"1528\", \"ident\": 12038, \"nbDeplacement\": 9.183601473368787, \"nb_traj_moy\": 1.7720371004053324, \"tmjo_2_sen\": 3136.0, \"trajet_court\": 12038.0, \"type\": \"Feature\", \"geometry\": {\"type\": \"LineString\", \"coordinates\": [[409615.86, 6424084.5, 0.0], [409643.59, 6424087.41, 0.0], [409967.83, 6424132.38, 0.0]]}}, {\"PopT2016\": 167.05036488055, \"SEC\": 2, \"id_cpt_exp\": \"1220, 1221\", \"ident\": 8600, \"nbDeplacement\": 109.70876644343946, \"nb_traj_moy\": 0.656740657357361, \"tmjo_2_sen\": 4783.0, \"trajet_court\": 8600.0, \"type\": \"Feature\", \"geometry\": {\"type\": \"LineString\", \"coordinates\": [[417920.28, 6424052.64, 0.0], [417949.87, 6424114.32, 0.0]]}}, {\"PopT2016\": 82.37445583218998, \"SEC\": 16, \"id_cpt_exp\": \"497\", \"ident\": 20958, \"nbDeplacement\": 163.41262775270218, \"nb_traj_moy\": 1.9837779333632268, \"tmjo_2_sen\": 760.0, \"trajet_court\": 20958.0, \"type\": \"Feature\", \"geometry\": {\"type\": \"LineString\", \"coordinates\": [[413458.04, 6427244.2, 0.0], [413408.15, 6427273.45, 0.0], [413391.39, 6427279.45, 0.0], [413344.37, 6427292.21, 0.0], [413300.24, 6427303.25, 0.0]]}}, {\"PopT2016\": 291.36198066883964, \"SEC\": 4, \"id_cpt_exp\": \"22, 23\", \"ident\": 6789, \"nbDeplacement\": 162.04685511313988, \"nb_traj_moy\": 0.5561702139076328, \"tmjo_2_sen\": 1115.0, \"trajet_court\": 6789.0, \"type\": \"Feature\", \"geometry\": {\"type\": \"LineString\", \"coordinates\": [[417894.38, 6419038.21, 0.0], [417924.97, 6419030.37, 0.0]]}}, {\"PopT2016\": 415.62642491369985, \"SEC\": 11, \"id_cpt_exp\": \"22, 23\", \"ident\": 6789, \"nbDeplacement\": 510.8554864808085, \"nb_traj_moy\": 1.2291217686336553, \"tmjo_2_sen\": 1115.0, \"trajet_court\": 6789.0, \"type\": \"Feature\", \"geometry\": {\"type\": \"LineString\", \"coordinates\": [[417894.38, 6419038.21, 0.0], [417924.97, 6419030.37, 0.0]]}}, {\"PopT2016\": 155.32345913216997, \"SEC\": 18, \"id_cpt_exp\": \"630, 631\", \"ident\": 12963, \"nbDeplacement\": 275.2389321454968, \"nb_traj_moy\": 1.7720371004053306, \"tmjo_2_sen\": 327.0, \"trajet_court\": 12963.0, \"type\": \"Feature\", \"geometry\": {\"type\": \"LineString\", \"coordinates\": [[410670.49, 6417281.58, 0.0], [410466.61, 6417142.97, 0.0]]}}, {\"PopT2016\": 48.75209458413999, \"SEC\": 3, \"id_cpt_exp\": \"732, 733\", \"ident\": 23619, \"nbDeplacement\": 61.268349591109654, \"nb_traj_moy\": 1.256732661719142, \"tmjo_2_sen\": 1511.0, \"trajet_court\": 23619.0, \"type\": \"Feature\", \"geometry\": {\"type\": \"LineString\", \"coordinates\": [[414990.8, 6420145.43, 0.0], [415028.26, 6420073.4, 0.0]]}}, {\"PopT2016\": 144.16819294645995, \"SEC\": 9, \"id_cpt_exp\": \"732, 733\", \"ident\": 23619, \"nbDeplacement\": 188.07391782718398, \"nb_traj_moy\": 1.3045451564828119, \"tmjo_2_sen\": 1511.0, \"trajet_court\": 23619.0, \"type\": \"Feature\", \"geometry\": {\"type\": \"LineString\", \"coordinates\": [[414990.8, 6420145.43, 0.0], [415028.26, 6420073.4, 0.0]]}}, {\"PopT2016\": 187.16525805944997, \"SEC\": 6, \"id_cpt_exp\": \"508, 509\", \"ident\": 7257, \"nbDeplacement\": 153.12154229413304, \"nb_traj_moy\": 0.8181087872915843, \"tmjo_2_sen\": 2168.0, \"trajet_court\": 7257.0, \"type\": \"Feature\", \"geometry\": {\"type\": \"LineString\", \"coordinates\": [[418616.28, 6424488.54, 0.0], [418508.63, 6424603.18, 0.0]]}}, {\"PopT2016\": 35.57794347992001, \"SEC\": 3, \"id_cpt_exp\": \"735\", \"ident\": 21990, \"nbDeplacement\": 44.71196360801309, \"nb_traj_moy\": 1.2567326617191423, \"tmjo_2_sen\": 670.0, \"trajet_court\": 21990.0, \"type\": \"Feature\", \"geometry\": {\"type\": \"LineString\", \"coordinates\": [[415267.83, 6419744.63, 0.0], [415247.0, 6419805.54, 0.0], [415227.19, 6419866.04, 0.0], [415204.24, 6419933.59, 0.0]]}}, {\"PopT2016\": 68.75963082212, \"SEC\": 9, \"id_cpt_exp\": \"735\", \"ident\": 21990, \"nbDeplacement\": 89.70004335054298, \"nb_traj_moy\": 1.3045451564828132, \"tmjo_2_sen\": 670.0, \"trajet_court\": 21990.0, \"type\": \"Feature\", \"geometry\": {\"type\": \"LineString\", \"coordinates\": [[415267.83, 6419744.63, 0.0], [415247.0, 6419805.54, 0.0], [415227.19, 6419866.04, 0.0], [415204.24, 6419933.59, 0.0]]}}, {\"PopT2016\": 81.06459107671996, \"SEC\": 16, \"id_cpt_exp\": \"1856\", \"ident\": 4905, \"nbDeplacement\": 160.81414695511054, \"nb_traj_moy\": 1.9837779333632268, \"tmjo_2_sen\": 2732.0, \"trajet_court\": 4905.0, \"type\": \"Feature\", \"geometry\": {\"type\": \"LineString\", \"coordinates\": [[412015.66, 6427014.96, 0.0], [412022.28, 6426989.02, 0.0], [412037.4, 6426936.75, 0.0]]}}, {\"PopT2016\": 436.66150354887003, \"SEC\": 4, \"id_cpt_exp\": \"1486\", \"ident\": 41549, \"nbDeplacement\": 242.8581218340031, \"nb_traj_moy\": 0.5561702139076318, \"tmjo_2_sen\": 690.0, \"trajet_court\": 41549.0, \"type\": \"Feature\", \"geometry\": {\"type\": \"LineString\", \"coordinates\": [[419349.16, 6419377.84, 0.0], [419323.07, 6419348.81, 0.0], [419313.78, 6419318.91, 0.0], [419303.48, 6419309.96, 0.0]]}}, {\"PopT2016\": 436.66150354887003, \"SEC\": 4, \"id_cpt_exp\": \"1486\", \"ident\": 41550, \"nbDeplacement\": 242.8581218340031, \"nb_traj_moy\": 0.5561702139076318, \"tmjo_2_sen\": 690.0, \"trajet_court\": 41550.0, \"type\": \"Feature\", \"geometry\": {\"type\": \"LineString\", \"coordinates\": [[419303.48, 6419309.96, 0.0], [419297.76, 6419304.98, 0.0]]}}, {\"PopT2016\": 403.10561926335004, \"SEC\": 7, \"id_cpt_exp\": \"165, 166\", \"ident\": 43800, \"nbDeplacement\": 504.88704763649514, \"nb_traj_moy\": 1.252493201556319, \"tmjo_2_sen\": 1892.0, \"trajet_court\": 43800.0, \"type\": \"Feature\", \"geometry\": {\"type\": \"LineString\", \"coordinates\": [[415703.4, 6427466.14, 0.0], [415712.84, 6427455.98, 0.0], [415719.49, 6427447.5, 0.0], [415811.29, 6427284.07, 0.0]]}}, {\"PopT2016\": 650.3343824404999, \"SEC\": 1, \"id_cpt_exp\": \"47\", \"ident\": 39081, \"nbDeplacement\": 205.69953813924263, \"nb_traj_moy\": 0.31629811323725127, \"tmjo_2_sen\": 206.0, \"trajet_court\": 39081.0, \"type\": \"Feature\", \"geometry\": {\"type\": \"LineString\", \"coordinates\": [[417502.61, 6421635.8, 0.0], [417507.18, 6421636.77, 0.0]]}}, {\"PopT2016\": 231.39667386147, \"SEC\": 7, \"id_cpt_exp\": \"158\", \"ident\": 43218, \"nbDeplacement\": 289.8227608742357, \"nb_traj_moy\": 1.252493201556319, \"tmjo_2_sen\": 1731.0, \"trajet_court\": 43218.0, \"type\": \"Feature\", \"geometry\": {\"type\": \"LineString\", \"coordinates\": [[416725.98, 6425728.75, 0.0], [416732.77, 6425766.61, 0.0], [416738.06, 6425773.83, 0.0]]}}, {\"PopT2016\": 90.55317501655998, \"SEC\": 17, \"id_cpt_exp\": \"365, 366\", \"ident\": 15375, \"nbDeplacement\": 170.7137026133251, \"nb_traj_moy\": 1.88523155131894, \"tmjo_2_sen\": 205.0, \"trajet_court\": 15375.0, \"type\": \"Feature\", \"geometry\": {\"type\": \"LineString\", \"coordinates\": [[408229.94, 6425924.07, 0.0], [408189.28, 6425924.51, 0.0]]}}, {\"PopT2016\": 72.91170387349999, \"SEC\": 17, \"id_cpt_exp\": \"365, 366\", \"ident\": 24548, \"nbDeplacement\": 137.45544460274567, \"nb_traj_moy\": 1.8852315513189404, \"tmjo_2_sen\": 205.0, \"trajet_court\": 24548.0, \"type\": \"Feature\", \"geometry\": {\"type\": \"LineString\", \"coordinates\": [[408189.28, 6425924.51, 0.0], [408158.31, 6425926.82, 0.0], [408146.66, 6425931.01, 0.0], [408107.82, 6425952.45, 0.0], [408075.07, 6425963.41, 0.0]]}}, {\"PopT2016\": 52.329987539929995, \"SEC\": 17, \"id_cpt_exp\": \"365, 366\", \"ident\": 24549, \"nbDeplacement\": 98.6541435904031, \"nb_traj_moy\": 1.8852315513189413, \"tmjo_2_sen\": 205.0, \"trajet_court\": 24549.0, \"type\": \"Feature\", \"geometry\": {\"type\": \"LineString\", \"coordinates\": [[408075.07, 6425963.41, 0.0], [408074.04, 6425931.92, 0.0], [408071.88, 6425928.55, 0.0], [408047.17, 6425929.23, 0.0], [408045.29, 6425932.91, 0.0], [408045.99, 6425966.55, 0.0]]}}, {\"PopT2016\": 377.6757549959, \"SEC\": 10, \"id_cpt_exp\": \"328, 327\", \"ident\": 35495, \"nbDeplacement\": 340.40669442022534, \"nb_traj_moy\": 0.901319954795406, \"tmjo_2_sen\": 4217.0, \"trajet_court\": 35495.0, \"type\": \"Feature\", \"geometry\": {\"type\": \"LineString\", \"coordinates\": [[414940.66, 6418219.9, 0.0], [414957.82, 6418242.62, 0.0], [414981.27, 6418268.85, 0.0]]}}, {\"PopT2016\": 307.05991468757054, \"SEC\": 16, \"id_cpt_exp\": \"387, 388\", \"ident\": 15882, \"nbDeplacement\": 609.1386829775957, \"nb_traj_moy\": 1.983777933363228, \"tmjo_2_sen\": 1254.0, \"trajet_court\": 15882.0, \"type\": \"Feature\", \"geometry\": {\"type\": \"LineString\", \"coordinates\": [[409969.76, 6431298.38, 0.0], [410217.71, 6431429.62, 0.0]]}}, {\"PopT2016\": 169.6136203919402, \"SEC\": 17, \"id_cpt_exp\": \"369\", \"ident\": 15292, \"nbDeplacement\": 319.76094869631936, \"nb_traj_moy\": 1.885231551318939, \"tmjo_2_sen\": 534.0, \"trajet_court\": 15292.0, \"type\": \"Feature\", \"geometry\": {\"type\": \"LineString\", \"coordinates\": [[407642.67, 6429245.39, 0.0], [407612.55, 6429259.66, 0.0], [407569.11, 6429286.1, 0.0]]}}, {\"PopT2016\": 117.28619206550994, \"SEC\": 19, \"id_cpt_exp\": \"708, 709\", \"ident\": 40986, \"nbDeplacement\": 192.30259512374428, \"nb_traj_moy\": 1.6396013182552152, \"tmjo_2_sen\": 676.0, \"trajet_court\": 40986.0, \"type\": \"Feature\", \"geometry\": {\"type\": \"LineString\", \"coordinates\": [[416820.25, 6413959.52, 0.0], [416809.37, 6413958.64, 0.0], [416578.24, 6413948.05, 0.0]]}}, {\"PopT2016\": 7.990819221140001, \"SEC\": 19, \"id_cpt_exp\": \"1914\", \"ident\": 17949, \"nbDeplacement\": 13.101757728920244, \"nb_traj_moy\": 1.6396013182552136, \"tmjo_2_sen\": 234.0, \"trajet_court\": 17949.0, \"type\": \"Feature\", \"geometry\": {\"type\": \"LineString\", \"coordinates\": [[417533.07, 6413026.25, 0.0], [417502.8, 6413065.02, 0.0]]}}, {\"PopT2016\": 152.05538589724, \"SEC\": 1, \"id_cpt_exp\": \"1799\", \"ident\": 39152, \"nbDeplacement\": 48.094831666859044, \"nb_traj_moy\": 0.3162981132372505, \"tmjo_2_sen\": 390.0, \"trajet_court\": 39152.0, \"type\": \"Feature\", \"geometry\": {\"type\": \"LineString\", \"coordinates\": [[418862.76, 6420745.13, 0.0], [418860.43, 6420739.85, 0.0]]}}, {\"PopT2016\": 144.29362203924003, \"SEC\": 3, \"id_cpt_exp\": \"736\", \"ident\": 8493, \"nbDeplacement\": 181.33850769446994, \"nb_traj_moy\": 1.2567326617191417, \"tmjo_2_sen\": 1368.0, \"trajet_court\": 8493.0, \"type\": \"Feature\", \"geometry\": {\"type\": \"LineString\", \"coordinates\": [[415204.24, 6419933.59, 0.0], [415232.86, 6419960.1, 0.0]]}}, {\"PopT2016\": 145.50779934536996, \"SEC\": 9, \"id_cpt_exp\": \"736\", \"ident\": 8493, \"nbDeplacement\": 189.8214948664754, \"nb_traj_moy\": 1.304545156482812, \"tmjo_2_sen\": 1368.0, \"trajet_court\": 8493.0, \"type\": \"Feature\", \"geometry\": {\"type\": \"LineString\", \"coordinates\": [[415204.24, 6419933.59, 0.0], [415232.86, 6419960.1, 0.0]]}}, {\"PopT2016\": 300.04945911210024, \"SEC\": 5, \"id_cpt_exp\": \"1597\", \"ident\": 8549, \"nbDeplacement\": 247.3138218529089, \"nb_traj_moy\": 0.8242435183344591, \"tmjo_2_sen\": 1448.0, \"trajet_court\": 8549.0, \"type\": \"Feature\", \"geometry\": {\"type\": \"LineString\", \"coordinates\": [[418864.63, 6422819.84, 0.0], [419044.99, 6422661.12, 0.0]]}}, {\"PopT2016\": 96.24851319366005, \"SEC\": 17, \"id_cpt_exp\": \"360, 359\", \"ident\": 24313, \"nbDeplacement\": 181.4507338402253, \"nb_traj_moy\": 1.8852315513189395, \"tmjo_2_sen\": 218.0, \"trajet_court\": 24313.0, \"type\": \"Feature\", \"geometry\": {\"type\": \"LineString\", \"coordinates\": [[405419.68, 6429179.88, 0.0], [405409.35, 6429165.46, 0.0], [405405.17, 6429156.71, 0.0], [405389.56, 6429102.25, 0.0], [405387.35, 6429093.64, 0.0], [405394.18, 6429071.38, 0.0], [405400.36, 6429059.44, 0.0]]}}, {\"PopT2016\": 142.17105020282006, \"SEC\": 10, \"id_cpt_exp\": \"1752\", \"ident\": 16370, \"nbDeplacement\": 128.14160454202093, \"nb_traj_moy\": 0.9013199547954049, \"tmjo_2_sen\": 704.0, \"trajet_court\": 16370.0, \"type\": \"Feature\", \"geometry\": {\"type\": \"LineString\", \"coordinates\": [[416288.13, 6420116.73, 0.0], [416316.55, 6420148.12, 0.0]]}}, {\"PopT2016\": 294.36846171756974, \"SEC\": 10, \"id_cpt_exp\": \"1753\", \"ident\": 16372, \"nbDeplacement\": 265.3201686084736, \"nb_traj_moy\": 0.9013199547954083, \"tmjo_2_sen\": 1519.0, \"trajet_court\": 16372.0, \"type\": \"Feature\", \"geometry\": {\"type\": \"LineString\", \"coordinates\": [[416397.14, 6420256.88, 0.0], [416413.93, 6420282.72, 0.0]]}}, {\"PopT2016\": 135.93721554918997, \"SEC\": 16, \"id_cpt_exp\": \"1217, 1218\", \"ident\": 55573, \"nbDeplacement\": 269.6692485293231, \"nb_traj_moy\": 1.9837779333632275, \"tmjo_2_sen\": 718.0, \"trajet_court\": 55573.0, \"type\": \"Feature\", \"geometry\": {\"type\": \"LineString\", \"coordinates\": [[411187.57, 6427605.61, 0.0], [411186.44, 6427603.85, 0.0]]}}, {\"PopT2016\": 7.46407221528, \"SEC\": 6, \"id_cpt_exp\": \"1442\", \"ident\": 50237, \"nbDeplacement\": 6.106423068299529, \"nb_traj_moy\": 0.8181087872915841, \"tmjo_2_sen\": 324.0, \"trajet_court\": 50237.0, \"type\": \"Feature\", \"geometry\": {\"type\": \"LineString\", \"coordinates\": [[419918.95, 6425367.66, 0.0], [419920.98, 6425366.77, 0.0]]}}, {\"PopT2016\": 480.72081721042, \"SEC\": 11, \"id_cpt_exp\": \"1606, 1607\", \"ident\": 50611, \"nbDeplacement\": 590.8644210686859, \"nb_traj_moy\": 1.2291217686336529, \"tmjo_2_sen\": 600.0, \"trajet_court\": 50611.0, \"type\": \"Feature\", \"geometry\": {\"type\": \"LineString\", \"coordinates\": [[418313.44, 6415856.3, 0.0], [418339.58, 6415759.04, 0.0], [418343.22, 6415752.85, 0.0]]}}, {\"PopT2016\": 239.4033261474004, \"SEC\": 19, \"id_cpt_exp\": \"1606, 1607\", \"ident\": 50611, \"nbDeplacement\": 392.5260091459604, \"nb_traj_moy\": 1.639601318255216, \"tmjo_2_sen\": 600.0, \"trajet_court\": 50611.0, \"type\": \"Feature\", \"geometry\": {\"type\": \"LineString\", \"coordinates\": [[418313.44, 6415856.3, 0.0], [418339.58, 6415759.04, 0.0], [418343.22, 6415752.85, 0.0]]}}, {\"PopT2016\": 384.27058169168004, \"SEC\": 11, \"id_cpt_exp\": \"659, 660\", \"ident\": 49379, \"nbDeplacement\": 472.31533700275975, \"nb_traj_moy\": 1.2291217686336526, \"tmjo_2_sen\": 1761.0, \"trajet_court\": 49379.0, \"type\": \"Feature\", \"geometry\": {\"type\": \"LineString\", \"coordinates\": [[419208.87, 6418717.2, 0.0], [419276.07, 6418707.78, 0.0], [419282.18, 6418707.86, 0.0], [419287.79, 6418707.94, 0.0]]}}, {\"PopT2016\": 134.39451486092, \"SEC\": 19, \"id_cpt_exp\": \"1870\", \"ident\": 3964, \"nbDeplacement\": 220.3534237322342, \"nb_traj_moy\": 1.6396013182552154, \"tmjo_2_sen\": 1848.0, \"trajet_court\": 3964.0, \"type\": \"Feature\", \"geometry\": {\"type\": \"LineString\", \"coordinates\": [[414489.66, 6413139.16, 0.0], [414529.68, 6413124.7, 0.0], [414543.22, 6413118.21, 0.0]]}}, {\"PopT2016\": 441.5956635295, \"SEC\": 11, \"id_cpt_exp\": \"1616, 1615\", \"ident\": 45305, \"nbDeplacement\": 542.7748429783301, \"nb_traj_moy\": 1.229121768633652, \"tmjo_2_sen\": 1962.0, \"trajet_court\": 45305.0, \"type\": \"Feature\", \"geometry\": {\"type\": \"LineString\", \"coordinates\": [[418321.32, 6416054.53, 0.0], [418336.16, 6416001.91, 0.0], [418343.54, 6415982.21, 0.0], [418355.35, 6415937.19, 0.0], [418358.57, 6415916.43, 0.0], [418369.53, 6415878.99, 0.0]]}}, {\"PopT2016\": 80.25904086535002, \"SEC\": 19, \"id_cpt_exp\": \"1865\", \"ident\": 20313, \"nbDeplacement\": 131.5928292047269, \"nb_traj_moy\": 1.639601318255215, \"tmjo_2_sen\": 1442.0, \"trajet_court\": 20313.0, \"type\": \"Feature\", \"geometry\": {\"type\": \"LineString\", \"coordinates\": [[414456.16, 6413524.05, 0.0], [414467.11, 6413508.93, 0.0], [414483.58, 6413492.45, 0.0], [414514.44, 6413466.39, 0.0]]}}, {\"PopT2016\": 114.9535127490599, \"SEC\": 6, \"id_cpt_exp\": \"724, 725\", \"ident\": 22194, \"nbDeplacement\": 94.04447891004114, \"nb_traj_moy\": 0.8181087872915849, \"tmjo_2_sen\": 342.0, \"trajet_court\": 22194.0, \"type\": \"Feature\", \"geometry\": {\"type\": \"LineString\", \"coordinates\": [[420049.79, 6426379.44, 0.0], [420052.2, 6426388.07, 0.0], [420055.03, 6426390.7, 0.0], [420058.56, 6426392.24, 0.0], [420071.33, 6426393.02, 0.0], [420097.29, 6426394.18, 0.0], [420106.61, 6426396.36, 0.0], [420112.51, 6426399.84, 0.0], [420117.72, 6426406.89, 0.0], [420132.62, 6426455.69, 0.0]]}}, {\"PopT2016\": 101.44321507947006, \"SEC\": 17, \"id_cpt_exp\": \"1458, 1459\", \"ident\": 21856, \"nbDeplacement\": 191.2439497350503, \"nb_traj_moy\": 1.8852315513189397, \"tmjo_2_sen\": 381.0, \"trajet_court\": 21856.0, \"type\": \"Feature\", \"geometry\": {\"type\": \"LineString\", \"coordinates\": [[406943.14, 6430996.6, 0.0], [406911.34, 6431046.01, 0.0], [406905.13, 6431059.9, 0.0], [406902.28, 6431067.13, 0.0], [406898.65, 6431084.34, 0.0]]}}, {\"PopT2016\": 361.8510767603303, \"SEC\": 17, \"id_cpt_exp\": \"1462, 1463\", \"ident\": 44090, \"nbDeplacement\": 682.1730667873053, \"nb_traj_moy\": 1.885231551318945, \"tmjo_2_sen\": 1655.0, \"trajet_court\": 44090.0, \"type\": \"Feature\", \"geometry\": {\"type\": \"LineString\", \"coordinates\": [[406994.04, 6430362.48, 0.0], [407020.81, 6430462.06, 0.0], [407038.8, 6430527.81, 0.0], [407043.66, 6430556.82, 0.0], [407043.33, 6430566.26, 0.0], [407038.97, 6430574.66, 0.0], [406996.16, 6430626.42, 0.0]]}}, {\"PopT2016\": 282.00809357485036, \"SEC\": 12, \"id_cpt_exp\": \"110, 111\", \"ident\": 451, \"nbDeplacement\": 363.0559310668106, \"nb_traj_moy\": 1.2873954306224553, \"tmjo_2_sen\": 5971.0, \"trajet_court\": 451.0, \"type\": \"Feature\", \"geometry\": {\"type\": \"LineString\", \"coordinates\": [[425815.3, 6424374.76, 0.0], [425841.22, 6424513.12, 0.0]]}}, {\"PopT2016\": 115.03996455423999, \"SEC\": 12, \"id_cpt_exp\": \"882, 883\", \"ident\": 18705, \"nbDeplacement\": 148.1019247060977, \"nb_traj_moy\": 1.2873954306224535, \"tmjo_2_sen\": 521.0, \"trajet_court\": 18705.0, \"type\": \"Feature\", \"geometry\": {\"type\": \"LineString\", \"coordinates\": [[423784.44, 6425257.69, 0.0], [423741.8, 6425322.58, 0.0], [423736.47, 6425337.59, 0.0], [423736.13, 6425354.16, 0.0], [423752.85, 6425392.03, 0.0], [423768.78, 6425463.46, 0.0], [423774.27, 6425474.6, 0.0], [423781.55, 6425482.87, 0.0], [423817.32, 6425504.42, 0.0]]}}, {\"PopT2016\": 110.93484008524997, \"SEC\": 15, \"id_cpt_exp\": \"1508, 1509\", \"ident\": 19262, \"nbDeplacement\": 202.37130227658278, \"nb_traj_moy\": 1.8242357596681698, \"tmjo_2_sen\": 355.0, \"trajet_court\": 19262.0, \"type\": \"Feature\", \"geometry\": {\"type\": \"LineString\", \"coordinates\": [[413597.42, 6431234.85, 0.0], [413605.22, 6431242.93, 0.0], [413612.81, 6431246.2, 0.0], [413690.73, 6431252.13, 0.0], [413700.1, 6431249.2, 0.0], [413704.17, 6431239.2, 0.0]]}}, {\"PopT2016\": 462.00539964372973, \"SEC\": 11, \"id_cpt_exp\": \"125\", \"ident\": 43872, \"nbDeplacement\": 567.8608939283981, \"nb_traj_moy\": 1.2291217686336524, \"tmjo_2_sen\": 3172.0, \"trajet_court\": 43872.0, \"type\": \"Feature\", \"geometry\": {\"type\": \"LineString\", \"coordinates\": [[419316.02, 6418725.25, 0.0], [419343.52, 6418740.9, 0.0], [419357.93, 6418746.57, 0.0], [419393.92, 6418754.21, 0.0], [419418.53, 6418757.74, 0.0], [419422.1, 6418759.74, 0.0], [419424.02, 6418764.52, 0.0], [419424.96, 6418774.04, 0.0]]}}, {\"PopT2016\": 223.81877805536996, \"SEC\": 8, \"id_cpt_exp\": \"1682, 1683\", \"ident\": 22872, \"nbDeplacement\": 351.4879642821526, \"nb_traj_moy\": 1.570413203646382, \"tmjo_2_sen\": 1451.0, \"trajet_court\": 22872.0, \"type\": \"Feature\", \"geometry\": {\"type\": \"LineString\", \"coordinates\": [[411567.91, 6420515.26, 0.0], [411613.91, 6420542.0, 0.0], [411627.88, 6420547.96, 0.0], [411642.48, 6420553.36, 0.0], [411655.75, 6420556.03, 0.0]]}}, {\"PopT2016\": 88.73578998654999, \"SEC\": 3, \"id_cpt_exp\": \"766\", \"ident\": 9098, \"nbDeplacement\": 111.51716553954786, \"nb_traj_moy\": 1.256732661719143, \"tmjo_2_sen\": 1111.0, \"trajet_court\": 9098.0, \"type\": \"Feature\", \"geometry\": {\"type\": \"LineString\", \"coordinates\": [[415798.73, 6420661.02, 0.0], [415647.67, 6420671.5, 0.0]]}}, {\"PopT2016\": 801.2920062302327, \"SEC\": 13, \"id_cpt_exp\": \"1044\", \"ident\": 38150, \"nbDeplacement\": 1204.3654390858608, \"nb_traj_moy\": 1.5030293946796507, \"tmjo_2_sen\": 910.0, \"trajet_court\": 38150.0, \"type\": \"Feature\", \"geometry\": {\"type\": \"LineString\", \"coordinates\": [[421976.08, 6424998.55, 0.0], [421910.94, 6425014.51, 0.0], [421897.69, 6425017.99, 0.0], [421888.21, 6425022.01, 0.0], [421875.42, 6425033.57, 0.0]]}}, {\"PopT2016\": 59.99286549289, \"SEC\": 2, \"id_cpt_exp\": \"1123\", \"ident\": 9853, \"nbDeplacement\": 39.399753920552335, \"nb_traj_moy\": 0.6567406573573614, \"tmjo_2_sen\": 431.0, \"trajet_court\": 9853.0, \"type\": \"Feature\", \"geometry\": {\"type\": \"LineString\", \"coordinates\": [[418118.92, 6423609.96, 0.0], [418124.99, 6423622.1, 0.0], [418148.78, 6423658.94, 0.0], [418154.49, 6423663.88, 0.0], [418165.48, 6423681.35, 0.0]]}}, {\"PopT2016\": 47.391743184499994, \"SEC\": 2, \"id_cpt_exp\": \"34\", \"ident\": 7447, \"nbDeplacement\": 31.12408457229978, \"nb_traj_moy\": 0.6567406573573614, \"tmjo_2_sen\": 1097.0, \"trajet_court\": 7447.0, \"type\": \"Feature\", \"geometry\": {\"type\": \"LineString\", \"coordinates\": [[417472.6, 6424065.07, 0.0], [417473.18, 6424132.21, 0.0]]}}, {\"PopT2016\": 233.49927322375999, \"SEC\": 19, \"id_cpt_exp\": \"224, 223\", \"ident\": 20339, \"nbDeplacement\": 382.84571618931113, \"nb_traj_moy\": 1.6396013182552136, \"tmjo_2_sen\": 701.0, \"trajet_court\": 20339.0, \"type\": \"Feature\", \"geometry\": {\"type\": \"LineString\", \"coordinates\": [[414575.28, 6416252.07, 0.0], [414587.54, 6416276.03, 0.0], [414598.76, 6416298.91, 0.0], [414614.95, 6416318.74, 0.0], [414657.36, 6416361.3, 0.0], [414670.47, 6416373.17, 0.0], [414702.67, 6416394.85, 0.0], [414729.8, 6416409.57, 0.0]]}}, {\"PopT2016\": 23.680748446920006, \"SEC\": 11, \"id_cpt_exp\": \"1608\", \"ident\": 1018, \"nbDeplacement\": 29.106523413646926, \"nb_traj_moy\": 1.229121768633652, \"tmjo_2_sen\": 346.0, \"trajet_court\": 1018.0, \"type\": \"Feature\", \"geometry\": {\"type\": \"LineString\", \"coordinates\": [[418127.75, 6415834.1, 0.0], [418121.32, 6415778.84, 0.0]]}}, {\"PopT2016\": 91.34582114693006, \"SEC\": 7, \"id_cpt_exp\": \"1222, 1223\", \"ident\": 35563, \"nbDeplacement\": 114.4100199771091, \"nb_traj_moy\": 1.2524932015563188, \"tmjo_2_sen\": 3242.0, \"trajet_court\": 35563.0, \"type\": \"Feature\", \"geometry\": {\"type\": \"LineString\", \"coordinates\": [[415188.24, 6426187.05, 0.0], [415227.95, 6426138.34, 0.0], [415241.51, 6426121.49, 0.0], [415254.09, 6426106.84, 0.0], [415267.32, 6426093.11, 0.0], [415275.09, 6426086.12, 0.0], [415290.15, 6426074.76, 0.0], [415304.51, 6426065.51, 0.0], [415319.66, 6426058.1, 0.0], [415336.59, 6426051.16, 0.0], [415346.9, 6426047.48, 0.0], [415367.79, 6426041.78, 0.0], [415389.29, 6426036.18, 0.0]]}}, {\"PopT2016\": 64.7139293636, \"SEC\": 13, \"id_cpt_exp\": \"120, 121\", \"ident\": 679, \"nbDeplacement\": 97.26693807871311, \"nb_traj_moy\": 1.5030293946796467, \"tmjo_2_sen\": 891.0, \"trajet_court\": 679.0, \"type\": \"Feature\", \"geometry\": {\"type\": \"LineString\", \"coordinates\": [[422669.84, 6428781.41, 0.0], [422555.02, 6428840.58, 0.0]]}}, {\"PopT2016\": 102.10185400531999, \"SEC\": 12, \"id_cpt_exp\": \"1060, 1061\", \"ident\": 48227, \"nbDeplacement\": 131.44546030452992, \"nb_traj_moy\": 1.2873954306224535, \"tmjo_2_sen\": 733.0, \"trajet_court\": 48227.0, \"type\": \"Feature\", \"geometry\": {\"type\": \"LineString\", \"coordinates\": [[421925.02, 6419537.7, 0.0], [421936.77, 6419538.06, 0.0], [421951.94, 6419536.5, 0.0], [421976.62, 6419533.09, 0.0], [421997.41, 6419530.84, 0.0], [422011.41, 6419533.75, 0.0], [422021.49, 6419538.5, 0.0], [422033.76, 6419548.27, 0.0], [422073.63, 6419585.45, 0.0], [422099.02, 6419608.74, 0.0], [422107.72, 6419614.47, 0.0], [422126.32, 6419630.73, 0.0], [422137.05, 6419639.87, 0.0], [422150.51, 6419648.32, 0.0], [422165.72, 6419654.7, 0.0], [422231.87, 6419676.66, 0.0], [422297.0, 6419696.48, 0.0]]}}, {\"PopT2016\": 55.691376721990004, \"SEC\": 13, \"id_cpt_exp\": \"912, 913\", \"ident\": 41771, \"nbDeplacement\": 83.70577624332878, \"nb_traj_moy\": 1.5030293946796465, \"tmjo_2_sen\": 2622.0, \"trajet_court\": 41771.0, \"type\": \"Feature\", \"geometry\": {\"type\": \"LineString\", \"coordinates\": [[421782.57, 6426274.48, 0.0], [421792.77, 6426285.51, 0.0]]}}, {\"PopT2016\": 815.5997859683104, \"SEC\": 1, \"id_cpt_exp\": \"613\", \"ident\": 10595, \"nbDeplacement\": 257.9726734584817, \"nb_traj_moy\": 0.31629811323725177, \"tmjo_2_sen\": 1187.0, \"trajet_court\": 10595.0, \"type\": \"Feature\", \"geometry\": {\"type\": \"LineString\", \"coordinates\": [[418175.87, 6421642.93, 0.0], [418126.55, 6421690.47, 0.0]]}}, {\"PopT2016\": 119.83278878733005, \"SEC\": 3, \"id_cpt_exp\": \"1068\", \"ident\": 7013, \"nbDeplacement\": 150.59777961392902, \"nb_traj_moy\": 1.2567326617191417, \"tmjo_2_sen\": 1044.0, \"trajet_court\": 7013.0, \"type\": \"Feature\", \"geometry\": {\"type\": \"LineString\", \"coordinates\": [[413344.06, 6424528.84, 0.0], [413288.76, 6424559.75, 0.0]]}}, {\"PopT2016\": 49.91672842175999, \"SEC\": 3, \"id_cpt_exp\": \"1519\", \"ident\": 9942, \"nbDeplacement\": 62.73198297379004, \"nb_traj_moy\": 1.2567326617191419, \"tmjo_2_sen\": 1083.0, \"trajet_court\": 9942.0, \"type\": \"Feature\", \"geometry\": {\"type\": \"LineString\", \"coordinates\": [[415592.74, 6421001.13, 0.0], [415637.55, 6421080.9, 0.0]]}}, {\"PopT2016\": 241.4779490482203, \"SEC\": 3, \"id_cpt_exp\": \"1519\", \"ident\": 39693, \"nbDeplacement\": 303.473225653849, \"nb_traj_moy\": 1.2567326617191432, \"tmjo_2_sen\": 1083.0, \"trajet_court\": 39693.0, \"type\": \"Feature\", \"geometry\": {\"type\": \"LineString\", \"coordinates\": [[415637.55, 6421080.9, 0.0], [415674.1, 6421144.57, 0.0], [415679.32, 6421147.86, 0.0], [415686.46, 6421147.94, 0.0], [415697.28, 6421142.98, 0.0]]}}, {\"PopT2016\": 1124.6476682826938, \"SEC\": 3, \"id_cpt_exp\": \"1246\", \"ident\": 10422, \"nbDeplacement\": 1413.3814576571392, \"nb_traj_moy\": 1.2567326617191417, \"tmjo_2_sen\": 1918.0, \"trajet_court\": 10422.0, \"type\": \"Feature\", \"geometry\": {\"type\": \"LineString\", \"coordinates\": [[415648.46, 6420259.85, 0.0], [415537.26, 6420309.48, 0.0], [415523.08, 6420315.47, 0.0]]}}, {\"PopT2016\": 53.4452249289, \"SEC\": 4, \"id_cpt_exp\": \"1486\", \"ident\": 31394, \"nbDeplacement\": 29.7246421810478, \"nb_traj_moy\": 0.5561702139076317, \"tmjo_2_sen\": 690.0, \"trajet_court\": 31394.0, \"type\": \"Feature\", \"geometry\": {\"type\": \"LineString\", \"coordinates\": [[419333.96, 6419519.56, 0.0], [419336.43, 6419511.02, 0.0], [419330.41, 6419504.0, 0.0], [419289.96, 6419511.38, 0.0]]}}, {\"PopT2016\": 403.32999694419004, \"SEC\": 4, \"id_cpt_exp\": \"1219\", \"ident\": 7928, \"nbDeplacement\": 224.32013067581457, \"nb_traj_moy\": 0.5561702139076315, \"tmjo_2_sen\": 517.0, \"trajet_court\": 7928.0, \"type\": \"Feature\", \"geometry\": {\"type\": \"LineString\", \"coordinates\": [[418772.83, 6420476.4, 0.0], [418819.07, 6420437.72, 0.0]]}}, {\"PopT2016\": 525.0978305744298, \"SEC\": 8, \"id_cpt_exp\": \"Z30CT15\", \"ident\": 33175, \"nbDeplacement\": 824.6205663401558, \"nb_traj_moy\": 1.570413203646382, \"tmjo_2_sen\": 2125.0, \"trajet_court\": 33175.0, \"type\": \"Feature\", \"geometry\": {\"type\": \"LineString\", \"coordinates\": [[412265.03, 6421465.63, 0.0], [412301.8, 6421400.83, 0.0], [412361.98, 6421330.24, 0.0], [412367.92, 6421325.85, 0.0], [412371.37, 6421325.04, 0.0], [412384.95, 6421324.0, 0.0]]}}, {\"PopT2016\": 197.45808319171, \"SEC\": 4, \"id_cpt_exp\": \"1111\", \"ident\": 22449, \"nbDeplacement\": 109.82030436652434, \"nb_traj_moy\": 0.5561702139076318, \"tmjo_2_sen\": 1168.0, \"trajet_court\": 22449.0, \"type\": \"Feature\", \"geometry\": {\"type\": \"LineString\", \"coordinates\": [[417690.2, 6419659.36, 0.0], [417699.56, 6419661.87, 0.0], [417854.9, 6419693.67, 0.0], [417939.5, 6419736.35, 0.0], [417907.32, 6419818.63, 0.0]]}}, {\"PopT2016\": 87.07210859916995, \"SEC\": 17, \"id_cpt_exp\": \"848, 849\", \"ident\": 24362, \"nbDeplacement\": 164.1510863710246, \"nb_traj_moy\": 1.8852315513189397, \"tmjo_2_sen\": 133.0, \"trajet_court\": 24362.0, \"type\": \"Feature\", \"geometry\": {\"type\": \"LineString\", \"coordinates\": [[402232.84, 6429171.73, 0.0], [402101.99, 6429216.77, 0.0], [402004.21, 6429246.74, 0.0], [401983.43, 6429251.46, 0.0]]}}, {\"PopT2016\": 372.5015640456199, \"SEC\": 4, \"id_cpt_exp\": \"84\", \"ident\": 10853, \"nbDeplacement\": 207.17427455617954, \"nb_traj_moy\": 0.556170213907633, \"tmjo_2_sen\": 897.0, \"trajet_court\": 10853.0, \"type\": \"Feature\", \"geometry\": {\"type\": \"LineString\", \"coordinates\": [[416760.24, 6420246.5, 0.0], [416928.01, 6420198.55, 0.0], [416933.47, 6420195.13, 0.0]]}}, {\"PopT2016\": 703.5203523034799, \"SEC\": 1, \"id_cpt_exp\": \"1520\", \"ident\": 10785, \"nbDeplacement\": 222.5221600575964, \"nb_traj_moy\": 0.31629811323725154, \"tmjo_2_sen\": 399.0, \"trajet_court\": 10785.0, \"type\": \"Feature\", \"geometry\": {\"type\": \"LineString\", \"coordinates\": [[418064.14, 6421134.57, 0.0], [417961.84, 6421143.8, 0.0]]}}, {\"PopT2016\": 375.2667461655805, \"SEC\": 13, \"id_cpt_exp\": \"1852\", \"ident\": 36200, \"nbDeplacement\": 564.0369503326533, \"nb_traj_moy\": 1.5030293946796485, \"tmjo_2_sen\": 528.0, \"trajet_court\": 36200.0, \"type\": \"Feature\", \"geometry\": {\"type\": \"LineString\", \"coordinates\": [[424395.47, 6430044.73, 0.0], [424208.82, 6430104.25, 0.0]]}}, {\"PopT2016\": 75.97183491734, \"SEC\": 19, \"id_cpt_exp\": \"1441\", \"ident\": 25169, \"nbDeplacement\": 124.56352068073815, \"nb_traj_moy\": 1.639601318255215, \"tmjo_2_sen\": 2208.0, \"trajet_court\": 25169.0, \"type\": \"Feature\", \"geometry\": {\"type\": \"LineString\", \"coordinates\": [[417844.01, 6415677.85, 0.0], [417854.39, 6415673.92, 0.0], [417862.72, 6415669.18, 0.0], [417870.41, 6415661.81, 0.0]]}}, {\"PopT2016\": 387.95846029429134, \"SEC\": 3, \"id_cpt_exp\": \"844, 845\", \"ident\": 10241, \"nbDeplacement\": 487.56006844210356, \"nb_traj_moy\": 1.2567326617191452, \"tmjo_2_sen\": 5323.0, \"trajet_court\": 10241.0, \"type\": \"Feature\", \"geometry\": {\"type\": \"LineString\", \"coordinates\": [[415324.84, 6421573.49, 0.0], [415379.7, 6421662.91, 0.0]]}}, {\"PopT2016\": 146.38473707541996, \"SEC\": 4, \"id_cpt_exp\": \"1836, 1837\", \"ident\": 22386, \"nbDeplacement\": 81.41483053204878, \"nb_traj_moy\": 0.5561702139076313, \"tmjo_2_sen\": 1028.0, \"trajet_court\": 22386.0, \"type\": \"Feature\", \"geometry\": {\"type\": \"LineString\", \"coordinates\": [[416529.24, 6421263.67, 0.0], [416431.77, 6421211.67, 0.0], [416355.37, 6421168.44, 0.0]]}}, {\"PopT2016\": 49.56374316521998, \"SEC\": 16, \"id_cpt_exp\": \"498, 499\", \"ident\": 20959, \"nbDeplacement\": 98.32345998604585, \"nb_traj_moy\": 1.983777933363226, \"tmjo_2_sen\": 487.0, \"trajet_court\": 20959.0, \"type\": \"Feature\", \"geometry\": {\"type\": \"LineString\", \"coordinates\": [[413300.24, 6427303.25, 0.0], [413245.66, 6427325.15, 0.0], [413222.28, 6427331.13, 0.0], [413189.03, 6427336.08, 0.0], [413146.99, 6427339.22, 0.0], [413113.78, 6427337.82, 0.0], [413019.95, 6427331.18, 0.0], [413004.31, 6427332.77, 0.0], [412950.29, 6427348.14, 0.0]]}}, {\"PopT2016\": 14.44045231576, \"SEC\": 18, \"id_cpt_exp\": \"670, 671\", \"ident\": 23222, \"nbDeplacement\": 25.58901725016082, \"nb_traj_moy\": 1.7720371004053326, \"tmjo_2_sen\": 1487.0, \"trajet_court\": 23222.0, \"type\": \"Feature\", \"geometry\": {\"type\": \"LineString\", \"coordinates\": [[409471.77, 6423605.14, 0.0], [409377.75, 6423611.09, 0.0], [409337.62, 6423614.25, 0.0], [409261.93, 6423615.62, 0.0], [409249.94, 6423614.61, 0.0], [409240.44, 6423613.04, 0.0], [409232.36, 6423610.7, 0.0], [409223.66, 6423607.29, 0.0], [409215.35, 6423603.67, 0.0], [409200.2, 6423594.41, 0.0], [409187.68, 6423586.58, 0.0], [409176.36, 6423579.17, 0.0], [409170.75, 6423574.99, 0.0], [409164.32, 6423569.27, 0.0], [409153.33, 6423559.7, 0.0], [409145.16, 6423550.33, 0.0], [409138.46, 6423539.23, 0.0], [409132.99, 6423526.72, 0.0], [409114.0, 6423473.63, 0.0]]}}, {\"PopT2016\": 15.940607614849998, \"SEC\": 14, \"id_cpt_exp\": \"856\", \"ident\": 21909, \"nbDeplacement\": 32.692540697552666, \"nb_traj_moy\": 2.05089677178283, \"tmjo_2_sen\": 54.0, \"trajet_court\": 21909.0, \"type\": \"Feature\", \"geometry\": {\"type\": \"LineString\", \"coordinates\": [[426545.1, 6434839.38, 0.0], [426560.79, 6434849.7, 0.0], [426591.04, 6434885.77, 0.0], [426609.53, 6434905.28, 0.0], [426634.22, 6434927.96, 0.0], [426668.32, 6434953.21, 0.0], [426672.55, 6434954.66, 0.0], [426676.15, 6434953.85, 0.0], [426680.18, 6434948.54, 0.0], [426689.77, 6434932.64, 0.0], [426695.57, 6434926.46, 0.0], [426697.71, 6434924.71, 0.0], [426701.08, 6434923.81, 0.0], [426704.75, 6434924.41, 0.0], [426741.4, 6434946.31, 0.0], [426744.8, 6434948.87, 0.0], [426746.35, 6434951.95, 0.0], [426746.61, 6434955.43, 0.0], [426745.38, 6434958.37, 0.0], [426718.55, 6435006.27, 0.0], [426712.9, 6435017.92, 0.0]]}}, {\"PopT2016\": 157.7882978070502, \"SEC\": 8, \"id_cpt_exp\": \"272, 273\", \"ident\": 29793, \"nbDeplacement\": 247.79282625707924, \"nb_traj_moy\": 1.570413203646382, \"tmjo_2_sen\": 2015.0, \"trajet_court\": 29793.0, \"type\": \"Feature\", \"geometry\": {\"type\": \"LineString\", \"coordinates\": [[410200.04, 6420300.54, 0.0], [410135.24, 6420272.36, 0.0]]}}, {\"PopT2016\": 36.73559927191, \"SEC\": 9, \"id_cpt_exp\": \"1404, 1405\", \"ident\": 14069, \"nbDeplacement\": 47.92324810066373, \"nb_traj_moy\": 1.3045451564828132, \"tmjo_2_sen\": 42.0, \"trajet_court\": 14069.0, \"type\": \"Feature\", \"geometry\": {\"type\": \"LineString\", \"coordinates\": [[412023.59, 6416990.92, 0.0], [411834.55, 6417019.96, 0.0]]}}, {\"PopT2016\": 343.1621440876806, \"SEC\": 15, \"id_cpt_exp\": \"134, 135\", \"ident\": 33317, \"nbDeplacement\": 626.0086546091476, \"nb_traj_moy\": 1.8242357596681698, \"tmjo_2_sen\": 263.0, \"trajet_court\": 33317.0, \"type\": \"Feature\", \"geometry\": {\"type\": \"LineString\", \"coordinates\": [[413440.66, 6433041.56, 0.0], [413429.24, 6433039.4, 0.0], [413392.8, 6433035.76, 0.0], [413378.66, 6433035.63, 0.0], [413356.04, 6433036.66, 0.0], [413320.15, 6433039.73, 0.0], [413310.05, 6433039.69, 0.0], [413285.21, 6433038.28, 0.0], [413254.79, 6433035.6, 0.0]]}}, {\"PopT2016\": 78.37160538182, \"SEC\": 4, \"id_cpt_exp\": \"549\", \"ident\": 10670, \"nbDeplacement\": 43.58795252949134, \"nb_traj_moy\": 0.5561702139076314, \"tmjo_2_sen\": 799.0, \"trajet_court\": 10670.0, \"type\": \"Feature\", \"geometry\": {\"type\": \"LineString\", \"coordinates\": [[418223.84, 6420101.35, 0.0], [418102.02, 6420091.78, 0.0], [418097.95, 6420091.99, 0.0], [418094.5, 6420093.85, 0.0], [418087.88, 6420103.73, 0.0]]}}, {\"PopT2016\": 103.30432811160006, \"SEC\": 17, \"id_cpt_exp\": \"377, 378\", \"ident\": 40921, \"nbDeplacement\": 194.75257874379267, \"nb_traj_moy\": 1.8852315513189395, \"tmjo_2_sen\": 1274.0, \"trajet_court\": 40921.0, \"type\": \"Feature\", \"geometry\": {\"type\": \"LineString\", \"coordinates\": [[406763.88, 6429424.44, 0.0], [406754.14, 6429422.97, 0.0], [406742.44, 6429424.16, 0.0], [406432.18, 6429484.11, 0.0]]}}, {\"PopT2016\": 13.46473432616, \"SEC\": 3, \"id_cpt_exp\": \"764\", \"ident\": 26712, \"nbDeplacement\": 16.921571409056167, \"nb_traj_moy\": 1.256732661719143, \"tmjo_2_sen\": 2561.0, \"trajet_court\": 26712.0, \"type\": \"Feature\", \"geometry\": {\"type\": \"LineString\", \"coordinates\": [[415693.49, 6420758.24, 0.0], [415698.05, 6420748.63, 0.0], [415704.11, 6420739.92, 0.0]]}}, {\"PopT2016\": 88.74600148191, \"SEC\": 7, \"id_cpt_exp\": \"1094\", \"ident\": 40256, \"nbDeplacement\": 111.15376352139916, \"nb_traj_moy\": 1.252493201556318, \"tmjo_2_sen\": 2091.0, \"trajet_court\": 40256.0, \"type\": \"Feature\", \"geometry\": {\"type\": \"LineString\", \"coordinates\": [[416579.07, 6425677.96, 0.0], [416620.33, 6425659.69, 0.0], [416645.35, 6425650.34, 0.0], [416653.62, 6425648.4, 0.0]]}}, {\"PopT2016\": 5.49767468334, \"SEC\": 16, \"id_cpt_exp\": \"397, 398\", \"ident\": 15782, \"nbDeplacement\": 10.906165721619548, \"nb_traj_moy\": 1.9837779333632255, \"tmjo_2_sen\": 398.0, \"trajet_court\": 15782.0, \"type\": \"Feature\", \"geometry\": {\"type\": \"LineString\", \"coordinates\": [[407825.86, 6429575.41, 0.0], [407747.38, 6429637.88, 0.0]]}}, {\"PopT2016\": 7.9038021053700005, \"SEC\": 7, \"id_cpt_exp\": \"155, 156\", \"ident\": 43607, \"nbDeplacement\": 9.899458403422436, \"nb_traj_moy\": 1.2524932015563177, \"tmjo_2_sen\": 3812.0, \"trajet_court\": 43607.0, \"type\": \"Feature\", \"geometry\": {\"type\": \"LineString\", \"coordinates\": [[417131.06, 6425794.04, 0.0], [417131.3, 6425793.14, 0.0], [417132.59, 6425790.76, 0.0], [417134.45, 6425788.78, 0.0], [417136.75, 6425787.32, 0.0], [417139.32, 6425786.47, 0.0], [417142.03, 6425786.3, 0.0], [417142.31, 6425786.35, 0.0]]}}, {\"PopT2016\": 12.938264461140001, \"SEC\": 7, \"id_cpt_exp\": \"155, 156\", \"ident\": 43608, \"nbDeplacement\": 16.205088277515564, \"nb_traj_moy\": 1.2524932015563177, \"tmjo_2_sen\": 3812.0, \"trajet_court\": 43608.0, \"type\": \"Feature\", \"geometry\": {\"type\": \"LineString\", \"coordinates\": [[417142.31, 6425786.35, 0.0], [417144.7, 6425786.81, 0.0], [417147.15, 6425787.96, 0.0], [417149.24, 6425789.69, 0.0], [417150.85, 6425791.89, 0.0], [417151.85, 6425794.4, 0.0], [417152.19, 6425797.09, 0.0], [417152.1, 6425798.06, 0.0]]}}, {\"PopT2016\": 102.20703216469005, \"SEC\": 4, \"id_cpt_exp\": \"13, 14\", \"ident\": 6488, \"nbDeplacement\": 56.84450694189977, \"nb_traj_moy\": 0.5561702139076313, \"tmjo_2_sen\": 1052.0, \"trajet_court\": 6488.0, \"type\": \"Feature\", \"geometry\": {\"type\": \"LineString\", \"coordinates\": [[417580.93, 6419058.19, 0.0], [417748.9, 6419063.52, 0.0]]}}, {\"PopT2016\": 331.25190316507997, \"SEC\": 12, \"id_cpt_exp\": \"1142\", \"ident\": 4405, \"nbDeplacement\": 426.45218651971607, \"nb_traj_moy\": 1.2873954306224535, \"tmjo_2_sen\": 68.0, \"trajet_court\": 4405.0, \"type\": \"Feature\", \"geometry\": {\"type\": \"LineString\", \"coordinates\": [[420881.76, 6423225.84, 0.0], [420864.81, 6423129.9, 0.0]]}}, {\"PopT2016\": 560.1383652800899, \"SEC\": 1, \"id_cpt_exp\": \"45\", \"ident\": 10281, \"nbDeplacement\": 177.1707080898903, \"nb_traj_moy\": 0.3162981132372511, \"tmjo_2_sen\": 1101.0, \"trajet_court\": 10281.0, \"type\": \"Feature\", \"geometry\": {\"type\": \"LineString\", \"coordinates\": [[418592.3, 6421057.31, 0.0], [418634.74, 6421103.87, 0.0]]}}, {\"PopT2016\": 79.16989554935, \"SEC\": 4, \"id_cpt_exp\": \"1486\", \"ident\": 22492, \"nbDeplacement\": 44.03193774272684, \"nb_traj_moy\": 0.5561702139076318, \"tmjo_2_sen\": 690.0, \"trajet_court\": 22492.0, \"type\": \"Feature\", \"geometry\": {\"type\": \"LineString\", \"coordinates\": [[419413.74, 6419444.5, 0.0], [419442.97, 6419474.46, 0.0], [419450.86, 6419481.85, 0.0], [419459.62, 6419487.9, 0.0], [419471.55, 6419495.29, 0.0], [419480.04, 6419499.44, 0.0], [419489.4, 6419502.95, 0.0], [419502.56, 6419506.96, 0.0]]}}, {\"PopT2016\": 25.199479246079996, \"SEC\": 7, \"id_cpt_exp\": \"510, 511\", \"ident\": 2228, \"nbDeplacement\": 31.56217643847472, \"nb_traj_moy\": 1.252493201556318, \"tmjo_2_sen\": 180.0, \"trajet_court\": 2228.0, \"type\": \"Feature\", \"geometry\": {\"type\": \"LineString\", \"coordinates\": [[416003.11, 6425709.01, 0.0], [416020.07, 6425746.95, 0.0]]}}, {\"PopT2016\": 61.36092379326999, \"SEC\": 16, \"id_cpt_exp\": \"393, 394\", \"ident\": 26105, \"nbDeplacement\": 121.7264465918715, \"nb_traj_moy\": 1.9837779333632262, \"tmjo_2_sen\": 1698.0, \"trajet_court\": 26105.0, \"type\": \"Feature\", \"geometry\": {\"type\": \"LineString\", \"coordinates\": [[408809.63, 6430383.52, 0.0], [408812.25, 6430385.97, 0.0], [408815.56, 6430386.51, 0.0], [408819.08, 6430384.5, 0.0]]}}, {\"PopT2016\": 34.73906073029001, \"SEC\": 16, \"id_cpt_exp\": \"393, 394\", \"ident\": 39659, \"nbDeplacement\": 68.91458210251427, \"nb_traj_moy\": 1.983777933363225, \"tmjo_2_sen\": 1698.0, \"trajet_court\": 39659.0, \"type\": \"Feature\", \"geometry\": {\"type\": \"LineString\", \"coordinates\": [[408819.4, 6430378.38, 0.0], [408820.01, 6430381.25, 0.0], [408819.08, 6430384.5, 0.0]]}}, {\"PopT2016\": 773.2717512812702, \"SEC\": 1, \"id_cpt_exp\": \"1799\", \"ident\": 10964, \"nbDeplacement\": 244.58439594993018, \"nb_traj_moy\": 0.3162981132372507, \"tmjo_2_sen\": 390.0, \"trajet_court\": 10964.0, \"type\": \"Feature\", \"geometry\": {\"type\": \"LineString\", \"coordinates\": [[418747.71, 6420854.26, 0.0], [418739.33, 6420857.29, 0.0]]}}, {\"PopT2016\": 79.12902869851, \"SEC\": 18, \"id_cpt_exp\": \"894, 895\", \"ident\": 23627, \"nbDeplacement\": 140.219574572798, \"nb_traj_moy\": 1.7720371004053332, \"tmjo_2_sen\": 2327.0, \"trajet_court\": 23627.0, \"type\": \"Feature\", \"geometry\": {\"type\": \"LineString\", \"coordinates\": [[405837.85, 6414632.72, 0.0], [405822.53, 6414643.63, 0.0], [405741.65, 6414713.17, 0.0], [405697.62, 6414747.7, 0.0], [405391.93, 6414982.3, 0.0], [405377.83, 6414989.9, 0.0], [405367.42, 6414993.09, 0.0], [405110.8, 6415029.81, 0.0], [405085.65, 6415037.11, 0.0], [405065.74, 6415049.89, 0.0], [404970.68, 6415159.25, 0.0], [404698.45, 6415474.21, 0.0]]}}, {\"PopT2016\": 298.5326411000201, \"SEC\": 1, \"id_cpt_exp\": \"1799\", \"ident\": 6700, \"nbDeplacement\": 94.42531111966959, \"nb_traj_moy\": 0.3162981132372505, \"tmjo_2_sen\": 390.0, \"trajet_court\": 6700.0, \"type\": \"Feature\", \"geometry\": {\"type\": \"LineString\", \"coordinates\": [[418804.95, 6420799.32, 0.0], [418803.3, 6420795.04, 0.0]]}}, {\"PopT2016\": 18.77197186658, \"SEC\": 18, \"id_cpt_exp\": \"633\", \"ident\": 14373, \"nbDeplacement\": 33.2646305953449, \"nb_traj_moy\": 1.7720371004053326, \"tmjo_2_sen\": 81.0, \"trajet_court\": 14373.0, \"type\": \"Feature\", \"geometry\": {\"type\": \"LineString\", \"coordinates\": [[410724.09, 6416994.68, 0.0], [410707.58, 6417014.94, 0.0]]}}, {\"PopT2016\": 377.6757549959, \"SEC\": 10, \"id_cpt_exp\": \"328, 327\", \"ident\": 42227, \"nbDeplacement\": 340.40669442022534, \"nb_traj_moy\": 0.901319954795406, \"tmjo_2_sen\": 4217.0, \"trajet_court\": 42227.0, \"type\": \"Feature\", \"geometry\": {\"type\": \"LineString\", \"coordinates\": [[414981.27, 6418268.85, 0.0], [415010.49, 6418291.32, 0.0], [415030.87, 6418303.33, 0.0], [415069.24, 6418320.56, 0.0], [415176.86, 6418356.09, 0.0]]}}, {\"PopT2016\": 10.63825403478, \"SEC\": 4, \"id_cpt_exp\": \"1204\", \"ident\": 10957, \"nbDeplacement\": 5.916680022127319, \"nb_traj_moy\": 0.5561702139076317, \"tmjo_2_sen\": 103.0, \"trajet_court\": 10957.0, \"type\": \"Feature\", \"geometry\": {\"type\": \"LineString\", \"coordinates\": [[416371.88, 6422172.68, 0.0], [416345.16, 6422189.97, 0.0], [416341.45, 6422196.77, 0.0]]}}, {\"PopT2016\": 47.903870703059994, \"SEC\": 9, \"id_cpt_exp\": \"1081, 1082\", \"ident\": 14241, \"nbDeplacement\": 62.49276250245584, \"nb_traj_moy\": 1.3045451564828132, \"tmjo_2_sen\": 109.0, \"trajet_court\": 14241.0, \"type\": \"Feature\", \"geometry\": {\"type\": \"LineString\", \"coordinates\": [[412568.33, 6417626.43, 0.0], [412493.64, 6417623.9, 0.0]]}}, {\"PopT2016\": 74.04462498086998, \"SEC\": 9, \"id_cpt_exp\": \"1406, 1407\", \"ident\": 13395, \"nbDeplacement\": 96.59455688238026, \"nb_traj_moy\": 1.3045451564828123, \"tmjo_2_sen\": 320.0, \"trajet_court\": 13395.0, \"type\": \"Feature\", \"geometry\": {\"type\": \"LineString\", \"coordinates\": [[415073.86, 6419869.34, 0.0], [415167.63, 6419678.96, 0.0]]}}, {\"PopT2016\": 480.72081721042, \"SEC\": 11, \"id_cpt_exp\": \"1606, 1607\", \"ident\": 50612, \"nbDeplacement\": 590.8644210686859, \"nb_traj_moy\": 1.2291217686336529, \"tmjo_2_sen\": 600.0, \"trajet_court\": 50612.0, \"type\": \"Feature\", \"geometry\": {\"type\": \"LineString\", \"coordinates\": [[418343.22, 6415752.85, 0.0], [418422.19, 6415744.02, 0.0], [418448.95, 6415741.29, 0.0], [418469.32, 6415742.52, 0.0], [418551.35, 6415758.42, 0.0]]}}, {\"PopT2016\": 239.4033261474004, \"SEC\": 19, \"id_cpt_exp\": \"1606, 1607\", \"ident\": 50612, \"nbDeplacement\": 392.5260091459604, \"nb_traj_moy\": 1.639601318255216, \"tmjo_2_sen\": 600.0, \"trajet_court\": 50612.0, \"type\": \"Feature\", \"geometry\": {\"type\": \"LineString\", \"coordinates\": [[418343.22, 6415752.85, 0.0], [418422.19, 6415744.02, 0.0], [418448.95, 6415741.29, 0.0], [418469.32, 6415742.52, 0.0], [418551.35, 6415758.42, 0.0]]}}, {\"PopT2016\": 1.14167324727, \"SEC\": 19, \"id_cpt_exp\": \"1439\", \"ident\": 52574, \"nbDeplacement\": 1.8718889612406024, \"nb_traj_moy\": 1.6396013182552136, \"tmjo_2_sen\": 686.0, \"trajet_court\": 52574.0, \"type\": \"Feature\", \"geometry\": {\"type\": \"LineString\", \"coordinates\": [[420686.05, 6414793.89, 0.0], [420687.51, 6414803.95, 0.0], [420695.47, 6414856.6, 0.0]]}}, {\"PopT2016\": 19.298665343560003, \"SEC\": 11, \"id_cpt_exp\": \"1608\", \"ident\": 52233, \"nbDeplacement\": 23.720409679345437, \"nb_traj_moy\": 1.229121768633652, \"tmjo_2_sen\": 346.0, \"trajet_court\": 52233.0, \"type\": \"Feature\", \"geometry\": {\"type\": \"LineString\", \"coordinates\": [[418043.88, 6415787.21, 0.0], [418116.4, 6415777.76, 0.0], [418121.32, 6415778.84, 0.0]]}}, {\"PopT2016\": 71.11198051997, \"SEC\": 16, \"id_cpt_exp\": \"1213, 1214\", \"ident\": 55267, \"nbDeplacement\": 141.07037775327197, \"nb_traj_moy\": 1.9837779333632264, \"tmjo_2_sen\": 754.0, \"trajet_court\": 55267.0, \"type\": \"Feature\", \"geometry\": {\"type\": \"LineString\", \"coordinates\": [[411183.44, 6427597.04, 0.0], [411180.88, 6427590.97, 0.0], [411161.31, 6427559.86, 0.0], [411130.77, 6427503.38, 0.0], [411097.2, 6427439.61, 0.0], [411087.04, 6427423.14, 0.0], [411074.81, 6427403.89, 0.0]]}}, {\"PopT2016\": 4.38208310336, \"SEC\": 11, \"id_cpt_exp\": \"1608\", \"ident\": 52234, \"nbDeplacement\": 5.386113734301486, \"nb_traj_moy\": 1.229121768633652, \"tmjo_2_sen\": 346.0, \"trajet_court\": 52234.0, \"type\": \"Feature\", \"geometry\": {\"type\": \"LineString\", \"coordinates\": [[418000.85, 6415792.87, 0.0], [418043.88, 6415787.21, 0.0]]}}, {\"PopT2016\": 107.29770150473007, \"SEC\": 17, \"id_cpt_exp\": \"1458, 1459\", \"ident\": 21855, \"nbDeplacement\": 202.2810122607189, \"nb_traj_moy\": 1.8852315513189397, \"tmjo_2_sen\": 381.0, \"trajet_court\": 21855.0, \"type\": \"Feature\", \"geometry\": {\"type\": \"LineString\", \"coordinates\": [[406947.66, 6430974.11, 0.0], [406946.19, 6430975.04, 0.0], [406943.89, 6430977.25, 0.0], [406942.07, 6430979.86, 0.0], [406940.82, 6430982.78, 0.0], [406940.18, 6430985.89, 0.0], [406940.19, 6430989.07, 0.0], [406940.83, 6430992.18, 0.0], [406942.09, 6430995.1, 0.0], [406943.14, 6430996.6, 0.0]]}}, {\"PopT2016\": 202.7854823520202, \"SEC\": 6, \"id_cpt_exp\": \"440\", \"ident\": 6428, \"nbDeplacement\": 165.90058504735006, \"nb_traj_moy\": 0.8181087872915849, \"tmjo_2_sen\": 1746.0, \"trajet_court\": 6428.0, \"type\": \"Feature\", \"geometry\": {\"type\": \"LineString\", \"coordinates\": [[419493.24, 6425895.8, 0.0], [419805.67, 6425764.53, 0.0]]}}, {\"PopT2016\": 45.157284459159996, \"SEC\": 16, \"id_cpt_exp\": \"240\", \"ident\": 26725, \"nbDeplacement\": 89.5820244406877, \"nb_traj_moy\": 1.9837779333632255, \"tmjo_2_sen\": 196.0, \"trajet_court\": 26725.0, \"type\": \"Feature\", \"geometry\": {\"type\": \"LineString\", \"coordinates\": [[409264.24, 6425614.26, 0.0], [409259.1, 6425608.99, 0.0], [409166.94, 6425562.65, 0.0], [409162.9, 6425561.12, 0.0], [409157.77, 6425561.25, 0.0], [409152.9, 6425563.63, 0.0], [409080.69, 6425606.72, 0.0]]}}, {\"PopT2016\": 12.712332083, \"SEC\": 16, \"id_cpt_exp\": \"241\", \"ident\": 5298, \"nbDeplacement\": 25.218443867840765, \"nb_traj_moy\": 1.9837779333632253, \"tmjo_2_sen\": 40.0, \"trajet_court\": 5298.0, \"type\": \"Feature\", \"geometry\": {\"type\": \"LineString\", \"coordinates\": [[409203.69, 6425793.9, 0.0], [409242.07, 6425851.05, 0.0]]}}, {\"PopT2016\": 185.90630123453, \"SEC\": 4, \"id_cpt_exp\": \"552, 551\", \"ident\": 9001, \"nbDeplacement\": 103.39554732438525, \"nb_traj_moy\": 0.5561702139076328, \"tmjo_2_sen\": 707.0, \"trajet_court\": 9001.0, \"type\": \"Feature\", \"geometry\": {\"type\": \"LineString\", \"coordinates\": [[417959.42, 6419998.29, 0.0], [417986.79, 6419923.77, 0.0]]}}, {\"PopT2016\": 39.97255825524999, \"SEC\": 16, \"id_cpt_exp\": \"251, 252\", \"ident\": 5280, \"nbDeplacement\": 79.29667900684098, \"nb_traj_moy\": 1.983777933363225, \"tmjo_2_sen\": 757.0, \"trajet_court\": 5280.0, \"type\": \"Feature\", \"geometry\": {\"type\": \"LineString\", \"coordinates\": [[409789.71, 6425721.92, 0.0], [409707.88, 6425736.23, 0.0]]}}, {\"PopT2016\": 184.0882169759002, \"SEC\": 16, \"id_cpt_exp\": \"237, 238\", \"ident\": 52085, \"nbDeplacement\": 365.190142628972, \"nb_traj_moy\": 1.9837779333632277, \"tmjo_2_sen\": 390.0, \"trajet_court\": 52085.0, \"type\": \"Feature\", \"geometry\": {\"type\": \"LineString\", \"coordinates\": [[408979.93, 6425783.58, 0.0], [409053.58, 6425739.23, 0.0], [409064.46, 6425734.16, 0.0], [409079.08, 6425729.29, 0.0], [409094.2, 6425725.9, 0.0], [409149.16, 6425723.39, 0.0]]}}, {\"PopT2016\": 49.847610599, \"SEC\": 2, \"id_cpt_exp\": \"1\", \"ident\": 22584, \"nbDeplacement\": 32.73695255248103, \"nb_traj_moy\": 0.6567406573573614, \"tmjo_2_sen\": 276.0, \"trajet_court\": 22584.0, \"type\": \"Feature\", \"geometry\": {\"type\": \"LineString\", \"coordinates\": [[416938.42, 6422492.34, 0.0], [416873.33, 6422487.2, 0.0], [416812.21, 6422475.36, 0.0]]}}, {\"PopT2016\": 242.78431792669, \"SEC\": 7, \"id_cpt_exp\": \"1602, 1603\", \"ident\": 9689, \"nbDeplacement\": 304.0857076476669, \"nb_traj_moy\": 1.2524932015563177, \"tmjo_2_sen\": 1223.0, \"trajet_court\": 9689.0, \"type\": \"Feature\", \"geometry\": {\"type\": \"LineString\", \"coordinates\": [[414963.23, 6425460.14, 0.0], [415009.99, 6425431.07, 0.0], [415024.22, 6425421.13, 0.0], [415031.42, 6425414.38, 0.0]]}}, {\"PopT2016\": 333.11198909866005, \"SEC\": 7, \"id_cpt_exp\": \"1602, 1603\", \"ident\": 38831, \"nbDeplacement\": 417.2205017029739, \"nb_traj_moy\": 1.2524932015563177, \"tmjo_2_sen\": 1223.0, \"trajet_court\": 38831.0, \"type\": \"Feature\", \"geometry\": {\"type\": \"LineString\", \"coordinates\": [[414946.26, 6425543.94, 0.0], [414932.09, 6425488.63, 0.0], [414932.73, 6425483.2, 0.0], [414937.04, 6425477.44, 0.0], [414963.23, 6425460.14, 0.0]]}}, {\"PopT2016\": 8.117185248670001, \"SEC\": 11, \"id_cpt_exp\": \"127\", \"ident\": 1406, \"nbDeplacement\": 9.97700908917226, \"nb_traj_moy\": 1.229121768633652, \"tmjo_2_sen\": 299.0, \"trajet_court\": 1406.0, \"type\": \"Feature\", \"geometry\": {\"type\": \"LineString\", \"coordinates\": [[420258.4, 6419542.18, 0.0], [420191.76, 6419657.08, 0.0]]}}, {\"PopT2016\": 52.402241430790006, \"SEC\": 12, \"id_cpt_exp\": \"720, 721\", \"ident\": 2130, \"nbDeplacement\": 67.46240617237369, \"nb_traj_moy\": 1.2873954306224538, \"tmjo_2_sen\": 4330.0, \"trajet_court\": 2130.0, \"type\": \"Feature\", \"geometry\": {\"type\": \"LineString\", \"coordinates\": [[421911.08, 6418338.07, 0.0], [421932.25, 6418367.69, 0.0]]}}, {\"PopT2016\": 30.6847371294, \"SEC\": 5, \"id_cpt_exp\": \"1795, 1796\", \"ident\": 10405, \"nbDeplacement\": 25.291695690704685, \"nb_traj_moy\": 0.8242435183344597, \"tmjo_2_sen\": 1962.0, \"trajet_court\": 10405.0, \"type\": \"Feature\", \"geometry\": {\"type\": \"LineString\", \"coordinates\": [[418680.29, 6422057.92, 0.0], [418717.72, 6422011.96, 0.0]]}}, {\"PopT2016\": 30.6847371294, \"SEC\": 5, \"id_cpt_exp\": \"Z8CT2\", \"ident\": 10406, \"nbDeplacement\": 25.291695690704685, \"nb_traj_moy\": 0.8242435183344597, \"tmjo_2_sen\": 3469.0, \"trajet_court\": 10406.0, \"type\": \"Feature\", \"geometry\": {\"type\": \"LineString\", \"coordinates\": [[418638.83, 6422112.52, 0.0], [418680.29, 6422057.92, 0.0]]}}, {\"PopT2016\": 138.40621281184002, \"SEC\": 4, \"id_cpt_exp\": \"60\", \"ident\": 8849, \"nbDeplacement\": 76.97741298570625, \"nb_traj_moy\": 0.5561702139076313, \"tmjo_2_sen\": 89.0, \"trajet_court\": 8849.0, \"type\": \"Feature\", \"geometry\": {\"type\": \"LineString\", \"coordinates\": [[417876.78, 6420438.19, 0.0], [417877.84, 6420433.03, 0.0], [417873.43, 6420399.59, 0.0], [417872.23, 6420392.49, 0.0]]}}, {\"PopT2016\": 501.89222433450016, \"SEC\": 2, \"id_cpt_exp\": \"987\", \"ident\": 9802, \"nbDeplacement\": 329.61302933198795, \"nb_traj_moy\": 0.6567406573573608, \"tmjo_2_sen\": 1328.0, \"trajet_court\": 9802.0, \"type\": \"Feature\", \"geometry\": {\"type\": \"LineString\", \"coordinates\": [[416436.07, 6423112.64, 0.0], [416369.69, 6423143.11, 0.0]]}}, {\"PopT2016\": 172.97572253522998, \"SEC\": 1, \"id_cpt_exp\": \"4\", \"ident\": 7180, \"nbDeplacement\": 54.7118946737434, \"nb_traj_moy\": 0.3162981132372505, \"tmjo_2_sen\": 4869.0, \"trajet_court\": 7180.0, \"type\": \"Feature\", \"geometry\": {\"type\": \"LineString\", \"coordinates\": [[416965.91, 6422351.02, 0.0], [417033.55, 6422354.38, 0.0], [417042.93, 6422356.46, 0.0], [417054.48, 6422357.75, 0.0], [417090.43, 6422360.33, 0.0]]}}, {\"PopT2016\": 2.36480436092, \"SEC\": 2, \"id_cpt_exp\": \"4\", \"ident\": 7180, \"nbDeplacement\": 1.5530631705121556, \"nb_traj_moy\": 0.6567406573573613, \"tmjo_2_sen\": 4869.0, \"trajet_court\": 7180.0, \"type\": \"Feature\", \"geometry\": {\"type\": \"LineString\", \"coordinates\": [[416965.91, 6422351.02, 0.0], [417033.55, 6422354.38, 0.0], [417042.93, 6422356.46, 0.0], [417054.48, 6422357.75, 0.0], [417090.43, 6422360.33, 0.0]]}}, {\"PopT2016\": 4.60657317489, \"SEC\": 19, \"id_cpt_exp\": \"1912\", \"ident\": 17190, \"nbDeplacement\": 7.5529434501887485, \"nb_traj_moy\": 1.6396013182552136, \"tmjo_2_sen\": 2370.0, \"trajet_court\": 17190.0, \"type\": \"Feature\", \"geometry\": {\"type\": \"LineString\", \"coordinates\": [[416549.44, 6414190.98, 0.0], [416533.03, 6414156.9, 0.0]]}}, {\"PopT2016\": 427.84865360367957, \"SEC\": 17, \"id_cpt_exp\": \"353, 354\", \"ident\": 24352, \"nbDeplacement\": 806.5937809629847, \"nb_traj_moy\": 1.8852315513189462, \"tmjo_2_sen\": 1011.0, \"trajet_court\": 24352.0, \"type\": \"Feature\", \"geometry\": {\"type\": \"LineString\", \"coordinates\": [[407720.79, 6426256.32, 0.0], [407736.37, 6426236.61, 0.0], [407754.55, 6426216.35, 0.0], [407762.04, 6426202.34, 0.0], [407783.05, 6426139.59, 0.0]]}}, {\"PopT2016\": 442.7474087304999, \"SEC\": 4, \"id_cpt_exp\": \"15\", \"ident\": 25477, \"nbDeplacement\": 246.24292102069214, \"nb_traj_moy\": 0.5561702139076331, \"tmjo_2_sen\": 1266.0, \"trajet_court\": 25477.0, \"type\": \"Feature\", \"geometry\": {\"type\": \"LineString\", \"coordinates\": [[417798.49, 6419182.43, 0.0], [417766.3, 6419104.33, 0.0]]}}, {\"PopT2016\": 43.993224811889995, \"SEC\": 4, \"id_cpt_exp\": \"1443\", \"ident\": 6950, \"nbDeplacement\": 24.467721254115386, \"nb_traj_moy\": 0.5561702139076317, \"tmjo_2_sen\": 838.0, \"trajet_court\": 6950.0, \"type\": \"Feature\", \"geometry\": {\"type\": \"LineString\", \"coordinates\": [[415739.47, 6421958.21, 0.0], [415783.43, 6421955.77, 0.0]]}}, {\"PopT2016\": 50.22700435716, \"SEC\": 2, \"id_cpt_exp\": \"66\", \"ident\": 8006, \"nbDeplacement\": 32.98611585861231, \"nb_traj_moy\": 0.6567406573573612, \"tmjo_2_sen\": 747.0, \"trajet_court\": 8006.0, \"type\": \"Feature\", \"geometry\": {\"type\": \"LineString\", \"coordinates\": [[417010.06, 6423735.85, 0.0], [416966.79, 6423617.59, 0.0]]}}, {\"PopT2016\": 166.06753937537007, \"SEC\": 3, \"id_cpt_exp\": \"763\", \"ident\": 7564, \"nbDeplacement\": 208.70250078435737, \"nb_traj_moy\": 1.2567326617191417, \"tmjo_2_sen\": 635.0, \"trajet_court\": 7564.0, \"type\": \"Feature\", \"geometry\": {\"type\": \"LineString\", \"coordinates\": [[415412.29, 6421018.86, 0.0], [415621.19, 6421079.7, 0.0], [415637.55, 6421080.9, 0.0]]}}, {\"PopT2016\": 87.80459475293002, \"SEC\": 2, \"id_cpt_exp\": \"46\", \"ident\": 7856, \"nbDeplacement\": 57.66484727703597, \"nb_traj_moy\": 0.6567406573573611, \"tmjo_2_sen\": 654.0, \"trajet_court\": 7856.0, \"type\": \"Feature\", \"geometry\": {\"type\": \"LineString\", \"coordinates\": [[416907.62, 6422873.96, 0.0], [416888.24, 6422879.06, 0.0], [416797.32, 6422897.04, 0.0]]}}, {\"PopT2016\": 29.81225466507999, \"SEC\": 4, \"id_cpt_exp\": \"80\", \"ident\": 22478, \"nbDeplacement\": 16.580688054146332, \"nb_traj_moy\": 0.5561702139076318, \"tmjo_2_sen\": 925.0, \"trajet_court\": 22478.0, \"type\": \"Feature\", \"geometry\": {\"type\": \"LineString\", \"coordinates\": [[418181.32, 6419427.09, 0.0], [418142.23, 6419418.55, 0.0], [418093.34, 6419411.86, 0.0], [418028.41, 6419406.42, 0.0], [418021.05, 6419408.49, 0.0], [417992.6, 6419445.94, 0.0]]}}, {\"PopT2016\": 34.771561046040006, \"SEC\": 12, \"id_cpt_exp\": \"1186, 1187\", \"ident\": 530, \"nbDeplacement\": 44.76474880628162, \"nb_traj_moy\": 1.2873954306224538, \"tmjo_2_sen\": 171.0, \"trajet_court\": 530.0, \"type\": \"Feature\", \"geometry\": {\"type\": \"LineString\", \"coordinates\": [[424696.16, 6424350.04, 0.0], [424724.99, 6424326.78, 0.0], [424730.53, 6424321.55, 0.0]]}}, {\"PopT2016\": 298.5326411000201, \"SEC\": 1, \"id_cpt_exp\": \"1799\", \"ident\": 39171, \"nbDeplacement\": 94.42531111966959, \"nb_traj_moy\": 0.3162981132372505, \"tmjo_2_sen\": 390.0, \"trajet_court\": 39171.0, \"type\": \"Feature\", \"geometry\": {\"type\": \"LineString\", \"coordinates\": [[418744.89, 6420643.58, 0.0], [418800.69, 6420788.53, 0.0]]}}, {\"PopT2016\": 32.03013909476, \"SEC\": 3, \"id_cpt_exp\": \"768\", \"ident\": 6701, \"nbDeplacement\": 40.25332195979212, \"nb_traj_moy\": 1.256732661719143, \"tmjo_2_sen\": 2705.0, \"trajet_court\": 6701.0, \"type\": \"Feature\", \"geometry\": {\"type\": \"LineString\", \"coordinates\": [[415999.04, 6420707.31, 0.0], [415909.65, 6420866.01, 0.0]]}}, {\"PopT2016\": 67.41553030442002, \"SEC\": 11, \"id_cpt_exp\": \"776, 777\", \"ident\": 1451, \"nbDeplacement\": 82.86189584114429, \"nb_traj_moy\": 1.2291217686336524, \"tmjo_2_sen\": 2426.0, \"trajet_court\": 1451.0, \"type\": \"Feature\", \"geometry\": {\"type\": \"LineString\", \"coordinates\": [[419901.37, 6419303.9, 0.0], [419999.01, 6419279.5, 0.0], [420151.72, 6419243.14, 0.0]]}}, {\"PopT2016\": 306.81826889818996, \"SEC\": 16, \"id_cpt_exp\": \"397, 398\", \"ident\": 15784, \"nbDeplacement\": 608.6593113929334, \"nb_traj_moy\": 1.983777933363228, \"tmjo_2_sen\": 398.0, \"trajet_court\": 15784.0, \"type\": \"Feature\", \"geometry\": {\"type\": \"LineString\", \"coordinates\": [[407747.38, 6429637.88, 0.0], [407762.92, 6429657.32, 0.0]]}}, {\"PopT2016\": 82.77250273308, \"SEC\": 16, \"id_cpt_exp\": \"397, 398\", \"ident\": 15785, \"nbDeplacement\": 164.20226441113135, \"nb_traj_moy\": 1.9837779333632264, \"tmjo_2_sen\": 398.0, \"trajet_court\": 15785.0, \"type\": \"Feature\", \"geometry\": {\"type\": \"LineString\", \"coordinates\": [[407706.65, 6429702.74, 0.0], [407762.92, 6429657.32, 0.0]]}}, {\"PopT2016\": 765.682500563901, \"SEC\": 2, \"id_cpt_exp\": \"841, 842\", \"ident\": 8521, \"nbDeplacement\": 502.8548287473644, \"nb_traj_moy\": 0.6567406573573608, \"tmjo_2_sen\": 1265.0, \"trajet_court\": 8521.0, \"type\": \"Feature\", \"geometry\": {\"type\": \"LineString\", \"coordinates\": [[415870.65, 6422686.58, 0.0], [415763.73, 6422744.12, 0.0]]}}, {\"PopT2016\": 110.42228428898, \"SEC\": 3, \"id_cpt_exp\": \"1254\", \"ident\": 22486, \"nbDeplacement\": 138.77129124759773, \"nb_traj_moy\": 1.2567326617191426, \"tmjo_2_sen\": 1418.0, \"trajet_court\": 22486.0, \"type\": \"Feature\", \"geometry\": {\"type\": \"LineString\", \"coordinates\": [[414654.36, 6420691.53, 0.0], [414611.33, 6420698.71, 0.0], [414590.0, 6420699.07, 0.0], [414547.93, 6420694.38, 0.0]]}}, {\"PopT2016\": 212.26820801622, \"SEC\": 9, \"id_cpt_exp\": \"320, 319\", \"ident\": 23965, \"nbDeplacement\": 276.913462642846, \"nb_traj_moy\": 1.304545156482813, \"tmjo_2_sen\": 1888.0, \"trajet_court\": 23965.0, \"type\": \"Feature\", \"geometry\": {\"type\": \"LineString\", \"coordinates\": [[414383.96, 6418054.3, 0.0], [414420.75, 6417914.01, 0.0], [414430.56, 6417874.39, 0.0]]}}, {\"PopT2016\": 64.37474980169, \"SEC\": 7, \"id_cpt_exp\": \"154\", \"ident\": 26454, \"nbDeplacement\": 80.62893647850566, \"nb_traj_moy\": 1.2524932015563186, \"tmjo_2_sen\": 110.0, \"trajet_court\": 26454.0, \"type\": \"Feature\", \"geometry\": {\"type\": \"LineString\", \"coordinates\": [[416522.25, 6425831.57, 0.0], [416543.26, 6425822.02, 0.0], [416583.51, 6425809.26, 0.0]]}}, {\"PopT2016\": 650.3343824404999, \"SEC\": 1, \"id_cpt_exp\": \"47\", \"ident\": 30432, \"nbDeplacement\": 205.69953813924263, \"nb_traj_moy\": 0.31629811323725127, \"tmjo_2_sen\": 206.0, \"trajet_court\": 30432.0, \"type\": \"Feature\", \"geometry\": {\"type\": \"LineString\", \"coordinates\": [[417479.81, 6421631.0, 0.0], [417502.61, 6421635.8, 0.0]]}}, {\"PopT2016\": 73.0582327676, \"SEC\": 11, \"id_cpt_exp\": \"778, 779\", \"ident\": 42948, \"nbDeplacement\": 89.79746427256154, \"nb_traj_moy\": 1.229121768633652, \"tmjo_2_sen\": 292.0, \"trajet_court\": 42948.0, \"type\": \"Feature\", \"geometry\": {\"type\": \"LineString\", \"coordinates\": [[420002.02, 6418998.21, 0.0], [420013.81, 6419043.1, 0.0], [420014.89, 6419048.05, 0.0], [420015.81, 6419058.42, 0.0]]}}, {\"PopT2016\": 64.22874383148, \"SEC\": 19, \"id_cpt_exp\": \"1338, 1339\", \"ident\": 17272, \"nbDeplacement\": 105.30953305597104, \"nb_traj_moy\": 1.6396013182552147, \"tmjo_2_sen\": 738.0, \"trajet_court\": 17272.0, \"type\": \"Feature\", \"geometry\": {\"type\": \"LineString\", \"coordinates\": [[416931.49, 6414672.71, 0.0], [416925.97, 6414699.48, 0.0]]}}, {\"PopT2016\": 192.30992655587025, \"SEC\": 17, \"id_cpt_exp\": \"375\", \"ident\": 29505, \"nbDeplacement\": 362.5487411749548, \"nb_traj_moy\": 1.8852315513189413, \"tmjo_2_sen\": 2202.0, \"trajet_court\": 29505.0, \"type\": \"Feature\", \"geometry\": {\"type\": \"LineString\", \"coordinates\": [[406220.62, 6428973.71, 0.0], [406224.44, 6428985.42, 0.0], [406228.57, 6429135.91, 0.0]]}}, {\"PopT2016\": 298.5326411000201, \"SEC\": 1, \"id_cpt_exp\": \"1799\", \"ident\": 39170, \"nbDeplacement\": 94.42531111966959, \"nb_traj_moy\": 0.3162981132372505, \"tmjo_2_sen\": 390.0, \"trajet_court\": 39170.0, \"type\": \"Feature\", \"geometry\": {\"type\": \"LineString\", \"coordinates\": [[418803.3, 6420795.04, 0.0], [418800.69, 6420788.53, 0.0]]}}, {\"PopT2016\": 13.717412041659998, \"SEC\": 18, \"id_cpt_exp\": \"633\", \"ident\": 44150, \"nbDeplacement\": 24.307763059368373, \"nb_traj_moy\": 1.7720371004053324, \"tmjo_2_sen\": 81.0, \"trajet_court\": 44150.0, \"type\": \"Feature\", \"geometry\": {\"type\": \"LineString\", \"coordinates\": [[410707.58, 6417014.94, 0.0], [410703.56, 6417027.3, 0.0], [410700.07, 6417040.87, 0.0], [410699.4, 6417056.06, 0.0], [410707.62, 6417109.36, 0.0], [410708.22, 6417127.41, 0.0], [410706.41, 6417144.6, 0.0], [410694.16, 6417176.67, 0.0], [410694.0, 6417180.04, 0.0], [410695.24, 6417183.51, 0.0], [410697.91, 6417186.65, 0.0], [410730.92, 6417207.47, 0.0], [410765.18, 6417228.15, 0.0], [410773.77, 6417225.69, 0.0], [410778.5, 6417219.78, 0.0]]}}, {\"PopT2016\": 418.4758339022805, \"SEC\": 5, \"id_cpt_exp\": \"1596\", \"ident\": 8551, \"nbDeplacement\": 344.92599367356166, \"nb_traj_moy\": 0.8242435183344586, \"tmjo_2_sen\": 1472.0, \"trajet_court\": 8551.0, \"type\": \"Feature\", \"geometry\": {\"type\": \"LineString\", \"coordinates\": [[418640.66, 6423018.78, 0.0], [418864.63, 6422819.84, 0.0]]}}, {\"PopT2016\": 187.54633542034006, \"SEC\": 4, \"id_cpt_exp\": \"1826, 1829\", \"ident\": 8652, \"nbDeplacement\": 104.30768548832295, \"nb_traj_moy\": 0.5561702139076315, \"tmjo_2_sen\": 2860.0, \"trajet_court\": 8652.0, \"type\": \"Feature\", \"geometry\": {\"type\": \"LineString\", \"coordinates\": [[416541.25, 6421216.27, 0.0], [416657.45, 6421280.31, 0.0]]}}, {\"PopT2016\": 454.64971192878, \"SEC\": 1, \"id_cpt_exp\": \"1799\", \"ident\": 10965, \"nbDeplacement\": 143.80484606693253, \"nb_traj_moy\": 0.3162981132372505, \"tmjo_2_sen\": 390.0, \"trajet_court\": 10965.0, \"type\": \"Feature\", \"geometry\": {\"type\": \"LineString\", \"coordinates\": [[418862.76, 6420745.13, 0.0], [418858.66, 6420751.49, 0.0], [418850.79, 6420759.15, 0.0], [418824.92, 6420783.68, 0.0], [418815.16, 6420793.09, 0.0], [418804.95, 6420799.32, 0.0]]}}, {\"PopT2016\": 166.94580136466004, \"SEC\": 19, \"id_cpt_exp\": \"706, 707\", \"ident\": 40985, \"nbDeplacement\": 273.7245559946695, \"nb_traj_moy\": 1.6396013182552156, \"tmjo_2_sen\": 564.0, \"trajet_court\": 40985.0, \"type\": \"Feature\", \"geometry\": {\"type\": \"LineString\", \"coordinates\": [[416856.35, 6414096.8, 0.0], [416839.24, 6414102.92, 0.0], [416832.44, 6414104.02, 0.0], [416583.09, 6414092.1, 0.0]]}}, {\"PopT2016\": 1194.5338962794017, \"SEC\": 4, \"id_cpt_exp\": \"1831\", \"ident\": 8462, \"nbDeplacement\": 664.3641726136307, \"nb_traj_moy\": 0.5561702139076301, \"tmjo_2_sen\": 736.0, \"trajet_court\": 8462.0, \"type\": \"Feature\", \"geometry\": {\"type\": \"LineString\", \"coordinates\": [[416311.03, 6421333.81, 0.0], [416496.6, 6421412.09, 0.0]]}}, {\"PopT2016\": 349.7186505054999, \"SEC\": 4, \"id_cpt_exp\": \"1832\", \"ident\": 8463, \"nbDeplacement\": 194.50309665913193, \"nb_traj_moy\": 0.5561702139076327, \"tmjo_2_sen\": 746.0, \"trajet_court\": 8463.0, \"type\": \"Feature\", \"geometry\": {\"type\": \"LineString\", \"coordinates\": [[416052.6, 6421225.62, 0.0], [416311.03, 6421333.81, 0.0]]}}, {\"PopT2016\": 70.12860271882, \"SEC\": 11, \"id_cpt_exp\": \"1499\", \"ident\": 52272, \"nbDeplacement\": 86.19659220556278, \"nb_traj_moy\": 1.2291217686336522, \"tmjo_2_sen\": 920.0, \"trajet_court\": 52272.0, \"type\": \"Feature\", \"geometry\": {\"type\": \"LineString\", \"coordinates\": [[419917.73, 6417332.12, 0.0], [419908.39, 6417337.15, 0.0], [419883.51, 6417345.31, 0.0], [419880.2, 6417346.27, 0.0]]}}, {\"PopT2016\": 85.54583030986998, \"SEC\": 9, \"id_cpt_exp\": \"1052, 1053\", \"ident\": 44069, \"nbDeplacement\": 111.59839858804153, \"nb_traj_moy\": 1.3045451564828132, \"tmjo_2_sen\": 3771.0, \"trajet_court\": 44069.0, \"type\": \"Feature\", \"geometry\": {\"type\": \"LineString\", \"coordinates\": [[413144.1, 6418415.66, 0.0], [413180.48, 6418432.62, 0.0], [413189.55, 6418437.62, 0.0], [413199.02, 6418442.88, 0.0], [413208.01, 6418449.09, 0.0], [413214.57, 6418454.3, 0.0], [413235.15, 6418474.22, 0.0], [413257.79, 6418506.5, 0.0]]}}, {\"PopT2016\": 4.33797490992, \"SEC\": 14, \"id_cpt_exp\": \"1164,1165\", \"ident\": 45662, \"nbDeplacement\": 8.89673873882984, \"nb_traj_moy\": 2.05089677178283, \"tmjo_2_sen\": 3372.0, \"trajet_court\": 45662.0, \"type\": \"Feature\", \"geometry\": {\"type\": \"LineString\", \"coordinates\": [[424734.98, 6431538.25, 0.0], [424804.24, 6431504.01, 0.0], [424821.53, 6431495.31, 0.0], [424835.14, 6431485.18, 0.0], [424890.39, 6431434.71, 0.0], [424927.67, 6431389.09, 0.0]]}}, {\"PopT2016\": 434.0320393428505, \"SEC\": 9, \"id_cpt_exp\": \"1288, 1287\", \"ident\": 54527, \"nbDeplacement\": 566.2143946830727, \"nb_traj_moy\": 1.3045451564828154, \"tmjo_2_sen\": 2082.0, \"trajet_court\": 54527.0, \"type\": \"Feature\", \"geometry\": {\"type\": \"LineString\", \"coordinates\": [[411914.45, 6417837.58, 0.0], [411909.4, 6417834.65, 0.0], [411893.86, 6417825.12, 0.0], [411886.83, 6417819.75, 0.0], [411881.51, 6417815.37, 0.0], [411877.59, 6417813.04, 0.0], [411825.34, 6417789.14, 0.0], [411817.19, 6417787.8, 0.0], [411806.39, 6417788.37, 0.0], [411788.59, 6417791.78, 0.0], [411741.11, 6417811.12, 0.0], [411727.03, 6417815.77, 0.0]]}}, {\"PopT2016\": 371.59029522512, \"SEC\": 4, \"id_cpt_exp\": \"1486\", \"ident\": 50101, \"nbDeplacement\": 206.667453981355, \"nb_traj_moy\": 0.5561702139076318, \"tmjo_2_sen\": 690.0, \"trajet_court\": 50101.0, \"type\": \"Feature\", \"geometry\": {\"type\": \"LineString\", \"coordinates\": [[419349.16, 6419377.84, 0.0], [419342.55, 6419385.03, 0.0], [419336.21, 6419389.24, 0.0], [419330.63, 6419392.03, 0.0], [419323.89, 6419393.95, 0.0], [419309.11, 6419397.06, 0.0]]}}, {\"PopT2016\": 227.05756622949, \"SEC\": 16, \"id_cpt_exp\": \"1160, 1161\", \"ident\": 52284, \"nbDeplacement\": 450.4317894892205, \"nb_traj_moy\": 1.9837779333632277, \"tmjo_2_sen\": 364.0, \"trajet_court\": 52284.0, \"type\": \"Feature\", \"geometry\": {\"type\": \"LineString\", \"coordinates\": [[410012.36, 6429362.54, 0.0], [409994.01, 6429354.89, 0.0], [409963.4, 6429343.26, 0.0], [409912.53, 6429325.93, 0.0]]}}, {\"PopT2016\": 389.66571989159894, \"SEC\": 16, \"id_cpt_exp\": \"Z19CE, Z19CS\", \"ident\": 50095, \"nbDeplacement\": 773.0102565090523, \"nb_traj_moy\": 1.983777933363228, \"tmjo_2_sen\": 19239.0, \"trajet_court\": 50095.0, \"type\": \"Feature\", \"geometry\": {\"type\": \"LineString\", \"coordinates\": [[416301.89, 6416626.51, 0.0], [416301.73, 6416625.04, 0.0], [416302.06, 6416622.72, 0.0], [416303.04, 6416620.58, 0.0], [416304.57, 6416618.8, 0.0], [416306.54, 6416617.53, 0.0], [416308.8, 6416616.87, 0.0], [416311.15, 6416616.86, 0.0], [416313.4, 6416617.52, 0.0], [416314.41, 6416618.15, 0.0]]}}, {\"PopT2016\": 470.4940261651196, \"SEC\": 18, \"id_cpt_exp\": \"Z19CE, Z19CS\", \"ident\": 50095, \"nbDeplacement\": 833.7328698836689, \"nb_traj_moy\": 1.772037100405329, \"tmjo_2_sen\": 19239.0, \"trajet_court\": 50095.0, \"type\": \"Feature\", \"geometry\": {\"type\": \"LineString\", \"coordinates\": [[416301.89, 6416626.51, 0.0], [416301.73, 6416625.04, 0.0], [416302.06, 6416622.72, 0.0], [416303.04, 6416620.58, 0.0], [416304.57, 6416618.8, 0.0], [416306.54, 6416617.53, 0.0], [416308.8, 6416616.87, 0.0], [416311.15, 6416616.86, 0.0], [416313.4, 6416617.52, 0.0], [416314.41, 6416618.15, 0.0]]}}, {\"PopT2016\": 1073.7143270720126, \"SEC\": 18, \"id_cpt_exp\": null, \"ident\": 50367, \"nbDeplacement\": 1902.661622808352, \"nb_traj_moy\": 1.7720371004053281, \"tmjo_2_sen\": 17716.0, \"trajet_court\": 50367.0, \"type\": \"Feature\", \"geometry\": {\"type\": \"LineString\", \"coordinates\": [[416460.16, 6416715.83, 0.0], [416445.96, 6416714.2, 0.0], [416373.8, 6416691.1, 0.0], [416373.74, 6416691.04, 0.0], [416315.4, 6416631.27, 0.0]]}}, {\"PopT2016\": 301.3692592729597, \"SEC\": 16, \"id_cpt_exp\": \"Z19CE, Z19CS\", \"ident\": 50098, \"nbDeplacement\": 597.849686339719, \"nb_traj_moy\": 1.983777933363228, \"tmjo_2_sen\": 19239.0, \"trajet_court\": 50098.0, \"type\": \"Feature\", \"geometry\": {\"type\": \"LineString\", \"coordinates\": [[416315.4, 6416631.27, 0.0], [416313.42, 6416632.54, 0.0], [416311.17, 6416633.2, 0.0], [416308.82, 6416633.2, 0.0], [416306.56, 6416632.54, 0.0], [416304.59, 6416631.28, 0.0], [416303.05, 6416629.51, 0.0], [416302.07, 6416627.37, 0.0], [416301.89, 6416626.51, 0.0]]}}, {\"PopT2016\": 603.2203009068911, \"SEC\": 18, \"id_cpt_exp\": \"Z19CE, Z19CS\", \"ident\": 50098, \"nbDeplacement\": 1068.9287529246787, \"nb_traj_moy\": 1.7720371004053286, \"tmjo_2_sen\": 19239.0, \"trajet_court\": 50098.0, \"type\": \"Feature\", \"geometry\": {\"type\": \"LineString\", \"coordinates\": [[416315.4, 6416631.27, 0.0], [416313.42, 6416632.54, 0.0], [416311.17, 6416633.2, 0.0], [416308.82, 6416633.2, 0.0], [416306.56, 6416632.54, 0.0], [416304.59, 6416631.28, 0.0], [416303.05, 6416629.51, 0.0], [416302.07, 6416627.37, 0.0], [416301.89, 6416626.51, 0.0]]}}, {\"PopT2016\": 317.1546675991495, \"SEC\": 16, \"id_cpt_exp\": \"Z19CE, Z19CS\", \"ident\": 50097, \"nbDeplacement\": 629.1644310463429, \"nb_traj_moy\": 1.983777933363228, \"tmjo_2_sen\": 19239.0, \"trajet_court\": 50097.0, \"type\": \"Feature\", \"geometry\": {\"type\": \"LineString\", \"coordinates\": [[416314.41, 6416618.15, 0.0], [416315.38, 6416618.79, 0.0], [416316.92, 6416620.57, 0.0], [416317.89, 6416622.7, 0.0], [416318.24, 6416625.02, 0.0], [416317.9, 6416627.35, 0.0], [416316.93, 6416629.49, 0.0], [416315.4, 6416631.27, 0.0]]}}, {\"PopT2016\": 470.4940261651196, \"SEC\": 18, \"id_cpt_exp\": \"Z19CE, Z19CS\", \"ident\": 50097, \"nbDeplacement\": 833.7328698836689, \"nb_traj_moy\": 1.772037100405329, \"tmjo_2_sen\": 19239.0, \"trajet_court\": 50097.0, \"type\": \"Feature\", \"geometry\": {\"type\": \"LineString\", \"coordinates\": [[416314.41, 6416618.15, 0.0], [416315.38, 6416618.79, 0.0], [416316.92, 6416620.57, 0.0], [416317.89, 6416622.7, 0.0], [416318.24, 6416625.02, 0.0], [416317.9, 6416627.35, 0.0], [416316.93, 6416629.49, 0.0], [416315.4, 6416631.27, 0.0]]}}, {\"PopT2016\": 189.25955208467988, \"SEC\": 6, \"id_cpt_exp\": null, \"ident\": 3675, \"nbDeplacement\": 154.83490263934598, \"nb_traj_moy\": 0.8181087872915849, \"tmjo_2_sen\": 5342.0, \"trajet_court\": 3675.0, \"type\": \"Feature\", \"geometry\": {\"type\": \"LineString\", \"coordinates\": [[414139.46, 6414886.98, 0.0], [414119.88, 6414825.77, 0.0]]}}, {\"PopT2016\": 189.25955208467988, \"SEC\": 6, \"id_cpt_exp\": null, \"ident\": 3677, \"nbDeplacement\": 154.83490263934598, \"nb_traj_moy\": 0.8181087872915849, \"tmjo_2_sen\": 5342.0, \"trajet_court\": 3677.0, \"type\": \"Feature\", \"geometry\": {\"type\": \"LineString\", \"coordinates\": [[414144.25, 6414924.47, 0.0], [414145.98, 6414916.35, 0.0], [414145.85, 6414910.42, 0.0], [414144.95, 6414906.2, 0.0], [414140.01, 6414890.92, 0.0], [414139.46, 6414886.98, 0.0]]}}, {\"PopT2016\": 700.5967892871901, \"SEC\": 16, \"id_cpt_exp\": null, \"ident\": 3677, \"nbDeplacement\": 1389.8284507730527, \"nb_traj_moy\": 1.9837779333632264, \"tmjo_2_sen\": 5342.0, \"trajet_court\": 3677.0, \"type\": \"Feature\", \"geometry\": {\"type\": \"LineString\", \"coordinates\": [[414144.25, 6414924.47, 0.0], [414145.98, 6414916.35, 0.0], [414145.85, 6414910.42, 0.0], [414144.95, 6414906.2, 0.0], [414140.01, 6414890.92, 0.0], [414139.46, 6414886.98, 0.0]]}}, {\"PopT2016\": 165.33425344815, \"SEC\": 16, \"id_cpt_exp\": \"193, 194\", \"ident\": 46915, \"nbDeplacement\": 327.9864436195228, \"nb_traj_moy\": 1.983777933363227, \"tmjo_2_sen\": 1088.0, \"trajet_court\": 46915.0, \"type\": \"Feature\", \"geometry\": {\"type\": \"LineString\", \"coordinates\": [[422729.39, 6427517.86, 0.0], [422730.72, 6427518.31, 0.0], [422732.0, 6427519.04, 0.0], [422733.14, 6427519.98, 0.0], [422734.12, 6427521.07, 0.0], [422734.91, 6427522.32, 0.0], [422735.49, 6427523.67, 0.0], [422735.84, 6427525.1, 0.0], [422735.97, 6427526.57, 0.0], [422735.83, 6427528.03, 0.0]]}}, {\"PopT2016\": 1.78138172383, \"SEC\": 18, \"id_cpt_exp\": \"1164,1165\", \"ident\": 52222, \"nbDeplacement\": 3.156674504610766, \"nb_traj_moy\": 1.7720371004053324, \"tmjo_2_sen\": 3372.0, \"trajet_court\": 52222.0, \"type\": \"Feature\", \"geometry\": {\"type\": \"LineString\", \"coordinates\": [[424927.67, 6431389.09, 0.0], [424928.2, 6431389.5, 0.0], [424930.04, 6431390.17, 0.0], [424932.0, 6431390.16, 0.0], [424933.84, 6431389.49, 0.0], [424935.32, 6431388.23, 0.0]]}}, {\"PopT2016\": 220.84011767953, \"SEC\": 16, \"id_cpt_exp\": \"1164,1165\", \"ident\": 52228, \"nbDeplacement\": 438.0977522539895, \"nb_traj_moy\": 1.983777933363227, \"tmjo_2_sen\": 3372.0, \"trajet_court\": 52228.0, \"type\": \"Feature\", \"geometry\": {\"type\": \"LineString\", \"coordinates\": [[424934.84, 6431380.57, 0.0], [424933.82, 6431379.74, 0.0], [424931.98, 6431379.08, 0.0], [424930.03, 6431379.08, 0.0], [424928.19, 6431379.74, 0.0], [424926.67, 6431380.99, 0.0]]}}, {\"PopT2016\": 39.32162165043, \"SEC\": 4, \"id_cpt_exp\": null, \"ident\": 8323, \"nbDeplacement\": 21.86951472451461, \"nb_traj_moy\": 0.5561702139076317, \"tmjo_2_sen\": 7000.0, \"trajet_court\": 8323.0, \"type\": \"Feature\", \"geometry\": {\"type\": \"LineString\", \"coordinates\": [[416611.6, 6422019.55, 0.0], [416593.33, 6422008.54, 0.0], [416502.87, 6421968.05, 0.0], [416491.12, 6421955.75, 0.0]]}}, {\"PopT2016\": 68.56838641680001, \"SEC\": 4, \"id_cpt_exp\": \"1400, 1401\", \"ident\": 14657, \"nbDeplacement\": 38.135694140732795, \"nb_traj_moy\": 0.5561702139076318, \"tmjo_2_sen\": 8183.0, \"trajet_court\": 14657.0, \"type\": \"Feature\", \"geometry\": {\"type\": \"LineString\", \"coordinates\": [[411501.81, 6419196.48, 0.0], [411559.31, 6419203.37, 0.0], [411616.78, 6419199.34, 0.0]]}}, {\"PopT2016\": 4.93518252354, \"SEC\": 9, \"id_cpt_exp\": \"1400, 1401\", \"ident\": 14657, \"nbDeplacement\": 6.438168457442734, \"nb_traj_moy\": 1.304545156482813, \"tmjo_2_sen\": 8183.0, \"trajet_court\": 14657.0, \"type\": \"Feature\", \"geometry\": {\"type\": \"LineString\", \"coordinates\": [[411501.81, 6419196.48, 0.0], [411559.31, 6419203.37, 0.0], [411616.78, 6419199.34, 0.0]]}}, {\"PopT2016\": 405.46391969738005, \"SEC\": 6, \"id_cpt_exp\": \"Z25CT16\", \"ident\": 47568, \"nbDeplacement\": 331.71359563411585, \"nb_traj_moy\": 0.8181087872915843, \"tmjo_2_sen\": 1720.0, \"trajet_court\": 47568.0, \"type\": \"Feature\", \"geometry\": {\"type\": \"LineString\", \"coordinates\": [[417999.4999999996, 6425968.319999992, 0.0], [417997.54999999964, 6425961.029999994, 0.0], [417996.8499999995, 6425953.20999999, 0.0], [417998.7499999996, 6425892.779999991, 0.0], [418000.4899999995, 6425863.809999991, 0.0], [418001.5399999996, 6425841.45999999, 0.0]]}}, {\"PopT2016\": 405.46391969738005, \"SEC\": 6, \"id_cpt_exp\": \"Z25CT16\", \"ident\": 47573, \"nbDeplacement\": 331.71359563411585, \"nb_traj_moy\": 0.8181087872915843, \"tmjo_2_sen\": 1720.0, \"trajet_court\": 47573.0, \"type\": \"Feature\", \"geometry\": {\"type\": \"LineString\", \"coordinates\": [[418001.5399999996, 6425841.45999999, 0.0], [418000.5699999996, 6425830.869999992, 0.0]]}}, {\"PopT2016\": 114.57512104399994, \"SEC\": 7, \"id_cpt_exp\": \"Z21CT7\", \"ident\": 52435, \"nbDeplacement\": 143.50456017510214, \"nb_traj_moy\": 1.252493201556319, \"tmjo_2_sen\": 9470.0, \"trajet_court\": 52435.0, \"type\": \"Feature\", \"geometry\": {\"type\": \"LineString\", \"coordinates\": [[415643.0599999996, 6425009.009999991, 0.0], [415632.1799999995, 6425009.619999992, 0.0], [415616.7999999995, 6425009.959999991, 0.0], [415607.6899999996, 6425009.80999999, 0.0], [415603.0399999996, 6425009.259999991, 0.0], [415598.3399999996, 6425008.369999992, 0.0], [415579.24999999953, 6425000.709999991, 0.0], [415535.46999999956, 6424978.849999992, 0.0], [415519.58999999956, 6424968.419999991, 0.0]]}}, {\"PopT2016\": 26.101688363, \"SEC\": 7, \"id_cpt_exp\": \"Z21CT7\", \"ident\": 52501, \"nbDeplacement\": 32.69218722379915, \"nb_traj_moy\": 1.2524932015563177, \"tmjo_2_sen\": 9470.0, \"trajet_court\": 52501.0, \"type\": \"Feature\", \"geometry\": {\"type\": \"LineString\", \"coordinates\": [[415435.4399999996, 6424905.379999991, 0.0], [415423.6899999996, 6424897.589999991, 0.0], [415399.50999999966, 6424881.549999991, 0.0]]}}]}}, {\"mode\": \"vega-lite\"});\n",
       "</script>"
      ],
      "text/plain": [
       "alt.HConcatChart(...)"
      ]
     },
     "execution_count": 125,
     "metadata": {},
     "output_type": "execute_result"
    }
   ],
   "source": [
    "#visu altair\n",
    "zoom=alt.Chart(compTraficMesureEstime, width=800, height=800).mark_point().encode(x='tmjo_2_sen',y='nbDeplacement', color='SEC:N').add_selection(alt.selection_interval(bind='scales'))\n",
    "selection = alt.selection_multi(fields=['SEC'])\n",
    "color = alt.condition(selection,\n",
    "                      alt.Color('SEC:N', legend=None),\n",
    "                      alt.value('lightgray'))\n",
    "scatter = alt.Chart(compTraficMesureEstime, width=600, height=600).mark_point().encode(\n",
    "    x='tmjo_2_sen:Q',\n",
    "    y='nbDeplacement:Q',\n",
    "    color=color,tooltip='ident')\n",
    "legend = alt.Chart(compTraficMesureEstime).mark_point().encode(\n",
    "    y=alt.Y('SEC:N', axis=alt.Axis(orient='right')),\n",
    "    color=color\n",
    ").add_selection(selection)\n",
    "\n",
    "scatter | legend"
   ]
  },
  {
   "cell_type": "code",
   "execution_count": 121,
   "metadata": {},
   "outputs": [],
   "source": [
    "#stats plotly\n",
    "df = px.data.tips()\n",
    "fig = px.scatter(compTraficMesureEstime.loc[compTraficMesureEstime.SEC==19], x=\"tmjo_2_sen\", y=\"nbDeplacement\",color='SEC',trendline=\"ols\")#facet_col=\"smoker\", color=\"sex\", trendline=\"ols\"\n",
    "fig.show()\n",
    "results = px.get_trendline_results(fig)\n",
    "print(results)"
   ]
  },
  {
   "cell_type": "markdown",
   "metadata": {},
   "source": [
    "## Affectation auto à partir des points pour les activités\n",
    "> L'idée c'est d'ajouter au tmja calculé à partir des habitants un nombre de déplacement liés aux activité.<br> Il y a différents types d'activités : les usines ou entreprises qui n'accueillent pas de public, pour lesquelles une estimation du nombre de trajet peut etre fait à partir des effectifs, et les commerces, pour lequels une estimation pourrait etre issu à partir de la catégorie d'ERP.<br> Méthodo : \n",
    "1. Filtrer les points en fonction de la ligne du rhv plus proche voisine\n",
    "1. Analyser le type d'activite : utiliser les codes NAF pour separer les cativites estimable a partir des effectifs, des activites type ERP. Dresser une liste. Filtrer les activites non significative (prof a domicile,...)\n",
    "1. pour les activites non ERP : analyser celles pour lesquelles il existe une grosse incertitude sur la geoloc des effectifs (i.e les tres grosses ets dont les emplois pourraient etre associe au siege social, les ets dont les employes ne se rendent pas au bureau (BTP par exemple). Pour la partie siege : on ne prend que les effectif de l'établiseement, et on ne prend le siege que si l'attribut quui dit que l'établissement est le siege est coché.\n",
    "3. pour les activites ERP : proposer une valeur d'accueil du public en fonction de la categorie erp : pas possible, car les ERP de l'IGN ne consernent que la commune de Bordeaux, finalement on opte pour traiter le santé-social et l'enseignement à partir des données de data.gouv"
   ]
  },
  {
   "cell_type": "code",
   "execution_count": 21,
   "metadata": {},
   "outputs": [],
   "source": [
    "#filtre en fonction du plus proche voisin\n",
    "activites=gp.read_file(r'C:\\Users\\martin.schoreisz\\Documents\\AffairesEnCours\\Linearisation_BM\\C19SA0101\\Doc_travail\\Donnees_source\\Bdx-Metro\\activites\\fi_etabl_p.geojson')\n",
    "#☼plus proche voisin fait sous postgis\n",
    "ppvActiviteRhv=gp.read_file(r'C:\\Users\\martin.schoreisz\\Documents\\AffairesEnCours\\Linearisation_BM\\C19SA0101\\Doc_travail\\Donnees_produites\\Donnees\\activite\\ppv_activite_rhv.shp')\n",
    "#isoler les activites le long des voies de categorie 4\n",
    "activiteRhvCat4=ppvActiviteRhv.loc[ppvActiviteRhv.ident_rhv.isin(gdf_rhv_groupe.loc[gdf_rhv_groupe.cat_rhv.isin(('4','64'))].ident.tolist())].copy()"
   ]
  },
  {
   "cell_type": "markdown",
   "metadata": {},
   "source": [
    "> ## analyse des codes NAF\n",
    "ces codes sont fournis par l'INSEE. Au final il est délicat de ne faire le tric que sur les codes, car bcp d'activité peuvent quand même avoir des employés sur site. Le choix est fait de ne supprimer de la liste finale que les entreprises de constructions et certaines de transports, poutr lesquelles les employés sont souvent en déplacement."
   ]
  },
  {
   "cell_type": "code",
   "execution_count": 24,
   "metadata": {},
   "outputs": [],
   "source": [
    "#recuperer les donnees de caracterisation des activites\n",
    "naf5niveaux=pd.read_excel(r'C:\\Users\\martin.schoreisz\\Documents\\AffairesEnCours\\Linearisation_BM\\C19SA0101\\Doc_travail\\Donnees_source\\insee\\naf2008_5_niveaux.xls')\n",
    "nafListen5=pd.read_excel(r'C:\\Users\\martin.schoreisz\\Documents\\AffairesEnCours\\Linearisation_BM\\C19SA0101\\Doc_travail\\Donnees_source\\insee\\naf2008_liste_n5.xls',skiprows=2)"
   ]
  },
  {
   "cell_type": "markdown",
   "metadata": {},
   "source": [
    "> # ***Si on veut s'epargner toutes les étapes ci dessous, cf la fonction de preparation des données avant passer au calcul des trajets***"
   ]
  },
  {
   "cell_type": "code",
   "execution_count": 265,
   "metadata": {},
   "outputs": [
    {
     "name": "stderr",
     "output_type": "stream",
     "text": [
      "c:\\users\\martin.schoreisz\\appdata\\local\\programs\\python\\python38\\lib\\site-packages\\IPython\\core\\interactiveshell.py:3417: DtypeWarning: Columns (6,13,26,28,29,30,32,37,43,44) have mixed types.Specify dtype option on import or set low_memory=False.\n",
      "  exec(code_obj, self.user_global_ns, self.user_ns)\n",
      "c:\\users\\martin.schoreisz\\appdata\\local\\programs\\python\\python38\\lib\\site-packages\\IPython\\core\\interactiveshell.py:3417: DtypeWarning: Columns (3,14,26,27) have mixed types.Specify dtype option on import or set low_memory=False.\n",
      "  exec(code_obj, self.user_global_ns, self.user_ns)\n"
     ]
    }
   ],
   "source": [
    "activ_ligne_proche=v4.definitionVariablesActivites(gdf_rhv_groupe,activiteRhvCat4,nafListen5,\n",
    "                    r'C:\\Users\\martin.schoreisz\\Documents\\AffairesEnCours\\Linearisation_BM\\C19SA0101\\Doc_travail\\Donnees_produites\\Donnees\\activite\\StockEtablissement_utf8_Gironde.csv', \n",
    "                    r'C:\\Users\\martin.schoreisz\\Documents\\AffairesEnCours\\Linearisation_BM\\C19SA0101\\Doc_travail\\Donnees_produites\\Donnees\\activite\\StockUniteLegale_utf8_Gironde.csv',\n",
    "                    r'C:\\Users\\martin.schoreisz\\Documents\\AffairesEnCours\\Linearisation_BM\\C19SA0101\\Doc_travail\\Donnees_source\\insee\\tranchesEffectifs.txt',\n",
    "                    r'C:\\Users\\martin.schoreisz\\Documents\\AffairesEnCours\\Linearisation_BM\\C19SA0101\\Doc_travail\\Donnees_produites\\Donnees\\activite\\ppv_finess_rhv_cat4.shp',\n",
    "                    r'C:\\Users\\martin.schoreisz\\Documents\\AffairesEnCours\\Linearisation_BM\\C19SA0101\\Doc_travail\\Donnees_produites\\Donnees\\activite\\ppv_enseignement1-2degre_rhv_cat4.shp',\n",
    "                    r'C:\\Users\\martin.schoreisz\\Documents\\AffairesEnCours\\Linearisation_BM\\C19SA0101\\Doc_travail\\Donnees_source\\education_Nationale\\enseignementSecondaire.csv',\n",
    "                    r'C:\\Users\\martin.schoreisz\\Documents\\AffairesEnCours\\Linearisation_BM\\C19SA0101\\Doc_travail\\Donnees_produites\\Donnees\\activite\\ppv_enseignementSup_cat4.shp')"
   ]
  },
  {
   "cell_type": "markdown",
   "metadata": {},
   "source": [
    ">> ### Descrpition des données d'effectif.\n",
    "A partir des données fournies par BM sur leur [site](https://opendata.bordeaux-metropole.fr/explore/dataset/fi_etabl_p/information) et des données de [data gouv Sirene](https://www.data.gouv.fr/fr/datasets/base-sirene-des-entreprises-et-de-leurs-etablissements-siren-siret/#_) sur les étblissements, l'idée était de recéupérer les entrerprises et surtout leurs effectifs.  \n",
    "Le pb c'est que les données sur data gouv soint très parcellaire en terme de nombre d'entreprise avec un effectif renseigné, puisque la base sirene ne decrit que les effectifs si ceux-ci ont été renseigné il y a moins de 2 ans. cf le graph ci-dessous sur les données. le mieux serait d'historiser les donées pour avoir une complétude sur 5 ans par exemple"
   ]
  },
  {
   "cell_type": "code",
   "execution_count": null,
   "metadata": {
    "jupyter": {
     "source_hidden": true
    }
   },
   "outputs": [],
   "source": [
    "#donnees d'effectif (attention que pour les etbalissements recenses par Bordeaux Metropole)\n",
    "etablissementEnrichi,etablissementEffectifPositifOuvert=v4.etablissementsBdxMet(gdf_rhv_groupe,activiteRhvCat4,nafListen5, \n",
    "                                                r'C:\\Users\\martin.schoreisz\\Documents\\AffairesEnCours\\Linearisation_BM\\C19SA0101\\Doc_travail\\Donnees_produites\\Donnees\\activite\\StockEtablissement_utf8_Gironde.csv', \n",
    "                                                r'C:\\Users\\martin.schoreisz\\Documents\\AffairesEnCours\\Linearisation_BM\\C19SA0101\\Doc_travail\\Donnees_produites\\Donnees\\activite\\StockUniteLegale_utf8_Gironde.csv')"
   ]
  },
  {
   "cell_type": "code",
   "execution_count": 245,
   "metadata": {
    "collapsed": true,
    "jupyter": {
     "outputs_hidden": true,
     "source_hidden": true
    }
   },
   "outputs": [
    {
     "data": {
      "text/html": [
       "\n",
       "<div id=\"altair-viz-53d6bc6770344d96905c4c236afa81d0\"></div>\n",
       "<script type=\"text/javascript\">\n",
       "  (function(spec, embedOpt){\n",
       "    let outputDiv = document.currentScript.previousElementSibling;\n",
       "    if (outputDiv.id !== \"altair-viz-53d6bc6770344d96905c4c236afa81d0\") {\n",
       "      outputDiv = document.getElementById(\"altair-viz-53d6bc6770344d96905c4c236afa81d0\");\n",
       "    }\n",
       "    const paths = {\n",
       "      \"vega\": \"https://cdn.jsdelivr.net/npm//vega@5?noext\",\n",
       "      \"vega-lib\": \"https://cdn.jsdelivr.net/npm//vega-lib?noext\",\n",
       "      \"vega-lite\": \"https://cdn.jsdelivr.net/npm//vega-lite@4.8.1?noext\",\n",
       "      \"vega-embed\": \"https://cdn.jsdelivr.net/npm//vega-embed@6?noext\",\n",
       "    };\n",
       "\n",
       "    function loadScript(lib) {\n",
       "      return new Promise(function(resolve, reject) {\n",
       "        var s = document.createElement('script');\n",
       "        s.src = paths[lib];\n",
       "        s.async = true;\n",
       "        s.onload = () => resolve(paths[lib]);\n",
       "        s.onerror = () => reject(`Error loading script: ${paths[lib]}`);\n",
       "        document.getElementsByTagName(\"head\")[0].appendChild(s);\n",
       "      });\n",
       "    }\n",
       "\n",
       "    function showError(err) {\n",
       "      outputDiv.innerHTML = `<div class=\"error\" style=\"color:red;\">${err}</div>`;\n",
       "      throw err;\n",
       "    }\n",
       "\n",
       "    function displayChart(vegaEmbed) {\n",
       "      vegaEmbed(outputDiv, spec, embedOpt)\n",
       "        .catch(err => showError(`Javascript Error: ${err.message}<br>This usually means there's a typo in your chart specification. See the javascript console for the full traceback.`));\n",
       "    }\n",
       "\n",
       "    if(typeof define === \"function\" && define.amd) {\n",
       "      requirejs.config({paths});\n",
       "      require([\"vega-embed\"], displayChart, err => showError(`Error loading script: ${err.message}`));\n",
       "    } else if (typeof vegaEmbed === \"function\") {\n",
       "      displayChart(vegaEmbed);\n",
       "    } else {\n",
       "      loadScript(\"vega\")\n",
       "        .then(() => loadScript(\"vega-lite\"))\n",
       "        .then(() => loadScript(\"vega-embed\"))\n",
       "        .catch(showError)\n",
       "        .then(() => displayChart(vegaEmbed));\n",
       "    }\n",
       "  })({\"config\": {\"view\": {\"continuousWidth\": 400, \"continuousHeight\": 300}}, \"data\": {\"name\": \"data-10fe5bdb12a2074b1bd028707012ab22\"}, \"mark\": \"bar\", \"encoding\": {\"x\": {\"type\": \"nominal\", \"axis\": {\"labelAngle\": 0, \"orient\": \"bottom\"}, \"field\": \"type_etablissement\", \"title\": \"Type de donn\\u00e9es dispo\"}, \"y\": {\"type\": \"quantitative\", \"field\": \"Nombre_etablissements\", \"title\": \"Nombre d'\\u00e9tablissements\"}}, \"title\": \"R\\u00e9partition des donn\\u00e9es d'activit\\u00e9 2020 selon la disponibilit\\u00e9 de l'effectif\", \"width\": 400, \"$schema\": \"https://vega.github.io/schema/vega-lite/v4.8.1.json\", \"datasets\": {\"data-10fe5bdb12a2074b1bd028707012ab22\": [{\"type_etablissement\": \"effectifs connus non null\", \"Nombre_etablissements\": 6110}, {\"type_etablissement\": \"effectif nulls ou inf\\u00e9rieur \\u00e0 1\", \"Nombre_etablissements\": 41737}]}}, {\"mode\": \"vega-lite\"});\n",
       "</script>"
      ],
      "text/plain": [
       "alt.Chart(...)"
      ]
     },
     "execution_count": 245,
     "metadata": {},
     "output_type": "execute_result"
    }
   ],
   "source": [
    "#Visu du nombre d'établissements avec effectifs, non fermés qui ne sont pas des etablissemnet de constrcution ou certins transport\n",
    "alt.Chart(pd.DataFrame({'type_etablissement':['effectifs connus non null', 'effectif nulls ou inférieur à 1'], \n",
    "                        'Nombre_etablissements':[len(etablissementEffectifPositifOuvert),len(etablissementEnrichi)-len(etablissementEffectifPositifOuvert)]}),\n",
    "         width=400, title='Répartition des données d\\'activité 2020 selon la disponibilité de l\\'effectif').mark_bar().encode(x=alt.X('type_etablissement',title='Type de données dispo', axis=alt.Axis(orient='bottom',labelAngle=0)),\n",
    "                                      y=alt.Y('Nombre_etablissements',title='Nombre d\\'établissements'))"
   ]
  },
  {
   "cell_type": "markdown",
   "metadata": {},
   "source": [
    ">> ### Autre données d'établissement : Finess\n",
    "les données [Finess](https://www.data.gouv.fr/fr/datasets/finess-extraction-du-fichier-des-etablissements/) ont été testées. L'idée est de récupérer ici les établissement non recensées dans les activités de BdxMet, et qui sont ouvertes et ont un effectifs selon les données Sirene"
   ]
  },
  {
   "cell_type": "code",
   "execution_count": 27,
   "metadata": {
    "jupyter": {
     "source_hidden": true
    }
   },
   "outputs": [],
   "source": [
    "finessSirene=v4.fichierSireneFiness(r'C:\\Users\\martin.schoreisz\\Documents\\AffairesEnCours\\Linearisation_BM\\C19SA0101\\Doc_travail\\Donnees_produites\\Donnees\\activite\\StockEtablissement_utf8_Gironde.csv',\n",
    "                                    r'C:\\Users\\martin.schoreisz\\Documents\\AffairesEnCours\\Linearisation_BM\\C19SA0101\\Doc_travail\\Donnees_produites\\Donnees\\activite\\ppv_finess_rhv_cat4.shp',\n",
    "                                    etablissementEffectifPositifOuvert,\n",
    "                                   r'C:\\Users\\martin.schoreisz\\Documents\\AffairesEnCours\\Linearisation_BM\\C19SA0101\\Doc_travail\\Donnees_produites\\Donnees\\activite\\StockUniteLegale_utf8_Gironde.csv')"
   ]
  },
  {
   "cell_type": "markdown",
   "metadata": {},
   "source": [
    ">> ### Autre données d'établissement : Enseignement\n",
    "Sur data gouv on trouve pas mal de données, qui ne sont pas dans les données d'activités de BdxMet (verif visu sous Qgis pour 1er et 2nd degré, par croisement du numero siret pour enseignement supérieur) : \n",
    ">- les données [d'enseignement geolocalisées](https://www.data.gouv.fr/fr/datasets/adresse-et-geolocalisation-des-etablissements-denseignement-du-premier-et-second-degres-1/) pour le primaire et secondaire,\n",
    ">- pour le primaire on va récupérer la données depuis sirene grace a une correspondance de pattern sur l'adresse\n",
    ">- les données sur [l'enseignement secondaire](https://www.data.gouv.fr/fr/datasets/ideo-structures-denseignement-secondaire/) en lien avec les numeros siren vont remplacer les données geolocalisées sus-citées\n",
    ">- les donnees sur l'enseignement superieur : [en lien avec un numero siren](https://www.data.gouv.fr/fr/datasets/ideo-structures-denseignement-superieur/) ou en [effectif etudiants inscrit à la commune](https://data.enseignementsup-recherche.gouv.fr/explore/dataset/fr-esr-atlas_regional-effectifs-d-etudiants-inscrits/information/?disjunctive.rgp_formations_ou_etablissements)<br>\n",
    "L'idée est de travailler uniquement avec les données de l'enseignement supérieurs liées aux codes siren, car les part modales des effectifs etudiants sont incertaines"
   ]
  },
  {
   "cell_type": "code",
   "execution_count": null,
   "metadata": {},
   "outputs": [],
   "source": [
    "enseignementSirene=v4.fichierEnseignementSirene(r'C:\\Users\\martin.schoreisz\\Documents\\AffairesEnCours\\Linearisation_BM\\C19SA0101\\Doc_travail\\Donnees_produites\\Donnees\\activite\\ppv_enseignement1-2degre_rhv_cat4.shp',\n",
    "                                  r'C:\\Users\\martin.schoreisz\\Documents\\AffairesEnCours\\Linearisation_BM\\C19SA0101\\Doc_travail\\Donnees_produites\\Donnees\\activite\\StockEtablissement_utf8_Gironde.csv',\n",
    "                                  r'C:\\Users\\martin.schoreisz\\Documents\\AffairesEnCours\\Linearisation_BM\\C19SA0101\\Doc_travail\\Donnees_produites\\Donnees\\activite\\StockUniteLegale_utf8_Gironde.csv',\n",
    "                                 r'C:\\Users\\martin.schoreisz\\Documents\\AffairesEnCours\\Linearisation_BM\\C19SA0101\\Doc_travail\\Donnees_source\\education_Nationale\\enseignementSecondaire.csv',\n",
    "                                  r'C:\\Users\\martin.schoreisz\\Documents\\AffairesEnCours\\Linearisation_BM\\C19SA0101\\Doc_travail\\Donnees_produites\\Donnees\\activite\\ppv_enseignementSup_cat4.shp',\n",
    "                                               etablissementEffectifPositifOuvert)[0]"
   ]
  },
  {
   "cell_type": "markdown",
   "metadata": {},
   "source": [
    "> ## Affectation aux troncons routier\n",
    "on va reprendre le même processus que pour les batiments, il va juste falloir adapter les variables d'entrée : \n",
    "- le bati est remplacé par la table effectifEtablissement\n",
    "- la table de correspondance est ppvActiviteRhv (fichier shape) avec id de l'activite = ident et id de la ligne = ident_rhv\n",
    "- les données de voies a renseigner sont les mm que pour le bati, isues de v4.definitionVariablesVoies"
   ]
  },
  {
   "cell_type": "code",
   "execution_count": null,
   "metadata": {},
   "outputs": [],
   "source": [
    "%%time\n",
    "#test sur une ligne\n",
    "#il peut y avoir des erreurs dans le rhv, comme par exemple l'ident 14844 qui ne touche pas le 24285\n",
    "ident_proche_bati=str(bati_ligne_proche.loc[bati_ligne_proche['ID']=='BATIMENT0000000257801129'].ident.to_numpy()[0])#risque si ident pas trouver d'IndexError\n",
    "point_depart=bati_ligne_proche.loc[bati_ligne_proche['ID']=='BATIMENT0000000257801129'].point_proche.values[0]\n",
    "trajets=v4.ensemble_trajet(ident_proche_bati,point_depart,ensemble_lignes, vertex_connus, vertex_impasse, graph_filaire_vertex)\n",
    "trajets.initialiser_trajets() \n",
    "trajets.allonger_trajet()\n",
    "trajets.creer_df_tt_trajet()\n",
    "trajets.filtrer_df_tt_trajet()\n",
    "trajets.trajet_court=tuple(trajets.df_trajet_cat3_grp_OD.loc[trajets.df_trajet_cat3_grp_OD.longueur_tot==trajets.df_trajet_cat3_grp_OD.longueur_tot.min()].lignes.to_numpy()[0])\n",
    "trajets.point_arrive=trajets.df_trajet_cat3_grp_OD.loc[trajets.df_trajet_cat3_grp_OD.longueur_tot==trajets.df_trajet_cat3_grp_OD.longueur_tot.min()].points.to_numpy()[0][-1]\n",
    "#RESULTATS (cf module et attributs)\n",
    "trajets.trajet_court\n",
    "#trajets.df_tt_trajet"
   ]
  },
  {
   "cell_type": "code",
   "execution_count": 103,
   "metadata": {},
   "outputs": [
    {
     "data": {
      "text/html": [
       "<div>\n",
       "<style scoped>\n",
       "    .dataframe tbody tr th:only-of-type {\n",
       "        vertical-align: middle;\n",
       "    }\n",
       "\n",
       "    .dataframe tbody tr th {\n",
       "        vertical-align: top;\n",
       "    }\n",
       "\n",
       "    .dataframe thead th {\n",
       "        text-align: right;\n",
       "    }\n",
       "</style>\n",
       "<table border=\"1\" class=\"dataframe\">\n",
       "  <thead>\n",
       "    <tr style=\"text-align: right;\">\n",
       "      <th></th>\n",
       "      <th>id</th>\n",
       "      <th>nom</th>\n",
       "      <th>insee</th>\n",
       "      <th>mdate</th>\n",
       "      <th>section</th>\n",
       "      <th>geo_point_</th>\n",
       "      <th>cdate</th>\n",
       "      <th>ident</th>\n",
       "      <th>raisocia</th>\n",
       "      <th>gid</th>\n",
       "      <th>codactiv</th>\n",
       "      <th>codesectio</th>\n",
       "      <th>localis</th>\n",
       "      <th>ident_rhv</th>\n",
       "      <th>st_distanc</th>\n",
       "      <th>geometry</th>\n",
       "    </tr>\n",
       "  </thead>\n",
       "  <tbody>\n",
       "  </tbody>\n",
       "</table>\n",
       "</div>"
      ],
      "text/plain": [
       "Empty GeoDataFrame\n",
       "Columns: [id, nom, insee, mdate, section, geo_point_, cdate, ident, raisocia, gid, codactiv, codesectio, localis, ident_rhv, st_distanc, geometry]\n",
       "Index: []"
      ]
     },
     "execution_count": 103,
     "metadata": {},
     "output_type": "execute_result"
    }
   ],
   "source": [
    "ppvActiviteRhv.rename(columns={'id':'ID','ident':'siren','ident_rhv':'ident'})"
   ]
  },
  {
   "cell_type": "code",
   "execution_count": 272,
   "metadata": {},
   "outputs": [
    {
     "name": "stdout",
     "output_type": "stream",
     "text": [
      "Wall time: 671 ms\n"
     ]
    },
    {
     "data": {
      "text/plain": [
       "('39892', '39893')"
      ]
     },
     "execution_count": 272,
     "metadata": {},
     "output_type": "execute_result"
    }
   ],
   "source": [
    "%%time\n",
    "#test sur une ligne\n",
    "#modif des noms de colonne\n",
    "ident_proche_activ=str(activ_ligne_proche.loc[activ_ligne_proche['ID']==84056].ident.to_numpy()[0])#risque si ident pas trouver d'IndexError\n",
    "point_depart=activ_ligne_proche.loc[activ_ligne_proche['ID']==84056].point_proche.values[0]\n",
    "trajets=v4.ensemble_trajet(ident_proche_activ,point_depart,ensemble_lignes, vertex_connus, vertex_impasse, graph_filaire_vertex)\n",
    "trajets.initialiser_trajets() \n",
    "trajets.allonger_trajet()\n",
    "trajets.creer_df_tt_trajet()\n",
    "trajets.filtrer_df_tt_trajet()\n",
    "trajets.trajet_court=tuple(trajets.df_trajet_cat3_grp_OD.loc[trajets.df_trajet_cat3_grp_OD.longueur_tot==trajets.df_trajet_cat3_grp_OD.longueur_tot.min()].lignes.to_numpy()[0])\n",
    "trajets.point_arrive=trajets.df_trajet_cat3_grp_OD.loc[trajets.df_trajet_cat3_grp_OD.longueur_tot==trajets.df_trajet_cat3_grp_OD.longueur_tot.min()].points.to_numpy()[0][-1]\n",
    "#RESULTATS (cf module et attributs)\n",
    "trajets.trajet_court\n",
    "#trajets.df_tt_trajet"
   ]
  },
  {
   "cell_type": "code",
   "execution_count": null,
   "metadata": {},
   "outputs": [],
   "source": [
    "#ensuite, on va limiter les donées aux batiments relatifs aux voies non affectées\n",
    "list_bati_rhv_cat4=coreesp_bati2.loc[coreesp_bati2.ident.isin(gdf_traf_1234.loc[gdf_traf_1234.cat_rhv.isin(['4','64'])].ident.tolist())].ID.tolist()\n",
    "bati_voie_inconnue=bati.loc[bati.ID.isin(coreesp_bati2.loc[~coreesp_bati2.ident.isin(gdf_traf_1234.ident)].ID.tolist()+list_bati_rhv_cat4)].copy() # ça c'est pour avoir aussi le bati relatifs aux comptage voies cat 4 pour pouvoir comparer\n",
    "#definition des variables neecessaires\n",
    "#ramener la geometrie de la ligne la plus proche sur le bati inconnu\n",
    "bati_ligne_proche=bati_voie_inconnue.loc[(bati_voie_inconnue['PopT2016']>=1) & (bati_voie_inconnue['ID']!='BatiFictif')].merge(coreesp_bati2[['ID','ident']], on='ID')\n",
    "bati_ligne_proche['ident']=bati_ligne_proche.ident.apply(lambda x : str(x))\n",
    "bati_ligne_proche=bati_ligne_proche.merge(gdf_rhv_groupe[['ident', 'geometry']], on='ident').rename(columns={'geometry_x':'geom_p', 'geometry_y':'geom_l'})\n",
    "#calculer le point le plus proche situé sur la ligne\n",
    "bati_ligne_proche['point_proche']=bati_ligne_proche.apply(lambda x : nearest_points(x['geom_p'],x['geom_l'])[1],axis=1)\n",
    "return bati_ligne_proche"
   ]
  },
  {
   "cell_type": "code",
   "execution_count": 269,
   "metadata": {},
   "outputs": [],
   "source": [
    "activ_ligne_proche.rename(columns={'id':'ID'}, inplace=True)"
   ]
  },
  {
   "cell_type": "code",
   "execution_count": null,
   "metadata": {},
   "outputs": [],
   "source": []
  }
 ],
 "metadata": {
  "kernelspec": {
   "display_name": "Python 3",
   "language": "python",
   "name": "python3"
  },
  "language_info": {
   "codemirror_mode": {
    "name": "ipython",
    "version": 3
   },
   "file_extension": ".py",
   "mimetype": "text/x-python",
   "name": "python",
   "nbconvert_exporter": "python",
   "pygments_lexer": "ipython3",
   "version": "3.8.6"
  }
 },
 "nbformat": 4,
 "nbformat_minor": 4
}
